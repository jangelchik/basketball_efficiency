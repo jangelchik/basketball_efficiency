{
 "cells": [
  {
   "cell_type": "code",
   "execution_count": 1,
   "metadata": {},
   "outputs": [],
   "source": [
    "from pymongo import MongoClient\n",
    "import pprint\n",
    "\n",
    "import pandas as pd\n",
    "\n",
    "import numpy as np\n",
    "\n",
    "import json\n",
    "import time"
   ]
  },
  {
   "cell_type": "code",
   "execution_count": 2,
   "metadata": {},
   "outputs": [],
   "source": [
    "# Import proper modules from nba_api\n",
    "\n",
    "from nba_api.stats.static import players, teams\n",
    "from nba_api.stats.endpoints import FranchiseHistory, PlayerDashboardByYearOverYear, CommonPlayerInfo, CommonAllPlayers"
   ]
  },
  {
   "cell_type": "code",
   "execution_count": 3,
   "metadata": {},
   "outputs": [],
   "source": [
    "# Compile basic info of all team histories to account for previously defunct franchises and teams moving location\n",
    "\n",
    "all_teams = FranchiseHistory()\n",
    "all_teams = all_teams.get_dict()"
   ]
  },
  {
   "cell_type": "code",
   "execution_count": 4,
   "metadata": {},
   "outputs": [
    {
     "data": {
      "text/plain": [
       "dict_keys(['resource', 'parameters', 'resultSets'])"
      ]
     },
     "execution_count": 4,
     "metadata": {},
     "output_type": "execute_result"
    }
   ],
   "source": [
    "# Investigate structure of the teams dictionary\n",
    "all_teams.keys()"
   ]
  },
  {
   "cell_type": "code",
   "execution_count": 5,
   "metadata": {},
   "outputs": [
    {
     "name": "stdout",
     "output_type": "stream",
     "text": [
      "'resource' type: <class 'str'>\n",
      "'parameters' type: <class 'dict'>\n",
      "'resultSets' type: <class 'list'>\n"
     ]
    }
   ],
   "source": [
    "print(f\"'resource' type: {type(all_teams['resource'])}\")\n",
    "print(f\"'parameters' type: {type(all_teams['parameters'])}\")\n",
    "print(f\"'resultSets' type: {type(all_teams['resultSets'])}\")"
   ]
  },
  {
   "cell_type": "code",
   "execution_count": 6,
   "metadata": {},
   "outputs": [
    {
     "data": {
      "text/plain": [
       "dict_keys(['LeagueID'])"
      ]
     },
     "execution_count": 6,
     "metadata": {},
     "output_type": "execute_result"
    }
   ],
   "source": [
    "all_teams['parameters'].keys()"
   ]
  },
  {
   "cell_type": "code",
   "execution_count": 7,
   "metadata": {},
   "outputs": [
    {
     "data": {
      "text/plain": [
       "2"
      ]
     },
     "execution_count": 7,
     "metadata": {},
     "output_type": "execute_result"
    }
   ],
   "source": [
    "len(all_teams['resultSets'])"
   ]
  },
  {
   "cell_type": "code",
   "execution_count": 8,
   "metadata": {},
   "outputs": [
    {
     "name": "stdout",
     "output_type": "stream",
     "text": [
      "<class 'dict'>\n",
      "<class 'dict'>\n"
     ]
    }
   ],
   "source": [
    "for i in all_teams['resultSets']:\n",
    "    print(type(i))"
   ]
  },
  {
   "cell_type": "code",
   "execution_count": 9,
   "metadata": {},
   "outputs": [
    {
     "data": {
      "text/plain": [
       "dict_keys(['name', 'headers', 'rowSet'])"
      ]
     },
     "execution_count": 9,
     "metadata": {},
     "output_type": "execute_result"
    }
   ],
   "source": [
    "all_teams['resultSets'][0].keys()"
   ]
  },
  {
   "cell_type": "code",
   "execution_count": 10,
   "metadata": {},
   "outputs": [
    {
     "name": "stdout",
     "output_type": "stream",
     "text": [
      "dict_keys(['name', 'headers', 'rowSet'])\n",
      "dict_keys(['name', 'headers', 'rowSet'])\n"
     ]
    }
   ],
   "source": [
    "for i in range(len(all_teams['resultSets'])):\n",
    "    print(all_teams['resultSets'][i].keys())"
   ]
  },
  {
   "cell_type": "code",
   "execution_count": 11,
   "metadata": {},
   "outputs": [
    {
     "name": "stdout",
     "output_type": "stream",
     "text": [
      "FranchiseHistory, ['LEAGUE_ID', 'TEAM_ID', 'TEAM_CITY', 'TEAM_NAME', 'START_YEAR', 'END_YEAR', 'YEARS', 'GAMES', 'WINS', 'LOSSES', 'WIN_PCT', 'PO_APPEARANCES', 'DIV_TITLES', 'CONF_TITLES', 'LEAGUE_TITLES'], resultSets type: <class 'list'>\n",
      "DefunctTeams, ['LEAGUE_ID', 'TEAM_ID', 'TEAM_CITY', 'TEAM_NAME', 'START_YEAR', 'END_YEAR', 'YEARS', 'GAMES', 'WINS', 'LOSSES', 'WIN_PCT', 'PO_APPEARANCES', 'DIV_TITLES', 'CONF_TITLES', 'LEAGUE_TITLES'], resultSets type: <class 'list'>\n"
     ]
    }
   ],
   "source": [
    "for i in range(len(all_teams['resultSets'])):\n",
    "    print(f\"{all_teams['resultSets'][i]['name']}, {all_teams['resultSets'][i]['headers']}, resultSets type: {type(all_teams['resultSets'][i]['rowSet'])}\")\n"
   ]
  },
  {
   "cell_type": "markdown",
   "metadata": {},
   "source": [
    "# So we now know that the full team history dataset contains a dictionary, which holds a list of two sub-dictionaries of current and defunct teams' histories.\n"
   ]
  },
  {
   "cell_type": "code",
   "execution_count": 12,
   "metadata": {},
   "outputs": [
    {
     "data": {
      "text/plain": [
       "(74, 15)"
      ]
     },
     "execution_count": 12,
     "metadata": {},
     "output_type": "execute_result"
    }
   ],
   "source": [
    "len(all_teams['resultSets'][0]['rowSet']),len(all_teams['resultSets'][1]['rowSet'])"
   ]
  },
  {
   "cell_type": "code",
   "execution_count": 13,
   "metadata": {},
   "outputs": [
    {
     "name": "stdout",
     "output_type": "stream",
     "text": [
      "Current Team:['00', 1610612737, 'Atlanta', 'Hawks', '1949', '2019', 71, 5621, 2767, 2854, 0.492, 46, 11, 0, 1]\n",
      "Current Team:['00', 1610612737, 'Atlanta', 'Hawks', '1968', '2019', 52, 4201, 2068, 2133, 0.492, 33, 5, 0, 0]\n",
      "Current Team:['00', 1610612737, 'St. Louis', 'Hawks', '1955', '1967', 13, 1008, 555, 453, 0.55, 12, 6, 0, 1]\n",
      "Current Team:['00', 1610612737, 'Milwaukee', 'Hawks', '1951', '1954', 4, 280, 90, 190, 0.321, 0, 0, 0, 0]\n",
      "Current Team:['00', 1610612737, 'Tri-Cities', 'Blackhawks', '1949', '1950', 2, 132, 54, 78, 0.409, 1, 0, 0, 0]\n",
      "Current Team:['00', 1610612738, 'Boston', 'Celtics', '1946', '2019', 74, 5789, 3421, 2367, 0.59, 56, 31, 9, 17]\n",
      "Current Team:['00', 1610612751, 'Brooklyn', 'Nets', '1976', '2019', 44, 3542, 1480, 2062, 0.417, 20, 4, 2, 0]\n",
      "Current Team:['00', 1610612751, 'Brooklyn', 'Nets', '2012', '2019', 8, 638, 272, 366, 0.426, 4, 0, 0, 0]\n",
      "Current Team:['00', 1610612751, 'New Jersey', 'Nets', '1977', '2011', 35, 2822, 1186, 1636, 0.42, 16, 4, 2, 0]\n",
      "Current Team:['00', 1610612751, 'New York', 'Nets', '1976', '1976', 1, 82, 22, 60, 0.268, 0, 0, 0, 0]\n",
      "Current Team:['00', 1610612766, 'Charlotte', 'Hornets', '1988', '2019', 30, 2395, 1050, 1345, 0.438, 10, 0, 0, 0]\n",
      "Current Team:['00', 1610612766, 'Charlotte', 'Hornets', '1988', '2019', 20, 1591, 757, 834, 0.475, 10, 0, 0, 0]\n",
      "Current Team:['00', 1610612766, 'Charlotte', 'Bobcats', '2004', '2013', 10, 804, 293, 511, 0.364, 2, 0, 0, 0]\n",
      "Current Team:['00', 1610612741, 'Chicago', 'Bulls', '1966', '2019', 54, 4362, 2227, 2135, 0.51, 35, 9, 6, 6]\n",
      "Current Team:['00', 1610612739, 'Cleveland', 'Cavaliers', '1970', '2019', 50, 4035, 1867, 2168, 0.462, 22, 7, 5, 1]\n",
      "Current Team:['00', 1610612742, 'Dallas', 'Mavericks', '1980', '2019', 40, 3217, 1612, 1605, 0.501, 21, 3, 2, 1]\n",
      "Current Team:['00', 1610612743, 'Denver', 'Nuggets', '1976', '2019', 44, 3543, 1746, 1797, 0.492, 25, 9, 0, 0]\n",
      "Current Team:['00', 1610612765, 'Detroit', 'Pistons', '1948', '2019', 72, 5682, 2754, 2928, 0.484, 42, 12, 5, 3]\n",
      "Current Team:['00', 1610612765, 'Detroit', 'Pistons', '1957', '2019', 63, 5061, 2440, 2621, 0.482, 34, 9, 5, 3]\n",
      "Current Team:['00', 1610612765, 'Ft. Wayne Zollner', 'Pistons', '1948', '1956', 9, 621, 314, 307, 0.505, 8, 3, 0, 0]\n",
      "Current Team:['00', 1610612744, 'Golden State', 'Warriors', '1946', '2019', 74, 5785, 2787, 2998, 0.481, 35, 12, 6, 6]\n",
      "Current Team:['00', 1610612744, 'Golden State', 'Warriors', '1971', '2019', 49, 3953, 1899, 2054, 0.48, 18, 7, 6, 4]\n",
      "Current Team:['00', 1610612744, 'San Francisco', 'Warriors', '1962', '1970', 9, 729, 330, 399, 0.452, 5, 2, 0, 0]\n",
      "Current Team:['00', 1610612744, 'Philadelphia', 'Warriors', '1946', '1961', 16, 1103, 558, 545, 0.505, 12, 3, 0, 2]\n",
      "Current Team:['00', 1610612745, 'Houston', 'Rockets', '1967', '2019', 53, 4280, 2265, 2015, 0.529, 33, 8, 4, 2]\n",
      "Current Team:['00', 1610612745, 'Houston', 'Rockets', '1971', '2019', 49, 3952, 2146, 1806, 0.543, 32, 8, 4, 2]\n",
      "Current Team:['00', 1610612745, 'San Diego', 'Rockets', '1967', '1970', 4, 328, 119, 209, 0.362, 1, 0, 0, 0]\n",
      "Current Team:['00', 1610612754, 'Indiana', 'Pacers', '1976', '2019', 44, 3543, 1783, 1759, 0.503, 26, 6, 1, 0]\n",
      "Current Team:['00', 1610612746, 'LA', 'Clippers', '1970', '2019', 50, 4034, 1654, 2380, 0.41, 14, 2, 0, 0]\n",
      "Current Team:['00', 1610612746, 'LA', 'Clippers', '2015', '2019', 5, 392, 238, 154, 0.607, 3, 0, 0, 0]\n",
      "Current Team:['00', 1610612746, 'Los Angeles', 'Clippers', '1984', '2014', 31, 2494, 971, 1523, 0.389, 8, 2, 0, 0]\n",
      "Current Team:['00', 1610612746, 'San Diego', 'Clippers', '1978', '1983', 6, 492, 186, 306, 0.378, 0, 0, 0, 0]\n",
      "Current Team:['00', 1610612746, 'Buffalo', 'Braves', '1970', '1977', 8, 656, 259, 397, 0.394, 3, 0, 0, 0]\n",
      "Current Team:['00', 1610612747, 'Los Angeles', 'Lakers', '1948', '2019', 72, 5681, 3384, 2297, 0.595, 60, 35, 18, 16]\n",
      "Current Team:['00', 1610612747, 'Los Angeles', 'Lakers', '1960', '2019', 60, 4839, 2925, 1914, 0.604, 49, 30, 18, 11]\n",
      "Current Team:['00', 1610612747, 'Minneapolis', 'Lakers', '1948', '1959', 12, 842, 459, 383, 0.545, 11, 5, 0, 5]\n",
      "Current Team:['00', 1610612763, 'Memphis', 'Grizzlies', '1995', '2019', 25, 1985, 824, 1161, 0.415, 10, 0, 0, 0]\n",
      "Current Team:['00', 1610612763, 'Memphis', 'Grizzlies', '2001', '2019', 19, 1525, 723, 802, 0.474, 10, 0, 0, 0]\n",
      "Current Team:['00', 1610612763, 'Vancouver', 'Grizzlies', '1995', '2000', 6, 460, 101, 359, 0.219, 0, 0, 0, 0]\n",
      "Current Team:['00', 1610612748, 'Miami', 'Heat', '1988', '2019', 32, 2559, 1335, 1224, 0.521, 20, 14, 5, 3]\n",
      "Current Team:['00', 1610612749, 'Milwaukee', 'Bucks', '1968', '2019', 52, 4199, 2182, 2017, 0.519, 31, 15, 2, 1]\n",
      "Current Team:['00', 1610612750, 'Minnesota', 'Timberwolves', '1989', '2019', 31, 2476, 980, 1496, 0.395, 9, 1, 0, 0]\n",
      "Current Team:['00', 1610612740, 'New Orleans', 'Pelicans', '2002', '2019', 18, 1442, 671, 771, 0.465, 7, 1, 0, 0]\n",
      "Current Team:['00', 1610612740, 'New Orleans', 'Pelicans', '2013', '2019', 7, 556, 252, 304, 0.453, 2, 0, 0, 0]\n",
      "Current Team:['00', 1610612740, 'New Orleans', 'Hornets', '2002', '2012', 9, 722, 342, 380, 0.473, 5, 1, 0, 0]\n",
      "Current Team:['00', 1610612740, 'New Orleans/Oklahoma City', 'Hornets', '2005', '2006', 2, 164, 77, 87, 0.469, 0, 0, 0, 0]\n",
      "Current Team:['00', 1610612752, 'New York', 'Knicks', '1946', '2019', 74, 5788, 2799, 2989, 0.483, 41, 9, 4, 2]\n",
      "Current Team:['00', 1610612760, 'Oklahoma City', 'Thunder', '1967', '2019', 53, 4280, 2323, 1957, 0.542, 31, 11, 4, 1]\n",
      "Current Team:['00', 1610612760, 'Oklahoma City', 'Thunder', '2008', '2019', 12, 950, 578, 372, 0.608, 9, 5, 1, 0]\n",
      "Current Team:['00', 1610612760, 'Seattle', 'SuperSonics', '1967', '2007', 41, 3330, 1745, 1585, 0.524, 22, 6, 3, 1]\n",
      "Current Team:['00', 1610612753, 'Orlando', 'Magic', '1989', '2019', 31, 2477, 1188, 1289, 0.479, 15, 7, 2, 0]\n",
      "Current Team:['00', 1610612755, 'Philadelphia', '76ers', '1949', '2019', 71, 5616, 2897, 2719, 0.515, 49, 12, 5, 3]\n",
      "Current Team:['00', 1610612755, 'Philadelphia', '76ers', '1963', '2019', 57, 4602, 2320, 2282, 0.504, 35, 9, 5, 2]\n",
      "Current Team:['00', 1610612755, 'Syracuse', 'Nationals', '1949', '1962', 14, 1014, 577, 437, 0.569, 14, 3, 0, 1]\n",
      "Current Team:['00', 1610612756, 'Phoenix', 'Suns', '1968', '2019', 52, 4199, 2212, 1987, 0.526, 29, 6, 2, 0]\n",
      "Current Team:['00', 1610612757, 'Portland', 'Trail Blazers', '1970', '2019', 50, 4036, 2163, 1873, 0.535, 35, 6, 3, 1]\n",
      "Current Team:['00', 1610612758, 'Sacramento', 'Kings', '1948', '2019', 72, 5680, 2590, 3090, 0.455, 29, 6, 0, 1]\n",
      "Current Team:['00', 1610612758, 'Sacramento', 'Kings', '1985', '2019', 35, 2804, 1184, 1620, 0.422, 10, 2, 0, 0]\n",
      "Current Team:['00', 1610612758, 'Kansas City', 'Kings', '1975', '1984', 10, 820, 381, 439, 0.464, 4, 1, 0, 0]\n",
      "Current Team:['00', 1610612758, 'Kansas City-Omaha', 'Kings', '1972', '1974', 3, 246, 113, 133, 0.459, 1, 0, 0, 0]\n",
      "Current Team:['00', 1610612758, 'Cincinnati', 'Royals', '1957', '1971', 15, 1189, 555, 634, 0.466, 7, 0, 0, 0]\n",
      "Current Team:['00', 1610612758, 'Rochester', 'Royals', '1948', '1956', 9, 621, 357, 264, 0.574, 7, 3, 0, 1]\n",
      "Current Team:['00', 1610612759, 'San Antonio', 'Spurs', '1976', '2019', 44, 3541, 2189, 1352, 0.618, 39, 22, 6, 5]\n",
      "Current Team:['00', 1610612761, 'Toronto', 'Raptors', '1995', '2019', 25, 1984, 948, 1036, 0.477, 11, 7, 1, 1]\n",
      "Current Team:['00', 1610612762, 'Utah', 'Jazz', '1974', '2019', 46, 3706, 2005, 1701, 0.541, 28, 10, 2, 0]\n",
      "Current Team:['00', 1610612762, 'Utah', 'Jazz', '1979', '2019', 41, 3296, 1844, 1452, 0.559, 28, 10, 2, 0]\n",
      "Current Team:['00', 1610612762, 'New Orleans', 'Jazz', '1974', '1978', 5, 410, 161, 249, 0.392, 0, 0, 0, 0]\n",
      "Current Team:['00', 1610612764, 'Washington', 'Wizards', '1961', '2019', 59, 4761, 2152, 2609, 0.452, 29, 8, 4, 1]\n",
      "Current Team:['00', 1610612764, 'Washington', 'Wizards', '1997', '2019', 23, 1820, 774, 1046, 0.425, 8, 1, 0, 0]\n",
      "Current Team:['00', 1610612764, 'Washington', 'Bullets', '1974', '1996', 23, 1886, 887, 999, 0.47, 13, 2, 3, 1]\n",
      "Current Team:['00', 1610612764, 'Capital', 'Bullets', '1973', '1973', 1, 82, 47, 35, 0.573, 1, 1, 0, 0]\n",
      "Current Team:['00', 1610612764, 'Baltimore', 'Bullets', '1963', '1972', 10, 813, 401, 412, 0.493, 7, 4, 1, 0]\n",
      "Current Team:['00', 1610612764, 'Chicago', 'Zephyrs', '1962', '1962', 1, 80, 25, 55, 0.312, 0, 0, 0, 0]\n",
      "Current Team:['00', 1610612764, 'Chicago', 'Packers', '1961', '1961', 1, 80, 18, 62, 0.225, 0, 0, 0, 0]\n",
      "Defunct Team: ['00', 1610610023, 'Anderson', 'Packers', '1949', '1949', 1, 64, 37, 27, 0.578, 1, 0, 0, 0]\n",
      "Defunct Team: ['00', 1610610024, 'Baltimore', 'Bullets', '1947', '1953', 7, 450, 158, 292, 0.351, 3, 0, 0, 1]\n",
      "Defunct Team: ['00', 1610610025, 'Chicago', 'Stags', '1946', '1949', 4, 240, 147, 93, 0.612, 4, 1, 0, 0]\n",
      "Defunct Team: ['00', 1610610026, 'Cleveland', 'Rebels', '1946', '1946', 1, 60, 30, 30, 0.5, 1, 0, 0, 0]\n",
      "Defunct Team: ['00', 1610610027, 'Denver', 'Nuggets', '1949', '1949', 1, 62, 11, 51, 0.177, 0, 0, 0, 0]\n",
      "Defunct Team: ['00', 1610610028, 'Detroit', 'Falcons', '1946', '1946', 1, 60, 20, 40, 0.333, 0, 0, 0, 0]\n",
      "Defunct Team: ['00', 1610610029, 'Indianapolis', 'Jets', '1948', '1948', 1, 60, 18, 42, 0.3, 0, 0, 0, 0]\n",
      "Defunct Team: ['00', 1610610030, 'Indianapolis', 'Olympians', '1949', '1952', 4, 269, 132, 137, 0.49, 4, 1, 0, 0]\n",
      "Defunct Team: ['00', 1610610031, 'Pittsburgh', 'Ironmen', '1946', '1946', 1, 60, 15, 45, 0.25, 0, 0, 0, 0]\n",
      "Defunct Team: ['00', 1610610032, 'Providence', 'Steamrollers', '1946', '1948', 3, 168, 46, 122, 0.273, 0, 0, 0, 0]\n",
      "Defunct Team: ['00', 1610610033, 'Sheboygan', 'Redskins', '1949', '1949', 1, 62, 22, 40, 0.354, 1, 0, 0, 0]\n",
      "Defunct Team: ['00', 1610610034, 'St. Louis', 'Bombers', '1946', '1949', 4, 237, 122, 115, 0.514, 3, 1, 0, 0]\n",
      "Defunct Team: ['00', 1610610035, 'Toronto', 'Huskies', '1946', '1946', 1, 60, 22, 38, 0.366, 0, 0, 0, 0]\n",
      "Defunct Team: ['00', 1610610036, 'Washington', 'Capitols', '1946', '1950', 5, 272, 157, 115, 0.577, 3, 2, 0, 0]\n",
      "Defunct Team: ['00', 1610610037, 'Waterloo', 'Hawks', '1949', '1949', 1, 62, 19, 43, 0.306, 0, 0, 0, 0]\n"
     ]
    }
   ],
   "source": [
    "# Get Unique Team IDs over History\n",
    "\n",
    "unique_id = []\n",
    "\n",
    "for i in all_teams['resultSets'][0]['rowSet']:\n",
    "    print(f'Current Team:{i}')\n",
    "    unique_id.append(i[1])\n",
    "\n",
    "for i in all_teams['resultSets'][1]['rowSet']:\n",
    "    print(f'Defunct Team: {i}')\n",
    "    unique_id.append(i[1])\n",
    "\n",
    "unique_id = np.unique(unique_id)"
   ]
  },
  {
   "cell_type": "code",
   "execution_count": 14,
   "metadata": {},
   "outputs": [
    {
     "data": {
      "text/plain": [
       "array([1610610023, 1610610024, 1610610025, 1610610026, 1610610027,\n",
       "       1610610028, 1610610029, 1610610030, 1610610031, 1610610032,\n",
       "       1610610033, 1610610034, 1610610035, 1610610036, 1610610037,\n",
       "       1610612737, 1610612738, 1610612739, 1610612740, 1610612741,\n",
       "       1610612742, 1610612743, 1610612744, 1610612745, 1610612746,\n",
       "       1610612747, 1610612748, 1610612749, 1610612750, 1610612751,\n",
       "       1610612752, 1610612753, 1610612754, 1610612755, 1610612756,\n",
       "       1610612757, 1610612758, 1610612759, 1610612760, 1610612761,\n",
       "       1610612762, 1610612763, 1610612764, 1610612765, 1610612766])"
      ]
     },
     "execution_count": 14,
     "metadata": {},
     "output_type": "execute_result"
    }
   ],
   "source": [
    "unique_id"
   ]
  },
  {
   "cell_type": "markdown",
   "metadata": {},
   "source": [
    "# Now that we have unique team ID's, we need to build the bridge between individual teams, and pulling individual player data per team. "
   ]
  },
  {
   "cell_type": "markdown",
   "metadata": {},
   "source": [
    "The api documentation tells us that we can get individual player data within the PlayerDashboardByYearOverYear() object\n",
    "\n",
    "Let's dive into the dataset to determine how to best compile player data by season.\n",
    "\n"
   ]
  },
  {
   "cell_type": "code",
   "execution_count": 15,
   "metadata": {},
   "outputs": [],
   "source": [
    "one_player = PlayerDashboardByYearOverYear(player_id = 2544, season = '2017-18')"
   ]
  },
  {
   "cell_type": "code",
   "execution_count": 16,
   "metadata": {},
   "outputs": [],
   "source": [
    "one_player = one_player.get_dict()"
   ]
  },
  {
   "cell_type": "code",
   "execution_count": 17,
   "metadata": {},
   "outputs": [
    {
     "data": {
      "text/plain": [
       "dict_keys(['resource', 'parameters', 'resultSets'])"
      ]
     },
     "execution_count": 17,
     "metadata": {},
     "output_type": "execute_result"
    }
   ],
   "source": [
    "one_player.keys()"
   ]
  },
  {
   "cell_type": "code",
   "execution_count": 18,
   "metadata": {},
   "outputs": [
    {
     "name": "stdout",
     "output_type": "stream",
     "text": [
      " resource: type <class 'str'>\n",
      " parameters: type <class 'dict'>\n",
      " resultSets: type <class 'list'>\n"
     ]
    }
   ],
   "source": [
    "for i in one_player.keys():\n",
    "    print(f' {i}: type {type(one_player[i])}')"
   ]
  },
  {
   "cell_type": "code",
   "execution_count": 19,
   "metadata": {},
   "outputs": [
    {
     "data": {
      "text/plain": [
       "2"
      ]
     },
     "execution_count": 19,
     "metadata": {},
     "output_type": "execute_result"
    }
   ],
   "source": [
    "len(one_player['resultSets'])"
   ]
  },
  {
   "cell_type": "code",
   "execution_count": 20,
   "metadata": {},
   "outputs": [
    {
     "name": "stdout",
     "output_type": "stream",
     "text": [
      "<class 'dict'>\n",
      "<class 'dict'>\n"
     ]
    }
   ],
   "source": [
    "for i in one_player['resultSets']:\n",
    "    print(type(i))"
   ]
  },
  {
   "cell_type": "code",
   "execution_count": 21,
   "metadata": {},
   "outputs": [
    {
     "name": "stdout",
     "output_type": "stream",
     "text": [
      "dict_keys(['name', 'headers', 'rowSet'])\n",
      "dict_keys(['name', 'headers', 'rowSet'])\n"
     ]
    }
   ],
   "source": [
    "for i in one_player['resultSets']:\n",
    "    print(i.keys())"
   ]
  },
  {
   "cell_type": "code",
   "execution_count": 22,
   "metadata": {},
   "outputs": [
    {
     "name": "stdout",
     "output_type": "stream",
     "text": [
      "name:<class 'str'>\n",
      "OverallPlayerDashboard\n",
      "headers:<class 'list'>\n",
      "['GROUP_SET', 'GROUP_VALUE', 'TEAM_ID', 'TEAM_ABBREVIATION', 'MAX_GAME_DATE', 'GP', 'W', 'L', 'W_PCT', 'MIN', 'FGM', 'FGA', 'FG_PCT', 'FG3M', 'FG3A', 'FG3_PCT', 'FTM', 'FTA', 'FT_PCT', 'OREB', 'DREB', 'REB', 'AST', 'TOV', 'STL', 'BLK', 'BLKA', 'PF', 'PFD', 'PTS', 'PLUS_MINUS', 'NBA_FANTASY_PTS', 'DD2', 'TD3', 'GP_RANK', 'W_RANK', 'L_RANK', 'W_PCT_RANK', 'MIN_RANK', 'FGM_RANK', 'FGA_RANK', 'FG_PCT_RANK', 'FG3M_RANK', 'FG3A_RANK', 'FG3_PCT_RANK', 'FTM_RANK', 'FTA_RANK', 'FT_PCT_RANK', 'OREB_RANK', 'DREB_RANK', 'REB_RANK', 'AST_RANK', 'TOV_RANK', 'STL_RANK', 'BLK_RANK', 'BLKA_RANK', 'PF_RANK', 'PFD_RANK', 'PTS_RANK', 'PLUS_MINUS_RANK', 'NBA_FANTASY_PTS_RANK', 'DD2_RANK', 'TD3_RANK', 'CFID', 'CFPARAMS']\n",
      "rowSet:<class 'list'>\n",
      "[['Overall', '2017-18', 1610612739, 'CLE', '2018-04-11T00:00:00', 82, 50, 32, 0.61, 3025.588333333333, 857, 1580, 0.542, 149, 406, 0.367, 388, 531, 0.731, 97, 612, 709, 747, 347, 116, 71, 68, 136, 439, 2251, 105, 4436.3, 52, 18, 1, 1, 1, 1, 1, 1, 1, 1, 1, 1, 1, 1, 1, 1, 1, 1, 1, 1, 1, 1, 1, 1, 1, 1, 1, 1, 1, 1, 1, 265, '2017-18']]\n",
      "name:<class 'str'>\n",
      "ByYearPlayerDashboard\n",
      "headers:<class 'list'>\n",
      "['GROUP_SET', 'GROUP_VALUE', 'TEAM_ID', 'TEAM_ABBREVIATION', 'MAX_GAME_DATE', 'GP', 'W', 'L', 'W_PCT', 'MIN', 'FGM', 'FGA', 'FG_PCT', 'FG3M', 'FG3A', 'FG3_PCT', 'FTM', 'FTA', 'FT_PCT', 'OREB', 'DREB', 'REB', 'AST', 'TOV', 'STL', 'BLK', 'BLKA', 'PF', 'PFD', 'PTS', 'PLUS_MINUS', 'NBA_FANTASY_PTS', 'DD2', 'TD3', 'GP_RANK', 'W_RANK', 'L_RANK', 'W_PCT_RANK', 'MIN_RANK', 'FGM_RANK', 'FGA_RANK', 'FG_PCT_RANK', 'FG3M_RANK', 'FG3A_RANK', 'FG3_PCT_RANK', 'FTM_RANK', 'FTA_RANK', 'FT_PCT_RANK', 'OREB_RANK', 'DREB_RANK', 'REB_RANK', 'AST_RANK', 'TOV_RANK', 'STL_RANK', 'BLK_RANK', 'BLKA_RANK', 'PF_RANK', 'PFD_RANK', 'PTS_RANK', 'PLUS_MINUS_RANK', 'NBA_FANTASY_PTS_RANK', 'DD2_RANK', 'TD3_RANK', 'CFID', 'CFPARAMS']\n",
      "rowSet:<class 'list'>\n",
      "[['By Year', '2019-20', 1610612747, 'LAL', '2020-03-10T00:00:00', 60, 47, 13, 0.783, 2094.3366666666666, 586, 1176, 0.498, 133, 381, 0.349, 239, 343, 0.697, 59, 414, 473, 636, 239, 74, 30, 54, 106, 307, 1544, 483, 3138.6, 42, 13, 16, 10, 1, 4, 16, 16, 15, 10, 2, 4, 8, 17, 17, 15, 15, 13, 14, 4, 14, 16, 16, 9, 3, 15, 16, 7, 15, 2, 2, 264, '2019-20'], ['By Year', '2018-19', 1610612747, 'LAL', '2019-03-29T00:00:00', 55, 28, 27, 0.509, 1937.4016666666666, 558, 1095, 0.51, 111, 327, 0.339, 278, 418, 0.665, 57, 408, 465, 454, 197, 72, 33, 52, 94, 320, 1505, 116, 2862.0, 32, 8, 17, 17, 11, 16, 17, 17, 17, 8, 10, 9, 10, 16, 16, 17, 16, 14, 15, 16, 17, 17, 15, 8, 1, 14, 17, 15, 17, 5, 4, 264, '2018-19'], ['By Year', '2017-18', 1610612739, 'CLE', '2018-04-11T00:00:00', 82, 50, 32, 0.61, 3025.588333333333, 857, 1580, 0.542, 149, 406, 0.367, 388, 531, 0.731, 97, 612, 709, 747, 347, 116, 71, 68, 136, 439, 2251, 105, 4436.3, 52, 18, 1, 8, 14, 11, 8, 2, 6, 4, 1, 1, 3, 10, 10, 11, 6, 1, 1, 1, 1, 11, 4, 14, 9, 9, 4, 16, 1, 1, 1, 264, '2017-18'], ['By Year', '2016-17', 1610612739, 'CLE', '2017-04-09T00:00:00', 74, 51, 23, 0.689, 2794.575, 736, 1344, 0.548, 124, 342, 0.363, 358, 531, 0.674, 97, 542, 639, 646, 303, 92, 44, 60, 134, 440, 1954, 483, 3794.8, 42, 13, 13, 7, 9, 9, 12, 12, 13, 3, 6, 7, 4, 14, 10, 16, 6, 2, 2, 3, 2, 15, 14, 11, 7, 8, 11, 7, 9, 2, 2, 264, '2016-17'], ['By Year', '2015-16', 1610612739, 'CLE', '2016-04-11T00:00:00', 76, 56, 20, 0.737, 2708.5783333333334, 737, 1416, 0.52, 87, 282, 0.309, 359, 491, 0.731, 111, 454, 565, 514, 249, 104, 49, 69, 143, 413, 1920, 618, 3579.0, 28, 3, 9, 5, 7, 5, 13, 11, 10, 6, 15, 13, 16, 13, 14, 10, 2, 10, 8, 11, 12, 14, 12, 15, 11, 11, 12, 5, 12, 10, 12, 264, '2015-16'], ['By Year', '2014-15', 1610612739, 'CLE', '2015-04-13T00:00:00', 69, 50, 19, 0.725, 2493.4216666666666, 624, 1279, 0.488, 120, 339, 0.354, 375, 528, 0.71, 51, 365, 416, 511, 272, 109, 49, 48, 135, 412, 1743, 541, 3210.7, 22, 2, 14, 8, 6, 7, 14, 13, 14, 12, 7, 8, 6, 12, 12, 13, 17, 16, 17, 12, 5, 13, 12, 6, 8, 12, 13, 6, 13, 13, 13, 264, '2014-15'], ['By Year', '2013-14', 1610612748, 'MIA', '2014-04-12T00:00:00', 77, 52, 25, 0.675, 2901.87, 767, 1353, 0.567, 116, 306, 0.379, 439, 585, 0.75, 81, 452, 533, 488, 270, 121, 26, 42, 126, 459, 2089, 409, 3631.6, 12, 1, 8, 6, 10, 10, 10, 8, 12, 1, 8, 12, 2, 8, 8, 7, 11, 11, 11, 13, 6, 10, 17, 4, 6, 7, 9, 10, 11, 16, 14, 264, '2013-14'], ['By Year', '2012-13', 1610612748, 'MIA', '2013-04-14T00:00:00', 76, 61, 15, 0.803, 2877.055, 765, 1354, 0.565, 103, 254, 0.406, 403, 535, 0.753, 97, 513, 610, 551, 226, 129, 67, 41, 110, 439, 2036, 720, 3956.5, 36, 4, 9, 2, 2, 2, 11, 9, 11, 2, 12, 15, 1, 9, 9, 6, 6, 3, 4, 8, 15, 5, 5, 3, 4, 9, 10, 2, 7, 4, 8, 264, '2012-13'], ['By Year', '2011-12', 1610612748, 'MIA', '2012-04-22T00:00:00', 62, 45, 17, 0.726, 2326.215, 621, 1169, 0.531, 54, 149, 0.362, 387, 502, 0.771, 94, 398, 492, 387, 213, 115, 50, 31, 96, 379, 1683, 474, 3135.9, 23, 0, 15, 13, 5, 6, 15, 15, 16, 5, 17, 17, 5, 11, 13, 2, 9, 15, 13, 17, 16, 12, 10, 1, 2, 13, 14, 9, 16, 12, 16, 264, '2011-12'], ['By Year', '2010-11', 1610612748, 'MIA', '2011-04-11T00:00:00', 79, 57, 22, 0.722, 3062.9816666666666, 758, 1485, 0.51, 92, 279, 0.33, 503, 663, 0.759, 80, 510, 590, 554, 284, 124, 50, 38, 163, 466, 2111, 619, 3888.0, 31, 4, 4, 4, 8, 8, 5, 10, 9, 7, 14, 14, 13, 5, 6, 4, 12, 4, 6, 7, 3, 8, 10, 2, 14, 6, 8, 4, 8, 6, 8, 264, '2010-11'], ['By Year', '2009-10', 1610612739, 'CLE', '2010-04-06T00:00:00', 76, 60, 16, 0.789, 2965.73, 768, 1528, 0.503, 129, 387, 0.333, 593, 773, 0.767, 71, 483, 554, 651, 261, 125, 77, 43, 119, 531, 2258, 650, 4244.3, 31, 4, 9, 3, 4, 3, 9, 7, 7, 9, 4, 2, 12, 3, 2, 3, 14, 6, 10, 2, 8, 6, 3, 5, 5, 4, 3, 3, 3, 6, 8, 264, '2009-10'], ['By Year', '2008-09', 1610612739, 'CLE', '2009-04-13T00:00:00', 81, 66, 15, 0.815, 3054.0633333333335, 789, 1613, 0.489, 132, 384, 0.344, 594, 762, 0.78, 106, 507, 613, 587, 241, 137, 93, 59, 139, 583, 2304, 872, 4369.1, 29, 7, 2, 1, 2, 1, 6, 5, 5, 11, 3, 3, 9, 2, 4, 1, 4, 5, 3, 5, 13, 3, 1, 10, 10, 3, 2, 1, 2, 9, 5, 264, '2008-09'], ['By Year', '2007-08', 1610612739, 'CLE', '2008-04-14T00:00:00', 75, 45, 30, 0.6, 3026.798333333333, 794, 1642, 0.484, 113, 359, 0.315, 549, 771, 0.712, 133, 459, 592, 539, 255, 138, 81, 61, 165, 590, 2250, 138, 4170.9, 31, 7, 12, 13, 12, 13, 7, 4, 3, 13, 9, 6, 15, 4, 3, 12, 1, 9, 5, 9, 10, 2, 2, 12, 15, 2, 5, 14, 6, 6, 5, 264, '2007-08'], ['By Year', '2006-07', 1610612739, 'CLE', '2007-04-18T00:00:00', 78, 47, 31, 0.603, 3190.29, 772, 1621, 0.476, 99, 310, 0.319, 489, 701, 0.698, 83, 443, 526, 470, 250, 125, 55, 49, 171, 517, 2132, 378, 3758.2, 16, 1, 7, 10, 13, 12, 3, 6, 4, 15, 13, 10, 14, 6, 5, 14, 10, 12, 12, 14, 11, 6, 8, 7, 16, 5, 7, 11, 10, 15, 14, 264, '2006-07'], ['By Year', '2005-06', 1610612739, 'CLE', '2006-04-16T00:00:00', 79, 47, 32, 0.595, 3360.616666666667, 875, 1823, 0.48, 127, 379, 0.335, 601, 814, 0.738, 75, 481, 556, 521, 260, 123, 66, 65, 181, 591, 2478, 275, 4233.7, 21, 5, 4, 10, 14, 14, 2, 1, 1, 14, 5, 5, 11, 1, 1, 9, 13, 7, 9, 10, 9, 9, 6, 13, 17, 1, 1, 12, 4, 14, 7, 264, '2005-06'], ['By Year', '2004-05', 1610612739, 'CLE', '2005-04-20T00:00:00', 80, 41, 39, 0.513, 3383.9683333333332, 795, 1684, 0.472, 108, 308, 0.351, 477, 636, 0.75, 111, 477, 588, 577, 262, 177, 52, 71, 146, 0, 2175, 151, 4171.1, 25, 4, 3, 15, 16, 15, 1, 3, 2, 16, 11, 11, 7, 7, 7, 8, 2, 8, 7, 6, 7, 1, 9, 16, 12, 16, 6, 13, 5, 11, 8, 264, '2004-05'], ['By Year', '2003-04', 1610612739, 'CLE', '2004-04-14T00:00:00', 79, 33, 46, 0.418, 3126.865, 622, 1492, 0.417, 63, 217, 0.29, 347, 460, 0.754, 99, 333, 432, 465, 273, 130, 58, 76, 149, 0, 1654, -144, 3160.9, 12, 0, 4, 16, 17, 17, 4, 14, 8, 17, 16, 16, 17, 15, 15, 5, 5, 17, 16, 15, 4, 4, 7, 17, 13, 16, 15, 17, 14, 16, 16, 264, '2003-04']]\n"
     ]
    }
   ],
   "source": [
    "for i in one_player['resultSets']:\n",
    "    for k in i.keys():\n",
    "        print(f'{k}:{type(i[k])}')\n",
    "        print(i[k])"
   ]
  },
  {
   "cell_type": "markdown",
   "metadata": {},
   "source": [
    "## In summary, the get_players dictionary object has a resultsSets key, which contains two sub-dictionaries on a per player basis. One for overall data at ['resultSets'][0], and the other for yearly statistics at ['resultSets'][1].\n",
    "\n",
    "## Note: Looks like a handful of these values above are superfluous for our purposes. Particularly, the 'RANK' values. We'll take note of that to ensure we're only scraping relevant data for sake of cost."
   ]
  },
  {
   "cell_type": "markdown",
   "metadata": {},
   "source": [
    "Now we can create a list of unique players ids to use for instantiation of PlayerDashboardByYearOverYear() objects to lift datasets per player."
   ]
  },
  {
   "cell_type": "markdown",
   "metadata": {},
   "source": [
    "Because we are only concerned with the 20 most recent seasons, we are only concerned with players who either ended their careers after the 1998-99 season, or those who started their careers in that same season or later.\n",
    "\n",
    "The CommonAllPlayers() class will allows us to identify those individuals"
   ]
  },
  {
   "cell_type": "code",
   "execution_count": 23,
   "metadata": {},
   "outputs": [],
   "source": [
    "season = CommonAllPlayers()\n",
    "season = season.get_dict()"
   ]
  },
  {
   "cell_type": "code",
   "execution_count": 24,
   "metadata": {},
   "outputs": [
    {
     "name": "stdout",
     "output_type": "stream",
     "text": [
      "resource, <class 'str'>\n",
      "parameters, <class 'dict'>\n",
      "resultSets, <class 'list'>\n"
     ]
    }
   ],
   "source": [
    "for i in season.keys():\n",
    "    print(f'{i}, {type(season[i])}')"
   ]
  },
  {
   "cell_type": "code",
   "execution_count": 25,
   "metadata": {},
   "outputs": [
    {
     "data": {
      "text/plain": [
       "1"
      ]
     },
     "execution_count": 25,
     "metadata": {},
     "output_type": "execute_result"
    }
   ],
   "source": [
    "len(season['resultSets'])"
   ]
  },
  {
   "cell_type": "code",
   "execution_count": 26,
   "metadata": {},
   "outputs": [
    {
     "data": {
      "text/plain": [
       "dict"
      ]
     },
     "execution_count": 26,
     "metadata": {},
     "output_type": "execute_result"
    }
   ],
   "source": [
    "type(season['resultSets'][0])"
   ]
  },
  {
   "cell_type": "code",
   "execution_count": 27,
   "metadata": {},
   "outputs": [
    {
     "data": {
      "text/plain": [
       "dict_keys(['name', 'headers', 'rowSet'])"
      ]
     },
     "execution_count": 27,
     "metadata": {},
     "output_type": "execute_result"
    }
   ],
   "source": [
    "season['resultSets'][0].keys()"
   ]
  },
  {
   "cell_type": "code",
   "execution_count": 28,
   "metadata": {},
   "outputs": [
    {
     "data": {
      "text/plain": [
       "list"
      ]
     },
     "execution_count": 28,
     "metadata": {},
     "output_type": "execute_result"
    }
   ],
   "source": [
    "type(season['resultSets'][0]['rowSet'])"
   ]
  },
  {
   "cell_type": "code",
   "execution_count": 29,
   "metadata": {},
   "outputs": [
    {
     "data": {
      "text/plain": [
       "4509"
      ]
     },
     "execution_count": 29,
     "metadata": {},
     "output_type": "execute_result"
    }
   ],
   "source": [
    "len(season['resultSets'][0]['rowSet'])"
   ]
  },
  {
   "cell_type": "code",
   "execution_count": 30,
   "metadata": {},
   "outputs": [
    {
     "name": "stdout",
     "output_type": "stream",
     "text": [
      "PERSON_ID: 0\n",
      "DISPLAY_LAST_COMMA_FIRST: 1\n",
      "DISPLAY_FIRST_LAST: 2\n",
      "ROSTERSTATUS: 3\n",
      "FROM_YEAR: 4\n",
      "TO_YEAR: 5\n",
      "PLAYERCODE: 6\n",
      "TEAM_ID: 7\n",
      "TEAM_CITY: 8\n",
      "TEAM_NAME: 9\n",
      "TEAM_ABBREVIATION: 10\n",
      "TEAM_CODE: 11\n",
      "GAMES_PLAYED_FLAG: 12\n",
      "OTHERLEAGUE_EXPERIENCE_CH: 13\n"
     ]
    }
   ],
   "source": [
    "for idx,head in enumerate(season['resultSets'][0]['headers']):\n",
    "    print(f'{head}: {idx}')"
   ]
  },
  {
   "cell_type": "markdown",
   "metadata": {},
   "source": [
    "Based on the above, for a given player, if we want to determine when their last game was played, or if they are still active, we can index into the 4th (start year) and 5th index (end year) of the ['rowSet'] entries.\n",
    "\n",
    "Let's determine which players are relevant to us by iterating through the entire ['rowSet']"
   ]
  },
  {
   "cell_type": "code",
   "execution_count": 31,
   "metadata": {},
   "outputs": [],
   "source": [
    "players = []\n",
    "for i in season['resultSets'][0]['rowSet']:\n",
    "    if int(i[4]) >= 1998 or int(i[5]) >=1999:\n",
    "        players.append(i[0])\n",
    "\n",
    "players = np.unique(players)\n",
    "\n",
    "    "
   ]
  },
  {
   "cell_type": "markdown",
   "metadata": {},
   "source": [
    "We now have a list of unique player ID's that are pertinent to our inquiry. We can plug these back into the PlayerDashboardByYearOverYear() object to get our relevant data.\n",
    "\n",
    "We'll upload this data to MongoDb, to then load back into a dataframe and begin our analysis. "
   ]
  },
  {
   "cell_type": "code",
   "execution_count": 32,
   "metadata": {},
   "outputs": [],
   "source": [
    "client = MongoClient('localhost', 27017)\n",
    "db_nba = client['nba']\n",
    "\n",
    "stats = db_nba['player_stats']"
   ]
  },
  {
   "cell_type": "code",
   "execution_count": 33,
   "metadata": {},
   "outputs": [
    {
     "data": {
      "text/plain": [
       "pymongo.collection.Collection"
      ]
     },
     "execution_count": 33,
     "metadata": {},
     "output_type": "execute_result"
    }
   ],
   "source": [
    "type(stats)"
   ]
  },
  {
   "cell_type": "code",
   "execution_count": 34,
   "metadata": {},
   "outputs": [],
   "source": [
    "def scrape_players(players):\n",
    "    \n",
    "    \"\"\"PARAMETERS:\n",
    "    \n",
    "    players - (list) a list of the unique player ID's relevant to your inquiry\n",
    "    \n",
    "    \n",
    "    RETURNS:\n",
    "    None\n",
    "    - Uploads players stats by year to a Mongo database\n",
    "    \"\"\"\n",
    "\n",
    "    for p in players:\n",
    "        \n",
    "        one_player = PlayerDashboardByYearOverYear(player_id = p)\n",
    "        one_player = one_player.get_dict()\n",
    "        \n",
    "        \n",
    "        \n",
    "        for i in (one_player['resultSets'][1]['rowSet']):\n",
    "            d_play = dict()\n",
    "            # convert PLayer_ID type from numpy int64 to native python for upload to Mongo\n",
    "            d_play['Player_ID'] = p.item()\n",
    "#             print(f'{p}: {type(p)}')\n",
    "    \n",
    "            for idx, val in enumerate(i):\n",
    "                \n",
    "#                 print(f'{idx}, {val}: {type(val)}')\n",
    "                # Disregard superfluous data in '_RANK' columns from native data\n",
    "                if 'RANK' in one_player['resultSets'][1]['headers'][idx]:\n",
    "                    continue\n",
    "                else:\n",
    "                    d_play[one_player['resultSets'][1]['headers'][idx]] = val\n",
    "                \n",
    "            # Upload to Mongo\n",
    "            stats.insert_one(d_play)\n",
    "                \n",
    "        time.sleep(np.random.randint(10))\n"
   ]
  },
  {
   "cell_type": "code",
   "execution_count": 35,
   "metadata": {},
   "outputs": [
    {
     "data": {
      "text/plain": [
       "numpy.ndarray"
      ]
     },
     "execution_count": 35,
     "metadata": {},
     "output_type": "execute_result"
    }
   ],
   "source": [
    "type(players)"
   ]
  },
  {
   "cell_type": "code",
   "execution_count": null,
   "metadata": {},
   "outputs": [],
   "source": [
    "scrape_players(players)"
   ]
  },
  {
   "cell_type": "code",
   "execution_count": null,
   "metadata": {},
   "outputs": [],
   "source": []
  }
 ],
 "metadata": {
  "kernelspec": {
   "display_name": "Python 3",
   "language": "python",
   "name": "python3"
  },
  "language_info": {
   "codemirror_mode": {
    "name": "ipython",
    "version": 3
   },
   "file_extension": ".py",
   "mimetype": "text/x-python",
   "name": "python",
   "nbconvert_exporter": "python",
   "pygments_lexer": "ipython3",
   "version": "3.7.6"
  }
 },
 "nbformat": 4,
 "nbformat_minor": 4
}
