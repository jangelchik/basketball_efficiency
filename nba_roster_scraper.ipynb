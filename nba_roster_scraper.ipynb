{
 "cells": [
  {
   "cell_type": "code",
   "execution_count": 1,
   "metadata": {},
   "outputs": [],
   "source": [
    "from pymongo import MongoClient\n",
    "import pprint\n",
    "\n",
    "import pandas as pd\n",
    "\n",
    "import numpy as np\n",
    "\n",
    "import json\n",
    "import time"
   ]
  },
  {
   "cell_type": "code",
   "execution_count": 2,
   "metadata": {},
   "outputs": [],
   "source": [
    "# Import proper modules from nba_api\n",
    "\n",
    "from nba_api.stats.static import players, teams\n",
    "from nba_api.stats.endpoints import TeamPlayerDashboard"
   ]
  },
  {
   "cell_type": "markdown",
   "metadata": {},
   "source": [
    "## In reading the nba_api documentation on github, we know the TeamPlayerDashboard() object will allow us to compile yearly rosters.\n",
    "\n",
    "See object exploration below to determine parsing workflow. "
   ]
  },
  {
   "cell_type": "code",
   "execution_count": 3,
   "metadata": {},
   "outputs": [],
   "source": [
    "one_team = TeamPlayerDashboard(team_id = '1610612737', season = '2018-19')"
   ]
  },
  {
   "cell_type": "code",
   "execution_count": 4,
   "metadata": {},
   "outputs": [],
   "source": [
    "one_team = one_team.get_dict()"
   ]
  },
  {
   "cell_type": "code",
   "execution_count": 5,
   "metadata": {},
   "outputs": [
    {
     "data": {
      "text/plain": [
       "dict_keys(['resource', 'parameters', 'resultSets'])"
      ]
     },
     "execution_count": 5,
     "metadata": {},
     "output_type": "execute_result"
    }
   ],
   "source": [
    "one_team.keys()"
   ]
  },
  {
   "cell_type": "code",
   "execution_count": 6,
   "metadata": {},
   "outputs": [
    {
     "data": {
      "text/plain": [
       "list"
      ]
     },
     "execution_count": 6,
     "metadata": {},
     "output_type": "execute_result"
    }
   ],
   "source": [
    "type(one_team['resultSets'])"
   ]
  },
  {
   "cell_type": "code",
   "execution_count": 7,
   "metadata": {},
   "outputs": [
    {
     "data": {
      "text/plain": [
       "2"
      ]
     },
     "execution_count": 7,
     "metadata": {},
     "output_type": "execute_result"
    }
   ],
   "source": [
    "len(one_team['resultSets'])"
   ]
  },
  {
   "cell_type": "code",
   "execution_count": 8,
   "metadata": {},
   "outputs": [
    {
     "name": "stdout",
     "output_type": "stream",
     "text": [
      "<class 'dict'>\n",
      "<class 'dict'>\n"
     ]
    }
   ],
   "source": [
    "for i in one_team['resultSets']:\n",
    "    print(type(i))"
   ]
  },
  {
   "cell_type": "code",
   "execution_count": 9,
   "metadata": {},
   "outputs": [
    {
     "name": "stdout",
     "output_type": "stream",
     "text": [
      "name, <class 'str'>, TeamOverall\n",
      "headers, <class 'list'>, ['GROUP_SET', 'TEAM_ID', 'TEAM_NAME', 'GROUP_VALUE', 'GP', 'W', 'L', 'W_PCT', 'MIN', 'FGM', 'FGA', 'FG_PCT', 'FG3M', 'FG3A', 'FG3_PCT', 'FTM', 'FTA', 'FT_PCT', 'OREB', 'DREB', 'REB', 'AST', 'TOV', 'STL', 'BLK', 'BLKA', 'PF', 'PFD', 'PTS', 'PLUS_MINUS', 'GP_RANK', 'W_RANK', 'L_RANK', 'W_PCT_RANK', 'MIN_RANK', 'FGM_RANK', 'FGA_RANK', 'FG_PCT_RANK', 'FG3M_RANK', 'FG3A_RANK', 'FG3_PCT_RANK', 'FTM_RANK', 'FTA_RANK', 'FT_PCT_RANK', 'OREB_RANK', 'DREB_RANK', 'REB_RANK', 'AST_RANK', 'TOV_RANK', 'STL_RANK', 'BLK_RANK', 'BLKA_RANK', 'PF_RANK', 'PFD_RANK', 'PTS_RANK', 'PLUS_MINUS_RANK']\n",
      "rowSet, <class 'list'>, [['Overall', 1610612737, 'Atlanta Hawks', '2018-19', 82, 29, 53, 0.354, 3971.0, 3392, 7524, 0.451, 1067, 3034, 0.352, 1443, 1918, 0.752, 955, 2825, 3780, 2118, 1397.0, 675, 419, 448, 1932, 1817, 9294, -494.0, 1, 1, 1, 1, 1, 1, 1, 1, 1, 1, 1, 1, 1, 1, 1, 1, 1, 1, 1, 1, 1, 1, 1, 1, 1, 1]]\n",
      "name, <class 'str'>, PlayersSeasonTotals\n",
      "headers, <class 'list'>, ['GROUP_SET', 'PLAYER_ID', 'PLAYER_NAME', 'GP', 'W', 'L', 'W_PCT', 'MIN', 'FGM', 'FGA', 'FG_PCT', 'FG3M', 'FG3A', 'FG3_PCT', 'FTM', 'FTA', 'FT_PCT', 'OREB', 'DREB', 'REB', 'AST', 'TOV', 'STL', 'BLK', 'BLKA', 'PF', 'PFD', 'PTS', 'PLUS_MINUS', 'NBA_FANTASY_PTS', 'DD2', 'TD3', 'GP_RANK', 'W_RANK', 'L_RANK', 'W_PCT_RANK', 'MIN_RANK', 'FGM_RANK', 'FGA_RANK', 'FG_PCT_RANK', 'FG3M_RANK', 'FG3A_RANK', 'FG3_PCT_RANK', 'FTM_RANK', 'FTA_RANK', 'FT_PCT_RANK', 'OREB_RANK', 'DREB_RANK', 'REB_RANK', 'AST_RANK', 'TOV_RANK', 'STL_RANK', 'BLK_RANK', 'BLKA_RANK', 'PF_RANK', 'PFD_RANK', 'PTS_RANK', 'PLUS_MINUS_RANK', 'NBA_FANTASY_PTS_RANK', 'DD2_RANK', 'TD3_RANK']\n",
      "rowSet, <class 'list'>, [['Players', 203458, 'Alex Len', 77, 28, 49, 0.364, 1544.075, 320, 648, 0.494, 74, 204, 0.363, 140, 216, 0.648, 158, 266, 424, 86, 97, 27, 69, 45, 200, 157, 854, -163, 1682.8, 9, 0, 3, 3, 19, 7, 8, 3, 5, 6, 7, 7, 8, 4, 3, 13, 2, 4, 3, 10, 8, 9, 2, 19, 21, 4, 3, 15, 5, 4, 2], ['Players', 1627816, 'Alex Poythress', 21, 7, 14, 0.333, 304.9, 40, 81, 0.494, 9, 23, 0.391, 18, 29, 0.621, 29, 47, 76, 17, 13, 4, 10, 7, 47, 28, 107, -75, 252.7, 0, 0, 15, 14, 7, 14, 14, 13, 15, 6, 15, 15, 3, 13, 14, 15, 10, 14, 13, 15, 15, 17, 12, 8, 10, 12, 14, 10, 14, 10, 2], ['Players', 1629168, 'BJ Johnson', 6, 2, 4, 0.333, 43.3, 8, 16, 0.5, 3, 6, 0.5, 2, 2, 1.0, 2, 6, 8, 0, 2, 2, 0, 2, 3, 2, 21, -14, 34.6, 0, 0, 19, 18, 3, 14, 20, 19, 20, 5, 17, 18, 2, 19, 19, 1, 20, 20, 20, 20, 19, 19, 19, 4, 2, 20, 19, 4, 19, 10, 2], ['Players', 1627772, 'Daniel Hamilton', 19, 7, 12, 0.368, 204.17166666666665, 23, 60, 0.383, 8, 23, 0.348, 3, 6, 0.5, 10, 37, 47, 22, 16, 6, 1, 5, 19, 11, 57, -26, 151.4, 0, 0, 16, 14, 6, 6, 16, 17, 16, 18, 16, 15, 10, 18, 18, 19, 16, 15, 15, 14, 14, 15, 17, 7, 7, 17, 17, 7, 17, 10, 2], ['Players', 1627761, \"DeAndre' Bembry\", 82, 29, 53, 0.354, 1931.28, 275, 616, 0.446, 50, 173, 0.289, 87, 136, 0.64, 54, 304, 358, 202, 142, 105, 41, 45, 190, 133, 687, -229, 1715.6, 3, 0, 1, 1, 22, 12, 3, 5, 6, 10, 9, 8, 17, 8, 6, 14, 7, 3, 4, 3, 2, 1, 4, 19, 19, 6, 8, 19, 4, 6, 2], ['Players', 203473, 'Dewayne Dedmon', 64, 24, 40, 0.375, 1609.2066666666667, 259, 526, 0.492, 83, 217, 0.382, 92, 113, 0.814, 105, 375, 480, 90, 84, 69, 71, 25, 214, 100, 693, -173, 1740.0, 11, 0, 7, 6, 16, 5, 6, 8, 8, 8, 6, 6, 7, 7, 8, 5, 3, 2, 2, 8, 9, 4, 1, 16, 22, 8, 7, 16, 3, 3, 2], ['Players', 1627738, 'Deyonta Davis', 9, 3, 6, 0.333, 118.435, 15, 22, 0.682, 0, 1, 0.0, 6, 10, 0.6, 10, 26, 36, 5, 3, 3, 5, 0, 12, 6, 36, -22, 107.7, 0, 0, 18, 16, 5, 14, 18, 18, 18, 2, 20, 19, 20, 17, 16, 17, 16, 17, 18, 18, 18, 18, 14, 1, 5, 18, 18, 5, 18, 10, 2], ['Players', 1629353, 'Isaac Humphries', 5, 1, 4, 0.2, 56.43333333333333, 6, 21, 0.286, 3, 11, 0.273, 0, 0, 0.0, 4, 7, 11, 0, 0, 1, 0, 4, 7, 3, 15, -22, 31.2, 0, 0, 20, 19, 3, 20, 19, 20, 19, 21, 17, 17, 18, 20, 20, 20, 19, 19, 19, 20, 20, 20, 19, 6, 4, 19, 20, 5, 20, 10, 2], ['Players', 1629121, 'Jaylen Adams', 34, 13, 21, 0.382, 427.5883333333333, 38, 110, 0.345, 25, 74, 0.338, 7, 9, 0.778, 11, 49, 60, 65, 28, 14, 5, 7, 45, 13, 108, -57, 306.5, 0, 0, 13, 13, 9, 4, 13, 14, 13, 20, 12, 13, 12, 16, 17, 6, 15, 13, 14, 11, 12, 13, 14, 8, 9, 16, 13, 9, 13, 10, 2], ['Players', 202391, 'Jeremy Lin', 51, 16, 35, 0.314, 1002.865, 180, 386, 0.466, 44, 132, 0.333, 142, 168, 0.845, 16, 103, 119, 181, 98, 38, 7, 24, 96, 187, 546, -111, 997.3, 1, 0, 10, 11, 13, 19, 10, 10, 10, 9, 10, 10, 13, 3, 5, 2, 13, 11, 11, 4, 7, 8, 13, 15, 13, 3, 10, 13, 10, 7, 2], ['Players', 1628381, 'John Collins', 61, 24, 37, 0.393, 1828.4016666666666, 465, 831, 0.56, 55, 158, 0.348, 203, 266, 0.763, 219, 376, 595, 121, 120, 22, 39, 65, 199, 230, 1188, -76, 2146.5, 32, 0, 8, 6, 15, 3, 4, 2, 2, 4, 8, 9, 9, 2, 2, 7, 1, 1, 1, 6, 4, 11, 5, 21, 20, 2, 2, 11, 2, 1, 2], ['Players', 1626296, 'Jordan Sibert', 1, 1, 0, 1.0, 4.233333333333333, 1, 1, 1.0, 1, 1, 1.0, 0, 0, 0.0, 0, 0, 0, 0, 0, 0, 0, 0, 0, 0, 3, -5, 3.0, 0, 0, 22, 19, 1, 1, 22, 21, 22, 1, 19, 19, 1, 20, 20, 20, 22, 22, 22, 20, 20, 21, 19, 1, 1, 22, 21, 2, 22, 10, 2], ['Players', 1626147, 'Justin Anderson', 48, 17, 31, 0.354, 463.505, 64, 157, 0.408, 24, 77, 0.312, 26, 35, 0.743, 24, 60, 84, 23, 23, 22, 13, 9, 48, 28, 178, -79, 395.3, 1, 0, 11, 10, 11, 11, 12, 12, 12, 15, 13, 12, 16, 12, 12, 8, 11, 12, 12, 13, 13, 11, 11, 11, 11, 12, 12, 12, 12, 7, 2], ['Players', 203145, 'Kent Bazemore', 67, 24, 43, 0.358, 1643.4133333333334, 278, 691, 0.402, 96, 300, 0.32, 127, 175, 0.726, 37, 224, 261, 152, 121, 89, 42, 34, 170, 149, 779, -297, 1592.2, 0, 0, 6, 6, 17, 9, 5, 4, 3, 16, 5, 5, 15, 5, 4, 10, 8, 6, 6, 5, 3, 2, 3, 18, 18, 5, 4, 21, 6, 10, 2], ['Players', 1628989, 'Kevin Huerter', 75, 27, 48, 0.36, 2048.53, 275, 657, 0.419, 136, 353, 0.385, 41, 56, 0.732, 60, 185, 245, 214, 109, 65, 25, 29, 155, 59, 727, -119, 1503.0, 1, 0, 5, 4, 18, 8, 2, 5, 4, 13, 2, 2, 6, 10, 10, 9, 6, 7, 7, 2, 5, 5, 7, 17, 17, 10, 6, 14, 7, 7, 2], ['Players', 203101, 'Miles Plumlee', 18, 1, 17, 0.056, 172.92166666666665, 32, 48, 0.667, 0, 0, 0.0, 16, 30, 0.533, 16, 23, 39, 17, 10, 6, 4, 3, 14, 23, 80, -43, 172.3, 0, 0, 17, 19, 8, 22, 17, 15, 17, 3, 20, 22, 20, 14, 13, 18, 13, 18, 17, 15, 16, 15, 16, 5, 6, 14, 16, 8, 16, 10, 2], ['Players', 1629016, 'Omari Spellman', 46, 15, 31, 0.326, 804.5416666666666, 98, 244, 0.402, 44, 128, 0.344, 32, 45, 0.711, 72, 122, 194, 47, 31, 26, 25, 14, 67, 38, 272, -202, 697.3, 4, 0, 12, 12, 11, 18, 11, 11, 11, 17, 10, 11, 11, 11, 11, 12, 4, 10, 9, 12, 11, 10, 7, 13, 12, 11, 11, 18, 11, 5, 2], ['Players', 1627752, 'Taurean Prince', 55, 19, 36, 0.345, 1552.2916666666667, 262, 594, 0.441, 123, 315, 0.39, 95, 116, 0.819, 22, 177, 199, 118, 100, 53, 19, 15, 141, 114, 742, -243, 1273.8, 0, 0, 9, 9, 14, 13, 7, 7, 7, 11, 3, 4, 4, 6, 7, 4, 12, 8, 8, 7, 6, 6, 9, 14, 15, 7, 5, 20, 8, 10, 2], ['Players', 1629027, 'Trae Young', 81, 29, 52, 0.358, 2503.2816666666668, 525, 1256, 0.418, 156, 482, 0.324, 343, 414, 0.829, 64, 237, 301, 653, 308, 72, 15, 98, 140, 431, 1549, -335, 2842.7, 30, 1, 2, 1, 21, 10, 1, 1, 1, 14, 1, 1, 14, 1, 1, 3, 5, 5, 5, 1, 1, 3, 10, 22, 14, 1, 1, 22, 1, 2, 1], ['Players', 1628416, 'Tyler Dorsey', 27, 3, 24, 0.111, 250.61833333333334, 32, 89, 0.36, 10, 39, 0.256, 16, 26, 0.615, 9, 34, 43, 17, 10, 7, 1, 8, 20, 21, 90, 8, 181.1, 0, 0, 14, 16, 10, 21, 15, 15, 14, 19, 14, 14, 19, 14, 15, 16, 18, 16, 16, 15, 16, 14, 17, 10, 8, 15, 15, 1, 15, 10, 2], ['Players', 203092, 'Tyler Zeller', 2, 1, 1, 0.5, 10.65, 0, 2, 0.0, 0, 1, 0.0, 0, 0, 0.0, 2, 4, 6, 1, 0, 0, 0, 0, 4, 1, 0, -8, 8.7, 0, 0, 21, 19, 2, 2, 21, 22, 21, 22, 20, 19, 20, 20, 20, 20, 20, 21, 21, 19, 20, 21, 19, 1, 3, 21, 22, 3, 21, 10, 2], ['Players', 1713, 'Vince Carter', 76, 25, 51, 0.329, 1330.3566666666666, 196, 468, 0.419, 123, 316, 0.389, 47, 66, 0.712, 31, 163, 194, 87, 48, 44, 27, 9, 141, 83, 562, -179, 1090.3, 0, 0, 4, 5, 20, 17, 9, 9, 9, 12, 3, 3, 5, 9, 9, 11, 9, 9, 9, 9, 10, 7, 6, 11, 15, 9, 9, 17, 9, 10, 2]]\n"
     ]
    }
   ],
   "source": [
    "for i in one_team['resultSets']:\n",
    "    for k in i.keys():\n",
    "        print(f'{k}, {type(i[k])}, {i[k]}')"
   ]
  },
  {
   "cell_type": "code",
   "execution_count": 10,
   "metadata": {},
   "outputs": [
    {
     "data": {
      "text/plain": [
       "1"
      ]
     },
     "execution_count": 10,
     "metadata": {},
     "output_type": "execute_result"
    }
   ],
   "source": [
    "rel = ['PLAYER_ID']\n",
    "rel_idx = 0\n",
    "for idx, val in enumerate(one_team['resultSets'][1]['headers']):\n",
    "    if val in rel:\n",
    "        rel_idx = idx\n",
    "\n",
    "rel_idx"
   ]
  },
  {
   "cell_type": "code",
   "execution_count": 11,
   "metadata": {},
   "outputs": [
    {
     "data": {
      "text/plain": [
       "list"
      ]
     },
     "execution_count": 11,
     "metadata": {},
     "output_type": "execute_result"
    }
   ],
   "source": [
    "type(one_team['resultSets'][1]['rowSet'])"
   ]
  },
  {
   "cell_type": "code",
   "execution_count": 12,
   "metadata": {},
   "outputs": [
    {
     "data": {
      "text/plain": [
       "[203458,\n",
       " 1627816,\n",
       " 1629168,\n",
       " 1627772,\n",
       " 1627761,\n",
       " 203473,\n",
       " 1627738,\n",
       " 1629353,\n",
       " 1629121,\n",
       " 202391,\n",
       " 1628381,\n",
       " 1626296,\n",
       " 1626147,\n",
       " 203145,\n",
       " 1628989,\n",
       " 203101,\n",
       " 1629016,\n",
       " 1627752,\n",
       " 1629027,\n",
       " 1628416,\n",
       " 203092,\n",
       " 1713]"
      ]
     },
     "execution_count": 12,
     "metadata": {},
     "output_type": "execute_result"
    }
   ],
   "source": [
    "roster = []\n",
    "\n",
    "\n",
    "for row in one_team['resultSets'][1]['rowSet']:\n",
    "    roster.append(row[rel_idx])\n",
    "        \n",
    "roster"
   ]
  },
  {
   "cell_type": "markdown",
   "metadata": {},
   "source": [
    "Now that we know how to pull our rosters, we can iterate through unique team IDs and seasons to pull relevant data."
   ]
  },
  {
   "cell_type": "code",
   "execution_count": 13,
   "metadata": {},
   "outputs": [],
   "source": [
    "# Import proper modules from nba_api\n",
    "\n",
    "from nba_api.stats.static import players, teams"
   ]
  },
  {
   "cell_type": "code",
   "execution_count": 14,
   "metadata": {},
   "outputs": [
    {
     "data": {
      "text/plain": [
       "list"
      ]
     },
     "execution_count": 14,
     "metadata": {},
     "output_type": "execute_result"
    }
   ],
   "source": [
    "# generate unique team IDs\n",
    "\n",
    "teams = teams.get_teams()\n",
    "type(teams)\n"
   ]
  },
  {
   "cell_type": "code",
   "execution_count": 15,
   "metadata": {},
   "outputs": [
    {
     "data": {
      "text/plain": [
       "{'id': 1610612737,\n",
       " 'full_name': 'Atlanta Hawks',\n",
       " 'abbreviation': 'ATL',\n",
       " 'nickname': 'Hawks',\n",
       " 'city': 'Atlanta',\n",
       " 'state': 'Atlanta',\n",
       " 'year_founded': 1949}"
      ]
     },
     "execution_count": 15,
     "metadata": {},
     "output_type": "execute_result"
    }
   ],
   "source": [
    "teams[0]"
   ]
  },
  {
   "cell_type": "code",
   "execution_count": 16,
   "metadata": {},
   "outputs": [
    {
     "data": {
      "text/plain": [
       "array([1610612737, 1610612738, 1610612739, 1610612740, 1610612741,\n",
       "       1610612742, 1610612743, 1610612744, 1610612745, 1610612746,\n",
       "       1610612747, 1610612748, 1610612749, 1610612750, 1610612751,\n",
       "       1610612752, 1610612753, 1610612754, 1610612755, 1610612756,\n",
       "       1610612757, 1610612758, 1610612759, 1610612760, 1610612761,\n",
       "       1610612762, 1610612763, 1610612764, 1610612765, 1610612766])"
      ]
     },
     "execution_count": 16,
     "metadata": {},
     "output_type": "execute_result"
    }
   ],
   "source": [
    "team_id = []\n",
    "for i in teams:\n",
    "    team_id.append(i['id'])\n",
    "\n",
    "team_id = np.unique(team_id)\n",
    "\n",
    "team_id"
   ]
  },
  {
   "cell_type": "code",
   "execution_count": 17,
   "metadata": {},
   "outputs": [],
   "source": [
    "# generate all season values for TeamPlayerDashboard() instantiation.\n",
    "\n",
    "def get_seasons(fall_start,spring_end):\n",
    "    \n",
    "    \"\"\"PARAMETERS:\n",
    "    fall_start: int - The year corresponding to the start of a season (fall)\n",
    "    spring_end: int - The year corresponding to the end of a season(spring)\n",
    "    \n",
    "    RETURNS:\n",
    "    List containg all seasons from which to pull data\"\"\"\n",
    "    \n",
    "    lst = []\n",
    "    for i in range(fall_start,spring_end):\n",
    "        if (i+1)%100 > 9:\n",
    "            season = f'{i}-{(i+1)%100}'\n",
    "            lst.append(season)\n",
    "        else:\n",
    "            season = f'{i}-0{(i+1)%100}'\n",
    "            lst.append(season)\n",
    "    return lst"
   ]
  },
  {
   "cell_type": "code",
   "execution_count": 18,
   "metadata": {},
   "outputs": [],
   "source": [
    "seasons = get_seasons(1998,2019)"
   ]
  },
  {
   "cell_type": "markdown",
   "metadata": {},
   "source": [
    "Connecting to MongoDb and uploading"
   ]
  },
  {
   "cell_type": "code",
   "execution_count": 19,
   "metadata": {},
   "outputs": [],
   "source": [
    "client = MongoClient('localhost', 27017)\n",
    "db_nba = client['nba']\n",
    "\n",
    "stats = db_nba['team_rosters']"
   ]
  },
  {
   "cell_type": "code",
   "execution_count": 24,
   "metadata": {},
   "outputs": [],
   "source": [
    "def scrape_roster(seasons,teams):\n",
    "    \"\"\"PARAMETERS:\n",
    "    \n",
    "    seasons - (list) a list of the seasons relevant to your inquiry\n",
    "    teams - (list) a list of unique team IDs for which you want to pull rosters\n",
    "    \n",
    "    \n",
    "    RETURNS:\n",
    "    None\n",
    "    - Uploads team rosters by year to a Mongo database\n",
    "    \"\"\"\n",
    "    \n",
    "    for s in seasons:\n",
    "        \n",
    "        for t in teams:\n",
    "            one_team = TeamPlayerDashboard(team_id = t, season = s)\n",
    "            one_team = one_team.get_dict()\n",
    "        \n",
    "            d_team = dict()\n",
    "            # convert team and season type from numpy int64 to native python for upload to Mongo\n",
    "            d_team['team'] = t.item()\n",
    "            d_team['season'] = s\n",
    "            \n",
    "            roster = []\n",
    "            for row in one_team['resultSets'][1]['rowSet']:\n",
    "                roster.append(row[rel_idx])\n",
    "            \n",
    "            d_team['roster'] = roster\n",
    "            \n",
    "#             print(d_team)\n",
    "            #Upload to Mongo\n",
    "            stats.insert_one(d_team)\n",
    "                \n",
    "        time.sleep(np.random.randint(5,8))\n",
    "    \n",
    "    return None"
   ]
  },
  {
   "cell_type": "code",
   "execution_count": 25,
   "metadata": {},
   "outputs": [],
   "source": [
    "scrape_roster(seasons, team_id)"
   ]
  },
  {
   "cell_type": "code",
   "execution_count": null,
   "metadata": {},
   "outputs": [],
   "source": []
  }
 ],
 "metadata": {
  "kernelspec": {
   "display_name": "Python 3",
   "language": "python",
   "name": "python3"
  },
  "language_info": {
   "codemirror_mode": {
    "name": "ipython",
    "version": 3
   },
   "file_extension": ".py",
   "mimetype": "text/x-python",
   "name": "python",
   "nbconvert_exporter": "python",
   "pygments_lexer": "ipython3",
   "version": "3.7.6"
  }
 },
 "nbformat": 4,
 "nbformat_minor": 4
}
