{
 "cells": [
  {
   "cell_type": "code",
   "execution_count": 1,
   "metadata": {},
   "outputs": [],
   "source": [
    "from pymongo import MongoClient\n",
    "import pprint\n",
    "\n",
    "import pandas as pd\n",
    "\n",
    "import numpy as np\n",
    "\n",
    "import json\n",
    "import time"
   ]
  },
  {
   "cell_type": "code",
   "execution_count": 34,
   "metadata": {},
   "outputs": [],
   "source": [
    "# Import proper modules from nba_api\n",
    "\n",
    "from nba_api.stats.static import players, teams\n",
    "from nba_api.stats.endpoints import TeamPlayerDashboard"
   ]
  },
  {
   "cell_type": "code",
   "execution_count": 52,
   "metadata": {},
   "outputs": [],
   "source": [
    "one_team = TeamPlayerDashboard(team_id = '1610612737', season = '2018-19')"
   ]
  },
  {
   "cell_type": "code",
   "execution_count": 53,
   "metadata": {},
   "outputs": [],
   "source": [
    "one_team = one_team.get_dict()"
   ]
  },
  {
   "cell_type": "code",
   "execution_count": 54,
   "metadata": {},
   "outputs": [
    {
     "data": {
      "text/plain": [
       "dict_keys(['resource', 'parameters', 'resultSets'])"
      ]
     },
     "execution_count": 54,
     "metadata": {},
     "output_type": "execute_result"
    }
   ],
   "source": [
    "one_team.keys()"
   ]
  },
  {
   "cell_type": "code",
   "execution_count": 55,
   "metadata": {},
   "outputs": [
    {
     "data": {
      "text/plain": [
       "{'MeasureType': 'Base',\n",
       " 'PerMode': 'Totals',\n",
       " 'PlusMinus': 'N',\n",
       " 'PaceAdjust': 'N',\n",
       " 'Rank': 'N',\n",
       " 'LeagueID': None,\n",
       " 'Season': '2018-19',\n",
       " 'SeasonType': 'Regular Season',\n",
       " 'PORound': None,\n",
       " 'TeamID': 1610612737,\n",
       " 'Outcome': None,\n",
       " 'Location': None,\n",
       " 'Month': 0,\n",
       " 'SeasonSegment': None,\n",
       " 'DateFrom': None,\n",
       " 'DateTo': None,\n",
       " 'OpponentTeamID': 0,\n",
       " 'VsConference': None,\n",
       " 'VsDivision': None,\n",
       " 'GameSegment': None,\n",
       " 'Period': 0,\n",
       " 'ShotClockRange': None,\n",
       " 'LastNGames': 0}"
      ]
     },
     "execution_count": 55,
     "metadata": {},
     "output_type": "execute_result"
    }
   ],
   "source": [
    "one_team['parameters']"
   ]
  },
  {
   "cell_type": "code",
   "execution_count": 56,
   "metadata": {},
   "outputs": [
    {
     "data": {
      "text/plain": [
       "list"
      ]
     },
     "execution_count": 56,
     "metadata": {},
     "output_type": "execute_result"
    }
   ],
   "source": [
    "type(one_team['resultSets'])"
   ]
  },
  {
   "cell_type": "code",
   "execution_count": 57,
   "metadata": {},
   "outputs": [
    {
     "data": {
      "text/plain": [
       "2"
      ]
     },
     "execution_count": 57,
     "metadata": {},
     "output_type": "execute_result"
    }
   ],
   "source": [
    "len(one_team['resultSets'])"
   ]
  },
  {
   "cell_type": "code",
   "execution_count": 58,
   "metadata": {},
   "outputs": [
    {
     "name": "stdout",
     "output_type": "stream",
     "text": [
      "<class 'dict'>\n",
      "<class 'dict'>\n"
     ]
    }
   ],
   "source": [
    "for i in one_team['resultSets']:\n",
    "    print(type(i))"
   ]
  },
  {
   "cell_type": "code",
   "execution_count": 59,
   "metadata": {},
   "outputs": [
    {
     "name": "stdout",
     "output_type": "stream",
     "text": [
      "name, <class 'str'>, TeamOverall\n",
      "headers, <class 'list'>, ['GROUP_SET', 'TEAM_ID', 'TEAM_NAME', 'GROUP_VALUE', 'GP', 'W', 'L', 'W_PCT', 'MIN', 'FGM', 'FGA', 'FG_PCT', 'FG3M', 'FG3A', 'FG3_PCT', 'FTM', 'FTA', 'FT_PCT', 'OREB', 'DREB', 'REB', 'AST', 'TOV', 'STL', 'BLK', 'BLKA', 'PF', 'PFD', 'PTS', 'PLUS_MINUS', 'GP_RANK', 'W_RANK', 'L_RANK', 'W_PCT_RANK', 'MIN_RANK', 'FGM_RANK', 'FGA_RANK', 'FG_PCT_RANK', 'FG3M_RANK', 'FG3A_RANK', 'FG3_PCT_RANK', 'FTM_RANK', 'FTA_RANK', 'FT_PCT_RANK', 'OREB_RANK', 'DREB_RANK', 'REB_RANK', 'AST_RANK', 'TOV_RANK', 'STL_RANK', 'BLK_RANK', 'BLKA_RANK', 'PF_RANK', 'PFD_RANK', 'PTS_RANK', 'PLUS_MINUS_RANK']\n",
      "rowSet, <class 'list'>, [['Overall', 1610612737, 'Atlanta Hawks', '2018-19', 82, 29, 53, 0.354, 3971.0, 3392, 7524, 0.451, 1067, 3034, 0.352, 1443, 1918, 0.752, 955, 2825, 3780, 2118, 1397.0, 675, 419, 448, 1932, 1817, 9294, -494.0, 1, 1, 1, 1, 1, 1, 1, 1, 1, 1, 1, 1, 1, 1, 1, 1, 1, 1, 1, 1, 1, 1, 1, 1, 1, 1]]\n",
      "name, <class 'str'>, PlayersSeasonTotals\n",
      "headers, <class 'list'>, ['GROUP_SET', 'PLAYER_ID', 'PLAYER_NAME', 'GP', 'W', 'L', 'W_PCT', 'MIN', 'FGM', 'FGA', 'FG_PCT', 'FG3M', 'FG3A', 'FG3_PCT', 'FTM', 'FTA', 'FT_PCT', 'OREB', 'DREB', 'REB', 'AST', 'TOV', 'STL', 'BLK', 'BLKA', 'PF', 'PFD', 'PTS', 'PLUS_MINUS', 'NBA_FANTASY_PTS', 'DD2', 'TD3', 'GP_RANK', 'W_RANK', 'L_RANK', 'W_PCT_RANK', 'MIN_RANK', 'FGM_RANK', 'FGA_RANK', 'FG_PCT_RANK', 'FG3M_RANK', 'FG3A_RANK', 'FG3_PCT_RANK', 'FTM_RANK', 'FTA_RANK', 'FT_PCT_RANK', 'OREB_RANK', 'DREB_RANK', 'REB_RANK', 'AST_RANK', 'TOV_RANK', 'STL_RANK', 'BLK_RANK', 'BLKA_RANK', 'PF_RANK', 'PFD_RANK', 'PTS_RANK', 'PLUS_MINUS_RANK', 'NBA_FANTASY_PTS_RANK', 'DD2_RANK', 'TD3_RANK']\n",
      "rowSet, <class 'list'>, [['Players', 203458, 'Alex Len', 77, 28, 49, 0.364, 1544.075, 320, 648, 0.494, 74, 204, 0.363, 140, 216, 0.648, 158, 266, 424, 86, 97, 27, 69, 45, 200, 157, 854, -163, 1682.8, 9, 0, 3, 3, 19, 7, 8, 3, 5, 6, 7, 7, 8, 4, 3, 13, 2, 4, 3, 10, 8, 9, 2, 19, 21, 4, 3, 15, 5, 4, 2], ['Players', 1627816, 'Alex Poythress', 21, 7, 14, 0.333, 304.9, 40, 81, 0.494, 9, 23, 0.391, 18, 29, 0.621, 29, 47, 76, 17, 13, 4, 10, 7, 47, 28, 107, -75, 252.7, 0, 0, 15, 14, 7, 14, 14, 13, 15, 6, 15, 15, 3, 13, 14, 15, 10, 14, 13, 15, 15, 17, 12, 8, 10, 12, 14, 10, 14, 10, 2], ['Players', 1629168, 'BJ Johnson', 6, 2, 4, 0.333, 43.3, 8, 16, 0.5, 3, 6, 0.5, 2, 2, 1.0, 2, 6, 8, 0, 2, 2, 0, 2, 3, 2, 21, -14, 34.6, 0, 0, 19, 18, 3, 14, 20, 19, 20, 5, 17, 18, 2, 19, 19, 1, 20, 20, 20, 20, 19, 19, 19, 4, 2, 20, 19, 4, 19, 10, 2], ['Players', 1627772, 'Daniel Hamilton', 19, 7, 12, 0.368, 204.17166666666665, 23, 60, 0.383, 8, 23, 0.348, 3, 6, 0.5, 10, 37, 47, 22, 16, 6, 1, 5, 19, 11, 57, -26, 151.4, 0, 0, 16, 14, 6, 6, 16, 17, 16, 18, 16, 15, 10, 18, 18, 19, 16, 15, 15, 14, 14, 15, 17, 7, 7, 17, 17, 7, 17, 10, 2], ['Players', 1627761, \"DeAndre' Bembry\", 82, 29, 53, 0.354, 1931.28, 275, 616, 0.446, 50, 173, 0.289, 87, 136, 0.64, 54, 304, 358, 202, 142, 105, 41, 45, 190, 133, 687, -229, 1715.6, 3, 0, 1, 1, 22, 12, 3, 5, 6, 10, 9, 8, 17, 8, 6, 14, 7, 3, 4, 3, 2, 1, 4, 19, 19, 6, 8, 19, 4, 6, 2], ['Players', 203473, 'Dewayne Dedmon', 64, 24, 40, 0.375, 1609.2066666666667, 259, 526, 0.492, 83, 217, 0.382, 92, 113, 0.814, 105, 375, 480, 90, 84, 69, 71, 25, 214, 100, 693, -173, 1740.0, 11, 0, 7, 6, 16, 5, 6, 8, 8, 8, 6, 6, 7, 7, 8, 5, 3, 2, 2, 8, 9, 4, 1, 16, 22, 8, 7, 16, 3, 3, 2], ['Players', 1627738, 'Deyonta Davis', 9, 3, 6, 0.333, 118.435, 15, 22, 0.682, 0, 1, 0.0, 6, 10, 0.6, 10, 26, 36, 5, 3, 3, 5, 0, 12, 6, 36, -22, 107.7, 0, 0, 18, 16, 5, 14, 18, 18, 18, 2, 20, 19, 20, 17, 16, 17, 16, 17, 18, 18, 18, 18, 14, 1, 5, 18, 18, 5, 18, 10, 2], ['Players', 1629353, 'Isaac Humphries', 5, 1, 4, 0.2, 56.43333333333333, 6, 21, 0.286, 3, 11, 0.273, 0, 0, 0.0, 4, 7, 11, 0, 0, 1, 0, 4, 7, 3, 15, -22, 31.2, 0, 0, 20, 19, 3, 20, 19, 20, 19, 21, 17, 17, 18, 20, 20, 20, 19, 19, 19, 20, 20, 20, 19, 6, 4, 19, 20, 5, 20, 10, 2], ['Players', 1629121, 'Jaylen Adams', 34, 13, 21, 0.382, 427.5883333333333, 38, 110, 0.345, 25, 74, 0.338, 7, 9, 0.778, 11, 49, 60, 65, 28, 14, 5, 7, 45, 13, 108, -57, 306.5, 0, 0, 13, 13, 9, 4, 13, 14, 13, 20, 12, 13, 12, 16, 17, 6, 15, 13, 14, 11, 12, 13, 14, 8, 9, 16, 13, 9, 13, 10, 2], ['Players', 202391, 'Jeremy Lin', 51, 16, 35, 0.314, 1002.865, 180, 386, 0.466, 44, 132, 0.333, 142, 168, 0.845, 16, 103, 119, 181, 98, 38, 7, 24, 96, 187, 546, -111, 997.3, 1, 0, 10, 11, 13, 19, 10, 10, 10, 9, 10, 10, 13, 3, 5, 2, 13, 11, 11, 4, 7, 8, 13, 15, 13, 3, 10, 13, 10, 7, 2], ['Players', 1628381, 'John Collins', 61, 24, 37, 0.393, 1828.4016666666666, 465, 831, 0.56, 55, 158, 0.348, 203, 266, 0.763, 219, 376, 595, 121, 120, 22, 39, 65, 199, 230, 1188, -76, 2146.5, 32, 0, 8, 6, 15, 3, 4, 2, 2, 4, 8, 9, 9, 2, 2, 7, 1, 1, 1, 6, 4, 11, 5, 21, 20, 2, 2, 11, 2, 1, 2], ['Players', 1626296, 'Jordan Sibert', 1, 1, 0, 1.0, 4.233333333333333, 1, 1, 1.0, 1, 1, 1.0, 0, 0, 0.0, 0, 0, 0, 0, 0, 0, 0, 0, 0, 0, 3, -5, 3.0, 0, 0, 22, 19, 1, 1, 22, 21, 22, 1, 19, 19, 1, 20, 20, 20, 22, 22, 22, 20, 20, 21, 19, 1, 1, 22, 21, 2, 22, 10, 2], ['Players', 1626147, 'Justin Anderson', 48, 17, 31, 0.354, 463.505, 64, 157, 0.408, 24, 77, 0.312, 26, 35, 0.743, 24, 60, 84, 23, 23, 22, 13, 9, 48, 28, 178, -79, 395.3, 1, 0, 11, 10, 11, 11, 12, 12, 12, 15, 13, 12, 16, 12, 12, 8, 11, 12, 12, 13, 13, 11, 11, 11, 11, 12, 12, 12, 12, 7, 2], ['Players', 203145, 'Kent Bazemore', 67, 24, 43, 0.358, 1643.4133333333334, 278, 691, 0.402, 96, 300, 0.32, 127, 175, 0.726, 37, 224, 261, 152, 121, 89, 42, 34, 170, 149, 779, -297, 1592.2, 0, 0, 6, 6, 17, 9, 5, 4, 3, 16, 5, 5, 15, 5, 4, 10, 8, 6, 6, 5, 3, 2, 3, 18, 18, 5, 4, 21, 6, 10, 2], ['Players', 1628989, 'Kevin Huerter', 75, 27, 48, 0.36, 2048.53, 275, 657, 0.419, 136, 353, 0.385, 41, 56, 0.732, 60, 185, 245, 214, 109, 65, 25, 29, 155, 59, 727, -119, 1503.0, 1, 0, 5, 4, 18, 8, 2, 5, 4, 13, 2, 2, 6, 10, 10, 9, 6, 7, 7, 2, 5, 5, 7, 17, 17, 10, 6, 14, 7, 7, 2], ['Players', 203101, 'Miles Plumlee', 18, 1, 17, 0.056, 172.92166666666665, 32, 48, 0.667, 0, 0, 0.0, 16, 30, 0.533, 16, 23, 39, 17, 10, 6, 4, 3, 14, 23, 80, -43, 172.3, 0, 0, 17, 19, 8, 22, 17, 15, 17, 3, 20, 22, 20, 14, 13, 18, 13, 18, 17, 15, 16, 15, 16, 5, 6, 14, 16, 8, 16, 10, 2], ['Players', 1629016, 'Omari Spellman', 46, 15, 31, 0.326, 804.5416666666666, 98, 244, 0.402, 44, 128, 0.344, 32, 45, 0.711, 72, 122, 194, 47, 31, 26, 25, 14, 67, 38, 272, -202, 697.3, 4, 0, 12, 12, 11, 18, 11, 11, 11, 17, 10, 11, 11, 11, 11, 12, 4, 10, 9, 12, 11, 10, 7, 13, 12, 11, 11, 18, 11, 5, 2], ['Players', 1627752, 'Taurean Prince', 55, 19, 36, 0.345, 1552.2916666666667, 262, 594, 0.441, 123, 315, 0.39, 95, 116, 0.819, 22, 177, 199, 118, 100, 53, 19, 15, 141, 114, 742, -243, 1273.8, 0, 0, 9, 9, 14, 13, 7, 7, 7, 11, 3, 4, 4, 6, 7, 4, 12, 8, 8, 7, 6, 6, 9, 14, 15, 7, 5, 20, 8, 10, 2], ['Players', 1629027, 'Trae Young', 81, 29, 52, 0.358, 2503.2816666666668, 525, 1256, 0.418, 156, 482, 0.324, 343, 414, 0.829, 64, 237, 301, 653, 308, 72, 15, 98, 140, 431, 1549, -335, 2842.7, 30, 1, 2, 1, 21, 10, 1, 1, 1, 14, 1, 1, 14, 1, 1, 3, 5, 5, 5, 1, 1, 3, 10, 22, 14, 1, 1, 22, 1, 2, 1], ['Players', 1628416, 'Tyler Dorsey', 27, 3, 24, 0.111, 250.61833333333334, 32, 89, 0.36, 10, 39, 0.256, 16, 26, 0.615, 9, 34, 43, 17, 10, 7, 1, 8, 20, 21, 90, 8, 181.1, 0, 0, 14, 16, 10, 21, 15, 15, 14, 19, 14, 14, 19, 14, 15, 16, 18, 16, 16, 15, 16, 14, 17, 10, 8, 15, 15, 1, 15, 10, 2], ['Players', 203092, 'Tyler Zeller', 2, 1, 1, 0.5, 10.65, 0, 2, 0.0, 0, 1, 0.0, 0, 0, 0.0, 2, 4, 6, 1, 0, 0, 0, 0, 4, 1, 0, -8, 8.7, 0, 0, 21, 19, 2, 2, 21, 22, 21, 22, 20, 19, 20, 20, 20, 20, 20, 21, 21, 19, 20, 21, 19, 1, 3, 21, 22, 3, 21, 10, 2], ['Players', 1713, 'Vince Carter', 76, 25, 51, 0.329, 1330.3566666666666, 196, 468, 0.419, 123, 316, 0.389, 47, 66, 0.712, 31, 163, 194, 87, 48, 44, 27, 9, 141, 83, 562, -179, 1090.3, 0, 0, 4, 5, 20, 17, 9, 9, 9, 12, 3, 3, 5, 9, 9, 11, 9, 9, 9, 9, 10, 7, 6, 11, 15, 9, 9, 17, 9, 10, 2]]\n"
     ]
    }
   ],
   "source": [
    "for i in one_team['resultSets']:\n",
    "    for k in i.keys():\n",
    "        print(f'{k}, {type(i[k])}, {i[k]}')"
   ]
  },
  {
   "cell_type": "code",
   "execution_count": 63,
   "metadata": {},
   "outputs": [
    {
     "data": {
      "text/plain": [
       "1"
      ]
     },
     "execution_count": 63,
     "metadata": {},
     "output_type": "execute_result"
    }
   ],
   "source": [
    "rel = ['PLAYER_ID']\n",
    "rel_idx = 0\n",
    "for idx, val in enumerate(one_team['resultSets'][1]['headers']):\n",
    "    if val in rel:\n",
    "        rel_idx = idx\n",
    "\n",
    "rel_idx"
   ]
  },
  {
   "cell_type": "code",
   "execution_count": 64,
   "metadata": {},
   "outputs": [
    {
     "data": {
      "text/plain": [
       "list"
      ]
     },
     "execution_count": 64,
     "metadata": {},
     "output_type": "execute_result"
    }
   ],
   "source": [
    "type(one_team['resultSets'][1]['rowSet'])"
   ]
  },
  {
   "cell_type": "code",
   "execution_count": 67,
   "metadata": {},
   "outputs": [
    {
     "data": {
      "text/plain": [
       "[203458,\n",
       " 1627816,\n",
       " 1629168,\n",
       " 1627772,\n",
       " 1627761,\n",
       " 203473,\n",
       " 1627738,\n",
       " 1629353,\n",
       " 1629121,\n",
       " 202391,\n",
       " 1628381,\n",
       " 1626296,\n",
       " 1626147,\n",
       " 203145,\n",
       " 1628989,\n",
       " 203101,\n",
       " 1629016,\n",
       " 1627752,\n",
       " 1629027,\n",
       " 1628416,\n",
       " 203092,\n",
       " 1713]"
      ]
     },
     "execution_count": 67,
     "metadata": {},
     "output_type": "execute_result"
    }
   ],
   "source": [
    "roster = []\n",
    "\n",
    "\n",
    "for row in one_team['resultSets'][1]['rowSet']:\n",
    "    roster.append(row[rel_idx])\n",
    "        \n",
    "roster"
   ]
  },
  {
   "cell_type": "markdown",
   "metadata": {},
   "source": [
    "Now that we know how to pull our rosters, we can iterate through unique team IDs and seasons to pull relevant data."
   ]
  },
  {
   "cell_type": "code",
   "execution_count": 68,
   "metadata": {},
   "outputs": [],
   "source": [
    "# Import proper modules from nba_api\n",
    "\n",
    "from nba_api.stats.static import players, teams"
   ]
  },
  {
   "cell_type": "code",
   "execution_count": 69,
   "metadata": {},
   "outputs": [
    {
     "data": {
      "text/plain": [
       "list"
      ]
     },
     "execution_count": 69,
     "metadata": {},
     "output_type": "execute_result"
    }
   ],
   "source": [
    "# generate unique team IDs\n",
    "\n",
    "teams = teams.get_teams()\n",
    "type(teams)\n"
   ]
  },
  {
   "cell_type": "code",
   "execution_count": 70,
   "metadata": {},
   "outputs": [
    {
     "data": {
      "text/plain": [
       "{'id': 1610612737,\n",
       " 'full_name': 'Atlanta Hawks',\n",
       " 'abbreviation': 'ATL',\n",
       " 'nickname': 'Hawks',\n",
       " 'city': 'Atlanta',\n",
       " 'state': 'Atlanta',\n",
       " 'year_founded': 1949}"
      ]
     },
     "execution_count": 70,
     "metadata": {},
     "output_type": "execute_result"
    }
   ],
   "source": [
    "teams[0]"
   ]
  },
  {
   "cell_type": "code",
   "execution_count": 71,
   "metadata": {},
   "outputs": [
    {
     "data": {
      "text/plain": [
       "array([1610612737, 1610612738, 1610612739, 1610612740, 1610612741,\n",
       "       1610612742, 1610612743, 1610612744, 1610612745, 1610612746,\n",
       "       1610612747, 1610612748, 1610612749, 1610612750, 1610612751,\n",
       "       1610612752, 1610612753, 1610612754, 1610612755, 1610612756,\n",
       "       1610612757, 1610612758, 1610612759, 1610612760, 1610612761,\n",
       "       1610612762, 1610612763, 1610612764, 1610612765, 1610612766])"
      ]
     },
     "execution_count": 71,
     "metadata": {},
     "output_type": "execute_result"
    }
   ],
   "source": [
    "team_id = []\n",
    "for i in teams:\n",
    "    team_id.append(i['id'])\n",
    "\n",
    "team_id = np.unique(team_id)\n",
    "\n",
    "team_id"
   ]
  },
  {
   "cell_type": "code",
   "execution_count": 72,
   "metadata": {},
   "outputs": [],
   "source": [
    "# generate all season values for TeamPlayerDashboard() instantiation.\n",
    "\n",
    "def get_seasons(fall_start,spring_end):\n",
    "    \n",
    "    \"\"\"PARAMETERS:\n",
    "    fall_start: int - The year corresponding to the start of a season (fall)\n",
    "    spring_end: int - The year corresponding to the end of a season(spring)\n",
    "    \n",
    "    RETURNS:\n",
    "    List containg all seasons from which to pull data\"\"\"\n",
    "    \n",
    "    lst = []\n",
    "    for i in range(fall_start,spring_end):\n",
    "        if (i+1)%100 > 9:\n",
    "            season = f'{i}-{(i+1)%100}'\n",
    "            lst.append(season)\n",
    "        else:\n",
    "            season = f'{i}-0{(i+1)%100}'\n",
    "            lst.append(season)\n",
    "    return lst"
   ]
  },
  {
   "cell_type": "code",
   "execution_count": 73,
   "metadata": {},
   "outputs": [],
   "source": [
    "seasons = get_seasons(1998,2019)"
   ]
  },
  {
   "cell_type": "markdown",
   "metadata": {},
   "source": [
    "Connecting to MongoDb and uploading"
   ]
  },
  {
   "cell_type": "code",
   "execution_count": 88,
   "metadata": {},
   "outputs": [],
   "source": [
    "client = MongoClient('localhost', 27017)\n",
    "db_nba = client['nba']\n",
    "\n",
    "stats = db_nba['team_rosters']"
   ]
  },
  {
   "cell_type": "code",
   "execution_count": 91,
   "metadata": {},
   "outputs": [],
   "source": [
    "def scrape_roster(seasons,teams):\n",
    "    \"\"\"PARAMETERS:\n",
    "    \n",
    "    seasons - (list) a list of the seasons relevant to your inquiry\n",
    "    teams - (list) a list of unique team IDs for which you want to pull rosters\n",
    "    \n",
    "    \n",
    "    RETURNS:\n",
    "    None\n",
    "    - Uploads team rosters by year to a Mongo database\n",
    "    \"\"\"\n",
    "    \n",
    "    for s in seasons:\n",
    "        \n",
    "        for t in teams:\n",
    "            one_team = TeamPlayerDashboard(team_id = t, season = s)\n",
    "            one_team = one_team.get_dict()\n",
    "        \n",
    "            d_team = dict()\n",
    "            d_team['team'] = t\n",
    "            d_team['season'] = s\n",
    "            \n",
    "            roster = []\n",
    "            for row in one_team['resultSets'][1]['rowSet']:\n",
    "                roster.append(row[rel_idx])\n",
    "            \n",
    "            d_team['roster'] = roster\n",
    "            \n",
    "#             print(d_team)\n",
    "            #Upload to Mongo\n",
    "            stats.insert_one(d_team)\n",
    "                \n",
    "        time.sleep(np.random.randint(5,8))\n",
    "    \n",
    "    return None"
   ]
  },
  {
   "cell_type": "code",
   "execution_count": 92,
   "metadata": {},
   "outputs": [
    {
     "name": "stdout",
     "output_type": "stream",
     "text": [
      "{'team': 1610612737, 'season': '1998-99', 'roster': [673, 1533, 1544, 87, 1516, 3, 1852, 111, 770, 302, 1728, 1742, 120, 895]}\n",
      "{'team': 1610612738, 'season': '1998-99', 'roster': [692, 952, 1477, 1800, 344, 368, 35, 65, 72, 1831, 1718, 461, 1500, 1499, 958, 962]}\n",
      "{'team': 1610612739, 'season': '1998-99', 'roster': [692, 226, 682, 1510, 1538, 916, 198, 1507, 1863, 271, 1036, 348, 1756, 431, 958, 445, 980]}\n",
      "{'team': 1610612740, 'season': '1998-99', 'roster': []}\n",
      "{'team': 1610612741, 'season': '1998-99', 'roster': [457, 82, 699, 1869, 1736, 1757, 54, 1522, 1600, 712, 95, 753, 166, 1601, 389]}\n",
      "{'team': 1610612742, 'season': '1998-99', 'roster': [920, 1743, 76, 1512, 1717, 1065, 718, 73, 93, 714, 123, 955, 762, 959]}\n",
      "{'team': 1610612743, 'season': '1998-99', 'roster': [686, 179, 61, 1497, 724, 1504, 1540, 677, 1511, 1820, 1721, 684, 42, 89, 1711, 1755]}\n",
      "{'team': 1610612744, 'season': '1998-99', 'roster': [1502, 1712, 902, 168, 923, 273, 956, 280, 679, 317, 177, 187, 960]}\n",
      "{'team': 1610612745, 'season': '1998-99', 'roster': [292, 156, 85, 1724, 787, 1749, 698, 165, 672, 1074, 1722, 970, 1518, 694, 937, 914]}\n",
      "{'team': 1610612746, 'season': '1998-99', 'roster': [1730, 1520, 239, 15, 381, 1569, 441, 953, 1508, 1709, 71, 915, 428, 1037, 1607, 1838]}\n",
      "{'team': 1610612747, 'season': '1998-99', 'roster': [916, 23, 965, 157, 224, 922, 779, 462, 977, 296, 109, 1739, 1734, 399, 406, 969, 1731]}\n",
      "{'team': 1610612748, 'season': '1998-99', 'roster': [297, 898, 221, 105, 190, 469, 320, 173, 707, 1110, 55, 136, 777, 371, 345, 896, 702]}\n",
      "{'team': 1610612749, 'season': '1998-99', 'roster': [1817, 288, 423, 209, 386, 911, 299, 906, 994, 1532, 688, 1514, 951, 1714, 208, 281, 210, 1501, 238, 219]}\n",
      "{'team': 1610612750, 'season': '1998-99', 'roster': [1754, 324, 223, 1517, 967, 713, 1051, 192, 381, 693, 708, 907, 1514, 1725, 674, 417, 950, 210, 67, 1868]}\n",
      "{'team': 1610612751, 'season': '1998-99', 'roster': [967, 713, 423, 1800, 710, 77, 1863, 386, 785, 49, 994, 420, 29, 1496, 383, 954, 446, 971, 938, 208, 197, 950, 1061]}\n",
      "{'team': 1610612752, 'season': '1998-99', 'roster': [275, 989, 369, 164, 201, 766, 192, 1006, 703, 913, 84, 948, 121, 1594]}\n",
      "{'team': 1610612753, 'season': '1998-99', 'roster': [358, 769, 448, 7, 353, 400, 1122, 77, 786, 270, 1134, 1801, 1563, 1723, 1720, 1750, 98]}\n",
      "{'team': 1610612754, 'season': '1998-99', 'roster': [1733, 213, 1506, 904, 905, 365, 697, 147, 349, 998, 397, 22, 64, 696]}\n",
      "{'team': 1610612755, 'season': '1998-99', 'roster': [243, 947, 1515, 104, 1745, 77, 727, 248, 265, 1532, 1716, 761, 1737, 328, 281, 689, 1501, 238]}\n",
      "{'team': 1610612756, 'season': '1998-99', 'roster': [1591, 356, 361, 330, 45, 1871, 467, 1429, 170, 26, 1527, 1727, 988, 364, 704, 1753, 339]}\n",
      "{'team': 1610612757, 'season': '1998-99', 'roster': [717, 1719, 258, 216, 435, 757, 202, 21, 375, 979, 754, 180, 1509, 739, 278, 1005]}\n",
      "{'team': 1610612758, 'season': '1998-99', 'roster': [185, 722, 1715, 1744, 468, 1563, 1444, 1138, 932, 978, 1824, 1513, 1505, 143, 137, 124]}\n",
      "{'team': 1610612759, 'season': '1998-99', 'roster': [1845, 1498, 422, 1585, 764, 1562, 1114, 760, 990, 53, 251, 70, 1495, 781]}\n",
      "{'team': 1610612760, 'season': '1998-99', 'roster': [1425, 182, 107, 96, 931, 1003, 56, 765, 1526, 1741, 180, 983, 178, 1740, 452, 1735]}\n",
      "{'team': 1610612761, 'season': '1998-99', 'roster': [1541, 891, 244, 57, 1519, 961, 788, 1858, 1565, 52, 1861, 1073, 1752, 1503, 1713, 1061]}\n",
      "{'team': 1610612762, 'season': '1998-99', 'roster': [228, 138, 935, 12, 323, 731, 458, 1521, 204, 304, 252, 1000, 1847, 957]}\n",
      "{'team': 1610612763, 'season': '1998-99', 'roster': [735, 61, 685, 1545, 28, 1732, 1764, 987, 195, 1823, 63, 1710, 432, 1518, 694, 949, 143, 763]}\n",
      "{'team': 1610612764, 'season': '1998-99', 'roster': [1112, 384, 43, 1564, 1751, 976, 715, 436, 782, 901, 1872, 393, 426, 100, 145]}\n",
      "{'team': 1610612765, 'season': '1998-99', 'roster': [183, 1525, 363, 1133, 690, 376, 255, 966, 711, 247, 146, 234, 1748, 283, 919, 1855, 1630, 1667]}\n",
      "{'team': 1610612766, 'season': '1998-99', 'roster': [769, 184, 1802, 1593, 456, 359, 1133, 133, 934, 224, 922, 695, 462, 341, 1729, 1576, 416]}\n",
      "{'team': 1610612737, 'season': '1999-00', 'roster': [673, 1533, 902, 1898, 1544, 87, 1901, 1003, 375, 1891, 754, 111, 953, 1728]}\n",
      "{'team': 1610612738, 'season': '1999-00', 'roster': [1559, 952, 384, 344, 1504, 77, 677, 1975, 72, 1718, 442, 1499, 958, 962, 1943]}\n",
      "{'team': 1610612739, 'season': '1999-00', 'roster': [1920, 1889, 692, 104, 682, 1510, 1538, 198, 681, 1863, 1600, 441, 1930, 95, 971, 432, 1756, 431, 1892, 445]}\n",
      "{'team': 1610612740, 'season': '1999-00', 'roster': []}\n",
      "{'team': 1610612741, 'season': '1999-00', 'roster': [769, 1512, 713, 1736, 2000, 54, 1882, 697, 765, 317, 234, 1600, 1930, 1074, 1897, 1913, 753, 1601, 389, 781]}\n",
      "{'team': 1610612742, 'season': '1999-00', 'roster': [1743, 76, 1800, 23, 1717, 1065, 718, 1761, 93, 714, 1872, 1965, 123, 1518, 399, 762, 959]}\n",
      "{'team': 1610612743, 'season': '1999-00', 'roster': [686, 179, 1497, 423, 1914, 724, 45, 1899, 1511, 1721, 89, 461, 1711, 1500, 964, 1763, 1505]}\n",
      "{'team': 1610612744, 'season': '1999-00', 'roster': [1502, 1712, 223, 182, 713, 168, 1800, 923, 1003, 956, 1975, 679, 317, 1716, 707, 302, 1734, 694, 187, 100, 1937, 1108, 1907]}\n",
      "{'team': 1610612745, 'season': '1999-00', 'roster': [292, 223, 1724, 435, 787, 1749, 1070, 165, 1509, 1903, 672, 983, 1000, 1883, 676, 763, 1005]}\n",
      "{'team': 1610612746, 'season': '1999-00', 'roster': [138, 1730, 1869, 1507, 785, 15, 1564, 976, 1569, 1885, 712, 55, 1508, 1709, 432, 1607, 1838]}\n",
      "{'team': 1610612747, 'season': '1999-00', 'roster': [920, 216, 965, 1904, 779, 1911, 927, 977, 296, 109, 166, 1734, 406, 969, 1731]}\n",
      "{'team': 1610612748, 'season': '1999-00', 'roster': [297, 1853, 1477, 221, 105, 190, 1942, 469, 1110, 901, 136, 777, 1934, 896, 1906, 702]}\n",
      "{'team': 1610612749, 'season': '1999-00', 'roster': [107, 330, 1032, 911, 299, 906, 462, 1726, 1747, 951, 1714, 208, 281, 1501, 219]}\n",
      "{'team': 1610612750, 'season': '1999-00', 'roster': [1754, 324, 1517, 1051, 693, 708, 907, 1725, 417, 210, 67, 1887, 1895]}\n",
      "{'team': 1610612751, 'season': '1999-00', 'roster': [386, 1915, 49, 994, 29, 271, 1496, 383, 954, 446, 971, 262, 197, 428, 950]}\n",
      "{'team': 1610612752, 'season': '1999-00', 'roster': [275, 457, 369, 164, 201, 766, 1746, 1564, 961, 703, 913, 84, 948, 1726, 121, 1594]}\n",
      "{'team': 1610612753, 'season': '1999-00', 'roster': [1533, 1515, 1112, 448, 423, 1088, 1894, 353, 400, 1863, 680, 1511, 1619, 1723, 1720, 42, 1727, 1500, 1505]}\n",
      "{'team': 1610612754, 'season': '1999-00', 'roster': [1733, 1506, 904, 905, 365, 147, 1902, 1886, 349, 397, 22, 64, 696, 440]}\n",
      "{'team': 1610612755, 'season': '1999-00', 'roster': [243, 947, 226, 182, 1477, 727, 248, 1085, 1908, 1563, 1716, 761, 1737, 914, 689, 1928, 389, 238]}\n",
      "{'team': 1610612756, 'season': '1999-00', 'roster': [358, 989, 361, 916, 931, 467, 134, 26, 770, 932, 988, 364, 915, 1890, 1753, 103, 339]}\n",
      "{'team': 1610612757, 'season': '1999-00', 'roster': [176, 717, 1719, 258, 757, 96, 202, 21, 979, 170, 739, 937, 278, 120]}\n",
      "{'team': 1610612758, 'season': '1999-00', 'roster': [82, 185, 722, 239, 1715, 468, 1444, 98, 978, 1926, 1513, 960, 895, 124]}\n",
      "{'team': 1610612759, 'season': '1999-00', 'roster': [1498, 422, 359, 764, 1760, 280, 1114, 760, 990, 53, 955, 251, 70, 345, 1495]}\n",
      "{'team': 1610612760, 'season': '1999-00', 'roster': [699, 456, 1023, 1844, 56, 323, 270, 1741, 1953, 1740, 1739, 1742, 137, 452, 1735]}\n",
      "{'team': 1610612761, 'season': '1999-00', 'roster': [1893, 1541, 213, 226, 891, 244, 209, 57, 906, 1519, 788, 1565, 177, 1752, 1503, 1713]}\n",
      "{'team': 1610612762, 'season': '1999-00', 'roster': [228, 288, 935, 731, 458, 1521, 204, 304, 252, 178, 432, 1900, 1909]}\n",
      "{'team': 1610612763, 'season': '1999-00', 'roster': [156, 85, 735, 685, 192, 28, 1732, 3, 1086, 1722, 1710, 1960, 1918, 970, 949]}\n",
      "{'team': 1610612764, 'season': '1999-00', 'roster': [1425, 1916, 43, 690, 1562, 1134, 1751, 436, 1919, 31, 63, 782, 674, 1888, 393, 145]}\n",
      "{'team': 1610612765, 'season': '1999-00', 'roster': [363, 690, 376, 255, 1983, 966, 711, 180, 146, 283, 919, 992, 688, 1630, 371]}\n",
      "{'team': 1610612766, 'season': '1999-00', 'roster': [193, 1884, 184, 1802, 359, 107, 133, 1967, 934, 224, 1944, 922, 695, 1954, 1138, 1729, 957]}\n"
     ]
    },
    {
     "ename": "KeyboardInterrupt",
     "evalue": "",
     "output_type": "error",
     "traceback": [
      "\u001b[0;31m---------------------------------------------------------------------------\u001b[0m",
      "\u001b[0;31mKeyboardInterrupt\u001b[0m                         Traceback (most recent call last)",
      "\u001b[0;32m<ipython-input-92-b0ea4ac52769>\u001b[0m in \u001b[0;36m<module>\u001b[0;34m\u001b[0m\n\u001b[0;32m----> 1\u001b[0;31m \u001b[0mscrape_roster\u001b[0m\u001b[0;34m(\u001b[0m\u001b[0mseasons\u001b[0m\u001b[0;34m,\u001b[0m \u001b[0mteam_id\u001b[0m\u001b[0;34m)\u001b[0m\u001b[0;34m\u001b[0m\u001b[0;34m\u001b[0m\u001b[0m\n\u001b[0m",
      "\u001b[0;32m<ipython-input-91-e3e5f10dff47>\u001b[0m in \u001b[0;36mscrape_roster\u001b[0;34m(seasons, teams)\u001b[0m\n\u001b[1;32m     31\u001b[0m \u001b[0;31m#             stats.insert_one(d_team)\u001b[0m\u001b[0;34m\u001b[0m\u001b[0;34m\u001b[0m\u001b[0;34m\u001b[0m\u001b[0m\n\u001b[1;32m     32\u001b[0m \u001b[0;34m\u001b[0m\u001b[0m\n\u001b[0;32m---> 33\u001b[0;31m         \u001b[0mtime\u001b[0m\u001b[0;34m.\u001b[0m\u001b[0msleep\u001b[0m\u001b[0;34m(\u001b[0m\u001b[0;36m5\u001b[0m\u001b[0;34m)\u001b[0m\u001b[0;34m\u001b[0m\u001b[0;34m\u001b[0m\u001b[0m\n\u001b[0m\u001b[1;32m     34\u001b[0m \u001b[0;34m\u001b[0m\u001b[0m\n\u001b[1;32m     35\u001b[0m     \u001b[0;32mreturn\u001b[0m \u001b[0;32mNone\u001b[0m\u001b[0;34m\u001b[0m\u001b[0;34m\u001b[0m\u001b[0m\n",
      "\u001b[0;31mKeyboardInterrupt\u001b[0m: "
     ]
    }
   ],
   "source": [
    "scrape_roster(seasons, team_id)"
   ]
  },
  {
   "cell_type": "code",
   "execution_count": null,
   "metadata": {},
   "outputs": [],
   "source": []
  }
 ],
 "metadata": {
  "kernelspec": {
   "display_name": "Python 3",
   "language": "python",
   "name": "python3"
  },
  "language_info": {
   "codemirror_mode": {
    "name": "ipython",
    "version": 3
   },
   "file_extension": ".py",
   "mimetype": "text/x-python",
   "name": "python",
   "nbconvert_exporter": "python",
   "pygments_lexer": "ipython3",
   "version": "3.7.6"
  }
 },
 "nbformat": 4,
 "nbformat_minor": 4
}
