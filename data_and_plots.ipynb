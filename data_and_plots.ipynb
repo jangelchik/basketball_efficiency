{
 "cells": [
  {
   "cell_type": "code",
   "execution_count": 1,
   "metadata": {},
   "outputs": [],
   "source": [
    "import pymongo\n",
    "import pandas as pd\n",
    "from pymongo import MongoClient\n",
    "\n",
    "\n",
    "import numpy as np\n",
    "import pandas as pd\n",
    "import scipy.stats as stats\n",
    "\n",
    "import matplotlib.pyplot as plt\n",
    "%matplotlib inline\n",
    "\n",
    "plt.style.use('ggplot')"
   ]
  },
  {
   "cell_type": "markdown",
   "metadata": {},
   "source": [
    "## For analysis, we'll begin by importing all of our data from MongoDb"
   ]
  },
  {
   "cell_type": "code",
   "execution_count": 2,
   "metadata": {},
   "outputs": [],
   "source": [
    "client = MongoClient()\n",
    "db_nba= client.nba\n",
    "\n",
    "\n",
    "collection_p = db_nba.player_stats\n",
    "df_nba = pd.DataFrame(list(collection_p.find()))\n",
    "\n",
    "collection_t = db_nba.team_stats\n",
    "df_team = pd.DataFrame(list(collection_t.find()))\n",
    "\n",
    "collection_r = db_nba.team_rosters\n",
    "df_r = pd.DataFrame(list(collection_r.find()))"
   ]
  },
  {
   "cell_type": "markdown",
   "metadata": {},
   "source": [
    "Let's take a high-level look at our player stats dataframe."
   ]
  },
  {
   "cell_type": "code",
   "execution_count": 3,
   "metadata": {},
   "outputs": [
    {
     "name": "stdout",
     "output_type": "stream",
     "text": [
      "<class 'pandas.core.frame.DataFrame'>\n",
      "RangeIndex: 11502 entries, 0 to 11501\n",
      "Data columns (total 29 columns):\n",
      " #   Column             Non-Null Count  Dtype  \n",
      "---  ------             --------------  -----  \n",
      " 0   _id                11502 non-null  object \n",
      " 1   Player_ID          11502 non-null  int64  \n",
      " 2   GROUP_VALUE        11502 non-null  object \n",
      " 3   TEAM_ID            11502 non-null  int64  \n",
      " 4   TEAM_ABBREVIATION  11502 non-null  object \n",
      " 5   GP                 11502 non-null  int64  \n",
      " 6   W                  11502 non-null  int64  \n",
      " 7   L                  11502 non-null  int64  \n",
      " 8   FGM                11502 non-null  int64  \n",
      " 9   FGA                11502 non-null  int64  \n",
      " 10  FG_PCT             11502 non-null  float64\n",
      " 11  FG3M               11502 non-null  int64  \n",
      " 12  FG3A               11502 non-null  int64  \n",
      " 13  FG3_PCT            11502 non-null  float64\n",
      " 14  FTM                11502 non-null  int64  \n",
      " 15  FTA                11502 non-null  int64  \n",
      " 16  FT_PCT             11502 non-null  float64\n",
      " 17  OREB               11502 non-null  int64  \n",
      " 18  DREB               11502 non-null  int64  \n",
      " 19  REB                11502 non-null  int64  \n",
      " 20  AST                11502 non-null  int64  \n",
      " 21  TOV                11502 non-null  int64  \n",
      " 22  STL                11502 non-null  int64  \n",
      " 23  BLK                11502 non-null  int64  \n",
      " 24  BLKA               11502 non-null  int64  \n",
      " 25  PF                 11502 non-null  int64  \n",
      " 26  PFD                11502 non-null  int64  \n",
      " 27  PTS                11502 non-null  int64  \n",
      " 28  PLUS_MINUS         11502 non-null  int64  \n",
      "dtypes: float64(3), int64(23), object(3)\n",
      "memory usage: 2.5+ MB\n"
     ]
    }
   ],
   "source": [
    "df_nba.info()"
   ]
  },
  {
   "cell_type": "markdown",
   "metadata": {},
   "source": [
    "## Looks like we can clean this up a bit. \n",
    "\n",
    "First, we don't need the '_id' column, as this is a Mongo convention to identify individual entries.\n",
    "Second, we can rename the 'GROUP_VALUE' column to 'season', based on our knowledge of that column in builder the scrapers.\n",
    "Lastly, let's convert all column names to lowercase for ease of indexing."
   ]
  },
  {
   "cell_type": "code",
   "execution_count": 4,
   "metadata": {},
   "outputs": [],
   "source": [
    "df_nba.drop(columns=['_id'], inplace = True)\n",
    "df_nba.rename(columns={'GROUP_VALUE':'season'}, inplace = True)"
   ]
  },
  {
   "cell_type": "code",
   "execution_count": 5,
   "metadata": {},
   "outputs": [
    {
     "data": {
      "text/plain": [
       "Index(['player_id', 'season', 'team_id', 'team_abbreviation', 'gp', 'w', 'l',\n",
       "       'fgm', 'fga', 'fg_pct', 'fg3m', 'fg3a', 'fg3_pct', 'ftm', 'fta',\n",
       "       'ft_pct', 'oreb', 'dreb', 'reb', 'ast', 'tov', 'stl', 'blk', 'blka',\n",
       "       'pf', 'pfd', 'pts', 'plus_minus'],\n",
       "      dtype='object')"
      ]
     },
     "execution_count": 5,
     "metadata": {},
     "output_type": "execute_result"
    }
   ],
   "source": [
    "d_lower = dict()\n",
    "for i in df_nba.columns:\n",
    "    d_lower[i] = i.lower()\n",
    "\n",
    "df_nba.rename(columns=d_lower, inplace = True)\n",
    "df_nba.columns"
   ]
  },
  {
   "cell_type": "code",
   "execution_count": 6,
   "metadata": {},
   "outputs": [],
   "source": [
    "# Check scraper progress\n",
    "\n",
    "max_id = np.max(df_nba['player_id'])"
   ]
  },
  {
   "cell_type": "code",
   "execution_count": 7,
   "metadata": {},
   "outputs": [
    {
     "data": {
      "text/html": [
       "<div>\n",
       "<style scoped>\n",
       "    .dataframe tbody tr th:only-of-type {\n",
       "        vertical-align: middle;\n",
       "    }\n",
       "\n",
       "    .dataframe tbody tr th {\n",
       "        vertical-align: top;\n",
       "    }\n",
       "\n",
       "    .dataframe thead th {\n",
       "        text-align: right;\n",
       "    }\n",
       "</style>\n",
       "<table border=\"1\" class=\"dataframe\">\n",
       "  <thead>\n",
       "    <tr style=\"text-align: right;\">\n",
       "      <th></th>\n",
       "      <th>player_id</th>\n",
       "      <th>season</th>\n",
       "      <th>team_id</th>\n",
       "      <th>team_abbreviation</th>\n",
       "      <th>gp</th>\n",
       "      <th>w</th>\n",
       "      <th>l</th>\n",
       "      <th>fgm</th>\n",
       "      <th>fga</th>\n",
       "      <th>fg_pct</th>\n",
       "      <th>...</th>\n",
       "      <th>reb</th>\n",
       "      <th>ast</th>\n",
       "      <th>tov</th>\n",
       "      <th>stl</th>\n",
       "      <th>blk</th>\n",
       "      <th>blka</th>\n",
       "      <th>pf</th>\n",
       "      <th>pfd</th>\n",
       "      <th>pts</th>\n",
       "      <th>plus_minus</th>\n",
       "    </tr>\n",
       "  </thead>\n",
       "  <tbody>\n",
       "    <tr>\n",
       "      <th>11501</th>\n",
       "      <td>203128</td>\n",
       "      <td>2014-15</td>\n",
       "      <td>1610612755</td>\n",
       "      <td>PHI</td>\n",
       "      <td>41</td>\n",
       "      <td>9</td>\n",
       "      <td>32</td>\n",
       "      <td>40</td>\n",
       "      <td>78</td>\n",
       "      <td>0.513</td>\n",
       "      <td>...</td>\n",
       "      <td>176</td>\n",
       "      <td>28</td>\n",
       "      <td>17</td>\n",
       "      <td>17</td>\n",
       "      <td>16</td>\n",
       "      <td>10</td>\n",
       "      <td>96</td>\n",
       "      <td>37</td>\n",
       "      <td>93</td>\n",
       "      <td>-102</td>\n",
       "    </tr>\n",
       "  </tbody>\n",
       "</table>\n",
       "<p>1 rows × 28 columns</p>\n",
       "</div>"
      ],
      "text/plain": [
       "       player_id   season     team_id team_abbreviation  gp  w   l  fgm  fga  \\\n",
       "11501     203128  2014-15  1610612755               PHI  41  9  32   40   78   \n",
       "\n",
       "       fg_pct  ...  reb  ast  tov  stl  blk  blka  pf  pfd  pts  plus_minus  \n",
       "11501   0.513  ...  176   28   17   17   16    10  96   37   93        -102  \n",
       "\n",
       "[1 rows x 28 columns]"
      ]
     },
     "execution_count": 7,
     "metadata": {},
     "output_type": "execute_result"
    }
   ],
   "source": [
    "df_nba.loc[df_nba['player_id']==max_id]"
   ]
  },
  {
   "cell_type": "markdown",
   "metadata": {},
   "source": [
    "The last bit of preliminary cleaning will be to get rid of all entries for the 2019-20 season, as the season was stalled, so we won't have any target values. We can do this via indexing."
   ]
  },
  {
   "cell_type": "code",
   "execution_count": 8,
   "metadata": {},
   "outputs": [],
   "source": [
    "df_nba.drop(df_nba[df_nba['season'] == '2019-20'].index , inplace=True)"
   ]
  },
  {
   "cell_type": "code",
   "execution_count": 9,
   "metadata": {},
   "outputs": [
    {
     "data": {
      "text/html": [
       "<div>\n",
       "<style scoped>\n",
       "    .dataframe tbody tr th:only-of-type {\n",
       "        vertical-align: middle;\n",
       "    }\n",
       "\n",
       "    .dataframe tbody tr th {\n",
       "        vertical-align: top;\n",
       "    }\n",
       "\n",
       "    .dataframe thead th {\n",
       "        text-align: right;\n",
       "    }\n",
       "</style>\n",
       "<table border=\"1\" class=\"dataframe\">\n",
       "  <thead>\n",
       "    <tr style=\"text-align: right;\">\n",
       "      <th></th>\n",
       "      <th>player_id</th>\n",
       "      <th>season</th>\n",
       "      <th>team_id</th>\n",
       "      <th>team_abbreviation</th>\n",
       "      <th>gp</th>\n",
       "      <th>w</th>\n",
       "      <th>l</th>\n",
       "      <th>fgm</th>\n",
       "      <th>fga</th>\n",
       "      <th>fg_pct</th>\n",
       "      <th>...</th>\n",
       "      <th>reb</th>\n",
       "      <th>ast</th>\n",
       "      <th>tov</th>\n",
       "      <th>stl</th>\n",
       "      <th>blk</th>\n",
       "      <th>blka</th>\n",
       "      <th>pf</th>\n",
       "      <th>pfd</th>\n",
       "      <th>pts</th>\n",
       "      <th>plus_minus</th>\n",
       "    </tr>\n",
       "  </thead>\n",
       "  <tbody>\n",
       "    <tr>\n",
       "      <th>11417</th>\n",
       "      <td>203110</td>\n",
       "      <td>2015-16</td>\n",
       "      <td>1610612744</td>\n",
       "      <td>GSW</td>\n",
       "      <td>81</td>\n",
       "      <td>73</td>\n",
       "      <td>8</td>\n",
       "      <td>401</td>\n",
       "      <td>819</td>\n",
       "      <td>0.49</td>\n",
       "      <td>...</td>\n",
       "      <td>769</td>\n",
       "      <td>598</td>\n",
       "      <td>259</td>\n",
       "      <td>119</td>\n",
       "      <td>113</td>\n",
       "      <td>55</td>\n",
       "      <td>240</td>\n",
       "      <td>310</td>\n",
       "      <td>1131</td>\n",
       "      <td>1072</td>\n",
       "    </tr>\n",
       "  </tbody>\n",
       "</table>\n",
       "<p>1 rows × 28 columns</p>\n",
       "</div>"
      ],
      "text/plain": [
       "       player_id   season     team_id team_abbreviation  gp   w  l  fgm  fga  \\\n",
       "11417     203110  2015-16  1610612744               GSW  81  73  8  401  819   \n",
       "\n",
       "       fg_pct  ...  reb  ast  tov  stl  blk  blka   pf  pfd   pts  plus_minus  \n",
       "11417    0.49  ...  769  598  259  119  113    55  240  310  1131        1072  \n",
       "\n",
       "[1 rows x 28 columns]"
      ]
     },
     "execution_count": 9,
     "metadata": {},
     "output_type": "execute_result"
    }
   ],
   "source": [
    "max_pm = np.max(df_nba['plus_minus'])\n",
    "df_nba.loc[df_nba['plus_minus']== max_pm]"
   ]
  },
  {
   "cell_type": "markdown",
   "metadata": {},
   "source": [
    "# We first want to investigate the predictivity of regular season wins based on a team roster's individual efficiency ratings from the prior year. \n",
    "\n",
    "There are a handful of efficiency metrics that are worth invesitgating here:\n",
    "\n",
    "Martin Manley's Efficiency ('EFF') = ((Points + Rebounds + Assists + Steals + Blocks) - (Missed Field Goals + Missed Free Throws + Turnovers))/ Games Played\n",
    "\n",
    "European Performance Index Rating ('PIR') = ((Points + Rebounds + Assists + Steals + Blocks + Fouls Drawn) - (Missed Field Goals + Missed Free Throws + Turnovers + Shots Rejected + Fouls Committed))/ Games Played\n",
    "\n",
    "Plus-Minus Avg('+/-') = Seasonal plus-minus / Games Played : This describes the point differential for each game with a player on the floor without keeping track of more specific individual metrics. I.e., how does the score spread change when a player is in the game?\n",
    "\n",
    "Note: We will not be considering John Hollinger's Player Efficiency Rating ('PER'): It is the most frequently used alternative, however PER is derived by a very complex calculation designed to compensate for different teams' varying style of play, among other factors, and PER scores do not differ markedly from EFF scores.\n",
    "\n",
    "This study is more so interested in an individual player's efficiency being predictive of team success, regardless of coaching and playing styles. Furthermore, looking at these raw statistics will help inform to what extent a coach should seek to opitimize all individual player efficiencies, or spend a majority of their time tending to star players, or perhaps optimizing other metrics via playing style."
   ]
  },
  {
   "cell_type": "markdown",
   "metadata": {},
   "source": [
    "# Let's calculate EFF, PIR, and +/- for each player on a per season basis. Then we'll aggregate team rosters on a yearly basis, to eventually offset one season's stats to be fit to the following season's results."
   ]
  },
  {
   "cell_type": "code",
   "execution_count": 10,
   "metadata": {},
   "outputs": [
    {
     "data": {
      "text/plain": [
       "Index(['player_id', 'season', 'team_id', 'team_abbreviation', 'gp', 'w', 'l',\n",
       "       'fgm', 'fga', 'fg_pct', 'fg3m', 'fg3a', 'fg3_pct', 'ftm', 'fta',\n",
       "       'ft_pct', 'oreb', 'dreb', 'reb', 'ast', 'tov', 'stl', 'blk', 'blka',\n",
       "       'pf', 'pfd', 'pts', 'plus_minus'],\n",
       "      dtype='object')"
      ]
     },
     "execution_count": 10,
     "metadata": {},
     "output_type": "execute_result"
    }
   ],
   "source": [
    "df_nba.columns"
   ]
  },
  {
   "cell_type": "code",
   "execution_count": 11,
   "metadata": {},
   "outputs": [],
   "source": [
    "\"\"\"EFF = ((Points + Rebounds + Assists + Steals + Blocks) - Missed Field Goals - Missed Free Throws - Turnovers))/ Games Played\"\"\"\n",
    "\n",
    "df_nba['eff'] = ((df_nba['pts']+ df_nba['reb']+df_nba['ast']+df_nba['stl']+df_nba['blk']) \\\n",
    "                 - (df_nba['fga']-df_nba['fgm']) \\\n",
    "                 - (df_nba['fta']-df_nba['ftm']) \\\n",
    "                 - df_nba['tov']) / df_nba['gp']\n",
    "\n",
    "\n",
    "\"\"\"PIR = ((Points + Rebounds + Assists + Steals + Blocks + Fouls Drawn) - Missed Field Goals - Missed Free Throws - Turnovers - Shots Rejected - Fouls Committed))/ Games Played\"\"\"\n",
    "df_nba['pir'] = ((df_nba['pts']+ df_nba['reb']+df_nba['ast']+df_nba['stl']+df_nba['blk']+df_nba['pfd']) \\\n",
    "                 - (df_nba['fga']-df_nba['fgm']) \\\n",
    "                 - (df_nba['fta']-df_nba['ftm']) \\\n",
    "                 - df_nba['tov'] \\\n",
    "                 - df_nba['blka'] \\\n",
    "                 - df_nba['pf']) / df_nba['gp']\n",
    "df_nba['+/-'] = df_nba['plus_minus'] / df_nba['gp']"
   ]
  },
  {
   "cell_type": "markdown",
   "metadata": {},
   "source": [
    "## Below are the results of our EFF and PIR calculations."
   ]
  },
  {
   "cell_type": "code",
   "execution_count": 12,
   "metadata": {},
   "outputs": [
    {
     "data": {
      "text/plain": [
       "<matplotlib.legend.Legend at 0x1a19bd0dd0>"
      ]
     },
     "execution_count": 12,
     "metadata": {},
     "output_type": "execute_result"
    },
    {
     "data": {
      "image/png": "[encoded data removed]",
      "text/plain": [
       "<Figure size 432x288 with 1 Axes>"
      ]
     },
     "metadata": {},
     "output_type": "display_data"
    }
   ],
   "source": [
    "#Calculate all EFF averages and plot histogram to inform distribution\n",
    "\n",
    "mean_eff = round(np.mean(df_nba['eff']),2)\n",
    "median_eff = round(np.median(df_nba['eff']),2)\n",
    "\n",
    "fig, ax = plt. subplots()\n",
    "\n",
    "# ax.hist(df_nba['eff'], bins = 40)\n",
    "ax.set_title('Yearly Player EFF Distribution from 1998-99 season to Present')\n",
    "\n",
    "# Index to highest frequency bin\n",
    "counts, bins = ax.hist(df_nba['eff'], bins = 40)[0],ax.hist(df_nba['eff'], bins = 40)[1]\n",
    "\n",
    "idx_max = np.argmax(counts)\n",
    "upper = bins[idx_max+1]\n",
    "lower = bins[idx_max]\n",
    "mode_eff = round(np.mean([upper,lower]),2)\n",
    "\n",
    "ax.axvline(mode_eff, color = 'y', label = f'Mode EFF: ~{mode_eff}')\n",
    "ax.axvline(median_eff, color = 'g', label = f'Median EFF: {median_eff}')\n",
    "ax.axvline(mean_eff, color = 'b', label = f'Mean EFF: {mean_eff}')\n",
    "\n",
    "ax.set_ylabel('Frequency')\n",
    "ax.set_xlabel('EFF')\n",
    "ax.legend()\n"
   ]
  },
  {
   "cell_type": "code",
   "execution_count": 13,
   "metadata": {},
   "outputs": [
    {
     "data": {
      "text/plain": [
       "<matplotlib.legend.Legend at 0x1a1a4514d0>"
      ]
     },
     "execution_count": 13,
     "metadata": {},
     "output_type": "execute_result"
    },
    {
     "data": {
      "image/png": "[encoded data removed]",
      "text/plain": [
       "<Figure size 432x288 with 1 Axes>"
      ]
     },
     "metadata": {},
     "output_type": "display_data"
    }
   ],
   "source": [
    "#Calculate all PIR averages and plot histogram to inform distribution\n",
    "\n",
    "mean_pir = round(np.mean(df_nba['pir']), 2)\n",
    "median_pir = round(np.median(df_nba['pir']),2)\n",
    "\n",
    "fig, ax = plt. subplots()\n",
    "\n",
    "# ax.hist(df_nba['pir'], bins = 40)\n",
    "ax.set_title('Yearly Player PIR Distribution from 1998-99 season to Present')\n",
    "\n",
    "# Index to highest frequency bin\n",
    "counts, bins = ax.hist(df_nba['pir'], bins = 40)[0],ax.hist(df_nba['pir'], bins = 40)[1]\n",
    "\n",
    "idx_max = np.argmax(counts)\n",
    "upper = bins[idx_max+1]\n",
    "lower = bins[idx_max]\n",
    "mode_pir = round(np.mean([upper,lower]),2)\n",
    "\n",
    "ax.axvline(mode_pir, color = 'y', label = f'Mode PIR: ~{mode_pir}')\n",
    "ax.axvline(median_pir, color = 'g', label = f'Median PIR: {median_pir}')\n",
    "ax.axvline(mean_pir, color = 'b', label = f'Mean PIR: {mean_pir}')\n",
    "\n",
    "ax.set_ylabel('Frequency')\n",
    "ax.set_xlabel('PIR')\n",
    "ax.legend()\n"
   ]
  },
  {
   "cell_type": "code",
   "execution_count": 14,
   "metadata": {},
   "outputs": [
    {
     "data": {
      "text/plain": [
       "<matplotlib.legend.Legend at 0x1a1a498290>"
      ]
     },
     "execution_count": 14,
     "metadata": {},
     "output_type": "execute_result"
    },
    {
     "data": {
      "image/png": "[encoded data removed]",
      "text/plain": [
       "<Figure size 432x288 with 1 Axes>"
      ]
     },
     "metadata": {},
     "output_type": "display_data"
    }
   ],
   "source": [
    "#Calculate all +/- averages and plot histogram to inform distribution\n",
    "\n",
    "mean_pm = round(np.mean(df_nba['+/-']),2)\n",
    "median_pm = round(np.median(df_nba['+/-']),2)\n",
    "\n",
    "fig, ax = plt. subplots()\n",
    "\n",
    "# ax.hist(df_nba['eff'], bins = 40)\n",
    "ax.set_title('Yearly Player Plus-Minus Distribution from 1998-99 season to Present')\n",
    "\n",
    "# Index to highest frequency bin\n",
    "counts, bins = ax.hist(df_nba['+/-'], bins = 40)[0],ax.hist(df_nba['+/-'], bins = 40)[1]\n",
    "\n",
    "idx_max = np.argmax(counts)\n",
    "upper = bins[idx_max+1]\n",
    "lower = bins[idx_max]\n",
    "mode_pm = round(np.mean([upper,lower]),2)\n",
    "\n",
    "ax.axvline(mode_pm, color = 'y', label = f'Mode +/-: ~{mode_pm}')\n",
    "ax.axvline(median_pm, color = 'g', label = f'Median +/-: {median_pm}')\n",
    "ax.axvline(mean_pm, color = 'b', label = f'Mean +/-: {mean_pm}')\n",
    "\n",
    "ax.set_ylabel('Frequency')\n",
    "ax.set_xlabel('Plus_Minus Score')\n",
    "ax.legend()"
   ]
  },
  {
   "cell_type": "markdown",
   "metadata": {},
   "source": [
    "## Now let's group the player data by player_id and season, so that we can pull the statistic values from a prior year, and use those as features for a team based on roster. \n",
    "\n",
    "First, we'll group the dataframe by players and season. We do this instead of grouping by teams and season, to allow for us to account for roster changes season over season.\n",
    "\n",
    "We can then reference player_id values for the target season to ensure we're selecting the right features (i.e, player statistics from the previous year, regardless of team affiliation). "
   ]
  },
  {
   "cell_type": "code",
   "execution_count": 15,
   "metadata": {},
   "outputs": [],
   "source": [
    "# First we'll group just by player so we can check if a particular season is relevant to them. \n",
    "\n",
    "df_by_player = df_nba.groupby(['player_id'])\n"
   ]
  },
  {
   "cell_type": "code",
   "execution_count": 16,
   "metadata": {},
   "outputs": [],
   "source": [
    "# Here we group by both player and season so that we can pull particular efficiency scores per player per year.\n",
    "\n",
    "df_by_p_s = df_nba.groupby(['player_id','season'])"
   ]
  },
  {
   "cell_type": "markdown",
   "metadata": {},
   "source": [
    "## Now, we can iterate through team rosters by season to pull the prior year's efficiency metrics per player. \n",
    "\n",
    "Investigate roster dataframe to determine how to properly pull ['eff'] from player dataframe."
   ]
  },
  {
   "cell_type": "code",
   "execution_count": 17,
   "metadata": {},
   "outputs": [
    {
     "name": "stdout",
     "output_type": "stream",
     "text": [
      "<class 'pandas.core.frame.DataFrame'>\n",
      "RangeIndex: 630 entries, 0 to 629\n",
      "Data columns (total 4 columns):\n",
      " #   Column  Non-Null Count  Dtype \n",
      "---  ------  --------------  ----- \n",
      " 0   _id     630 non-null    object\n",
      " 1   team    630 non-null    int64 \n",
      " 2   season  630 non-null    object\n",
      " 3   roster  630 non-null    object\n",
      "dtypes: int64(1), object(3)\n",
      "memory usage: 19.8+ KB\n"
     ]
    }
   ],
   "source": [
    "df_r.info()"
   ]
  },
  {
   "cell_type": "markdown",
   "metadata": {},
   "source": [
    "Again, we can drop the '_id' column, as this is just a mongo convention"
   ]
  },
  {
   "cell_type": "code",
   "execution_count": 18,
   "metadata": {},
   "outputs": [],
   "source": [
    "df_r.drop(columns = ['_id'], inplace = True)"
   ]
  },
  {
   "cell_type": "code",
   "execution_count": 19,
   "metadata": {},
   "outputs": [
    {
     "data": {
      "text/html": [
       "<div>\n",
       "<style scoped>\n",
       "    .dataframe tbody tr th:only-of-type {\n",
       "        vertical-align: middle;\n",
       "    }\n",
       "\n",
       "    .dataframe tbody tr th {\n",
       "        vertical-align: top;\n",
       "    }\n",
       "\n",
       "    .dataframe thead th {\n",
       "        text-align: right;\n",
       "    }\n",
       "</style>\n",
       "<table border=\"1\" class=\"dataframe\">\n",
       "  <thead>\n",
       "    <tr style=\"text-align: right;\">\n",
       "      <th></th>\n",
       "      <th>team</th>\n",
       "      <th>season</th>\n",
       "      <th>roster</th>\n",
       "    </tr>\n",
       "  </thead>\n",
       "  <tbody>\n",
       "    <tr>\n",
       "      <th>0</th>\n",
       "      <td>1610612737</td>\n",
       "      <td>1998-99</td>\n",
       "      <td>[673, 1533, 1544, 87, 1516, 3, 1852, 111, 770,...</td>\n",
       "    </tr>\n",
       "    <tr>\n",
       "      <th>1</th>\n",
       "      <td>1610612738</td>\n",
       "      <td>1998-99</td>\n",
       "      <td>[692, 952, 1477, 1800, 344, 368, 35, 65, 72, 1...</td>\n",
       "    </tr>\n",
       "    <tr>\n",
       "      <th>2</th>\n",
       "      <td>1610612739</td>\n",
       "      <td>1998-99</td>\n",
       "      <td>[692, 226, 682, 1510, 1538, 916, 198, 1507, 18...</td>\n",
       "    </tr>\n",
       "    <tr>\n",
       "      <th>3</th>\n",
       "      <td>1610612740</td>\n",
       "      <td>1998-99</td>\n",
       "      <td>[]</td>\n",
       "    </tr>\n",
       "    <tr>\n",
       "      <th>4</th>\n",
       "      <td>1610612741</td>\n",
       "      <td>1998-99</td>\n",
       "      <td>[457, 82, 699, 1869, 1736, 1757, 54, 1522, 160...</td>\n",
       "    </tr>\n",
       "  </tbody>\n",
       "</table>\n",
       "</div>"
      ],
      "text/plain": [
       "         team   season                                             roster\n",
       "0  1610612737  1998-99  [673, 1533, 1544, 87, 1516, 3, 1852, 111, 770,...\n",
       "1  1610612738  1998-99  [692, 952, 1477, 1800, 344, 368, 35, 65, 72, 1...\n",
       "2  1610612739  1998-99  [692, 226, 682, 1510, 1538, 916, 198, 1507, 18...\n",
       "3  1610612740  1998-99                                                 []\n",
       "4  1610612741  1998-99  [457, 82, 699, 1869, 1736, 1757, 54, 1522, 160..."
      ]
     },
     "execution_count": 19,
     "metadata": {},
     "output_type": "execute_result"
    }
   ],
   "source": [
    "df_r.head()"
   ]
  },
  {
   "cell_type": "markdown",
   "metadata": {},
   "source": [
    "## It will be worthwhile to examine the sizes of the rosters so that we can encompass to see if there's any relationship between that and a team's success. "
   ]
  },
  {
   "cell_type": "code",
   "execution_count": 20,
   "metadata": {},
   "outputs": [],
   "source": [
    "df_r['len_roster'] = [len(r) for r in df_r['roster'].to_numpy()]"
   ]
  },
  {
   "cell_type": "code",
   "execution_count": 21,
   "metadata": {},
   "outputs": [
    {
     "data": {
      "text/html": [
       "<div>\n",
       "<style scoped>\n",
       "    .dataframe tbody tr th:only-of-type {\n",
       "        vertical-align: middle;\n",
       "    }\n",
       "\n",
       "    .dataframe tbody tr th {\n",
       "        vertical-align: top;\n",
       "    }\n",
       "\n",
       "    .dataframe thead th {\n",
       "        text-align: right;\n",
       "    }\n",
       "</style>\n",
       "<table border=\"1\" class=\"dataframe\">\n",
       "  <thead>\n",
       "    <tr style=\"text-align: right;\">\n",
       "      <th></th>\n",
       "      <th>team</th>\n",
       "      <th>season</th>\n",
       "      <th>roster</th>\n",
       "      <th>len_roster</th>\n",
       "    </tr>\n",
       "  </thead>\n",
       "  <tbody>\n",
       "    <tr>\n",
       "      <th>536</th>\n",
       "      <td>1610612763</td>\n",
       "      <td>2015-16</td>\n",
       "      <td>[1627293, 2757, 201148, 1627362, 203955, 2365,...</td>\n",
       "      <td>28</td>\n",
       "    </tr>\n",
       "    <tr>\n",
       "      <th>626</th>\n",
       "      <td>1610612763</td>\n",
       "      <td>2018-19</td>\n",
       "      <td>[1626150, 202340, 203998, 101139, 202718, 2034...</td>\n",
       "      <td>28</td>\n",
       "    </tr>\n",
       "  </tbody>\n",
       "</table>\n",
       "</div>"
      ],
      "text/plain": [
       "           team   season                                             roster  \\\n",
       "536  1610612763  2015-16  [1627293, 2757, 201148, 1627362, 203955, 2365,...   \n",
       "626  1610612763  2018-19  [1626150, 202340, 203998, 101139, 202718, 2034...   \n",
       "\n",
       "     len_roster  \n",
       "536          28  \n",
       "626          28  "
      ]
     },
     "execution_count": 21,
     "metadata": {},
     "output_type": "execute_result"
    }
   ],
   "source": [
    "max_r = df_r['len_roster'][np.argmax(df_r['len_roster'])]\n",
    "df_r.loc[df_r['len_roster']==max_r]"
   ]
  },
  {
   "cell_type": "markdown",
   "metadata": {},
   "source": [
    "### It's unlikely that the efficiency scores for all 28 people on this particular roster will be noteworthy features. Furthermore, only 17 players are allowed to be on the active roster for an NBA team. "
   ]
  },
  {
   "cell_type": "markdown",
   "metadata": {},
   "source": [
    "## For sake of indexing, we need to get all unique team IDs and seasons into two separate arrays.\n",
    "\n",
    "We'll then group the roster dataframe by team and season, and use Pandas' get_group() method to pull the roster for a given season. We'll then iterate through the roster to select player efficiency scores from the prior year in the df_by_player dataframe via player_id and season. "
   ]
  },
  {
   "cell_type": "code",
   "execution_count": 22,
   "metadata": {},
   "outputs": [
    {
     "data": {
      "text/plain": [
       "(array([1610612737, 1610612738, 1610612739, 1610612740, 1610612741,\n",
       "        1610612742, 1610612743, 1610612744, 1610612745, 1610612746,\n",
       "        1610612747, 1610612748, 1610612749, 1610612750, 1610612751,\n",
       "        1610612752, 1610612753, 1610612754, 1610612755, 1610612756,\n",
       "        1610612757, 1610612758, 1610612759, 1610612760, 1610612761,\n",
       "        1610612762, 1610612763, 1610612764, 1610612765, 1610612766]),\n",
       " array(['1997-98', '1998-99', '1999-00', '2000-01', '2001-02', '2002-03',\n",
       "        '2003-04', '2004-05', '2005-06', '2006-07', '2007-08', '2008-09',\n",
       "        '2009-10', '2010-11', '2011-12', '2012-13', '2013-14', '2014-15',\n",
       "        '2015-16', '2016-17', '2017-18', '2018-19'], dtype=object))"
      ]
     },
     "execution_count": 22,
     "metadata": {},
     "output_type": "execute_result"
    }
   ],
   "source": [
    "teams = np.unique(df_team['TeamID'])\n",
    "seasons = np.unique(df_nba['season'])\n",
    "\n",
    "teams,seasons"
   ]
  },
  {
   "cell_type": "markdown",
   "metadata": {},
   "source": [
    "## Group roster dataframe by team_id and season"
   ]
  },
  {
   "cell_type": "code",
   "execution_count": 23,
   "metadata": {},
   "outputs": [],
   "source": [
    "df_r = df_r.groupby(['team','season'])\n"
   ]
  },
  {
   "cell_type": "code",
   "execution_count": 24,
   "metadata": {},
   "outputs": [
    {
     "name": "stdout",
     "output_type": "stream",
     "text": [
      "[673, 1533, 1544, 87, 1516, 3, 1852, 111, 770, 302, 1728, 1742, 120, 895]\n"
     ]
    }
   ],
   "source": [
    "roster = df_r.get_group((1610612737,'1998-99'))['roster']\n",
    "for r in roster:\n",
    "    print(r)"
   ]
  },
  {
   "cell_type": "markdown",
   "metadata": {},
   "source": [
    "Because the line above just converted the variable df_r to a Pandas' groupby object, we'll need to call get_group() going forward to view and pull data.\n",
    "\n",
    "Let's use our 'teams' and 'seasons' lists from above to do just that.\n",
    "\n",
    "### Assumption: Team management will opt to retain their 17 best players on a roster, based on efficiency statistic of choice."
   ]
  },
  {
   "cell_type": "code",
   "execution_count": 25,
   "metadata": {},
   "outputs": [],
   "source": [
    "#Generalized function for generating a feature matrix\n",
    "def gen_X(teams,seasons,stat,n_p):  \n",
    "    \n",
    "    \"\"\"\n",
    "    PARAMETERS:\n",
    "    \n",
    "    teams - list of team IDs\n",
    "    season - list of seasons\n",
    "    stat - string of column title in player dataframe for statistic of interest\n",
    "    n_p - int, number of players on a roster to consider\n",
    "    \n",
    "    RETURNS:\n",
    "    \n",
    "    Feature matrix to be used for predicting wins and playoff rankings of teams\n",
    "    \"\"\"\n",
    "    \n",
    "    X = []\n",
    "\n",
    "    # Index into each team\n",
    "    for t in teams:\n",
    "\n",
    "        # Index into each season\n",
    "        for idx, s in enumerate(seasons):\n",
    "\n",
    "            # We only care about prior year stats, and we can't index into the prior year if idx is 0\n",
    "            if idx > 0:\n",
    "\n",
    "                # create a row for our features array\n",
    "                row = [int(t),s]\n",
    "\n",
    "                #accumulator for efficiency scores\n",
    "                lst_stat = []\n",
    "\n",
    "                # select roster and loop through player_ids to pull efficiency scores from prior year in df_by_player\n",
    "                roster = list(df_r.get_group((t.item(),s))['roster'])\n",
    "\n",
    "                for p in roster[0]:\n",
    "\n",
    "                    #for sake of testing the code, make sure a player_id is in our dataset\n",
    "                    if p in df_nba['player_id'].to_numpy():\n",
    "\n",
    "                        #Check a given season is relevant to a player\n",
    "                        if seasons[idx-1] in df_by_player.get_group(p)['season'].to_numpy():\n",
    "\n",
    "                            #select a player's efficiency score from the prior season \n",
    "                            #because we want to predict outcomes of current year\n",
    "                            stat_ = df_by_p_s.get_group((p,seasons[idx-1]))[stat].to_numpy()[0]\n",
    "                            lst_stat.append(int(stat_))\n",
    "\n",
    "            #Create accumulator array to account for differing sizes in rosters\n",
    "                final_stat = np.zeros(max_r)\n",
    "                for idx,stat_ in enumerate(lst_stat):\n",
    "                    final_stat[idx] = int(stat_)\n",
    "\n",
    "                \"\"\"Sort efficiency scores in descending order such that we are comparing players \n",
    "                of equal team hierarchical rank within feature columns\"\"\"\n",
    "                # take n_p best players per efficiency statistic\n",
    "                final_stat = np.sort(final_stat)[::-1][:n_p]\n",
    "\n",
    "                row = np.concatenate((row,final_stat), axis = None)\n",
    "\n",
    "                X.append(row)\n",
    "    \n",
    "    # Generate dataframe and properly name columns\n",
    "    df_X = pd.DataFrame(X)\n",
    "    \n",
    "    col_names = dict()\n",
    "\n",
    "    for idx,col in enumerate(df_X.columns):\n",
    "        if idx>1:\n",
    "            col_names[idx] = f'player_rank{idx-1}'\n",
    "        elif idx == 0:\n",
    "            col_names[idx] = 'team_id'\n",
    "        else:\n",
    "            col_names[idx] = 'season'\n",
    "    \n",
    "    df_X.rename(columns = col_names, inplace=True)\n",
    "    \n",
    "    return df_X"
   ]
  },
  {
   "cell_type": "code",
   "execution_count": 26,
   "metadata": {},
   "outputs": [],
   "source": [
    "df_X = gen_X(teams,seasons,'eff',10)"
   ]
  },
  {
   "cell_type": "code",
   "execution_count": 27,
   "metadata": {
    "scrolled": true
   },
   "outputs": [
    {
     "data": {
      "text/html": [
       "<div>\n",
       "<style scoped>\n",
       "    .dataframe tbody tr th:only-of-type {\n",
       "        vertical-align: middle;\n",
       "    }\n",
       "\n",
       "    .dataframe tbody tr th {\n",
       "        vertical-align: top;\n",
       "    }\n",
       "\n",
       "    .dataframe thead th {\n",
       "        text-align: right;\n",
       "    }\n",
       "</style>\n",
       "<table border=\"1\" class=\"dataframe\">\n",
       "  <thead>\n",
       "    <tr style=\"text-align: right;\">\n",
       "      <th></th>\n",
       "      <th>team_id</th>\n",
       "      <th>season</th>\n",
       "      <th>player_rank1</th>\n",
       "      <th>player_rank2</th>\n",
       "      <th>player_rank3</th>\n",
       "      <th>player_rank4</th>\n",
       "      <th>player_rank5</th>\n",
       "      <th>player_rank6</th>\n",
       "      <th>player_rank7</th>\n",
       "      <th>player_rank8</th>\n",
       "      <th>player_rank9</th>\n",
       "      <th>player_rank10</th>\n",
       "    </tr>\n",
       "  </thead>\n",
       "  <tbody>\n",
       "    <tr>\n",
       "      <th>0</th>\n",
       "      <td>1610612737</td>\n",
       "      <td>1998-99</td>\n",
       "      <td>21.0</td>\n",
       "      <td>18.0</td>\n",
       "      <td>16.0</td>\n",
       "      <td>14.0</td>\n",
       "      <td>13.0</td>\n",
       "      <td>11.0</td>\n",
       "      <td>7.0</td>\n",
       "      <td>6.0</td>\n",
       "      <td>3.0</td>\n",
       "      <td>1.0</td>\n",
       "    </tr>\n",
       "    <tr>\n",
       "      <th>1</th>\n",
       "      <td>1610612737</td>\n",
       "      <td>1999-00</td>\n",
       "      <td>20.0</td>\n",
       "      <td>12.0</td>\n",
       "      <td>11.0</td>\n",
       "      <td>10.0</td>\n",
       "      <td>10.0</td>\n",
       "      <td>9.0</td>\n",
       "      <td>8.0</td>\n",
       "      <td>5.0</td>\n",
       "      <td>4.0</td>\n",
       "      <td>3.0</td>\n",
       "    </tr>\n",
       "    <tr>\n",
       "      <th>2</th>\n",
       "      <td>1610612737</td>\n",
       "      <td>2000-01</td>\n",
       "      <td>23.0</td>\n",
       "      <td>14.0</td>\n",
       "      <td>13.0</td>\n",
       "      <td>13.0</td>\n",
       "      <td>13.0</td>\n",
       "      <td>9.0</td>\n",
       "      <td>7.0</td>\n",
       "      <td>6.0</td>\n",
       "      <td>5.0</td>\n",
       "      <td>5.0</td>\n",
       "    </tr>\n",
       "    <tr>\n",
       "      <th>3</th>\n",
       "      <td>1610612737</td>\n",
       "      <td>2001-02</td>\n",
       "      <td>22.0</td>\n",
       "      <td>18.0</td>\n",
       "      <td>16.0</td>\n",
       "      <td>11.0</td>\n",
       "      <td>9.0</td>\n",
       "      <td>9.0</td>\n",
       "      <td>7.0</td>\n",
       "      <td>7.0</td>\n",
       "      <td>5.0</td>\n",
       "      <td>5.0</td>\n",
       "    </tr>\n",
       "    <tr>\n",
       "      <th>4</th>\n",
       "      <td>1610612737</td>\n",
       "      <td>2002-03</td>\n",
       "      <td>22.0</td>\n",
       "      <td>18.0</td>\n",
       "      <td>18.0</td>\n",
       "      <td>12.0</td>\n",
       "      <td>11.0</td>\n",
       "      <td>10.0</td>\n",
       "      <td>7.0</td>\n",
       "      <td>7.0</td>\n",
       "      <td>6.0</td>\n",
       "      <td>6.0</td>\n",
       "    </tr>\n",
       "    <tr>\n",
       "      <th>...</th>\n",
       "      <td>...</td>\n",
       "      <td>...</td>\n",
       "      <td>...</td>\n",
       "      <td>...</td>\n",
       "      <td>...</td>\n",
       "      <td>...</td>\n",
       "      <td>...</td>\n",
       "      <td>...</td>\n",
       "      <td>...</td>\n",
       "      <td>...</td>\n",
       "      <td>...</td>\n",
       "      <td>...</td>\n",
       "    </tr>\n",
       "    <tr>\n",
       "      <th>625</th>\n",
       "      <td>1610612766</td>\n",
       "      <td>2014-15</td>\n",
       "      <td>24.0</td>\n",
       "      <td>17.0</td>\n",
       "      <td>17.0</td>\n",
       "      <td>12.0</td>\n",
       "      <td>11.0</td>\n",
       "      <td>9.0</td>\n",
       "      <td>9.0</td>\n",
       "      <td>7.0</td>\n",
       "      <td>7.0</td>\n",
       "      <td>4.0</td>\n",
       "    </tr>\n",
       "    <tr>\n",
       "      <th>626</th>\n",
       "      <td>1610612766</td>\n",
       "      <td>2015-16</td>\n",
       "      <td>18.0</td>\n",
       "      <td>15.0</td>\n",
       "      <td>14.0</td>\n",
       "      <td>14.0</td>\n",
       "      <td>11.0</td>\n",
       "      <td>10.0</td>\n",
       "      <td>9.0</td>\n",
       "      <td>7.0</td>\n",
       "      <td>6.0</td>\n",
       "      <td>6.0</td>\n",
       "    </tr>\n",
       "    <tr>\n",
       "      <th>627</th>\n",
       "      <td>1610612766</td>\n",
       "      <td>2016-17</td>\n",
       "      <td>20.0</td>\n",
       "      <td>17.0</td>\n",
       "      <td>15.0</td>\n",
       "      <td>14.0</td>\n",
       "      <td>9.0</td>\n",
       "      <td>9.0</td>\n",
       "      <td>9.0</td>\n",
       "      <td>8.0</td>\n",
       "      <td>7.0</td>\n",
       "      <td>7.0</td>\n",
       "    </tr>\n",
       "    <tr>\n",
       "      <th>628</th>\n",
       "      <td>1610612766</td>\n",
       "      <td>2017-18</td>\n",
       "      <td>21.0</td>\n",
       "      <td>20.0</td>\n",
       "      <td>18.0</td>\n",
       "      <td>14.0</td>\n",
       "      <td>14.0</td>\n",
       "      <td>10.0</td>\n",
       "      <td>0.0</td>\n",
       "      <td>0.0</td>\n",
       "      <td>0.0</td>\n",
       "      <td>0.0</td>\n",
       "    </tr>\n",
       "    <tr>\n",
       "      <th>629</th>\n",
       "      <td>1610612766</td>\n",
       "      <td>2018-19</td>\n",
       "      <td>19.0</td>\n",
       "      <td>14.0</td>\n",
       "      <td>13.0</td>\n",
       "      <td>11.0</td>\n",
       "      <td>10.0</td>\n",
       "      <td>9.0</td>\n",
       "      <td>8.0</td>\n",
       "      <td>7.0</td>\n",
       "      <td>0.0</td>\n",
       "      <td>0.0</td>\n",
       "    </tr>\n",
       "  </tbody>\n",
       "</table>\n",
       "<p>630 rows × 12 columns</p>\n",
       "</div>"
      ],
      "text/plain": [
       "        team_id   season player_rank1 player_rank2 player_rank3 player_rank4  \\\n",
       "0    1610612737  1998-99         21.0         18.0         16.0         14.0   \n",
       "1    1610612737  1999-00         20.0         12.0         11.0         10.0   \n",
       "2    1610612737  2000-01         23.0         14.0         13.0         13.0   \n",
       "3    1610612737  2001-02         22.0         18.0         16.0         11.0   \n",
       "4    1610612737  2002-03         22.0         18.0         18.0         12.0   \n",
       "..          ...      ...          ...          ...          ...          ...   \n",
       "625  1610612766  2014-15         24.0         17.0         17.0         12.0   \n",
       "626  1610612766  2015-16         18.0         15.0         14.0         14.0   \n",
       "627  1610612766  2016-17         20.0         17.0         15.0         14.0   \n",
       "628  1610612766  2017-18         21.0         20.0         18.0         14.0   \n",
       "629  1610612766  2018-19         19.0         14.0         13.0         11.0   \n",
       "\n",
       "    player_rank5 player_rank6 player_rank7 player_rank8 player_rank9  \\\n",
       "0           13.0         11.0          7.0          6.0          3.0   \n",
       "1           10.0          9.0          8.0          5.0          4.0   \n",
       "2           13.0          9.0          7.0          6.0          5.0   \n",
       "3            9.0          9.0          7.0          7.0          5.0   \n",
       "4           11.0         10.0          7.0          7.0          6.0   \n",
       "..           ...          ...          ...          ...          ...   \n",
       "625         11.0          9.0          9.0          7.0          7.0   \n",
       "626         11.0         10.0          9.0          7.0          6.0   \n",
       "627          9.0          9.0          9.0          8.0          7.0   \n",
       "628         14.0         10.0          0.0          0.0          0.0   \n",
       "629         10.0          9.0          8.0          7.0          0.0   \n",
       "\n",
       "    player_rank10  \n",
       "0             1.0  \n",
       "1             3.0  \n",
       "2             5.0  \n",
       "3             5.0  \n",
       "4             6.0  \n",
       "..            ...  \n",
       "625           4.0  \n",
       "626           6.0  \n",
       "627           7.0  \n",
       "628           0.0  \n",
       "629           0.0  \n",
       "\n",
       "[630 rows x 12 columns]"
      ]
     },
     "execution_count": 27,
     "metadata": {},
     "output_type": "execute_result"
    }
   ],
   "source": [
    "df_X"
   ]
  },
  {
   "cell_type": "markdown",
   "metadata": {},
   "source": [
    "## We have our features matrix (X) above. Now onto our targets. "
   ]
  },
  {
   "cell_type": "code",
   "execution_count": 28,
   "metadata": {},
   "outputs": [
    {
     "name": "stdout",
     "output_type": "stream",
     "text": [
      "<class 'pandas.core.frame.DataFrame'>\n",
      "RangeIndex: 624 entries, 0 to 623\n",
      "Data columns (total 14 columns):\n",
      " #   Column            Non-Null Count  Dtype \n",
      "---  ------            --------------  ----- \n",
      " 0   _id               624 non-null    object\n",
      " 1   SeasonID          624 non-null    object\n",
      " 2   TeamID            624 non-null    int64 \n",
      " 3   TeamCity          624 non-null    object\n",
      " 4   TeamName          624 non-null    object\n",
      " 5   Conference        624 non-null    object\n",
      " 6   ConferenceRecord  624 non-null    object\n",
      " 7   PlayoffRank       624 non-null    int64 \n",
      " 8   ClinchIndicator   620 non-null    object\n",
      " 9   Division          624 non-null    object\n",
      " 10  DivisionRecord    624 non-null    object\n",
      " 11  DivisionRank      624 non-null    int64 \n",
      " 12  WINS              624 non-null    int64 \n",
      " 13  LOSSES            624 non-null    int64 \n",
      "dtypes: int64(5), object(9)\n",
      "memory usage: 68.4+ KB\n"
     ]
    }
   ],
   "source": [
    "df_team.info()"
   ]
  },
  {
   "cell_type": "markdown",
   "metadata": {},
   "source": [
    "This study is interested in just the wins per team per season, so let's pullout the pertinent columns."
   ]
  },
  {
   "cell_type": "code",
   "execution_count": 29,
   "metadata": {},
   "outputs": [
    {
     "data": {
      "text/html": [
       "<div>\n",
       "<style scoped>\n",
       "    .dataframe tbody tr th:only-of-type {\n",
       "        vertical-align: middle;\n",
       "    }\n",
       "\n",
       "    .dataframe tbody tr th {\n",
       "        vertical-align: top;\n",
       "    }\n",
       "\n",
       "    .dataframe thead th {\n",
       "        text-align: right;\n",
       "    }\n",
       "</style>\n",
       "<table border=\"1\" class=\"dataframe\">\n",
       "  <thead>\n",
       "    <tr style=\"text-align: right;\">\n",
       "      <th></th>\n",
       "      <th>SeasonID</th>\n",
       "      <th>TeamID</th>\n",
       "      <th>WINS</th>\n",
       "      <th>LOSSES</th>\n",
       "    </tr>\n",
       "  </thead>\n",
       "  <tbody>\n",
       "    <tr>\n",
       "      <th>0</th>\n",
       "      <td>21998</td>\n",
       "      <td>1610612753</td>\n",
       "      <td>33</td>\n",
       "      <td>17</td>\n",
       "    </tr>\n",
       "    <tr>\n",
       "      <th>1</th>\n",
       "      <td>21998</td>\n",
       "      <td>1610612762</td>\n",
       "      <td>37</td>\n",
       "      <td>13</td>\n",
       "    </tr>\n",
       "    <tr>\n",
       "      <th>2</th>\n",
       "      <td>21998</td>\n",
       "      <td>1610612754</td>\n",
       "      <td>33</td>\n",
       "      <td>17</td>\n",
       "    </tr>\n",
       "    <tr>\n",
       "      <th>3</th>\n",
       "      <td>21998</td>\n",
       "      <td>1610612759</td>\n",
       "      <td>37</td>\n",
       "      <td>13</td>\n",
       "    </tr>\n",
       "    <tr>\n",
       "      <th>4</th>\n",
       "      <td>21998</td>\n",
       "      <td>1610612748</td>\n",
       "      <td>33</td>\n",
       "      <td>17</td>\n",
       "    </tr>\n",
       "    <tr>\n",
       "      <th>...</th>\n",
       "      <td>...</td>\n",
       "      <td>...</td>\n",
       "      <td>...</td>\n",
       "      <td>...</td>\n",
       "    </tr>\n",
       "    <tr>\n",
       "      <th>619</th>\n",
       "      <td>22018</td>\n",
       "      <td>1610612740</td>\n",
       "      <td>33</td>\n",
       "      <td>49</td>\n",
       "    </tr>\n",
       "    <tr>\n",
       "      <th>620</th>\n",
       "      <td>22018</td>\n",
       "      <td>1610612742</td>\n",
       "      <td>33</td>\n",
       "      <td>49</td>\n",
       "    </tr>\n",
       "    <tr>\n",
       "      <th>621</th>\n",
       "      <td>22018</td>\n",
       "      <td>1610612739</td>\n",
       "      <td>19</td>\n",
       "      <td>63</td>\n",
       "    </tr>\n",
       "    <tr>\n",
       "      <th>622</th>\n",
       "      <td>22018</td>\n",
       "      <td>1610612752</td>\n",
       "      <td>17</td>\n",
       "      <td>65</td>\n",
       "    </tr>\n",
       "    <tr>\n",
       "      <th>623</th>\n",
       "      <td>22018</td>\n",
       "      <td>1610612756</td>\n",
       "      <td>19</td>\n",
       "      <td>63</td>\n",
       "    </tr>\n",
       "  </tbody>\n",
       "</table>\n",
       "<p>624 rows × 4 columns</p>\n",
       "</div>"
      ],
      "text/plain": [
       "    SeasonID      TeamID  WINS  LOSSES\n",
       "0      21998  1610612753    33      17\n",
       "1      21998  1610612762    37      13\n",
       "2      21998  1610612754    33      17\n",
       "3      21998  1610612759    37      13\n",
       "4      21998  1610612748    33      17\n",
       "..       ...         ...   ...     ...\n",
       "619    22018  1610612740    33      49\n",
       "620    22018  1610612742    33      49\n",
       "621    22018  1610612739    19      63\n",
       "622    22018  1610612752    17      65\n",
       "623    22018  1610612756    19      63\n",
       "\n",
       "[624 rows x 4 columns]"
      ]
     },
     "execution_count": 29,
     "metadata": {},
     "output_type": "execute_result"
    }
   ],
   "source": [
    "df_team = df_team[['SeasonID','TeamID','WINS','LOSSES']]\n",
    "df_team"
   ]
  },
  {
   "cell_type": "markdown",
   "metadata": {},
   "source": [
    "## Note: There are only 50 games played in the 1998 season, so we'll need to transform that data to estimate the 82 game win total so it's consistent with the rest of our data."
   ]
  },
  {
   "cell_type": "code",
   "execution_count": 30,
   "metadata": {},
   "outputs": [],
   "source": [
    "df_team['w'] = ((df_team['WINS'] / (df_team['WINS']+df_team['LOSSES'])) * 82).round()"
   ]
  },
  {
   "cell_type": "code",
   "execution_count": 31,
   "metadata": {},
   "outputs": [],
   "source": [
    "df_team.rename(columns = {'TeamID': 'team_id'}, inplace= True)"
   ]
  },
  {
   "cell_type": "markdown",
   "metadata": {},
   "source": [
    "Now we'll drop the 'WINS' and 'LOSSES' columns as they're extraneous."
   ]
  },
  {
   "cell_type": "code",
   "execution_count": 32,
   "metadata": {},
   "outputs": [],
   "source": [
    "df_team.drop(columns = ['WINS','LOSSES'], inplace = True)"
   ]
  },
  {
   "cell_type": "code",
   "execution_count": 33,
   "metadata": {},
   "outputs": [
    {
     "data": {
      "text/plain": [
       "(array(['21998', '21999', '22000', '22001', '22002', '22003', '22004',\n",
       "        '22005', '22006', '22007', '22008', '22009', '22010', '22011',\n",
       "        '22012', '22013', '22014', '22015', '22016', '22017', '22018'],\n",
       "       dtype=object),\n",
       " array(['1997-98', '1998-99', '1999-00', '2000-01', '2001-02', '2002-03',\n",
       "        '2003-04', '2004-05', '2005-06', '2006-07', '2007-08', '2008-09',\n",
       "        '2009-10', '2010-11', '2011-12', '2012-13', '2013-14', '2014-15',\n",
       "        '2015-16', '2016-17', '2017-18', '2018-19'], dtype=object))"
      ]
     },
     "execution_count": 33,
     "metadata": {},
     "output_type": "execute_result"
    }
   ],
   "source": [
    "np.unique(df_team['SeasonID']),np.unique(df_nba['season'])"
   ]
  },
  {
   "cell_type": "markdown",
   "metadata": {},
   "source": [
    "We should also update our SeasonID columns so that its formatting is the same as that of 'season' in our df_X."
   ]
  },
  {
   "cell_type": "code",
   "execution_count": 34,
   "metadata": {},
   "outputs": [
    {
     "data": {
      "text/plain": [
       "{'21998': '1998-99',\n",
       " '21999': '1999-00',\n",
       " '22000': '2000-01',\n",
       " '22001': '2001-02',\n",
       " '22002': '2002-03',\n",
       " '22003': '2003-04',\n",
       " '22004': '2004-05',\n",
       " '22005': '2005-06',\n",
       " '22006': '2006-07',\n",
       " '22007': '2007-08',\n",
       " '22008': '2008-09',\n",
       " '22009': '2009-10',\n",
       " '22010': '2010-11',\n",
       " '22011': '2011-12',\n",
       " '22012': '2012-13',\n",
       " '22013': '2013-14',\n",
       " '22014': '2014-15',\n",
       " '22015': '2015-16',\n",
       " '22016': '2016-17',\n",
       " '22017': '2017-18',\n",
       " '22018': '2018-19'}"
      ]
     },
     "execution_count": 34,
     "metadata": {},
     "output_type": "execute_result"
    }
   ],
   "source": [
    "season1 = np.unique(df_nba['season'])[1:]\n",
    "season2 = np.unique(df_team['SeasonID'])\n",
    "\n",
    "d = dict()\n",
    "for s1, s2 in zip(season1,season2):\n",
    "    d[s2] = s1\n",
    "    \n",
    "d"
   ]
  },
  {
   "cell_type": "code",
   "execution_count": 35,
   "metadata": {},
   "outputs": [],
   "source": [
    "df_team['season'] = [d[s] for s in df_team['SeasonID']]"
   ]
  },
  {
   "cell_type": "code",
   "execution_count": 36,
   "metadata": {},
   "outputs": [],
   "source": [
    "df_team.drop(columns = 'SeasonID', inplace = True)"
   ]
  },
  {
   "cell_type": "code",
   "execution_count": 37,
   "metadata": {},
   "outputs": [
    {
     "data": {
      "text/html": [
       "<div>\n",
       "<style scoped>\n",
       "    .dataframe tbody tr th:only-of-type {\n",
       "        vertical-align: middle;\n",
       "    }\n",
       "\n",
       "    .dataframe tbody tr th {\n",
       "        vertical-align: top;\n",
       "    }\n",
       "\n",
       "    .dataframe thead th {\n",
       "        text-align: right;\n",
       "    }\n",
       "</style>\n",
       "<table border=\"1\" class=\"dataframe\">\n",
       "  <thead>\n",
       "    <tr style=\"text-align: right;\">\n",
       "      <th></th>\n",
       "      <th>team_id</th>\n",
       "      <th>w</th>\n",
       "      <th>season</th>\n",
       "    </tr>\n",
       "  </thead>\n",
       "  <tbody>\n",
       "    <tr>\n",
       "      <th>0</th>\n",
       "      <td>1610612753</td>\n",
       "      <td>54.0</td>\n",
       "      <td>1998-99</td>\n",
       "    </tr>\n",
       "    <tr>\n",
       "      <th>1</th>\n",
       "      <td>1610612762</td>\n",
       "      <td>61.0</td>\n",
       "      <td>1998-99</td>\n",
       "    </tr>\n",
       "    <tr>\n",
       "      <th>2</th>\n",
       "      <td>1610612754</td>\n",
       "      <td>54.0</td>\n",
       "      <td>1998-99</td>\n",
       "    </tr>\n",
       "    <tr>\n",
       "      <th>3</th>\n",
       "      <td>1610612759</td>\n",
       "      <td>61.0</td>\n",
       "      <td>1998-99</td>\n",
       "    </tr>\n",
       "    <tr>\n",
       "      <th>4</th>\n",
       "      <td>1610612748</td>\n",
       "      <td>54.0</td>\n",
       "      <td>1998-99</td>\n",
       "    </tr>\n",
       "    <tr>\n",
       "      <th>5</th>\n",
       "      <td>1610612757</td>\n",
       "      <td>57.0</td>\n",
       "      <td>1998-99</td>\n",
       "    </tr>\n",
       "    <tr>\n",
       "      <th>6</th>\n",
       "      <td>1610612737</td>\n",
       "      <td>51.0</td>\n",
       "      <td>1998-99</td>\n",
       "    </tr>\n",
       "    <tr>\n",
       "      <th>7</th>\n",
       "      <td>1610612745</td>\n",
       "      <td>51.0</td>\n",
       "      <td>1998-99</td>\n",
       "    </tr>\n",
       "    <tr>\n",
       "      <th>8</th>\n",
       "      <td>1610612747</td>\n",
       "      <td>51.0</td>\n",
       "      <td>1998-99</td>\n",
       "    </tr>\n",
       "    <tr>\n",
       "      <th>9</th>\n",
       "      <td>1610612765</td>\n",
       "      <td>48.0</td>\n",
       "      <td>1998-99</td>\n",
       "    </tr>\n",
       "    <tr>\n",
       "      <th>10</th>\n",
       "      <td>1610612749</td>\n",
       "      <td>46.0</td>\n",
       "      <td>1998-99</td>\n",
       "    </tr>\n",
       "    <tr>\n",
       "      <th>11</th>\n",
       "      <td>1610612758</td>\n",
       "      <td>44.0</td>\n",
       "      <td>1998-99</td>\n",
       "    </tr>\n",
       "    <tr>\n",
       "      <th>12</th>\n",
       "      <td>1610612756</td>\n",
       "      <td>44.0</td>\n",
       "      <td>1998-99</td>\n",
       "    </tr>\n",
       "    <tr>\n",
       "      <th>13</th>\n",
       "      <td>1610612755</td>\n",
       "      <td>46.0</td>\n",
       "      <td>1998-99</td>\n",
       "    </tr>\n",
       "    <tr>\n",
       "      <th>14</th>\n",
       "      <td>1610612750</td>\n",
       "      <td>41.0</td>\n",
       "      <td>1998-99</td>\n",
       "    </tr>\n",
       "    <tr>\n",
       "      <th>15</th>\n",
       "      <td>1610612760</td>\n",
       "      <td>41.0</td>\n",
       "      <td>1998-99</td>\n",
       "    </tr>\n",
       "    <tr>\n",
       "      <th>16</th>\n",
       "      <td>1610612752</td>\n",
       "      <td>44.0</td>\n",
       "      <td>1998-99</td>\n",
       "    </tr>\n",
       "    <tr>\n",
       "      <th>17</th>\n",
       "      <td>1610612766</td>\n",
       "      <td>43.0</td>\n",
       "      <td>1998-99</td>\n",
       "    </tr>\n",
       "    <tr>\n",
       "      <th>18</th>\n",
       "      <td>1610612761</td>\n",
       "      <td>38.0</td>\n",
       "      <td>1998-99</td>\n",
       "    </tr>\n",
       "    <tr>\n",
       "      <th>19</th>\n",
       "      <td>1610612744</td>\n",
       "      <td>34.0</td>\n",
       "      <td>1998-99</td>\n",
       "    </tr>\n",
       "    <tr>\n",
       "      <th>20</th>\n",
       "      <td>1610612742</td>\n",
       "      <td>31.0</td>\n",
       "      <td>1998-99</td>\n",
       "    </tr>\n",
       "    <tr>\n",
       "      <th>21</th>\n",
       "      <td>1610612739</td>\n",
       "      <td>36.0</td>\n",
       "      <td>1998-99</td>\n",
       "    </tr>\n",
       "    <tr>\n",
       "      <th>22</th>\n",
       "      <td>1610612743</td>\n",
       "      <td>23.0</td>\n",
       "      <td>1998-99</td>\n",
       "    </tr>\n",
       "    <tr>\n",
       "      <th>23</th>\n",
       "      <td>1610612738</td>\n",
       "      <td>31.0</td>\n",
       "      <td>1998-99</td>\n",
       "    </tr>\n",
       "    <tr>\n",
       "      <th>24</th>\n",
       "      <td>1610612746</td>\n",
       "      <td>15.0</td>\n",
       "      <td>1998-99</td>\n",
       "    </tr>\n",
       "    <tr>\n",
       "      <th>25</th>\n",
       "      <td>1610612764</td>\n",
       "      <td>30.0</td>\n",
       "      <td>1998-99</td>\n",
       "    </tr>\n",
       "    <tr>\n",
       "      <th>26</th>\n",
       "      <td>1610612751</td>\n",
       "      <td>26.0</td>\n",
       "      <td>1998-99</td>\n",
       "    </tr>\n",
       "    <tr>\n",
       "      <th>27</th>\n",
       "      <td>1610612763</td>\n",
       "      <td>13.0</td>\n",
       "      <td>1998-99</td>\n",
       "    </tr>\n",
       "    <tr>\n",
       "      <th>28</th>\n",
       "      <td>1610612741</td>\n",
       "      <td>21.0</td>\n",
       "      <td>1998-99</td>\n",
       "    </tr>\n",
       "  </tbody>\n",
       "</table>\n",
       "</div>"
      ],
      "text/plain": [
       "       team_id     w   season\n",
       "0   1610612753  54.0  1998-99\n",
       "1   1610612762  61.0  1998-99\n",
       "2   1610612754  54.0  1998-99\n",
       "3   1610612759  61.0  1998-99\n",
       "4   1610612748  54.0  1998-99\n",
       "5   1610612757  57.0  1998-99\n",
       "6   1610612737  51.0  1998-99\n",
       "7   1610612745  51.0  1998-99\n",
       "8   1610612747  51.0  1998-99\n",
       "9   1610612765  48.0  1998-99\n",
       "10  1610612749  46.0  1998-99\n",
       "11  1610612758  44.0  1998-99\n",
       "12  1610612756  44.0  1998-99\n",
       "13  1610612755  46.0  1998-99\n",
       "14  1610612750  41.0  1998-99\n",
       "15  1610612760  41.0  1998-99\n",
       "16  1610612752  44.0  1998-99\n",
       "17  1610612766  43.0  1998-99\n",
       "18  1610612761  38.0  1998-99\n",
       "19  1610612744  34.0  1998-99\n",
       "20  1610612742  31.0  1998-99\n",
       "21  1610612739  36.0  1998-99\n",
       "22  1610612743  23.0  1998-99\n",
       "23  1610612738  31.0  1998-99\n",
       "24  1610612746  15.0  1998-99\n",
       "25  1610612764  30.0  1998-99\n",
       "26  1610612751  26.0  1998-99\n",
       "27  1610612763  13.0  1998-99\n",
       "28  1610612741  21.0  1998-99"
      ]
     },
     "execution_count": 37,
     "metadata": {},
     "output_type": "execute_result"
    }
   ],
   "source": [
    "df_team.loc[df_team['season'] == '1998-99']"
   ]
  },
  {
   "cell_type": "code",
   "execution_count": 38,
   "metadata": {},
   "outputs": [],
   "source": [
    "df_team.sort_values(by = ['team_id','season'], inplace=True)"
   ]
  },
  {
   "cell_type": "code",
   "execution_count": 39,
   "metadata": {},
   "outputs": [
    {
     "data": {
      "text/html": [
       "<div>\n",
       "<style scoped>\n",
       "    .dataframe tbody tr th:only-of-type {\n",
       "        vertical-align: middle;\n",
       "    }\n",
       "\n",
       "    .dataframe tbody tr th {\n",
       "        vertical-align: top;\n",
       "    }\n",
       "\n",
       "    .dataframe thead th {\n",
       "        text-align: right;\n",
       "    }\n",
       "</style>\n",
       "<table border=\"1\" class=\"dataframe\">\n",
       "  <thead>\n",
       "    <tr style=\"text-align: right;\">\n",
       "      <th></th>\n",
       "      <th>team_id</th>\n",
       "      <th>w</th>\n",
       "      <th>season</th>\n",
       "    </tr>\n",
       "  </thead>\n",
       "  <tbody>\n",
       "    <tr>\n",
       "      <th>6</th>\n",
       "      <td>1610612737</td>\n",
       "      <td>51.0</td>\n",
       "      <td>1998-99</td>\n",
       "    </tr>\n",
       "    <tr>\n",
       "      <th>56</th>\n",
       "      <td>1610612737</td>\n",
       "      <td>28.0</td>\n",
       "      <td>1999-00</td>\n",
       "    </tr>\n",
       "    <tr>\n",
       "      <th>83</th>\n",
       "      <td>1610612737</td>\n",
       "      <td>25.0</td>\n",
       "      <td>2000-01</td>\n",
       "    </tr>\n",
       "    <tr>\n",
       "      <th>109</th>\n",
       "      <td>1610612737</td>\n",
       "      <td>33.0</td>\n",
       "      <td>2001-02</td>\n",
       "    </tr>\n",
       "    <tr>\n",
       "      <th>136</th>\n",
       "      <td>1610612737</td>\n",
       "      <td>35.0</td>\n",
       "      <td>2002-03</td>\n",
       "    </tr>\n",
       "    <tr>\n",
       "      <th>...</th>\n",
       "      <td>...</td>\n",
       "      <td>...</td>\n",
       "      <td>...</td>\n",
       "    </tr>\n",
       "    <tr>\n",
       "      <th>494</th>\n",
       "      <td>1610612766</td>\n",
       "      <td>33.0</td>\n",
       "      <td>2014-15</td>\n",
       "    </tr>\n",
       "    <tr>\n",
       "      <th>515</th>\n",
       "      <td>1610612766</td>\n",
       "      <td>48.0</td>\n",
       "      <td>2015-16</td>\n",
       "    </tr>\n",
       "    <tr>\n",
       "      <th>554</th>\n",
       "      <td>1610612766</td>\n",
       "      <td>36.0</td>\n",
       "      <td>2016-17</td>\n",
       "    </tr>\n",
       "    <tr>\n",
       "      <th>583</th>\n",
       "      <td>1610612766</td>\n",
       "      <td>36.0</td>\n",
       "      <td>2017-18</td>\n",
       "    </tr>\n",
       "    <tr>\n",
       "      <th>611</th>\n",
       "      <td>1610612766</td>\n",
       "      <td>39.0</td>\n",
       "      <td>2018-19</td>\n",
       "    </tr>\n",
       "  </tbody>\n",
       "</table>\n",
       "<p>624 rows × 3 columns</p>\n",
       "</div>"
      ],
      "text/plain": [
       "        team_id     w   season\n",
       "6    1610612737  51.0  1998-99\n",
       "56   1610612737  28.0  1999-00\n",
       "83   1610612737  25.0  2000-01\n",
       "109  1610612737  33.0  2001-02\n",
       "136  1610612737  35.0  2002-03\n",
       "..          ...   ...      ...\n",
       "494  1610612766  33.0  2014-15\n",
       "515  1610612766  48.0  2015-16\n",
       "554  1610612766  36.0  2016-17\n",
       "583  1610612766  36.0  2017-18\n",
       "611  1610612766  39.0  2018-19\n",
       "\n",
       "[624 rows x 3 columns]"
      ]
     },
     "execution_count": 39,
     "metadata": {},
     "output_type": "execute_result"
    }
   ],
   "source": [
    "df_team"
   ]
  },
  {
   "cell_type": "code",
   "execution_count": 40,
   "metadata": {},
   "outputs": [
    {
     "name": "stdout",
     "output_type": "stream",
     "text": [
      "<class 'pandas.core.frame.DataFrame'>\n",
      "Int64Index: 624 entries, 6 to 611\n",
      "Data columns (total 3 columns):\n",
      " #   Column   Non-Null Count  Dtype  \n",
      "---  ------   --------------  -----  \n",
      " 0   team_id  624 non-null    int64  \n",
      " 1   w        624 non-null    float64\n",
      " 2   season   624 non-null    object \n",
      "dtypes: float64(1), int64(1), object(1)\n",
      "memory usage: 19.5+ KB\n",
      "<class 'pandas.core.frame.DataFrame'>\n",
      "RangeIndex: 630 entries, 0 to 629\n",
      "Data columns (total 12 columns):\n",
      " #   Column         Non-Null Count  Dtype \n",
      "---  ------         --------------  ----- \n",
      " 0   team_id        630 non-null    object\n",
      " 1   season         630 non-null    object\n",
      " 2   player_rank1   630 non-null    object\n",
      " 3   player_rank2   630 non-null    object\n",
      " 4   player_rank3   630 non-null    object\n",
      " 5   player_rank4   630 non-null    object\n",
      " 6   player_rank5   630 non-null    object\n",
      " 7   player_rank6   630 non-null    object\n",
      " 8   player_rank7   630 non-null    object\n",
      " 9   player_rank8   630 non-null    object\n",
      " 10  player_rank9   630 non-null    object\n",
      " 11  player_rank10  630 non-null    object\n",
      "dtypes: object(12)\n",
      "memory usage: 59.2+ KB\n"
     ]
    },
    {
     "data": {
      "text/plain": [
       "(None, None)"
      ]
     },
     "execution_count": 40,
     "metadata": {},
     "output_type": "execute_result"
    }
   ],
   "source": [
    "df_team.info(),df_X.info()"
   ]
  },
  {
   "cell_type": "markdown",
   "metadata": {},
   "source": [
    "## Uh-oh, looks like our shapes are different for our feature dataframe and our targets. Let's investigate the shape discrepancy."
   ]
  },
  {
   "cell_type": "code",
   "execution_count": 41,
   "metadata": {},
   "outputs": [
    {
     "data": {
      "text/plain": [
       "(array(['1610612737', '1610612738', '1610612739', '1610612740',\n",
       "        '1610612741', '1610612742', '1610612743', '1610612744',\n",
       "        '1610612745', '1610612746', '1610612747', '1610612748',\n",
       "        '1610612749', '1610612750', '1610612751', '1610612752',\n",
       "        '1610612753', '1610612754', '1610612755', '1610612756',\n",
       "        '1610612757', '1610612758', '1610612759', '1610612760',\n",
       "        '1610612761', '1610612762', '1610612763', '1610612764',\n",
       "        '1610612765', '1610612766'], dtype=object),\n",
       " array([21, 21, 21, 21, 21, 21, 21, 21, 21, 21, 21, 21, 21, 21, 21, 21, 21,\n",
       "        21, 21, 21, 21, 21, 21, 21, 21, 21, 21, 21, 21, 21]))"
      ]
     },
     "execution_count": 41,
     "metadata": {},
     "output_type": "execute_result"
    }
   ],
   "source": [
    "np.unique(df_X['team_id'], return_counts = True)"
   ]
  },
  {
   "cell_type": "code",
   "execution_count": 42,
   "metadata": {},
   "outputs": [
    {
     "data": {
      "text/plain": [
       "(array([1610612737, 1610612738, 1610612739, 1610612740, 1610612741,\n",
       "        1610612742, 1610612743, 1610612744, 1610612745, 1610612746,\n",
       "        1610612747, 1610612748, 1610612749, 1610612750, 1610612751,\n",
       "        1610612752, 1610612753, 1610612754, 1610612755, 1610612756,\n",
       "        1610612757, 1610612758, 1610612759, 1610612760, 1610612761,\n",
       "        1610612762, 1610612763, 1610612764, 1610612765, 1610612766]),\n",
       " array([21, 21, 21, 17, 21, 21, 21, 21, 21, 21, 21, 21, 21, 21, 21, 21, 21,\n",
       "        21, 21, 21, 21, 21, 21, 21, 21, 21, 21, 21, 21, 19]))"
      ]
     },
     "execution_count": 42,
     "metadata": {},
     "output_type": "execute_result"
    }
   ],
   "source": [
    "np.unique(df_team['team_id'], return_counts = True)"
   ]
  },
  {
   "cell_type": "markdown",
   "metadata": {},
   "source": [
    "## Team_id 1610612740 only appears 17 times, and team_id 1610612766 only appears 19 times.\n",
    "\n",
    "Perhaps this has to do with a team becoming defunct or moving locations. Let's figure out which franchises belong to these team_id values"
   ]
  },
  {
   "cell_type": "code",
   "execution_count": 43,
   "metadata": {},
   "outputs": [
    {
     "data": {
      "text/plain": [
       "((array(['NOH', 'NOK', 'NOP'], dtype=object), array([171,  34, 116])),\n",
       " 124    2002-03\n",
       " 153    2003-04\n",
       " 202    2004-05\n",
       " 223    2005-06\n",
       " 253    2006-07\n",
       " 266    2007-08\n",
       " 307    2008-09\n",
       " 345    2009-10\n",
       " 366    2010-11\n",
       " 412    2011-12\n",
       " 440    2012-13\n",
       " 466    2013-14\n",
       " 489    2014-15\n",
       " 527    2015-16\n",
       " 553    2016-17\n",
       " 575    2017-18\n",
       " 619    2018-19\n",
       " Name: season, dtype: object)"
      ]
     },
     "execution_count": 43,
     "metadata": {},
     "output_type": "execute_result"
    }
   ],
   "source": [
    "np.unique(df_nba.loc[df_nba['team_id']==1610612740]['team_abbreviation'], return_counts = True), df_team.loc[df_team['team_id']==1610612740]['season']"
   ]
  },
  {
   "cell_type": "code",
   "execution_count": 44,
   "metadata": {},
   "outputs": [
    {
     "data": {
      "text/plain": [
       "((array(['CHA', 'CHH'], dtype=object), array([244,  73])),\n",
       " 17     1998-99\n",
       " 35     1999-00\n",
       " 68     2000-01\n",
       " 93     2001-02\n",
       " 201    2004-05\n",
       " 229    2005-06\n",
       " 255    2006-07\n",
       " 286    2007-08\n",
       " 312    2008-09\n",
       " 336    2009-10\n",
       " 372    2010-11\n",
       " 413    2011-12\n",
       " 441    2012-13\n",
       " 456    2013-14\n",
       " 494    2014-15\n",
       " 515    2015-16\n",
       " 554    2016-17\n",
       " 583    2017-18\n",
       " 611    2018-19\n",
       " Name: season, dtype: object)"
      ]
     },
     "execution_count": 44,
     "metadata": {},
     "output_type": "execute_result"
    }
   ],
   "source": [
    "np.unique(df_nba.loc[df_nba['team_id']==1610612766]['team_abbreviation'], return_counts = True), df_team.loc[df_team['team_id']==1610612766]['season']"
   ]
  },
  {
   "cell_type": "markdown",
   "metadata": {},
   "source": [
    "As suspected, both of the above franchises have undergone relocations in the most recent 20 years.\n",
    "\n",
    "For New Orleans, we're missing the following seasons' data: 1998-99,1999-2000, 2000-01, 2001-02. \n",
    "For Charlotte, we're missing: 2002-03,2003-04\n",
    "\n",
    "So, let's ensure that we're only pairing feature rows with records that actually have wins and playoff rank data."
   ]
  },
  {
   "cell_type": "code",
   "execution_count": 45,
   "metadata": {},
   "outputs": [],
   "source": [
    "# store wins and playoff ranks pertinent to each season by team as targets.\n",
    "\n",
    "def get_y(df_X,df_y,y_col):\n",
    "    \n",
    "    \"\"\"\n",
    "    PARAMETERS:\n",
    "    \n",
    "    df_X: Pandas DataFrame containing feature values\n",
    "    df_y: Pandas DataFrame containing target values\n",
    "    y_col: list of column names of desired target values\n",
    "    \n",
    "    RETURNS:\n",
    "    DataFrame with both features and target values to be used for model fitting. \n",
    "    \n",
    "    \"\"\"\n",
    "\n",
    "    for y in y_col:\n",
    "        \n",
    "        arr_y = []\n",
    "        for t,s in zip(df_X['team_id'],df_X['season']):\n",
    "            if s not in df_y.loc[df_y['team_id']==int(t)]['season'].to_numpy():\n",
    "                y_ = None\n",
    "                arr_y.append(y_)\n",
    "\n",
    "            else:\n",
    "                y_ = df_y.loc[(df_y['team_id']==int(t)) & (df_y['season'] == s)][y].to_numpy()[0]\n",
    "                arr_y.append(y_)\n",
    "        \n",
    "        arr_y = np.array(arr_y)\n",
    "        \n",
    "        df_X[y] = arr_y\n",
    "    \n",
    "    #get rid of rows with null values in target columns\n",
    "    df_X.dropna(inplace = True)\n",
    "    \n",
    "    return df_X"
   ]
  },
  {
   "cell_type": "code",
   "execution_count": 46,
   "metadata": {},
   "outputs": [],
   "source": [
    "X_eff = get_y(df_X,df_team,['w'])"
   ]
  },
  {
   "cell_type": "code",
   "execution_count": 48,
   "metadata": {},
   "outputs": [
    {
     "data": {
      "text/plain": [
       "(624, 13)"
      ]
     },
     "execution_count": 48,
     "metadata": {},
     "output_type": "execute_result"
    }
   ],
   "source": [
    "X_eff.shape"
   ]
  },
  {
   "cell_type": "markdown",
   "metadata": {},
   "source": [
    "## Let's try a 'Stupid Model' fit, just plugging in our values as is and seeing what we get.\n",
    "\n",
    "## We'll look at individual EFF, PIR, and +/- scores\n",
    "\n",
    "Because non of our data is categorical, and we can't ensure a linear relationship between our features and targets, a GradientBoost Regressor feels appropriate for regular season wins predictions."
   ]
  },
  {
   "cell_type": "code",
   "execution_count": 49,
   "metadata": {},
   "outputs": [],
   "source": [
    "import sklearn"
   ]
  },
  {
   "cell_type": "code",
   "execution_count": 50,
   "metadata": {},
   "outputs": [],
   "source": [
    "from sklearn.ensemble import GradientBoostingRegressor"
   ]
  },
  {
   "cell_type": "markdown",
   "metadata": {},
   "source": [
    "### Let's experiment with number of features to see if there's an optimal number of best player individual efficiency scores to include per team (between 1 and 17)."
   ]
  },
  {
   "cell_type": "code",
   "execution_count": 59,
   "metadata": {},
   "outputs": [],
   "source": [
    "def score_n_features(stat):\n",
    "    \n",
    "    \"\"\"\n",
    "    PARAMETERS:\n",
    "    stat - string, column title of statistic of interest\n",
    "    \n",
    "    RETURNS:\n",
    "    None - prints Gradient Boosting model scores associated with number of features\n",
    "    \"\"\"\n",
    "\n",
    "    for n in range(1,18):\n",
    "\n",
    "        #generate features and targets\n",
    "        df_X = gen_X(teams,seasons,stat,n)\n",
    "        X = get_y(df_X,df_team,['w'])\n",
    "        X = X.drop(columns=['team_id','season','w'])\n",
    "        y_w = X_pir['w']\n",
    "\n",
    "        #fit and score model\n",
    "        gb_w = GradientBoostingRegressor()\n",
    "        gb_w.fit(X,y_w)\n",
    "        score = gb_w.score(X,y_w)\n",
    "\n",
    "        print(f'{stat}, {n} players | score: {score}')\n",
    "    \n",
    "    return None\n",
    "    "
   ]
  },
  {
   "cell_type": "markdown",
   "metadata": {},
   "source": [
    "## EFF results"
   ]
  },
  {
   "cell_type": "code",
   "execution_count": null,
   "metadata": {},
   "outputs": [
    {
     "name": "stdout",
     "output_type": "stream",
     "text": [
      "eff, 1 players | score: 0.2339268152123164\n",
      "eff, 2 players | score: 0.35422515609130284\n",
      "eff, 3 players | score: 0.4347999783344383\n",
      "eff, 4 players | score: 0.4457790089734997\n",
      "eff, 5 players | score: 0.47975344832652334\n",
      "eff, 6 players | score: 0.5080638745906012\n",
      "eff, 7 players | score: 0.5103154565612376\n",
      "eff, 8 players | score: 0.5362637087220172\n",
      "eff, 9 players | score: 0.5474765997170372\n"
     ]
    }
   ],
   "source": [
    "score_n_features('eff')"
   ]
  },
  {
   "cell_type": "markdown",
   "metadata": {},
   "source": [
    "## PIR results"
   ]
  },
  {
   "cell_type": "code",
   "execution_count": 53,
   "metadata": {},
   "outputs": [],
   "source": [
    "score_n_features('pir')"
   ]
  },
  {
   "cell_type": "markdown",
   "metadata": {},
   "source": [
    "## +/- results"
   ]
  },
  {
   "cell_type": "code",
   "execution_count": 55,
   "metadata": {},
   "outputs": [],
   "source": [
    "score_n_features('+/-')"
   ]
  }
 ],
 "metadata": {
  "kernelspec": {
   "display_name": "Python 3",
   "language": "python",
   "name": "python3"
  },
  "language_info": {
   "codemirror_mode": {
    "name": "ipython",
    "version": 3
   },
   "file_extension": ".py",
   "mimetype": "text/x-python",
   "name": "python",
   "nbconvert_exporter": "python",
   "pygments_lexer": "ipython3",
   "version": "3.7.6"
  }
 },
 "nbformat": 4,
 "nbformat_minor": 4
}
