{
 "cells": [
  {
   "cell_type": "code",
   "execution_count": 1,
   "metadata": {},
   "outputs": [],
   "source": [
    "import pymongo\n",
    "import pandas as pd\n",
    "from pymongo import MongoClient\n",
    "\n",
    "\n",
    "import numpy as np\n",
    "import pandas as pd\n",
    "import scipy.stats as stats\n",
    "\n",
    "import matplotlib.pyplot as plt\n",
    "%matplotlib inline\n",
    "\n",
    "plt.style.use('ggplot')"
   ]
  },
  {
   "cell_type": "code",
   "execution_count": 2,
   "metadata": {},
   "outputs": [],
   "source": [
    "client = MongoClient()\n",
    "db_nba= client.nba\n",
    "collection = db_nba.player_stats\n",
    "df_nba = pd.DataFrame(list(collection.find()))"
   ]
  },
  {
   "cell_type": "markdown",
   "metadata": {},
   "source": [
    "Let's take a high-level look at our dataframe."
   ]
  },
  {
   "cell_type": "code",
   "execution_count": 3,
   "metadata": {},
   "outputs": [
    {
     "name": "stdout",
     "output_type": "stream",
     "text": [
      "<class 'pandas.core.frame.DataFrame'>\n",
      "RangeIndex: 5561 entries, 0 to 5560\n",
      "Data columns (total 38 columns):\n",
      " #   Column             Non-Null Count  Dtype  \n",
      "---  ------             --------------  -----  \n",
      " 0   _id                5561 non-null   object \n",
      " 1   Player_ID          5561 non-null   int64  \n",
      " 2   GROUP_SET          5561 non-null   object \n",
      " 3   GROUP_VALUE        5561 non-null   object \n",
      " 4   TEAM_ID            5561 non-null   int64  \n",
      " 5   TEAM_ABBREVIATION  5561 non-null   object \n",
      " 6   MAX_GAME_DATE      5561 non-null   object \n",
      " 7   GP                 5561 non-null   int64  \n",
      " 8   W                  5561 non-null   int64  \n",
      " 9   L                  5561 non-null   int64  \n",
      " 10  W_PCT              5561 non-null   float64\n",
      " 11  MIN                5561 non-null   float64\n",
      " 12  FGM                5561 non-null   int64  \n",
      " 13  FGA                5561 non-null   int64  \n",
      " 14  FG_PCT             5561 non-null   float64\n",
      " 15  FG3M               5561 non-null   int64  \n",
      " 16  FG3A               5561 non-null   int64  \n",
      " 17  FG3_PCT            5561 non-null   float64\n",
      " 18  FTM                5561 non-null   int64  \n",
      " 19  FTA                5561 non-null   int64  \n",
      " 20  FT_PCT             5561 non-null   float64\n",
      " 21  OREB               5561 non-null   int64  \n",
      " 22  DREB               5561 non-null   int64  \n",
      " 23  REB                5561 non-null   int64  \n",
      " 24  AST                5561 non-null   int64  \n",
      " 25  TOV                5561 non-null   int64  \n",
      " 26  STL                5561 non-null   int64  \n",
      " 27  BLK                5561 non-null   int64  \n",
      " 28  BLKA               5561 non-null   int64  \n",
      " 29  PF                 5561 non-null   int64  \n",
      " 30  PFD                5561 non-null   int64  \n",
      " 31  PTS                5561 non-null   int64  \n",
      " 32  PLUS_MINUS         5561 non-null   int64  \n",
      " 33  NBA_FANTASY_PTS    5561 non-null   float64\n",
      " 34  DD2                5561 non-null   int64  \n",
      " 35  TD3                5561 non-null   int64  \n",
      " 36  CFID               5561 non-null   int64  \n",
      " 37  CFPARAMS           5561 non-null   object \n",
      "dtypes: float64(6), int64(26), object(6)\n",
      "memory usage: 1.6+ MB\n"
     ]
    }
   ],
   "source": [
    "df_nba.info()"
   ]
  },
  {
   "cell_type": "code",
   "execution_count": 21,
   "metadata": {},
   "outputs": [
    {
     "data": {
      "text/plain": [
       "_id                  5eb946a2b9f6e704e49edfd7\n",
       "Player_ID                                   3\n",
       "GROUP_SET                             By Year\n",
       "GROUP_VALUE                           2002-03\n",
       "TEAM_ID                            1610612738\n",
       "TEAM_ABBREVIATION                         BOS\n",
       "MAX_GAME_DATE             2003-04-16T00:00:00\n",
       "GP                                         41\n",
       "W                                          21\n",
       "L                                          20\n",
       "W_PCT                                   0.512\n",
       "MIN                                   489.728\n",
       "FGM                                        27\n",
       "FGA                                        70\n",
       "FG_PCT                                  0.386\n",
       "FG3M                                        0\n",
       "FG3A                                        3\n",
       "FG3_PCT                                     0\n",
       "FTM                                        18\n",
       "FTA                                        23\n",
       "FT_PCT                                  0.783\n",
       "OREB                                       24\n",
       "DREB                                       59\n",
       "REB                                        83\n",
       "AST                                        25\n",
       "TOV                                        19\n",
       "STL                                         9\n",
       "BLK                                         1\n",
       "BLKA                                        6\n",
       "PF                                         62\n",
       "PFD                                         0\n",
       "PTS                                        72\n",
       "PLUS_MINUS                                -58\n",
       "NBA_FANTASY_PTS                         220.1\n",
       "DD2                                         0\n",
       "TD3                                         0\n",
       "CFID                                      264\n",
       "CFPARAMS                              2002-03\n",
       "Name: 0, dtype: object"
      ]
     },
     "execution_count": 21,
     "metadata": {},
     "output_type": "execute_result"
    }
   ],
   "source": [
    "df_nba.loc[0]"
   ]
  },
  {
   "cell_type": "markdown",
   "metadata": {},
   "source": [
    "In taking a quick look, we can get rid of the '_id' and 'GROUP_SET' columns. 'GROUP_VALUE' should be renamed to 'season' as well. Lastly, for indexing ease, let's lower case all column names. \n",
    "\n"
   ]
  },
  {
   "cell_type": "code",
   "execution_count": 22,
   "metadata": {},
   "outputs": [],
   "source": [
    "df_nba.drop(columns = ['_id','GROUP_SET'], inplace = True)"
   ]
  },
  {
   "cell_type": "code",
   "execution_count": 24,
   "metadata": {},
   "outputs": [],
   "source": [
    "df_nba.rename(columns={'GROUP_VALUE':'season'}, inplace = True)"
   ]
  },
  {
   "cell_type": "code",
   "execution_count": 28,
   "metadata": {},
   "outputs": [
    {
     "data": {
      "text/plain": [
       "Index(['player_id', 'season', 'team_id', 'team_abbreviation', 'max_game_date',\n",
       "       'gp', 'w', 'l', 'w_pct', 'min', 'fgm', 'fga', 'fg_pct', 'fg3m', 'fg3a',\n",
       "       'fg3_pct', 'ftm', 'fta', 'ft_pct', 'oreb', 'dreb', 'reb', 'ast', 'tov',\n",
       "       'stl', 'blk', 'blka', 'pf', 'pfd', 'pts', 'plus_minus',\n",
       "       'nba_fantasy_pts', 'dd2', 'td3', 'cfid', 'cfparams'],\n",
       "      dtype='object')"
      ]
     },
     "execution_count": 28,
     "metadata": {},
     "output_type": "execute_result"
    }
   ],
   "source": [
    "d_lower = dict()\n",
    "for i in df_nba.columns:\n",
    "    d_lower[i] = i.lower()\n",
    "\n",
    "df_nba.rename(columns=d_lower, inplace = True)\n",
    "df_nba.columns"
   ]
  },
  {
   "cell_type": "markdown",
   "metadata": {},
   "source": [
    "# We first want to investigate the predictivity of regular season wins and playoff berths based on a team roster's individual efficiency ratings from the prior year. \n",
    "\n",
    "There are a handful of efficiency metrics that are worth invesitgating here:\n",
    "\n",
    "Martin Manley's Efficiency ('EFF'): ((Points + Rebounds + Assists + Steals + Blocks) - (Missed Field Goals + Missed Free Throws + Turnovers))/ Games Played\n",
    "\n",
    "European Performance Index Rating ('PIR'): ((Points + Rebounds + Assists + Steals + Blocks + Fouls Drawn) - (Missed Field Goals + Missed Free Throws + Turnovers + Shots Rejected + Fouls Committed))/ Games Played\n",
    "\n",
    "Note: We will not be considering John Hollinger's Player Efficiency Rating ('PER'): It is the most frequently used alternative, however PER is derived by a very complex calculation designed to compensate for different teams' varying style of play, among other factors, and PER scores do not differ markedly from EFF scores.\n",
    "\n",
    "This study is more so interested in an individual player's EFF being predictive of team success, regardless of coaching and playing styles. Furthermore, looking at these raw statistics will help inform to what extent a coach should seek to opitimize all individual player efficiencies, or spend a majority of their time tending to star players, or perhaps optimizing other metrics via playing style."
   ]
  },
  {
   "cell_type": "markdown",
   "metadata": {},
   "source": [
    "# Let's calculate EFF and PIR's for each player on a per season basis. Then we'll aggregate team rosters on a yearly basis, to eventually offset one season's stats to be fit to the following season's results."
   ]
  },
  {
   "cell_type": "code",
   "execution_count": 29,
   "metadata": {},
   "outputs": [
    {
     "data": {
      "text/plain": [
       "Index(['player_id', 'season', 'team_id', 'team_abbreviation', 'max_game_date',\n",
       "       'gp', 'w', 'l', 'w_pct', 'min', 'fgm', 'fga', 'fg_pct', 'fg3m', 'fg3a',\n",
       "       'fg3_pct', 'ftm', 'fta', 'ft_pct', 'oreb', 'dreb', 'reb', 'ast', 'tov',\n",
       "       'stl', 'blk', 'blka', 'pf', 'pfd', 'pts', 'plus_minus',\n",
       "       'nba_fantasy_pts', 'dd2', 'td3', 'cfid', 'cfparams'],\n",
       "      dtype='object')"
      ]
     },
     "execution_count": 29,
     "metadata": {},
     "output_type": "execute_result"
    }
   ],
   "source": [
    "df_nba.columns"
   ]
  },
  {
   "cell_type": "code",
   "execution_count": 30,
   "metadata": {},
   "outputs": [],
   "source": [
    "\"\"\"EFF = ((Points + Rebounds + Assists + Steals + Blocks) - Missed Field Goals - Missed Free Throws - Turnovers))/ Games Played\"\"\"\n",
    "\n",
    "df_nba['eff'] = ((df_nba['pts']+ df_nba['reb']+df_nba['ast']+df_nba['stl']+df_nba['blk']) \\\n",
    "                 - (df_nba['fga']-df_nba['fgm']) \\\n",
    "                 - (df_nba['fta']-df_nba['ftm']) \\\n",
    "                 - df_nba['tov']) / df_nba['gp']\n",
    "\n",
    "\n",
    "\"\"\"PIR = ((Points + Rebounds + Assists + Steals + Blocks + Fouls Drawn) - Missed Field Goals - Missed Free Throws - Turnovers - Shots Rejected - Fouls Committed))/ Games Played\"\"\"\n",
    "df_nba['pir'] = ((df_nba['pts']+ df_nba['reb']+df_nba['ast']+df_nba['stl']+df_nba['blk']+df_nba['pfd']) \\\n",
    "                 - (df_nba['fga']-df_nba['fgm']) \\\n",
    "                 - (df_nba['fta']-df_nba['ftm']) \\\n",
    "                 - df_nba['tov'] \\\n",
    "                 - df_nba['blka'] \\\n",
    "                 - df_nba['pf']) / df_nba['gp']"
   ]
  },
  {
   "cell_type": "markdown",
   "metadata": {},
   "source": [
    "Below are the results of our EFF and PIR calculations."
   ]
  },
  {
   "cell_type": "code",
   "execution_count": 59,
   "metadata": {},
   "outputs": [
    {
     "data": {
      "text/plain": [
       "<matplotlib.legend.Legend at 0x1a2539c850>"
      ]
     },
     "execution_count": 59,
     "metadata": {},
     "output_type": "execute_result"
    },
    {
     "data": {
      "image/png": "[encoded data removed]",
      "text/plain": [
       "<Figure size 432x288 with 1 Axes>"
      ]
     },
     "metadata": {},
     "output_type": "display_data"
    }
   ],
   "source": [
    "#Calculate all EFF averages and plot histogram to inform distribution\n",
    "\n",
    "mean_eff = np.mean(df_nba['eff'])\n",
    "median_eff = np.median(df_nba['eff'])\n",
    "\n",
    "fig, ax = plt. subplots()\n",
    "\n",
    "ax.hist(df_nba['eff'], bins = 50)\n",
    "ax.set_title('Yearly Player EFF Distribution from 1998-99 season to Present')\n",
    "\n",
    "# Index to highest frequency bin\n",
    "counts, bins = ax.hist(df_nba['eff'], bins = 50)[0],ax.hist(df_nba['eff'], bins = 50)[1]\n",
    "\n",
    "idx_max = np.argmax(counts)\n",
    "upper = bins[idx_max+1]\n",
    "lower = bins[idx_max]\n",
    "mode_eff = np.mean([upper,lower])\n",
    "\n",
    "ax.axvline(mode_eff, color = 'y', label = f'Mode EFF: ~{mode_eff}')\n",
    "ax.axvline(median_eff, color = 'g', label = f'Median EFF: {median_eff}')\n",
    "ax.axvline(mean_eff, color = 'b', label = f'Mean EFF: {mean_eff}')\n",
    "\n",
    "\n",
    "ax.legend()\n"
   ]
  },
  {
   "cell_type": "code",
   "execution_count": 49,
   "metadata": {},
   "outputs": [
    {
     "data": {
      "text/plain": [
       "<matplotlib.legend.Legend at 0x1a25283390>"
      ]
     },
     "execution_count": 49,
     "metadata": {},
     "output_type": "execute_result"
    },
    {
     "data": {
      "image/png": "[encoded data removed]",
      "text/plain": [
       "<Figure size 432x288 with 1 Axes>"
      ]
     },
     "metadata": {},
     "output_type": "display_data"
    }
   ],
   "source": [
    "#Calculate all PIR averages and plot histogram to inform distribution\n",
    "\n",
    "mean_pir = np.mean(df_nba['pir'])\n",
    "median_pir = np.median(df_nba['pir'])\n",
    "\n",
    "fig, ax = plt. subplots()\n",
    "\n",
    "ax.hist(df_nba['pir'], bins = 50)\n",
    "ax.set_title('Yearly Player PIR Distribution from 1998-99 season to Present')\n",
    "\n",
    "# Index to highest frequency bin\n",
    "counts, bins = ax.hist(df_nba['pir'], bins = 50)[0],ax.hist(df_nba['eff'], bins = 50)[1]\n",
    "\n",
    "idx_max = np.argmax(counts)\n",
    "upper = bins[idx_max+1]\n",
    "lower = bins[idx_max]\n",
    "mode_eff = np.mean([upper,lower])\n",
    "\n",
    "ax.axvline(mode_eff, color = 'y', label = f'Mode EFF: ~{mode_eff}')\n",
    "ax.axvline(median_eff, color = 'g', label = f'Median EFF: {median_eff}')\n",
    "ax.axvline(mean_eff, color = 'b', label = f'Mean EFF: {mean_eff}')\n",
    "\n",
    "\n",
    "ax.legend()\n"
   ]
  },
  {
   "cell_type": "code",
   "execution_count": null,
   "metadata": {},
   "outputs": [],
   "source": []
  }
 ],
 "metadata": {
  "kernelspec": {
   "display_name": "Python 3",
   "language": "python",
   "name": "python3"
  },
  "language_info": {
   "codemirror_mode": {
    "name": "ipython",
    "version": 3
   },
   "file_extension": ".py",
   "mimetype": "text/x-python",
   "name": "python",
   "nbconvert_exporter": "python",
   "pygments_lexer": "ipython3",
   "version": "3.7.6"
  }
 },
 "nbformat": 4,
 "nbformat_minor": 4
}
