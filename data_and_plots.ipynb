{
 "cells": [
  {
   "cell_type": "code",
   "execution_count": 1,
   "metadata": {},
   "outputs": [],
   "source": [
    "import pymongo\n",
    "import pandas as pd\n",
    "from pymongo import MongoClient\n",
    "\n",
    "\n",
    "import numpy as np\n",
    "import pandas as pd\n",
    "import scipy.stats as stats\n",
    "\n",
    "import matplotlib.pyplot as plt\n",
    "%matplotlib inline\n",
    "\n",
    "plt.style.use('ggplot')"
   ]
  },
  {
   "cell_type": "markdown",
   "metadata": {},
   "source": [
    "## For analysis, we'll begin by importing all of our data from MongoDb"
   ]
  },
  {
   "cell_type": "code",
   "execution_count": 2,
   "metadata": {},
   "outputs": [],
   "source": [
    "client = MongoClient()\n",
    "db_nba= client.nba\n",
    "\n",
    "\n",
    "collection_p = db_nba.player_stats\n",
    "df_nba = pd.DataFrame(list(collection_p.find()))\n",
    "\n",
    "collection_t = db_nba.team_stats\n",
    "df_team = pd.DataFrame(list(collection_t.find()))\n",
    "\n",
    "collection_r = db_nba.team_rosters\n",
    "df_r = pd.DataFrame(list(collection_r.find()))"
   ]
  },
  {
   "cell_type": "markdown",
   "metadata": {},
   "source": [
    "Let's take a high-level look at our player stats dataframe."
   ]
  },
  {
   "cell_type": "code",
   "execution_count": 3,
   "metadata": {},
   "outputs": [
    {
     "name": "stdout",
     "output_type": "stream",
     "text": [
      "<class 'pandas.core.frame.DataFrame'>\n",
      "RangeIndex: 13168 entries, 0 to 13167\n",
      "Data columns (total 29 columns):\n",
      " #   Column             Non-Null Count  Dtype  \n",
      "---  ------             --------------  -----  \n",
      " 0   _id                13168 non-null  object \n",
      " 1   Player_ID          13168 non-null  int64  \n",
      " 2   GROUP_VALUE        13168 non-null  object \n",
      " 3   TEAM_ID            13168 non-null  int64  \n",
      " 4   TEAM_ABBREVIATION  13168 non-null  object \n",
      " 5   GP                 13168 non-null  int64  \n",
      " 6   W                  13168 non-null  int64  \n",
      " 7   L                  13168 non-null  int64  \n",
      " 8   FGM                13168 non-null  int64  \n",
      " 9   FGA                13168 non-null  int64  \n",
      " 10  FG_PCT             13168 non-null  float64\n",
      " 11  FG3M               13168 non-null  int64  \n",
      " 12  FG3A               13168 non-null  int64  \n",
      " 13  FG3_PCT            13168 non-null  float64\n",
      " 14  FTM                13168 non-null  int64  \n",
      " 15  FTA                13168 non-null  int64  \n",
      " 16  FT_PCT             13168 non-null  float64\n",
      " 17  OREB               13168 non-null  int64  \n",
      " 18  DREB               13168 non-null  int64  \n",
      " 19  REB                13168 non-null  int64  \n",
      " 20  AST                13168 non-null  int64  \n",
      " 21  TOV                13168 non-null  int64  \n",
      " 22  STL                13168 non-null  int64  \n",
      " 23  BLK                13168 non-null  int64  \n",
      " 24  BLKA               13168 non-null  int64  \n",
      " 25  PF                 13168 non-null  int64  \n",
      " 26  PFD                13168 non-null  int64  \n",
      " 27  PTS                13168 non-null  int64  \n",
      " 28  PLUS_MINUS         13168 non-null  int64  \n",
      "dtypes: float64(3), int64(23), object(3)\n",
      "memory usage: 2.9+ MB\n"
     ]
    }
   ],
   "source": [
    "df_nba.info()"
   ]
  },
  {
   "cell_type": "markdown",
   "metadata": {},
   "source": [
    "## Looks like we can clean this up a bit. \n",
    "\n",
    "#### First, we don't need the '_id' column, as this is a Mongo convention to identify individual entries.\n",
    "#### Second, we can rename the 'GROUP_VALUE' column to 'season', based on our knowledge of that column in builder the scrapers.\n",
    "#### Lastly, let's convert all column names to lowercase for ease of indexing."
   ]
  },
  {
   "cell_type": "code",
   "execution_count": 4,
   "metadata": {},
   "outputs": [],
   "source": [
    "df_nba.drop(columns=['_id'], inplace = True)\n",
    "df_nba.rename(columns={'GROUP_VALUE':'season'}, inplace = True)"
   ]
  },
  {
   "cell_type": "code",
   "execution_count": 5,
   "metadata": {},
   "outputs": [
    {
     "data": {
      "text/plain": [
       "Index(['player_id', 'season', 'team_id', 'team_abbreviation', 'gp', 'w', 'l',\n",
       "       'fgm', 'fga', 'fg_pct', 'fg3m', 'fg3a', 'fg3_pct', 'ftm', 'fta',\n",
       "       'ft_pct', 'oreb', 'dreb', 'reb', 'ast', 'tov', 'stl', 'blk', 'blka',\n",
       "       'pf', 'pfd', 'pts', 'plus_minus'],\n",
       "      dtype='object')"
      ]
     },
     "execution_count": 5,
     "metadata": {},
     "output_type": "execute_result"
    }
   ],
   "source": [
    "d_lower = dict()\n",
    "for i in df_nba.columns:\n",
    "    d_lower[i] = i.lower()\n",
    "\n",
    "df_nba.rename(columns=d_lower, inplace = True)\n",
    "df_nba.columns"
   ]
  },
  {
   "cell_type": "code",
   "execution_count": 6,
   "metadata": {},
   "outputs": [],
   "source": [
    "# Check scraper progress\n",
    "\n",
    "max_id = np.max(df_nba['player_id'])"
   ]
  },
  {
   "cell_type": "code",
   "execution_count": 7,
   "metadata": {},
   "outputs": [
    {
     "data": {
      "text/html": [
       "<div>\n",
       "<style scoped>\n",
       "    .dataframe tbody tr th:only-of-type {\n",
       "        vertical-align: middle;\n",
       "    }\n",
       "\n",
       "    .dataframe tbody tr th {\n",
       "        vertical-align: top;\n",
       "    }\n",
       "\n",
       "    .dataframe thead th {\n",
       "        text-align: right;\n",
       "    }\n",
       "</style>\n",
       "<table border=\"1\" class=\"dataframe\">\n",
       "  <thead>\n",
       "    <tr style=\"text-align: right;\">\n",
       "      <th></th>\n",
       "      <th>player_id</th>\n",
       "      <th>season</th>\n",
       "      <th>team_id</th>\n",
       "      <th>team_abbreviation</th>\n",
       "      <th>gp</th>\n",
       "      <th>w</th>\n",
       "      <th>l</th>\n",
       "      <th>fgm</th>\n",
       "      <th>fga</th>\n",
       "      <th>fg_pct</th>\n",
       "      <th>...</th>\n",
       "      <th>reb</th>\n",
       "      <th>ast</th>\n",
       "      <th>tov</th>\n",
       "      <th>stl</th>\n",
       "      <th>blk</th>\n",
       "      <th>blka</th>\n",
       "      <th>pf</th>\n",
       "      <th>pfd</th>\n",
       "      <th>pts</th>\n",
       "      <th>plus_minus</th>\n",
       "    </tr>\n",
       "  </thead>\n",
       "  <tbody>\n",
       "    <tr>\n",
       "      <th>13167</th>\n",
       "      <td>1629541</td>\n",
       "      <td>2018-19</td>\n",
       "      <td>1610612740</td>\n",
       "      <td>NOP</td>\n",
       "      <td>12</td>\n",
       "      <td>3</td>\n",
       "      <td>9</td>\n",
       "      <td>12</td>\n",
       "      <td>47</td>\n",
       "      <td>0.255</td>\n",
       "      <td>...</td>\n",
       "      <td>9</td>\n",
       "      <td>10</td>\n",
       "      <td>2</td>\n",
       "      <td>1</td>\n",
       "      <td>0</td>\n",
       "      <td>2</td>\n",
       "      <td>7</td>\n",
       "      <td>7</td>\n",
       "      <td>34</td>\n",
       "      <td>-50</td>\n",
       "    </tr>\n",
       "  </tbody>\n",
       "</table>\n",
       "<p>1 rows × 28 columns</p>\n",
       "</div>"
      ],
      "text/plain": [
       "       player_id   season     team_id team_abbreviation  gp  w  l  fgm  fga  \\\n",
       "13167    1629541  2018-19  1610612740               NOP  12  3  9   12   47   \n",
       "\n",
       "       fg_pct  ...  reb  ast  tov  stl  blk  blka  pf  pfd  pts  plus_minus  \n",
       "13167   0.255  ...    9   10    2    1    0     2   7    7   34         -50  \n",
       "\n",
       "[1 rows x 28 columns]"
      ]
     },
     "execution_count": 7,
     "metadata": {},
     "output_type": "execute_result"
    }
   ],
   "source": [
    "df_nba.loc[df_nba['player_id']==max_id]"
   ]
  },
  {
   "cell_type": "markdown",
   "metadata": {},
   "source": [
    "#### The last bit of preliminary cleaning will be to get rid of all entries for the 2019-20 season, as the season was stalled, so we won't have any target values. We can do this via indexing."
   ]
  },
  {
   "cell_type": "code",
   "execution_count": 8,
   "metadata": {},
   "outputs": [],
   "source": [
    "df_nba.drop(df_nba[df_nba['season'] == '2019-20'].index , inplace=True)"
   ]
  },
  {
   "cell_type": "markdown",
   "metadata": {},
   "source": [
    "# We first want to investigate the predictivity of regular season wins based on a team roster's individual efficiency ratings from the prior year. \n",
    "\n",
    "There are a handful of efficiency metrics that are worth invesitgating here:\n",
    "\n",
    "Martin Manley's Efficiency ('EFF') = ((Points + Rebounds + Assists + Steals + Blocks) - (Missed Field Goals + Missed Free Throws + Turnovers))/ Games Played\n",
    "\n",
    "European Performance Index Rating ('PIR') = ((Points + Rebounds + Assists + Steals + Blocks + Fouls Drawn) - (Missed Field Goals + Missed Free Throws + Turnovers + Shots Rejected + Fouls Committed))/ Games Played\n",
    "\n",
    "Plus-Minus Avg('+/-') = Seasonal plus-minus / Games Played : This describes the point differential for each game with a player on the floor without keeping track of more specific individual metrics. I.e., how does the score spread change when a player is in the game?\n",
    "\n",
    "Note: We will not be considering John Hollinger's Player Efficiency Rating ('PER'): It is the most frequently used alternative, however PER is derived by a very complex calculation designed to compensate for different teams' varying style of play, among other factors, and PER scores do not differ markedly from EFF scores.\n",
    "\n",
    "This study is more so interested in an individual player's efficiency being predictive of team success, regardless of coaching and playing styles. Furthermore, looking at these raw statistics will help inform to what extent a coach should seek to opitimize all individual player efficiencies, or spend a majority of their time tending to star players, or perhaps optimizing other metrics via playing style."
   ]
  },
  {
   "cell_type": "markdown",
   "metadata": {},
   "source": [
    "# Let's calculate EFF, PIR, and +/- for each player on a per season basis. Then we'll aggregate team rosters on a yearly basis, to eventually offset one season's stats to be fit to the following season's results."
   ]
  },
  {
   "cell_type": "code",
   "execution_count": 9,
   "metadata": {},
   "outputs": [
    {
     "data": {
      "text/plain": [
       "Index(['player_id', 'season', 'team_id', 'team_abbreviation', 'gp', 'w', 'l',\n",
       "       'fgm', 'fga', 'fg_pct', 'fg3m', 'fg3a', 'fg3_pct', 'ftm', 'fta',\n",
       "       'ft_pct', 'oreb', 'dreb', 'reb', 'ast', 'tov', 'stl', 'blk', 'blka',\n",
       "       'pf', 'pfd', 'pts', 'plus_minus'],\n",
       "      dtype='object')"
      ]
     },
     "execution_count": 9,
     "metadata": {},
     "output_type": "execute_result"
    }
   ],
   "source": [
    "df_nba.columns"
   ]
  },
  {
   "cell_type": "code",
   "execution_count": 10,
   "metadata": {},
   "outputs": [],
   "source": [
    "\"\"\"EFF = ((Points + Rebounds + Assists + Steals + Blocks) - Missed Field Goals - Missed Free Throws - Turnovers))/ Games Played\"\"\"\n",
    "\n",
    "df_nba['eff'] = ((df_nba['pts']+ df_nba['reb']+df_nba['ast']+df_nba['stl']+df_nba['blk']) \\\n",
    "                 - (df_nba['fga']-df_nba['fgm']) \\\n",
    "                 - (df_nba['fta']-df_nba['ftm']) \\\n",
    "                 - df_nba['tov']) / df_nba['gp']\n",
    "\n",
    "\n",
    "\"\"\"PIR = ((Points + Rebounds + Assists + Steals + Blocks + Fouls Drawn) - Missed Field Goals - Missed Free Throws - Turnovers - Shots Rejected - Fouls Committed))/ Games Played\"\"\"\n",
    "df_nba['pir'] = ((df_nba['pts']+ df_nba['reb']+df_nba['ast']+df_nba['stl']+df_nba['blk']+df_nba['pfd']) \\\n",
    "                 - (df_nba['fga']-df_nba['fgm']) \\\n",
    "                 - (df_nba['fta']-df_nba['ftm']) \\\n",
    "                 - df_nba['tov'] \\\n",
    "                 - df_nba['blka'] \\\n",
    "                 - df_nba['pf']) / df_nba['gp']\n",
    "\n",
    "df_nba['+/-'] = df_nba['plus_minus'] / df_nba['gp']"
   ]
  },
  {
   "cell_type": "markdown",
   "metadata": {},
   "source": [
    "## Below are the results of our EFF, PIR, and +/- calculations."
   ]
  },
  {
   "cell_type": "code",
   "execution_count": 11,
   "metadata": {},
   "outputs": [],
   "source": [
    "def plot_stat_dist(stat):\n",
    "    \n",
    "    \n",
    "    \"\"\"\n",
    "    PARAMETERS:\n",
    "    stat - string, column title of statistic of interest\n",
    "    \n",
    "    RETURNS:\n",
    "    \n",
    "    None - plots distribution of statistic\n",
    "    \"\"\"\n",
    "    #Calculate all statistic averages and plot histogram to inform distribution\n",
    "\n",
    "    mean = round(np.mean(df_nba[stat]),3)\n",
    "    median = round(np.median(df_nba[stat]),3)\n",
    "\n",
    "    fig, ax = plt. subplots()\n",
    "\n",
    "    # ax.hist(df_nba['eff'], bins = 40)\n",
    "    ax.set_title(f'Yearly Player {stat.upper()} Distribution from 1998-99 season to Present')\n",
    "\n",
    "    # Index to highest frequency bin\n",
    "    counts, bins = ax.hist(df_nba[stat], bins = 40)[0],ax.hist(df_nba[stat], bins = 40)[1]\n",
    "\n",
    "    idx_max = np.argmax(counts)\n",
    "    upper = bins[idx_max+1]\n",
    "    lower = bins[idx_max]\n",
    "    mode = round(np.mean([upper,lower]),2)\n",
    "\n",
    "    ax.axvline(mode, color = 'y', label = f'Mode {stat.upper()}: ~{mode}')\n",
    "    ax.axvline(median, color = 'g', label = f'Median {stat.upper()}: {median}')\n",
    "    ax.axvline(mean, color = 'b', label = f'Mean {stat.upper()}: {mean}')\n",
    "\n",
    "    ax.set_ylabel('Frequency')\n",
    "    ax.set_xlabel(f'{stat.upper()}')\n",
    "    ax.legend()\n",
    "    \n",
    "    return None"
   ]
  },
  {
   "cell_type": "code",
   "execution_count": 12,
   "metadata": {},
   "outputs": [
    {
     "data": {
      "image/png": "[encoded data removed]",
      "text/plain": [
       "<Figure size 432x288 with 1 Axes>"
      ]
     },
     "metadata": {},
     "output_type": "display_data"
    }
   ],
   "source": [
    "plot_stat_dist('eff')"
   ]
  },
  {
   "cell_type": "code",
   "execution_count": 13,
   "metadata": {},
   "outputs": [
    {
     "data": {
      "image/png": "[encoded data removed]",
      "text/plain": [
       "<Figure size 432x288 with 1 Axes>"
      ]
     },
     "metadata": {},
     "output_type": "display_data"
    }
   ],
   "source": [
    "plot_stat_dist('pir')"
   ]
  },
  {
   "cell_type": "code",
   "execution_count": 14,
   "metadata": {},
   "outputs": [
    {
     "data": {
      "image/png": "[encoded data removed]",
      "text/plain": [
       "<Figure size 432x288 with 1 Axes>"
      ]
     },
     "metadata": {},
     "output_type": "display_data"
    }
   ],
   "source": [
    "plot_stat_dist('+/-')"
   ]
  },
  {
   "cell_type": "markdown",
   "metadata": {},
   "source": [
    "## Now let's group the player data by player_id and season, so that we can pull the statistic values from a prior year, and use those as features for a team based on roster. \n",
    "\n",
    "First, we'll group the dataframe by players and season. We do this instead of grouping by teams and season, to allow for us to account for roster changes season over season.\n",
    "\n",
    "We can then reference player_id values for the target season to ensure we're selecting the right features (i.e, player statistics from the previous year, regardless of team affiliation). "
   ]
  },
  {
   "cell_type": "code",
   "execution_count": 15,
   "metadata": {},
   "outputs": [
    {
     "data": {
      "text/html": [
       "<div>\n",
       "<style scoped>\n",
       "    .dataframe tbody tr th:only-of-type {\n",
       "        vertical-align: middle;\n",
       "    }\n",
       "\n",
       "    .dataframe tbody tr th {\n",
       "        vertical-align: top;\n",
       "    }\n",
       "\n",
       "    .dataframe thead th {\n",
       "        text-align: right;\n",
       "    }\n",
       "</style>\n",
       "<table border=\"1\" class=\"dataframe\">\n",
       "  <thead>\n",
       "    <tr style=\"text-align: right;\">\n",
       "      <th></th>\n",
       "      <th>player_id</th>\n",
       "      <th>season</th>\n",
       "      <th>team_id</th>\n",
       "      <th>team_abbreviation</th>\n",
       "      <th>gp</th>\n",
       "      <th>w</th>\n",
       "      <th>l</th>\n",
       "      <th>fgm</th>\n",
       "      <th>fga</th>\n",
       "      <th>fg_pct</th>\n",
       "      <th>...</th>\n",
       "      <th>stl</th>\n",
       "      <th>blk</th>\n",
       "      <th>blka</th>\n",
       "      <th>pf</th>\n",
       "      <th>pfd</th>\n",
       "      <th>pts</th>\n",
       "      <th>plus_minus</th>\n",
       "      <th>eff</th>\n",
       "      <th>pir</th>\n",
       "      <th>+/-</th>\n",
       "    </tr>\n",
       "  </thead>\n",
       "  <tbody>\n",
       "    <tr>\n",
       "      <th>12230</th>\n",
       "      <td>203953</td>\n",
       "      <td>2018-19</td>\n",
       "      <td>-1</td>\n",
       "      <td>TOT</td>\n",
       "      <td>64</td>\n",
       "      <td>18</td>\n",
       "      <td>46</td>\n",
       "      <td>369</td>\n",
       "      <td>749</td>\n",
       "      <td>0.493</td>\n",
       "      <td>...</td>\n",
       "      <td>46</td>\n",
       "      <td>30</td>\n",
       "      <td>54</td>\n",
       "      <td>145</td>\n",
       "      <td>155</td>\n",
       "      <td>930</td>\n",
       "      <td>-204</td>\n",
       "      <td>15.546875</td>\n",
       "      <td>14.859375</td>\n",
       "      <td>-3.187500</td>\n",
       "    </tr>\n",
       "    <tr>\n",
       "      <th>12231</th>\n",
       "      <td>203953</td>\n",
       "      <td>2018-19</td>\n",
       "      <td>1610612764</td>\n",
       "      <td>WAS</td>\n",
       "      <td>25</td>\n",
       "      <td>10</td>\n",
       "      <td>15</td>\n",
       "      <td>149</td>\n",
       "      <td>285</td>\n",
       "      <td>0.523</td>\n",
       "      <td>...</td>\n",
       "      <td>23</td>\n",
       "      <td>16</td>\n",
       "      <td>17</td>\n",
       "      <td>58</td>\n",
       "      <td>67</td>\n",
       "      <td>374</td>\n",
       "      <td>20</td>\n",
       "      <td>17.360000</td>\n",
       "      <td>17.040000</td>\n",
       "      <td>0.800000</td>\n",
       "    </tr>\n",
       "    <tr>\n",
       "      <th>12232</th>\n",
       "      <td>203953</td>\n",
       "      <td>2018-19</td>\n",
       "      <td>1610612741</td>\n",
       "      <td>CHI</td>\n",
       "      <td>39</td>\n",
       "      <td>8</td>\n",
       "      <td>31</td>\n",
       "      <td>220</td>\n",
       "      <td>464</td>\n",
       "      <td>0.474</td>\n",
       "      <td>...</td>\n",
       "      <td>23</td>\n",
       "      <td>14</td>\n",
       "      <td>37</td>\n",
       "      <td>87</td>\n",
       "      <td>88</td>\n",
       "      <td>556</td>\n",
       "      <td>-224</td>\n",
       "      <td>14.384615</td>\n",
       "      <td>13.461538</td>\n",
       "      <td>-5.743590</td>\n",
       "    </tr>\n",
       "    <tr>\n",
       "      <th>12233</th>\n",
       "      <td>203953</td>\n",
       "      <td>2017-18</td>\n",
       "      <td>1610612749</td>\n",
       "      <td>MIL</td>\n",
       "      <td>31</td>\n",
       "      <td>16</td>\n",
       "      <td>15</td>\n",
       "      <td>160</td>\n",
       "      <td>332</td>\n",
       "      <td>0.482</td>\n",
       "      <td>...</td>\n",
       "      <td>25</td>\n",
       "      <td>10</td>\n",
       "      <td>17</td>\n",
       "      <td>50</td>\n",
       "      <td>36</td>\n",
       "      <td>391</td>\n",
       "      <td>-65</td>\n",
       "      <td>13.064516</td>\n",
       "      <td>12.064516</td>\n",
       "      <td>-2.096774</td>\n",
       "    </tr>\n",
       "    <tr>\n",
       "      <th>12234</th>\n",
       "      <td>203953</td>\n",
       "      <td>2016-17</td>\n",
       "      <td>1610612749</td>\n",
       "      <td>MIL</td>\n",
       "      <td>51</td>\n",
       "      <td>22</td>\n",
       "      <td>29</td>\n",
       "      <td>399</td>\n",
       "      <td>814</td>\n",
       "      <td>0.490</td>\n",
       "      <td>...</td>\n",
       "      <td>50</td>\n",
       "      <td>22</td>\n",
       "      <td>64</td>\n",
       "      <td>111</td>\n",
       "      <td>159</td>\n",
       "      <td>1025</td>\n",
       "      <td>-87</td>\n",
       "      <td>19.392157</td>\n",
       "      <td>19.078431</td>\n",
       "      <td>-1.705882</td>\n",
       "    </tr>\n",
       "    <tr>\n",
       "      <th>12235</th>\n",
       "      <td>203953</td>\n",
       "      <td>2015-16</td>\n",
       "      <td>1610612749</td>\n",
       "      <td>MIL</td>\n",
       "      <td>76</td>\n",
       "      <td>32</td>\n",
       "      <td>44</td>\n",
       "      <td>443</td>\n",
       "      <td>899</td>\n",
       "      <td>0.493</td>\n",
       "      <td>...</td>\n",
       "      <td>69</td>\n",
       "      <td>29</td>\n",
       "      <td>77</td>\n",
       "      <td>154</td>\n",
       "      <td>171</td>\n",
       "      <td>1070</td>\n",
       "      <td>-193</td>\n",
       "      <td>14.052632</td>\n",
       "      <td>13.263158</td>\n",
       "      <td>-2.539474</td>\n",
       "    </tr>\n",
       "    <tr>\n",
       "      <th>12236</th>\n",
       "      <td>203953</td>\n",
       "      <td>2014-15</td>\n",
       "      <td>1610612749</td>\n",
       "      <td>MIL</td>\n",
       "      <td>25</td>\n",
       "      <td>13</td>\n",
       "      <td>12</td>\n",
       "      <td>129</td>\n",
       "      <td>263</td>\n",
       "      <td>0.490</td>\n",
       "      <td>...</td>\n",
       "      <td>31</td>\n",
       "      <td>5</td>\n",
       "      <td>21</td>\n",
       "      <td>42</td>\n",
       "      <td>61</td>\n",
       "      <td>308</td>\n",
       "      <td>-114</td>\n",
       "      <td>12.920000</td>\n",
       "      <td>12.840000</td>\n",
       "      <td>-4.560000</td>\n",
       "    </tr>\n",
       "  </tbody>\n",
       "</table>\n",
       "<p>7 rows × 31 columns</p>\n",
       "</div>"
      ],
      "text/plain": [
       "       player_id   season     team_id team_abbreviation  gp   w   l  fgm  fga  \\\n",
       "12230     203953  2018-19          -1               TOT  64  18  46  369  749   \n",
       "12231     203953  2018-19  1610612764               WAS  25  10  15  149  285   \n",
       "12232     203953  2018-19  1610612741               CHI  39   8  31  220  464   \n",
       "12233     203953  2017-18  1610612749               MIL  31  16  15  160  332   \n",
       "12234     203953  2016-17  1610612749               MIL  51  22  29  399  814   \n",
       "12235     203953  2015-16  1610612749               MIL  76  32  44  443  899   \n",
       "12236     203953  2014-15  1610612749               MIL  25  13  12  129  263   \n",
       "\n",
       "       fg_pct  ...  stl  blk  blka   pf  pfd   pts  plus_minus        eff  \\\n",
       "12230   0.493  ...   46   30    54  145  155   930        -204  15.546875   \n",
       "12231   0.523  ...   23   16    17   58   67   374          20  17.360000   \n",
       "12232   0.474  ...   23   14    37   87   88   556        -224  14.384615   \n",
       "12233   0.482  ...   25   10    17   50   36   391         -65  13.064516   \n",
       "12234   0.490  ...   50   22    64  111  159  1025         -87  19.392157   \n",
       "12235   0.493  ...   69   29    77  154  171  1070        -193  14.052632   \n",
       "12236   0.490  ...   31    5    21   42   61   308        -114  12.920000   \n",
       "\n",
       "             pir       +/-  \n",
       "12230  14.859375 -3.187500  \n",
       "12231  17.040000  0.800000  \n",
       "12232  13.461538 -5.743590  \n",
       "12233  12.064516 -2.096774  \n",
       "12234  19.078431 -1.705882  \n",
       "12235  13.263158 -2.539474  \n",
       "12236  12.840000 -4.560000  \n",
       "\n",
       "[7 rows x 31 columns]"
      ]
     },
     "execution_count": 15,
     "metadata": {},
     "output_type": "execute_result"
    }
   ],
   "source": [
    "# First we'll group just by player so we can check if a particular season is relevant to them. \n",
    "\n",
    "df_by_player = df_nba.groupby(['player_id'])\n",
    "df_by_player.get_group((203953))\n"
   ]
  },
  {
   "cell_type": "code",
   "execution_count": 16,
   "metadata": {},
   "outputs": [
    {
     "data": {
      "text/html": [
       "<div>\n",
       "<style scoped>\n",
       "    .dataframe tbody tr th:only-of-type {\n",
       "        vertical-align: middle;\n",
       "    }\n",
       "\n",
       "    .dataframe tbody tr th {\n",
       "        vertical-align: top;\n",
       "    }\n",
       "\n",
       "    .dataframe thead th {\n",
       "        text-align: right;\n",
       "    }\n",
       "</style>\n",
       "<table border=\"1\" class=\"dataframe\">\n",
       "  <thead>\n",
       "    <tr style=\"text-align: right;\">\n",
       "      <th></th>\n",
       "      <th>player_id</th>\n",
       "      <th>season</th>\n",
       "      <th>team_id</th>\n",
       "      <th>team_abbreviation</th>\n",
       "      <th>gp</th>\n",
       "      <th>w</th>\n",
       "      <th>l</th>\n",
       "      <th>fgm</th>\n",
       "      <th>fga</th>\n",
       "      <th>fg_pct</th>\n",
       "      <th>...</th>\n",
       "      <th>stl</th>\n",
       "      <th>blk</th>\n",
       "      <th>blka</th>\n",
       "      <th>pf</th>\n",
       "      <th>pfd</th>\n",
       "      <th>pts</th>\n",
       "      <th>plus_minus</th>\n",
       "      <th>eff</th>\n",
       "      <th>pir</th>\n",
       "      <th>+/-</th>\n",
       "    </tr>\n",
       "  </thead>\n",
       "  <tbody>\n",
       "    <tr>\n",
       "      <th>13167</th>\n",
       "      <td>1629541</td>\n",
       "      <td>2018-19</td>\n",
       "      <td>1610612740</td>\n",
       "      <td>NOP</td>\n",
       "      <td>12</td>\n",
       "      <td>3</td>\n",
       "      <td>9</td>\n",
       "      <td>12</td>\n",
       "      <td>47</td>\n",
       "      <td>0.255</td>\n",
       "      <td>...</td>\n",
       "      <td>1</td>\n",
       "      <td>0</td>\n",
       "      <td>2</td>\n",
       "      <td>7</td>\n",
       "      <td>7</td>\n",
       "      <td>34</td>\n",
       "      <td>-50</td>\n",
       "      <td>1.416667</td>\n",
       "      <td>1.25</td>\n",
       "      <td>-4.166667</td>\n",
       "    </tr>\n",
       "  </tbody>\n",
       "</table>\n",
       "<p>1 rows × 31 columns</p>\n",
       "</div>"
      ],
      "text/plain": [
       "       player_id   season     team_id team_abbreviation  gp  w  l  fgm  fga  \\\n",
       "13167    1629541  2018-19  1610612740               NOP  12  3  9   12   47   \n",
       "\n",
       "       fg_pct  ...  stl  blk  blka  pf  pfd  pts  plus_minus       eff   pir  \\\n",
       "13167   0.255  ...    1    0     2   7    7   34         -50  1.416667  1.25   \n",
       "\n",
       "            +/-  \n",
       "13167 -4.166667  \n",
       "\n",
       "[1 rows x 31 columns]"
      ]
     },
     "execution_count": 16,
     "metadata": {},
     "output_type": "execute_result"
    }
   ],
   "source": [
    "# Here we group by both player and season so that we can pull particular efficiency scores per player per year.\n",
    "\n",
    "df_by_p_s = df_nba.groupby(['player_id','season'])\n",
    "\n",
    "df_by_p_s.get_group((max_id,'2018-19'))"
   ]
  },
  {
   "cell_type": "markdown",
   "metadata": {},
   "source": [
    "## Now, we can iterate through team rosters by season to pull the prior year's efficiency metrics per player. \n",
    "\n",
    "Investigate roster dataframe to determine how to properly pull ['eff'] from player dataframe."
   ]
  },
  {
   "cell_type": "code",
   "execution_count": 17,
   "metadata": {},
   "outputs": [
    {
     "name": "stdout",
     "output_type": "stream",
     "text": [
      "<class 'pandas.core.frame.DataFrame'>\n",
      "RangeIndex: 630 entries, 0 to 629\n",
      "Data columns (total 4 columns):\n",
      " #   Column  Non-Null Count  Dtype \n",
      "---  ------  --------------  ----- \n",
      " 0   _id     630 non-null    object\n",
      " 1   team    630 non-null    int64 \n",
      " 2   season  630 non-null    object\n",
      " 3   roster  630 non-null    object\n",
      "dtypes: int64(1), object(3)\n",
      "memory usage: 19.8+ KB\n"
     ]
    }
   ],
   "source": [
    "df_r.info()"
   ]
  },
  {
   "cell_type": "markdown",
   "metadata": {},
   "source": [
    "Again, we can drop the '_id' column, as this is just a mongo convention"
   ]
  },
  {
   "cell_type": "code",
   "execution_count": 18,
   "metadata": {},
   "outputs": [],
   "source": [
    "df_r.drop(columns = ['_id'], inplace = True)"
   ]
  },
  {
   "cell_type": "code",
   "execution_count": 19,
   "metadata": {},
   "outputs": [
    {
     "data": {
      "text/html": [
       "<div>\n",
       "<style scoped>\n",
       "    .dataframe tbody tr th:only-of-type {\n",
       "        vertical-align: middle;\n",
       "    }\n",
       "\n",
       "    .dataframe tbody tr th {\n",
       "        vertical-align: top;\n",
       "    }\n",
       "\n",
       "    .dataframe thead th {\n",
       "        text-align: right;\n",
       "    }\n",
       "</style>\n",
       "<table border=\"1\" class=\"dataframe\">\n",
       "  <thead>\n",
       "    <tr style=\"text-align: right;\">\n",
       "      <th></th>\n",
       "      <th>team</th>\n",
       "      <th>season</th>\n",
       "      <th>roster</th>\n",
       "    </tr>\n",
       "  </thead>\n",
       "  <tbody>\n",
       "    <tr>\n",
       "      <th>0</th>\n",
       "      <td>1610612737</td>\n",
       "      <td>1998-99</td>\n",
       "      <td>[673, 1533, 1544, 87, 1516, 3, 1852, 111, 770,...</td>\n",
       "    </tr>\n",
       "    <tr>\n",
       "      <th>1</th>\n",
       "      <td>1610612738</td>\n",
       "      <td>1998-99</td>\n",
       "      <td>[692, 952, 1477, 1800, 344, 368, 35, 65, 72, 1...</td>\n",
       "    </tr>\n",
       "    <tr>\n",
       "      <th>2</th>\n",
       "      <td>1610612739</td>\n",
       "      <td>1998-99</td>\n",
       "      <td>[692, 226, 682, 1510, 1538, 916, 198, 1507, 18...</td>\n",
       "    </tr>\n",
       "    <tr>\n",
       "      <th>3</th>\n",
       "      <td>1610612740</td>\n",
       "      <td>1998-99</td>\n",
       "      <td>[]</td>\n",
       "    </tr>\n",
       "    <tr>\n",
       "      <th>4</th>\n",
       "      <td>1610612741</td>\n",
       "      <td>1998-99</td>\n",
       "      <td>[457, 82, 699, 1869, 1736, 1757, 54, 1522, 160...</td>\n",
       "    </tr>\n",
       "  </tbody>\n",
       "</table>\n",
       "</div>"
      ],
      "text/plain": [
       "         team   season                                             roster\n",
       "0  1610612737  1998-99  [673, 1533, 1544, 87, 1516, 3, 1852, 111, 770,...\n",
       "1  1610612738  1998-99  [692, 952, 1477, 1800, 344, 368, 35, 65, 72, 1...\n",
       "2  1610612739  1998-99  [692, 226, 682, 1510, 1538, 916, 198, 1507, 18...\n",
       "3  1610612740  1998-99                                                 []\n",
       "4  1610612741  1998-99  [457, 82, 699, 1869, 1736, 1757, 54, 1522, 160..."
      ]
     },
     "execution_count": 19,
     "metadata": {},
     "output_type": "execute_result"
    }
   ],
   "source": [
    "df_r.head()"
   ]
  },
  {
   "cell_type": "markdown",
   "metadata": {},
   "source": [
    "## It will be worthwhile to examine the sizes of the rosters so that we can encompass to see if there's any relationship between that and a team's success. "
   ]
  },
  {
   "cell_type": "code",
   "execution_count": 20,
   "metadata": {},
   "outputs": [],
   "source": [
    "df_r['len_roster'] = [len(r) for r in df_r['roster'].to_numpy()]"
   ]
  },
  {
   "cell_type": "code",
   "execution_count": 21,
   "metadata": {},
   "outputs": [
    {
     "data": {
      "text/html": [
       "<div>\n",
       "<style scoped>\n",
       "    .dataframe tbody tr th:only-of-type {\n",
       "        vertical-align: middle;\n",
       "    }\n",
       "\n",
       "    .dataframe tbody tr th {\n",
       "        vertical-align: top;\n",
       "    }\n",
       "\n",
       "    .dataframe thead th {\n",
       "        text-align: right;\n",
       "    }\n",
       "</style>\n",
       "<table border=\"1\" class=\"dataframe\">\n",
       "  <thead>\n",
       "    <tr style=\"text-align: right;\">\n",
       "      <th></th>\n",
       "      <th>team</th>\n",
       "      <th>season</th>\n",
       "      <th>roster</th>\n",
       "      <th>len_roster</th>\n",
       "    </tr>\n",
       "  </thead>\n",
       "  <tbody>\n",
       "    <tr>\n",
       "      <th>536</th>\n",
       "      <td>1610612763</td>\n",
       "      <td>2015-16</td>\n",
       "      <td>[1627293, 2757, 201148, 1627362, 203955, 2365,...</td>\n",
       "      <td>28</td>\n",
       "    </tr>\n",
       "    <tr>\n",
       "      <th>626</th>\n",
       "      <td>1610612763</td>\n",
       "      <td>2018-19</td>\n",
       "      <td>[1626150, 202340, 203998, 101139, 202718, 2034...</td>\n",
       "      <td>28</td>\n",
       "    </tr>\n",
       "  </tbody>\n",
       "</table>\n",
       "</div>"
      ],
      "text/plain": [
       "           team   season                                             roster  \\\n",
       "536  1610612763  2015-16  [1627293, 2757, 201148, 1627362, 203955, 2365,...   \n",
       "626  1610612763  2018-19  [1626150, 202340, 203998, 101139, 202718, 2034...   \n",
       "\n",
       "     len_roster  \n",
       "536          28  \n",
       "626          28  "
      ]
     },
     "execution_count": 21,
     "metadata": {},
     "output_type": "execute_result"
    }
   ],
   "source": [
    "max_r = df_r['len_roster'][np.argmax(df_r['len_roster'])]\n",
    "df_r.loc[df_r['len_roster']==max_r]"
   ]
  },
  {
   "cell_type": "markdown",
   "metadata": {},
   "source": [
    "### It's unlikely that the efficiency scores for all 28 people on this particular roster will be noteworthy features. Furthermore, only 17 players are allowed to be on the active roster for an NBA team. Because we are interested in making a prediction using the beginning of season roster, we'll need to ensure that players who move teams throughout the year are properly accounted for when iterating through rosters and pulling from the player data."
   ]
  },
  {
   "cell_type": "markdown",
   "metadata": {},
   "source": [
    "## For sake of indexing, we need to get all unique team IDs and seasons into two separate arrays.\n",
    "\n",
    "We'll then group the roster dataframe by team and season, and use Pandas' get_group() method to pull the roster for a given season. We'll then iterate through the roster to select player efficiency scores from the prior year in the df_by_player dataframe via player_id and season. "
   ]
  },
  {
   "cell_type": "code",
   "execution_count": 22,
   "metadata": {},
   "outputs": [
    {
     "data": {
      "text/plain": [
       "(array([1610612737, 1610612738, 1610612739, 1610612740, 1610612741,\n",
       "        1610612742, 1610612743, 1610612744, 1610612745, 1610612746,\n",
       "        1610612747, 1610612748, 1610612749, 1610612750, 1610612751,\n",
       "        1610612752, 1610612753, 1610612754, 1610612755, 1610612756,\n",
       "        1610612757, 1610612758, 1610612759, 1610612760, 1610612761,\n",
       "        1610612762, 1610612763, 1610612764, 1610612765, 1610612766]),\n",
       " array(['1997-98', '1998-99', '1999-00', '2000-01', '2001-02', '2002-03',\n",
       "        '2003-04', '2004-05', '2005-06', '2006-07', '2007-08', '2008-09',\n",
       "        '2009-10', '2010-11', '2011-12', '2012-13', '2013-14', '2014-15',\n",
       "        '2015-16', '2016-17', '2017-18', '2018-19'], dtype=object))"
      ]
     },
     "execution_count": 22,
     "metadata": {},
     "output_type": "execute_result"
    }
   ],
   "source": [
    "teams = np.unique(df_team['TeamID'])\n",
    "seasons = np.unique(df_nba['season'])\n",
    "\n",
    "teams,seasons"
   ]
  },
  {
   "cell_type": "markdown",
   "metadata": {},
   "source": [
    "## Group roster dataframe by team_id and season"
   ]
  },
  {
   "cell_type": "code",
   "execution_count": 23,
   "metadata": {},
   "outputs": [],
   "source": [
    "df_r = df_r.groupby(['team','season'])\n"
   ]
  },
  {
   "cell_type": "code",
   "execution_count": 24,
   "metadata": {},
   "outputs": [
    {
     "name": "stdout",
     "output_type": "stream",
     "text": [
      "[673, 1533, 1544, 87, 1516, 3, 1852, 111, 770, 302, 1728, 1742, 120, 895]\n"
     ]
    }
   ],
   "source": [
    "roster = df_r.get_group((1610612737,'1998-99'))['roster']\n",
    "for r in roster:\n",
    "    print(r)"
   ]
  },
  {
   "cell_type": "markdown",
   "metadata": {},
   "source": [
    "Because the line above just converted the variable df_r to a Pandas' groupby object, we'll need to call get_group() going forward to view and pull data.\n",
    "\n",
    "Let's use our 'teams' and 'seasons' lists from above to do just that.\n",
    "\n",
    "### Again, because we are interested in a pre-season prediction, we want to ensure that we're only pulling player data from players who were on the roster at the beginning of the year. We can check for multiple entries for a player within a given year, and then ensure that we only upload a statistic on behalf of a player to the team on which they began a season."
   ]
  },
  {
   "cell_type": "code",
   "execution_count": 25,
   "metadata": {},
   "outputs": [],
   "source": [
    "#Generalized function for generating a feature matrix\n",
    "def gen_X(teams,seasons,stat,n_p=17):  \n",
    "    \n",
    "    \"\"\"\n",
    "    PARAMETERS:\n",
    "    \n",
    "    teams - list of team IDs\n",
    "    season - list of seasons\n",
    "    stat - string of column title in player dataframe for statistic of interest\n",
    "    n_p - int, number of players on a roster to consider. Defaults to 17 as this is the max number of active players\n",
    "    a roster may have at a given time\n",
    "    \n",
    "    RETURNS:\n",
    "    \n",
    "    Feature matrix to be used for predicting wins and playoff rankings of teams\n",
    "    \"\"\"\n",
    "    \n",
    "    X = []\n",
    "\n",
    "    # Index into each team\n",
    "    for t in teams:\n",
    "\n",
    "        # Index into each season\n",
    "        for idx, s in enumerate(seasons):\n",
    "\n",
    "            # We only care about prior year stats, and we can't index into the prior year if idx is 0\n",
    "            if idx > 0:\n",
    "\n",
    "                # create a row for our features array\n",
    "                row = [int(t),s]\n",
    "\n",
    "                #accumulator for efficiency scores\n",
    "                lst_stat = []\n",
    "\n",
    "                # select roster and loop through player_ids to pull efficiency scores from prior year in df_by_player\n",
    "                roster = list(df_r.get_group((t.item(),s))['roster'])\n",
    "\n",
    "                for p in roster[0]:\n",
    "\n",
    "                    #for sake of testing the code, make sure a player_id is in our dataset\n",
    "                    if p in df_nba['player_id'].to_numpy():\n",
    "\n",
    "                        #Check a given season is relevant to a player\n",
    "                        if seasons[idx-1] in df_by_player.get_group(p)['season'].to_numpy():\n",
    "\n",
    "                            # verify a player started the season with team\n",
    "                            # the -1 index is because team order is reverse chronilogical\n",
    "\n",
    "                            if t == df_by_p_s.get_group((p,s))['team_id'].to_numpy()[-1]:          \n",
    "\n",
    "                                \"\"\"Select a player's efficiency score from the prior season, because \n",
    "                                we want to predict outcomes of current year. \n",
    "                                The index 0 ensures we pull cummulative stats for players who \n",
    "                                spent the prior season on multiple teams.\"\"\"\n",
    "\n",
    "                                stat_ = df_by_p_s.get_group((p,seasons[idx-1]))[stat].to_numpy()[0]\n",
    "                                lst_stat.append(int(stat_))\n",
    "                \n",
    "\n",
    "            #Create accumulator array to account for differing sizes in rosters\n",
    "                final_stat = np.zeros(19)\n",
    "                for idx,stat_ in enumerate(lst_stat):\n",
    "                    final_stat[idx] = int(stat_)\n",
    "\n",
    "                \"\"\"Sort efficiency scores in descending order such that we are comparing players \n",
    "                of equal team hierarchical rank within feature columns\"\"\"\n",
    "                # take n_p best players per efficiency statistic\n",
    "                final_stat = np.sort(final_stat)[::-1][:n_p]\n",
    "\n",
    "                row = np.concatenate((row,final_stat), axis = None)\n",
    "\n",
    "                X.append(row)\n",
    "    \n",
    "    # Generate dataframe and properly name columns\n",
    "    df_X = pd.DataFrame(X)\n",
    "    \n",
    "    col_names = dict()\n",
    "\n",
    "    for idx,col in enumerate(df_X.columns):\n",
    "        if idx>1:\n",
    "            col_names[idx] = f'player_{stat}_rank{idx-1}'\n",
    "        elif idx == 0:\n",
    "            col_names[idx] = 'team_id'\n",
    "        else:\n",
    "            col_names[idx] = 'season'\n",
    "    \n",
    "    df_X.rename(columns = col_names, inplace=True)\n",
    "    \n",
    "    return df_X"
   ]
  },
  {
   "cell_type": "code",
   "execution_count": 26,
   "metadata": {},
   "outputs": [],
   "source": [
    "df_X = gen_X(teams,seasons,'eff',10)"
   ]
  },
  {
   "cell_type": "markdown",
   "metadata": {},
   "source": [
    "## We have our features matrix (X) above. Now onto our targets. "
   ]
  },
  {
   "cell_type": "code",
   "execution_count": 27,
   "metadata": {},
   "outputs": [
    {
     "name": "stdout",
     "output_type": "stream",
     "text": [
      "<class 'pandas.core.frame.DataFrame'>\n",
      "RangeIndex: 624 entries, 0 to 623\n",
      "Data columns (total 14 columns):\n",
      " #   Column            Non-Null Count  Dtype \n",
      "---  ------            --------------  ----- \n",
      " 0   _id               624 non-null    object\n",
      " 1   SeasonID          624 non-null    object\n",
      " 2   TeamID            624 non-null    int64 \n",
      " 3   TeamCity          624 non-null    object\n",
      " 4   TeamName          624 non-null    object\n",
      " 5   Conference        624 non-null    object\n",
      " 6   ConferenceRecord  624 non-null    object\n",
      " 7   PlayoffRank       624 non-null    int64 \n",
      " 8   ClinchIndicator   620 non-null    object\n",
      " 9   Division          624 non-null    object\n",
      " 10  DivisionRecord    624 non-null    object\n",
      " 11  DivisionRank      624 non-null    int64 \n",
      " 12  WINS              624 non-null    int64 \n",
      " 13  LOSSES            624 non-null    int64 \n",
      "dtypes: int64(5), object(9)\n",
      "memory usage: 68.4+ KB\n"
     ]
    }
   ],
   "source": [
    "df_team.info()"
   ]
  },
  {
   "cell_type": "markdown",
   "metadata": {},
   "source": [
    "This study is interested in just the wins per team per season, so let's pullout the pertinent columns."
   ]
  },
  {
   "cell_type": "code",
   "execution_count": 28,
   "metadata": {},
   "outputs": [
    {
     "data": {
      "text/html": [
       "<div>\n",
       "<style scoped>\n",
       "    .dataframe tbody tr th:only-of-type {\n",
       "        vertical-align: middle;\n",
       "    }\n",
       "\n",
       "    .dataframe tbody tr th {\n",
       "        vertical-align: top;\n",
       "    }\n",
       "\n",
       "    .dataframe thead th {\n",
       "        text-align: right;\n",
       "    }\n",
       "</style>\n",
       "<table border=\"1\" class=\"dataframe\">\n",
       "  <thead>\n",
       "    <tr style=\"text-align: right;\">\n",
       "      <th></th>\n",
       "      <th>SeasonID</th>\n",
       "      <th>TeamID</th>\n",
       "      <th>WINS</th>\n",
       "      <th>LOSSES</th>\n",
       "    </tr>\n",
       "  </thead>\n",
       "  <tbody>\n",
       "    <tr>\n",
       "      <th>0</th>\n",
       "      <td>21998</td>\n",
       "      <td>1610612753</td>\n",
       "      <td>33</td>\n",
       "      <td>17</td>\n",
       "    </tr>\n",
       "    <tr>\n",
       "      <th>1</th>\n",
       "      <td>21998</td>\n",
       "      <td>1610612762</td>\n",
       "      <td>37</td>\n",
       "      <td>13</td>\n",
       "    </tr>\n",
       "    <tr>\n",
       "      <th>2</th>\n",
       "      <td>21998</td>\n",
       "      <td>1610612754</td>\n",
       "      <td>33</td>\n",
       "      <td>17</td>\n",
       "    </tr>\n",
       "    <tr>\n",
       "      <th>3</th>\n",
       "      <td>21998</td>\n",
       "      <td>1610612759</td>\n",
       "      <td>37</td>\n",
       "      <td>13</td>\n",
       "    </tr>\n",
       "    <tr>\n",
       "      <th>4</th>\n",
       "      <td>21998</td>\n",
       "      <td>1610612748</td>\n",
       "      <td>33</td>\n",
       "      <td>17</td>\n",
       "    </tr>\n",
       "    <tr>\n",
       "      <th>...</th>\n",
       "      <td>...</td>\n",
       "      <td>...</td>\n",
       "      <td>...</td>\n",
       "      <td>...</td>\n",
       "    </tr>\n",
       "    <tr>\n",
       "      <th>619</th>\n",
       "      <td>22018</td>\n",
       "      <td>1610612740</td>\n",
       "      <td>33</td>\n",
       "      <td>49</td>\n",
       "    </tr>\n",
       "    <tr>\n",
       "      <th>620</th>\n",
       "      <td>22018</td>\n",
       "      <td>1610612742</td>\n",
       "      <td>33</td>\n",
       "      <td>49</td>\n",
       "    </tr>\n",
       "    <tr>\n",
       "      <th>621</th>\n",
       "      <td>22018</td>\n",
       "      <td>1610612739</td>\n",
       "      <td>19</td>\n",
       "      <td>63</td>\n",
       "    </tr>\n",
       "    <tr>\n",
       "      <th>622</th>\n",
       "      <td>22018</td>\n",
       "      <td>1610612752</td>\n",
       "      <td>17</td>\n",
       "      <td>65</td>\n",
       "    </tr>\n",
       "    <tr>\n",
       "      <th>623</th>\n",
       "      <td>22018</td>\n",
       "      <td>1610612756</td>\n",
       "      <td>19</td>\n",
       "      <td>63</td>\n",
       "    </tr>\n",
       "  </tbody>\n",
       "</table>\n",
       "<p>624 rows × 4 columns</p>\n",
       "</div>"
      ],
      "text/plain": [
       "    SeasonID      TeamID  WINS  LOSSES\n",
       "0      21998  1610612753    33      17\n",
       "1      21998  1610612762    37      13\n",
       "2      21998  1610612754    33      17\n",
       "3      21998  1610612759    37      13\n",
       "4      21998  1610612748    33      17\n",
       "..       ...         ...   ...     ...\n",
       "619    22018  1610612740    33      49\n",
       "620    22018  1610612742    33      49\n",
       "621    22018  1610612739    19      63\n",
       "622    22018  1610612752    17      65\n",
       "623    22018  1610612756    19      63\n",
       "\n",
       "[624 rows x 4 columns]"
      ]
     },
     "execution_count": 28,
     "metadata": {},
     "output_type": "execute_result"
    }
   ],
   "source": [
    "df_team = df_team[['SeasonID','TeamID','WINS','LOSSES']]\n",
    "df_team"
   ]
  },
  {
   "cell_type": "markdown",
   "metadata": {},
   "source": [
    "## Note: There are only 50 games played in the 1998 season, so we'll need to transform that data to estimate the 82 game win total so it's consistent with the rest of our data."
   ]
  },
  {
   "cell_type": "code",
   "execution_count": 29,
   "metadata": {},
   "outputs": [],
   "source": [
    "df_team['w'] = ((df_team['WINS'] / (df_team['WINS']+df_team['LOSSES'])) * 82).round()"
   ]
  },
  {
   "cell_type": "code",
   "execution_count": 30,
   "metadata": {},
   "outputs": [],
   "source": [
    "df_team.rename(columns = {'TeamID': 'team_id'}, inplace= True)"
   ]
  },
  {
   "cell_type": "markdown",
   "metadata": {},
   "source": [
    "Now we'll drop the 'WINS' and 'LOSSES' columns as they're extraneous."
   ]
  },
  {
   "cell_type": "code",
   "execution_count": 31,
   "metadata": {},
   "outputs": [],
   "source": [
    "df_team.drop(columns = ['WINS','LOSSES'], inplace = True)"
   ]
  },
  {
   "cell_type": "code",
   "execution_count": 32,
   "metadata": {},
   "outputs": [
    {
     "data": {
      "text/plain": [
       "(array(['21998', '21999', '22000', '22001', '22002', '22003', '22004',\n",
       "        '22005', '22006', '22007', '22008', '22009', '22010', '22011',\n",
       "        '22012', '22013', '22014', '22015', '22016', '22017', '22018'],\n",
       "       dtype=object),\n",
       " array(['1997-98', '1998-99', '1999-00', '2000-01', '2001-02', '2002-03',\n",
       "        '2003-04', '2004-05', '2005-06', '2006-07', '2007-08', '2008-09',\n",
       "        '2009-10', '2010-11', '2011-12', '2012-13', '2013-14', '2014-15',\n",
       "        '2015-16', '2016-17', '2017-18', '2018-19'], dtype=object))"
      ]
     },
     "execution_count": 32,
     "metadata": {},
     "output_type": "execute_result"
    }
   ],
   "source": [
    "np.unique(df_team['SeasonID']),np.unique(df_nba['season'])"
   ]
  },
  {
   "cell_type": "markdown",
   "metadata": {},
   "source": [
    "### We should also update our SeasonID columns so that its formatting is the same as that of 'season' in our df_X."
   ]
  },
  {
   "cell_type": "code",
   "execution_count": 33,
   "metadata": {},
   "outputs": [
    {
     "data": {
      "text/plain": [
       "{'21998': '1998-99',\n",
       " '21999': '1999-00',\n",
       " '22000': '2000-01',\n",
       " '22001': '2001-02',\n",
       " '22002': '2002-03',\n",
       " '22003': '2003-04',\n",
       " '22004': '2004-05',\n",
       " '22005': '2005-06',\n",
       " '22006': '2006-07',\n",
       " '22007': '2007-08',\n",
       " '22008': '2008-09',\n",
       " '22009': '2009-10',\n",
       " '22010': '2010-11',\n",
       " '22011': '2011-12',\n",
       " '22012': '2012-13',\n",
       " '22013': '2013-14',\n",
       " '22014': '2014-15',\n",
       " '22015': '2015-16',\n",
       " '22016': '2016-17',\n",
       " '22017': '2017-18',\n",
       " '22018': '2018-19'}"
      ]
     },
     "execution_count": 33,
     "metadata": {},
     "output_type": "execute_result"
    }
   ],
   "source": [
    "season1 = np.unique(df_nba['season'])[1:]\n",
    "season2 = np.unique(df_team['SeasonID'])\n",
    "\n",
    "d = dict()\n",
    "for s1, s2 in zip(season1,season2):\n",
    "    d[s2] = s1\n",
    "    \n",
    "d"
   ]
  },
  {
   "cell_type": "code",
   "execution_count": 34,
   "metadata": {},
   "outputs": [],
   "source": [
    "df_team['season'] = [d[s] for s in df_team['SeasonID']]"
   ]
  },
  {
   "cell_type": "code",
   "execution_count": 35,
   "metadata": {},
   "outputs": [],
   "source": [
    "df_team.drop(columns = 'SeasonID', inplace = True)"
   ]
  },
  {
   "cell_type": "code",
   "execution_count": 36,
   "metadata": {},
   "outputs": [],
   "source": [
    "# Let's get everthing nice and chronological\n",
    "df_team.sort_values(by = ['team_id','season'], inplace=True)"
   ]
  },
  {
   "cell_type": "code",
   "execution_count": 37,
   "metadata": {},
   "outputs": [
    {
     "data": {
      "text/html": [
       "<div>\n",
       "<style scoped>\n",
       "    .dataframe tbody tr th:only-of-type {\n",
       "        vertical-align: middle;\n",
       "    }\n",
       "\n",
       "    .dataframe tbody tr th {\n",
       "        vertical-align: top;\n",
       "    }\n",
       "\n",
       "    .dataframe thead th {\n",
       "        text-align: right;\n",
       "    }\n",
       "</style>\n",
       "<table border=\"1\" class=\"dataframe\">\n",
       "  <thead>\n",
       "    <tr style=\"text-align: right;\">\n",
       "      <th></th>\n",
       "      <th>team_id</th>\n",
       "      <th>w</th>\n",
       "      <th>season</th>\n",
       "    </tr>\n",
       "  </thead>\n",
       "  <tbody>\n",
       "    <tr>\n",
       "      <th>6</th>\n",
       "      <td>1610612737</td>\n",
       "      <td>51.0</td>\n",
       "      <td>1998-99</td>\n",
       "    </tr>\n",
       "    <tr>\n",
       "      <th>56</th>\n",
       "      <td>1610612737</td>\n",
       "      <td>28.0</td>\n",
       "      <td>1999-00</td>\n",
       "    </tr>\n",
       "    <tr>\n",
       "      <th>83</th>\n",
       "      <td>1610612737</td>\n",
       "      <td>25.0</td>\n",
       "      <td>2000-01</td>\n",
       "    </tr>\n",
       "    <tr>\n",
       "      <th>109</th>\n",
       "      <td>1610612737</td>\n",
       "      <td>33.0</td>\n",
       "      <td>2001-02</td>\n",
       "    </tr>\n",
       "    <tr>\n",
       "      <th>136</th>\n",
       "      <td>1610612737</td>\n",
       "      <td>35.0</td>\n",
       "      <td>2002-03</td>\n",
       "    </tr>\n",
       "    <tr>\n",
       "      <th>...</th>\n",
       "      <td>...</td>\n",
       "      <td>...</td>\n",
       "      <td>...</td>\n",
       "    </tr>\n",
       "    <tr>\n",
       "      <th>494</th>\n",
       "      <td>1610612766</td>\n",
       "      <td>33.0</td>\n",
       "      <td>2014-15</td>\n",
       "    </tr>\n",
       "    <tr>\n",
       "      <th>515</th>\n",
       "      <td>1610612766</td>\n",
       "      <td>48.0</td>\n",
       "      <td>2015-16</td>\n",
       "    </tr>\n",
       "    <tr>\n",
       "      <th>554</th>\n",
       "      <td>1610612766</td>\n",
       "      <td>36.0</td>\n",
       "      <td>2016-17</td>\n",
       "    </tr>\n",
       "    <tr>\n",
       "      <th>583</th>\n",
       "      <td>1610612766</td>\n",
       "      <td>36.0</td>\n",
       "      <td>2017-18</td>\n",
       "    </tr>\n",
       "    <tr>\n",
       "      <th>611</th>\n",
       "      <td>1610612766</td>\n",
       "      <td>39.0</td>\n",
       "      <td>2018-19</td>\n",
       "    </tr>\n",
       "  </tbody>\n",
       "</table>\n",
       "<p>624 rows × 3 columns</p>\n",
       "</div>"
      ],
      "text/plain": [
       "        team_id     w   season\n",
       "6    1610612737  51.0  1998-99\n",
       "56   1610612737  28.0  1999-00\n",
       "83   1610612737  25.0  2000-01\n",
       "109  1610612737  33.0  2001-02\n",
       "136  1610612737  35.0  2002-03\n",
       "..          ...   ...      ...\n",
       "494  1610612766  33.0  2014-15\n",
       "515  1610612766  48.0  2015-16\n",
       "554  1610612766  36.0  2016-17\n",
       "583  1610612766  36.0  2017-18\n",
       "611  1610612766  39.0  2018-19\n",
       "\n",
       "[624 rows x 3 columns]"
      ]
     },
     "execution_count": 37,
     "metadata": {},
     "output_type": "execute_result"
    }
   ],
   "source": [
    "df_team"
   ]
  },
  {
   "cell_type": "code",
   "execution_count": 38,
   "metadata": {},
   "outputs": [
    {
     "name": "stdout",
     "output_type": "stream",
     "text": [
      "<class 'pandas.core.frame.DataFrame'>\n",
      "Int64Index: 624 entries, 6 to 611\n",
      "Data columns (total 3 columns):\n",
      " #   Column   Non-Null Count  Dtype  \n",
      "---  ------   --------------  -----  \n",
      " 0   team_id  624 non-null    int64  \n",
      " 1   w        624 non-null    float64\n",
      " 2   season   624 non-null    object \n",
      "dtypes: float64(1), int64(1), object(1)\n",
      "memory usage: 19.5+ KB\n",
      "<class 'pandas.core.frame.DataFrame'>\n",
      "RangeIndex: 630 entries, 0 to 629\n",
      "Data columns (total 12 columns):\n",
      " #   Column             Non-Null Count  Dtype \n",
      "---  ------             --------------  ----- \n",
      " 0   team_id            630 non-null    object\n",
      " 1   season             630 non-null    object\n",
      " 2   player_eff_rank1   630 non-null    object\n",
      " 3   player_eff_rank2   630 non-null    object\n",
      " 4   player_eff_rank3   630 non-null    object\n",
      " 5   player_eff_rank4   630 non-null    object\n",
      " 6   player_eff_rank5   630 non-null    object\n",
      " 7   player_eff_rank6   630 non-null    object\n",
      " 8   player_eff_rank7   630 non-null    object\n",
      " 9   player_eff_rank8   630 non-null    object\n",
      " 10  player_eff_rank9   630 non-null    object\n",
      " 11  player_eff_rank10  630 non-null    object\n",
      "dtypes: object(12)\n",
      "memory usage: 59.2+ KB\n"
     ]
    },
    {
     "data": {
      "text/plain": [
       "(None, None)"
      ]
     },
     "execution_count": 38,
     "metadata": {},
     "output_type": "execute_result"
    }
   ],
   "source": [
    "df_team.info(),df_X.info()"
   ]
  },
  {
   "cell_type": "markdown",
   "metadata": {},
   "source": [
    "## Uh-oh, looks like our shapes are different for our feature dataframe and our targets. Let's investigate the shape discrepancy."
   ]
  },
  {
   "cell_type": "code",
   "execution_count": 39,
   "metadata": {},
   "outputs": [
    {
     "data": {
      "text/plain": [
       "(array(['1610612737', '1610612738', '1610612739', '1610612740',\n",
       "        '1610612741', '1610612742', '1610612743', '1610612744',\n",
       "        '1610612745', '1610612746', '1610612747', '1610612748',\n",
       "        '1610612749', '1610612750', '1610612751', '1610612752',\n",
       "        '1610612753', '1610612754', '1610612755', '1610612756',\n",
       "        '1610612757', '1610612758', '1610612759', '1610612760',\n",
       "        '1610612761', '1610612762', '1610612763', '1610612764',\n",
       "        '1610612765', '1610612766'], dtype=object),\n",
       " array([21, 21, 21, 21, 21, 21, 21, 21, 21, 21, 21, 21, 21, 21, 21, 21, 21,\n",
       "        21, 21, 21, 21, 21, 21, 21, 21, 21, 21, 21, 21, 21]))"
      ]
     },
     "execution_count": 39,
     "metadata": {},
     "output_type": "execute_result"
    }
   ],
   "source": [
    "np.unique(df_X['team_id'], return_counts = True)"
   ]
  },
  {
   "cell_type": "code",
   "execution_count": 40,
   "metadata": {},
   "outputs": [
    {
     "data": {
      "text/plain": [
       "(array([1610612737, 1610612738, 1610612739, 1610612740, 1610612741,\n",
       "        1610612742, 1610612743, 1610612744, 1610612745, 1610612746,\n",
       "        1610612747, 1610612748, 1610612749, 1610612750, 1610612751,\n",
       "        1610612752, 1610612753, 1610612754, 1610612755, 1610612756,\n",
       "        1610612757, 1610612758, 1610612759, 1610612760, 1610612761,\n",
       "        1610612762, 1610612763, 1610612764, 1610612765, 1610612766]),\n",
       " array([21, 21, 21, 17, 21, 21, 21, 21, 21, 21, 21, 21, 21, 21, 21, 21, 21,\n",
       "        21, 21, 21, 21, 21, 21, 21, 21, 21, 21, 21, 21, 19]))"
      ]
     },
     "execution_count": 40,
     "metadata": {},
     "output_type": "execute_result"
    }
   ],
   "source": [
    "np.unique(df_team['team_id'], return_counts = True)"
   ]
  },
  {
   "cell_type": "markdown",
   "metadata": {},
   "source": [
    "## Team_id 1610612740 only appears 17 times, and team_id 1610612766 only appears 19 times.\n",
    "\n",
    "Perhaps this has to do with a team becoming defunct or moving locations. Let's figure out which franchises belong to these team_id values"
   ]
  },
  {
   "cell_type": "code",
   "execution_count": 41,
   "metadata": {},
   "outputs": [
    {
     "data": {
      "text/plain": [
       "((array(['NOH', 'NOK', 'NOP'], dtype=object), array([173,  34, 158])),\n",
       " 124    2002-03\n",
       " 153    2003-04\n",
       " 202    2004-05\n",
       " 223    2005-06\n",
       " 253    2006-07\n",
       " 266    2007-08\n",
       " 307    2008-09\n",
       " 345    2009-10\n",
       " 366    2010-11\n",
       " 412    2011-12\n",
       " 440    2012-13\n",
       " 466    2013-14\n",
       " 489    2014-15\n",
       " 527    2015-16\n",
       " 553    2016-17\n",
       " 575    2017-18\n",
       " 619    2018-19\n",
       " Name: season, dtype: object)"
      ]
     },
     "execution_count": 41,
     "metadata": {},
     "output_type": "execute_result"
    }
   ],
   "source": [
    "np.unique(df_nba.loc[df_nba['team_id']==1610612740]['team_abbreviation'], return_counts = True), df_team.loc[df_team['team_id']==1610612740]['season']"
   ]
  },
  {
   "cell_type": "code",
   "execution_count": 42,
   "metadata": {},
   "outputs": [
    {
     "data": {
      "text/plain": [
       "((array(['CHA', 'CHH'], dtype=object), array([286,  73])),\n",
       " 17     1998-99\n",
       " 35     1999-00\n",
       " 68     2000-01\n",
       " 93     2001-02\n",
       " 201    2004-05\n",
       " 229    2005-06\n",
       " 255    2006-07\n",
       " 286    2007-08\n",
       " 312    2008-09\n",
       " 336    2009-10\n",
       " 372    2010-11\n",
       " 413    2011-12\n",
       " 441    2012-13\n",
       " 456    2013-14\n",
       " 494    2014-15\n",
       " 515    2015-16\n",
       " 554    2016-17\n",
       " 583    2017-18\n",
       " 611    2018-19\n",
       " Name: season, dtype: object)"
      ]
     },
     "execution_count": 42,
     "metadata": {},
     "output_type": "execute_result"
    }
   ],
   "source": [
    "np.unique(df_nba.loc[df_nba['team_id']==1610612766]['team_abbreviation'], return_counts = True), df_team.loc[df_team['team_id']==1610612766]['season']"
   ]
  },
  {
   "cell_type": "markdown",
   "metadata": {},
   "source": [
    "#### As suspected, both of the above franchises have undergone relocations in the most recent 20 years.\n",
    "\n",
    "#### For New Orleans, we're missing the following seasons' data: 1998-99,1999-2000, 2000-01, 2001-02. \n",
    "#### For Charlotte, we're missing: 2002-03,2003-04\n",
    "\n",
    "#### So, let's ensure that we're only pairing feature rows with records that actually have wins and playoff rank data."
   ]
  },
  {
   "cell_type": "code",
   "execution_count": 43,
   "metadata": {},
   "outputs": [],
   "source": [
    "# store wins and playoff ranks pertinent to each season by team as targets.\n",
    "\n",
    "def get_y(df_X,df_y,y_col):\n",
    "    \n",
    "    \"\"\"\n",
    "    PARAMETERS:\n",
    "    \n",
    "    df_X: Pandas DataFrame containing feature values\n",
    "    df_y: Pandas DataFrame containing target values\n",
    "    y_col: list of column names of desired target values\n",
    "    \n",
    "    RETURNS:\n",
    "    DataFrame with both features and target values to be used for model fitting. \n",
    "    \n",
    "    \"\"\"\n",
    "\n",
    "    for y in y_col:\n",
    "        \n",
    "        arr_y = []\n",
    "        for t,s in zip(df_X['team_id'],df_X['season']):\n",
    "            if s not in df_y.loc[df_y['team_id']==int(t)]['season'].to_numpy():\n",
    "                y_ = None\n",
    "                arr_y.append(y_)\n",
    "\n",
    "            else:\n",
    "                y_ = df_y.loc[(df_y['team_id']==int(t)) & (df_y['season'] == s)][y].to_numpy()[0]\n",
    "                arr_y.append(y_)\n",
    "        \n",
    "        arr_y = np.array(arr_y)\n",
    "        \n",
    "        df_X[y] = arr_y\n",
    "    \n",
    "    #get rid of rows with null values in target columns\n",
    "    df_X.dropna(inplace = True)\n",
    "    \n",
    "    return df_X"
   ]
  },
  {
   "cell_type": "code",
   "execution_count": 44,
   "metadata": {},
   "outputs": [],
   "source": [
    "df_X = gen_X(teams,seasons,'eff',10)"
   ]
  },
  {
   "cell_type": "code",
   "execution_count": 45,
   "metadata": {},
   "outputs": [],
   "source": [
    "X_eff = get_y(df_X,df_team,['w'])"
   ]
  },
  {
   "cell_type": "code",
   "execution_count": 46,
   "metadata": {},
   "outputs": [
    {
     "data": {
      "text/html": [
       "<div>\n",
       "<style scoped>\n",
       "    .dataframe tbody tr th:only-of-type {\n",
       "        vertical-align: middle;\n",
       "    }\n",
       "\n",
       "    .dataframe tbody tr th {\n",
       "        vertical-align: top;\n",
       "    }\n",
       "\n",
       "    .dataframe thead th {\n",
       "        text-align: right;\n",
       "    }\n",
       "</style>\n",
       "<table border=\"1\" class=\"dataframe\">\n",
       "  <thead>\n",
       "    <tr style=\"text-align: right;\">\n",
       "      <th></th>\n",
       "      <th>team_id</th>\n",
       "      <th>season</th>\n",
       "      <th>player_eff_rank1</th>\n",
       "      <th>player_eff_rank2</th>\n",
       "      <th>player_eff_rank3</th>\n",
       "      <th>player_eff_rank4</th>\n",
       "      <th>player_eff_rank5</th>\n",
       "      <th>player_eff_rank6</th>\n",
       "      <th>player_eff_rank7</th>\n",
       "      <th>player_eff_rank8</th>\n",
       "      <th>player_eff_rank9</th>\n",
       "      <th>player_eff_rank10</th>\n",
       "      <th>w</th>\n",
       "    </tr>\n",
       "  </thead>\n",
       "  <tbody>\n",
       "    <tr>\n",
       "      <th>0</th>\n",
       "      <td>1610612737</td>\n",
       "      <td>1998-99</td>\n",
       "      <td>21.0</td>\n",
       "      <td>18.0</td>\n",
       "      <td>16.0</td>\n",
       "      <td>14.0</td>\n",
       "      <td>13.0</td>\n",
       "      <td>11.0</td>\n",
       "      <td>7.0</td>\n",
       "      <td>6.0</td>\n",
       "      <td>3.0</td>\n",
       "      <td>1.0</td>\n",
       "      <td>51</td>\n",
       "    </tr>\n",
       "    <tr>\n",
       "      <th>1</th>\n",
       "      <td>1610612737</td>\n",
       "      <td>1999-00</td>\n",
       "      <td>20.0</td>\n",
       "      <td>12.0</td>\n",
       "      <td>11.0</td>\n",
       "      <td>10.0</td>\n",
       "      <td>10.0</td>\n",
       "      <td>9.0</td>\n",
       "      <td>8.0</td>\n",
       "      <td>5.0</td>\n",
       "      <td>4.0</td>\n",
       "      <td>2.0</td>\n",
       "      <td>28</td>\n",
       "    </tr>\n",
       "    <tr>\n",
       "      <th>2</th>\n",
       "      <td>1610612737</td>\n",
       "      <td>2000-01</td>\n",
       "      <td>23.0</td>\n",
       "      <td>13.0</td>\n",
       "      <td>13.0</td>\n",
       "      <td>9.0</td>\n",
       "      <td>7.0</td>\n",
       "      <td>6.0</td>\n",
       "      <td>5.0</td>\n",
       "      <td>5.0</td>\n",
       "      <td>4.0</td>\n",
       "      <td>4.0</td>\n",
       "      <td>25</td>\n",
       "    </tr>\n",
       "    <tr>\n",
       "      <th>3</th>\n",
       "      <td>1610612737</td>\n",
       "      <td>2001-02</td>\n",
       "      <td>22.0</td>\n",
       "      <td>18.0</td>\n",
       "      <td>16.0</td>\n",
       "      <td>11.0</td>\n",
       "      <td>9.0</td>\n",
       "      <td>9.0</td>\n",
       "      <td>7.0</td>\n",
       "      <td>7.0</td>\n",
       "      <td>5.0</td>\n",
       "      <td>5.0</td>\n",
       "      <td>33</td>\n",
       "    </tr>\n",
       "    <tr>\n",
       "      <th>4</th>\n",
       "      <td>1610612737</td>\n",
       "      <td>2002-03</td>\n",
       "      <td>22.0</td>\n",
       "      <td>18.0</td>\n",
       "      <td>18.0</td>\n",
       "      <td>12.0</td>\n",
       "      <td>11.0</td>\n",
       "      <td>10.0</td>\n",
       "      <td>7.0</td>\n",
       "      <td>7.0</td>\n",
       "      <td>6.0</td>\n",
       "      <td>6.0</td>\n",
       "      <td>35</td>\n",
       "    </tr>\n",
       "    <tr>\n",
       "      <th>...</th>\n",
       "      <td>...</td>\n",
       "      <td>...</td>\n",
       "      <td>...</td>\n",
       "      <td>...</td>\n",
       "      <td>...</td>\n",
       "      <td>...</td>\n",
       "      <td>...</td>\n",
       "      <td>...</td>\n",
       "      <td>...</td>\n",
       "      <td>...</td>\n",
       "      <td>...</td>\n",
       "      <td>...</td>\n",
       "      <td>...</td>\n",
       "    </tr>\n",
       "    <tr>\n",
       "      <th>625</th>\n",
       "      <td>1610612766</td>\n",
       "      <td>2014-15</td>\n",
       "      <td>24.0</td>\n",
       "      <td>17.0</td>\n",
       "      <td>17.0</td>\n",
       "      <td>12.0</td>\n",
       "      <td>11.0</td>\n",
       "      <td>9.0</td>\n",
       "      <td>9.0</td>\n",
       "      <td>7.0</td>\n",
       "      <td>7.0</td>\n",
       "      <td>7.0</td>\n",
       "      <td>33</td>\n",
       "    </tr>\n",
       "    <tr>\n",
       "      <th>626</th>\n",
       "      <td>1610612766</td>\n",
       "      <td>2015-16</td>\n",
       "      <td>18.0</td>\n",
       "      <td>15.0</td>\n",
       "      <td>14.0</td>\n",
       "      <td>14.0</td>\n",
       "      <td>11.0</td>\n",
       "      <td>11.0</td>\n",
       "      <td>10.0</td>\n",
       "      <td>7.0</td>\n",
       "      <td>6.0</td>\n",
       "      <td>6.0</td>\n",
       "      <td>48</td>\n",
       "    </tr>\n",
       "    <tr>\n",
       "      <th>627</th>\n",
       "      <td>1610612766</td>\n",
       "      <td>2016-17</td>\n",
       "      <td>20.0</td>\n",
       "      <td>17.0</td>\n",
       "      <td>15.0</td>\n",
       "      <td>14.0</td>\n",
       "      <td>13.0</td>\n",
       "      <td>9.0</td>\n",
       "      <td>9.0</td>\n",
       "      <td>9.0</td>\n",
       "      <td>8.0</td>\n",
       "      <td>8.0</td>\n",
       "      <td>36</td>\n",
       "    </tr>\n",
       "    <tr>\n",
       "      <th>628</th>\n",
       "      <td>1610612766</td>\n",
       "      <td>2017-18</td>\n",
       "      <td>21.0</td>\n",
       "      <td>20.0</td>\n",
       "      <td>18.0</td>\n",
       "      <td>15.0</td>\n",
       "      <td>14.0</td>\n",
       "      <td>14.0</td>\n",
       "      <td>11.0</td>\n",
       "      <td>10.0</td>\n",
       "      <td>7.0</td>\n",
       "      <td>3.0</td>\n",
       "      <td>36</td>\n",
       "    </tr>\n",
       "    <tr>\n",
       "      <th>629</th>\n",
       "      <td>1610612766</td>\n",
       "      <td>2018-19</td>\n",
       "      <td>19.0</td>\n",
       "      <td>14.0</td>\n",
       "      <td>13.0</td>\n",
       "      <td>11.0</td>\n",
       "      <td>10.0</td>\n",
       "      <td>10.0</td>\n",
       "      <td>10.0</td>\n",
       "      <td>9.0</td>\n",
       "      <td>7.0</td>\n",
       "      <td>7.0</td>\n",
       "      <td>39</td>\n",
       "    </tr>\n",
       "  </tbody>\n",
       "</table>\n",
       "<p>624 rows × 13 columns</p>\n",
       "</div>"
      ],
      "text/plain": [
       "        team_id   season player_eff_rank1 player_eff_rank2 player_eff_rank3  \\\n",
       "0    1610612737  1998-99             21.0             18.0             16.0   \n",
       "1    1610612737  1999-00             20.0             12.0             11.0   \n",
       "2    1610612737  2000-01             23.0             13.0             13.0   \n",
       "3    1610612737  2001-02             22.0             18.0             16.0   \n",
       "4    1610612737  2002-03             22.0             18.0             18.0   \n",
       "..          ...      ...              ...              ...              ...   \n",
       "625  1610612766  2014-15             24.0             17.0             17.0   \n",
       "626  1610612766  2015-16             18.0             15.0             14.0   \n",
       "627  1610612766  2016-17             20.0             17.0             15.0   \n",
       "628  1610612766  2017-18             21.0             20.0             18.0   \n",
       "629  1610612766  2018-19             19.0             14.0             13.0   \n",
       "\n",
       "    player_eff_rank4 player_eff_rank5 player_eff_rank6 player_eff_rank7  \\\n",
       "0               14.0             13.0             11.0              7.0   \n",
       "1               10.0             10.0              9.0              8.0   \n",
       "2                9.0              7.0              6.0              5.0   \n",
       "3               11.0              9.0              9.0              7.0   \n",
       "4               12.0             11.0             10.0              7.0   \n",
       "..               ...              ...              ...              ...   \n",
       "625             12.0             11.0              9.0              9.0   \n",
       "626             14.0             11.0             11.0             10.0   \n",
       "627             14.0             13.0              9.0              9.0   \n",
       "628             15.0             14.0             14.0             11.0   \n",
       "629             11.0             10.0             10.0             10.0   \n",
       "\n",
       "    player_eff_rank8 player_eff_rank9 player_eff_rank10   w  \n",
       "0                6.0              3.0               1.0  51  \n",
       "1                5.0              4.0               2.0  28  \n",
       "2                5.0              4.0               4.0  25  \n",
       "3                7.0              5.0               5.0  33  \n",
       "4                7.0              6.0               6.0  35  \n",
       "..               ...              ...               ...  ..  \n",
       "625              7.0              7.0               7.0  33  \n",
       "626              7.0              6.0               6.0  48  \n",
       "627              9.0              8.0               8.0  36  \n",
       "628             10.0              7.0               3.0  36  \n",
       "629              9.0              7.0               7.0  39  \n",
       "\n",
       "[624 rows x 13 columns]"
      ]
     },
     "execution_count": 46,
     "metadata": {},
     "output_type": "execute_result"
    }
   ],
   "source": [
    "X_eff"
   ]
  },
  {
   "cell_type": "markdown",
   "metadata": {},
   "source": [
    "## Let's begin fitting and experimenting with the number of features to see if there's an optimal number of best player individual efficiency scores to include per team. A range of 5 to 17 feels approriate as 5 players need to be on the floor at a given time, and there can be a maximum of 17 players on the active roster of a team.\n",
    "\n",
    "## We'll look at individual EFF, PIR, and +/- scores\n",
    "\n",
    "Because none of our data is categorical, and we can't ensure a linear relationship between our features and targets, a GradientBoost Regressor feels appropriate for regular season wins predictions."
   ]
  },
  {
   "cell_type": "code",
   "execution_count": 47,
   "metadata": {},
   "outputs": [],
   "source": [
    "import sklearn"
   ]
  },
  {
   "cell_type": "code",
   "execution_count": 48,
   "metadata": {},
   "outputs": [],
   "source": [
    "from sklearn.ensemble import GradientBoostingRegressor\n",
    "from sklearn.inspection import permutation_importance\n",
    "from sklearn.model_selection import cross_val_score"
   ]
  },
  {
   "cell_type": "markdown",
   "metadata": {},
   "source": [
    "### Score models by number of features and plot"
   ]
  },
  {
   "cell_type": "code",
   "execution_count": 49,
   "metadata": {},
   "outputs": [],
   "source": [
    "def score_n_features(stat):\n",
    "    \n",
    "    fig,ax = plt.subplots()\n",
    "    \"\"\"\n",
    "    PARAMETERS:\n",
    "    stat - string, column title of statistic of interest\n",
    "    \n",
    "    RETURNS:\n",
    "    None - plots Gradient Boosting model scores associated with number of features\n",
    "    \"\"\"\n",
    "\n",
    "    lst_score = []\n",
    "    lst_n = []\n",
    "    for n in range(5,18):\n",
    "\n",
    "        #generate features and targets\n",
    "        df_X = gen_X(teams,seasons,stat,n)\n",
    "        X = get_y(df_X,df_team,['w'])\n",
    "        \n",
    "        y_w = X['w']\n",
    "        \n",
    "        X = X.drop(columns=['team_id','season','w'])\n",
    "        \n",
    "        #fit and score model\n",
    "        gb_w = GradientBoostingRegressor()\n",
    "        score = np.mean(cross_val_score(gb_w,X,y_w,cv=20))\n",
    "\n",
    "        lst_score.append(round(score,3))\n",
    "        lst_n.append(n)\n",
    "    \n",
    "    max_score = np.max(lst_score)\n",
    "    max_feat = lst_n[np.argmax(lst_score)]\n",
    "    ax.plot(lst_n,lst_score)\n",
    "    ax.annotate(f'({max_feat},{max_score})',(max_feat,max_score))\n",
    "    ax.set_title(f'Number of Features vs. Model Score {stat}')\n",
    "    ax.set_xlabel('Number of Features')\n",
    "    ax.set_ylabel('R^2 Score')\n",
    "    \n",
    "    return None\n",
    "    "
   ]
  },
  {
   "cell_type": "markdown",
   "metadata": {},
   "source": [
    "## EFF results"
   ]
  },
  {
   "cell_type": "code",
   "execution_count": 50,
   "metadata": {},
   "outputs": [
    {
     "data": {
      "image/png": "[encoded data removed]",
      "text/plain": [
       "<Figure size 432x288 with 1 Axes>"
      ]
     },
     "metadata": {},
     "output_type": "display_data"
    }
   ],
   "source": [
    "eff_ind = score_n_features('eff')"
   ]
  },
  {
   "cell_type": "code",
   "execution_count": 75,
   "metadata": {},
   "outputs": [
    {
     "data": {
      "image/png": "[encoded data removed]",
      "text/plain": [
       "<Figure size 432x288 with 1 Axes>"
      ]
     },
     "metadata": {},
     "output_type": "display_data"
    }
   ],
   "source": [
    "eff_ind"
   ]
  },
  {
   "cell_type": "markdown",
   "metadata": {},
   "source": [
    "## PIR results"
   ]
  },
  {
   "cell_type": "code",
   "execution_count": 52,
   "metadata": {},
   "outputs": [
    {
     "data": {
      "image/png": "[encoded data removed]",
      "text/plain": [
       "<Figure size 432x288 with 1 Axes>"
      ]
     },
     "metadata": {},
     "output_type": "display_data"
    }
   ],
   "source": [
    "pir_ind = score_n_features('pir')"
   ]
  },
  {
   "cell_type": "code",
   "execution_count": 53,
   "metadata": {},
   "outputs": [],
   "source": [
    "pir_ind"
   ]
  },
  {
   "cell_type": "markdown",
   "metadata": {},
   "source": [
    "## +/- results"
   ]
  },
  {
   "cell_type": "code",
   "execution_count": 54,
   "metadata": {},
   "outputs": [
    {
     "data": {
      "image/png": "[encoded data removed]",
      "text/plain": [
       "<Figure size 432x288 with 1 Axes>"
      ]
     },
     "metadata": {},
     "output_type": "display_data"
    }
   ],
   "source": [
    "pm_ind = score_n_features('+/-')"
   ]
  },
  {
   "cell_type": "code",
   "execution_count": 55,
   "metadata": {},
   "outputs": [],
   "source": [
    "pm_ind"
   ]
  },
  {
   "cell_type": "markdown",
   "metadata": {},
   "source": [
    "## Individual Player Features Model Summary\n",
    "\n",
    "#### Optimized Individual Player EFF: \n",
    "15 players, cross validated R^2 of 0.155\n",
    "#### Optimized Individual Player PIR: \n",
    "13 players, R^2 of 0.031\n",
    "#### Optimized Individual Player +/-: \n",
    "15 players, R^2 of 0.331\n"
   ]
  },
  {
   "cell_type": "markdown",
   "metadata": {},
   "source": [
    "\n",
    "# Circle back\n",
    "\n",
    "\n",
    "## So we know which feature levels perform the best for the above models. Let's take a peak at feature importances to see if we can pinpoint which feature importances are most informative.\n",
    "\n",
    "### Feature importances can be a bit misleading. While they describe the extent to which a feature helps a model make accurate predictions, they don't describe directionality, nor correlation of the features to a particular target. \n",
    "\n",
    "### Let's compare feature importances and Pearson Correlation p-values for each feature to provide a detailed understanding of each feature."
   ]
  },
  {
   "cell_type": "code",
   "execution_count": 56,
   "metadata": {},
   "outputs": [],
   "source": [
    "from sklearn.inspection import permutation_importance\n",
    "from scipy.stats import pearsonr"
   ]
  },
  {
   "cell_type": "markdown",
   "metadata": {},
   "source": [
    "### Below is a plotting function that calculates feature importance for a given model and plots the distributions of those features. "
   ]
  },
  {
   "cell_type": "code",
   "execution_count": 57,
   "metadata": {},
   "outputs": [],
   "source": [
    "def plot_imp(stat,n_feat):\n",
    "    \n",
    "    \n",
    "    cols = 4\n",
    "    if n_feat%cols == 0:\n",
    "        rows = n_feat/cols\n",
    "    else:\n",
    "        rows = (n_feat//cols) + 1\n",
    "\n",
    "    fig, ax = plt.subplots(rows, cols, figsize=(15,12))\n",
    "    \"\"\"\n",
    "    PARAMETERS:\n",
    "    stat - string, Column title for statistic of interest\n",
    "    n_feat - int, number of features to be included in model\n",
    "    \n",
    "    RETURNS:\n",
    "    -Array of feature titles sorted by importance\n",
    "    -Plots boxplot distributions of features in order of features in order of feature importance.\n",
    "    \"\"\"\n",
    "    \n",
    "    df_X = gen_X(teams,seasons,stat,n_feat)\n",
    "    X = get_y(df_X,df_team,['w'])\n",
    "    y_w = X['w']\n",
    "    X = X.drop(columns=['team_id','season','w'])\n",
    "    \n",
    "    #fit and get feature scores of model\n",
    "    gb_w = GradientBoostingRegressor()\n",
    "    gb_w.fit(X,y_w)\n",
    "    imp = permutation_importance(gb_w,X,y_w)\n",
    "    feat_imp = imp['importances_mean']\n",
    "    feat_imp\n",
    "    \n",
    "    # rank feature importances and plot their underlying distribution\n",
    "    order = np.argsort(feat_imp)[::-1]\n",
    "    for idx,col in enumerate(X.columns[order]):\n",
    "        \n",
    "        \n",
    "        mean = round(np.mean(X[col].astype('float')),3)\n",
    "        std = round(np.std(X[col].astype('float')),3)\n",
    "        \n",
    "        ax[idx//cols,idx%cols].boxplot(df_X[col].astype('float'), labels = [f'Mean:{mean},Std:{std}'])\n",
    "        ax[idx//cols,idx%cols].set_title(f'{col}, Rank: {idx+1}')\n",
    "\n",
    "    fig.suptitle(f'Distribution of {stat.upper()} Features by Importance Rank')\n",
    "    plt.tight_layout()\n",
    "       \n",
    "    return X.columns[order]\n",
    "    "
   ]
  },
  {
   "cell_type": "code",
   "execution_count": 58,
   "metadata": {},
   "outputs": [
    {
     "data": {
      "image/png": "[encoded data removed]",
      "text/plain": [
       "<Figure size 1080x864 with 16 Axes>"
      ]
     },
     "metadata": {},
     "output_type": "display_data"
    }
   ],
   "source": [
    "plot_imp('eff',14)"
   ]
  },
  {
   "cell_type": "code",
   "execution_count": 59,
   "metadata": {},
   "outputs": [
    {
     "data": {
      "image/png": "[encoded data removed]",
      "text/plain": [
       "<Figure size 1080x864 with 16 Axes>"
      ]
     },
     "metadata": {},
     "output_type": "display_data"
    }
   ],
   "source": [
    "plot_imp('pir',15)"
   ]
  },
  {
   "cell_type": "code",
   "execution_count": 60,
   "metadata": {},
   "outputs": [
    {
     "data": {
      "image/png": "[encoded data removed]",
      "text/plain": [
       "<Figure size 1080x864 with 20 Axes>"
      ]
     },
     "metadata": {},
     "output_type": "display_data"
    }
   ],
   "source": [
    "plot_imp('+/-',17)\n"
   ]
  },
  {
   "cell_type": "markdown",
   "metadata": {},
   "source": [
    "## Feature Importance by Individual Metric Scores Summary"
   ]
  },
  {
   "cell_type": "markdown",
   "metadata": {},
   "source": [
    "### Across all statistics - EFF, PIR, and +/-:\n",
    "\n",
    "#### Feature importance was not parallel to the hierarchical rankings of player statistics. However, the first and second-best player scores across all metrics found themselves in the top three of importance\n",
    "\n",
    "#### Only for +/- did the top 5 player scores appear in the top five feature importances as well. This could suggest that +/- is the most accurate metric to quantify a player's contribution to a team's success. \n"
   ]
  },
  {
   "cell_type": "markdown",
   "metadata": {},
   "source": [
    "## Bringing things back into focus, the top R^2 of 0.33 (+/-, 15 players) still leaves plenty to be desired. Let's pivot to some aggregated team statistics and see if those are more informative. "
   ]
  },
  {
   "cell_type": "code",
   "execution_count": 61,
   "metadata": {},
   "outputs": [],
   "source": [
    "#Generalized function for generating a feature matrix with average team statistics based on roster\n",
    "def gen_team_X(teams,seasons,stats):  \n",
    "    \n",
    "    \"\"\"\n",
    "    PARAMETERS:\n",
    "    \n",
    "    teams - list of team IDs\n",
    "    season - list of seasons\n",
    "    stats - list of strings: column titles in player dataframe for statistic of interest\n",
    "    \n",
    "    RETURNS:\n",
    "    \n",
    "    Feature matrix to be used for predicting wins and playoff rankings of teams\n",
    "    \"\"\"\n",
    "    \n",
    "    X = []\n",
    "\n",
    "    # Index into each team\n",
    "    for t in teams:\n",
    "\n",
    "        # Index into each season\n",
    "        for idx, s in enumerate(seasons):\n",
    "\n",
    "            # We only care about prior year stats, and we can't index into the prior year if idx is 0\n",
    "            if idx > 0:\n",
    "\n",
    "                # create a row for our features array\n",
    "                row = [int(t),s]\n",
    "\n",
    "                for stat in stats:    \n",
    "                    \n",
    "                    #accumulator for efficiency scores\n",
    "                    lst_stat = []\n",
    "\n",
    "                    # select roster and loop through player_ids to pull efficiency scores from prior year in df_by_player\n",
    "                    roster = list(df_r.get_group((t.item(),s))['roster'])\n",
    "\n",
    "                    for p in roster[0]:\n",
    "\n",
    "                        #for sake of testing the code, make sure a player_id is in our dataset\n",
    "                        if p in df_nba['player_id'].to_numpy():\n",
    "\n",
    "                            #Check a given season is relevant to a player\n",
    "                            if seasons[idx-1] in df_by_player.get_group(p)['season'].to_numpy():\n",
    "\n",
    "                                # verify a player started the season with team\n",
    "                                # the -1 index is because team order is reverse chronilogical\n",
    "\n",
    "                                if t == df_by_p_s.get_group((p,s))['team_id'].to_numpy()[-1]:          \n",
    "\n",
    "                                    \"\"\"Select a player's efficiency score from the prior season, because \n",
    "                                    we want to predict outcomes of current year. \n",
    "                                    The index 0 ensures we pull cummulative stats for players who \n",
    "                                    spent the prior season on multiple teams.\"\"\"\n",
    "                                    stat_ = df_by_p_s.get_group((p,seasons[idx-1]))[stat].to_numpy()[0]\n",
    "                                    lst_stat.append(int(stat_))\n",
    "                    \n",
    "                    if len(lst_stat)<1:\n",
    "                        final_stat = None\n",
    "                    #take mean of statistic and append to row\n",
    "                    else:\n",
    "                        final_stat = np.mean(lst_stat)\n",
    "                    \n",
    "                    row = np.concatenate((row,final_stat), axis = None)\n",
    "\n",
    "\n",
    "\n",
    "                # add roster average statistics to df\n",
    "                X.append(row)\n",
    "    \n",
    "    # Generate dataframe and properly name columns\n",
    "    df_X = pd.DataFrame(X)\n",
    "    \n",
    "    col_names = dict()\n",
    "\n",
    "    for idx,col in enumerate(df_X.columns):\n",
    "        if idx>1:\n",
    "            col_names[idx] = stats[idx-2]\n",
    "        elif idx == 0:\n",
    "            col_names[idx] = 'team_id'\n",
    "        else:\n",
    "            col_names[idx] = 'season'\n",
    "    \n",
    "    df_X.rename(columns = col_names, inplace=True)\n",
    "    \n",
    "    return df_X"
   ]
  },
  {
   "cell_type": "code",
   "execution_count": 62,
   "metadata": {},
   "outputs": [],
   "source": [
    "df_X_team = gen_team_X(teams,seasons,['eff','pir','+/-'])"
   ]
  },
  {
   "cell_type": "code",
   "execution_count": 63,
   "metadata": {},
   "outputs": [
    {
     "data": {
      "text/plain": [
       "(630, 5)"
      ]
     },
     "execution_count": 63,
     "metadata": {},
     "output_type": "execute_result"
    }
   ],
   "source": [
    "df_X_team.shape"
   ]
  },
  {
   "cell_type": "code",
   "execution_count": 64,
   "metadata": {},
   "outputs": [
    {
     "data": {
      "text/html": [
       "<div>\n",
       "<style scoped>\n",
       "    .dataframe tbody tr th:only-of-type {\n",
       "        vertical-align: middle;\n",
       "    }\n",
       "\n",
       "    .dataframe tbody tr th {\n",
       "        vertical-align: top;\n",
       "    }\n",
       "\n",
       "    .dataframe thead th {\n",
       "        text-align: right;\n",
       "    }\n",
       "</style>\n",
       "<table border=\"1\" class=\"dataframe\">\n",
       "  <thead>\n",
       "    <tr style=\"text-align: right;\">\n",
       "      <th></th>\n",
       "      <th>team_id</th>\n",
       "      <th>season</th>\n",
       "      <th>eff</th>\n",
       "      <th>pir</th>\n",
       "      <th>+/-</th>\n",
       "      <th>w</th>\n",
       "    </tr>\n",
       "  </thead>\n",
       "  <tbody>\n",
       "    <tr>\n",
       "      <th>0</th>\n",
       "      <td>1610612737</td>\n",
       "      <td>1998-99</td>\n",
       "      <td>11.0</td>\n",
       "      <td>8.3</td>\n",
       "      <td>0.5</td>\n",
       "      <td>51</td>\n",
       "    </tr>\n",
       "    <tr>\n",
       "      <th>1</th>\n",
       "      <td>1610612737</td>\n",
       "      <td>1999-00</td>\n",
       "      <td>9.1</td>\n",
       "      <td>6.4</td>\n",
       "      <td>0.4</td>\n",
       "      <td>28</td>\n",
       "    </tr>\n",
       "    <tr>\n",
       "      <th>2</th>\n",
       "      <td>1610612737</td>\n",
       "      <td>2000-01</td>\n",
       "      <td>7.3076923076923075</td>\n",
       "      <td>5.153846153846154</td>\n",
       "      <td>-1.6923076923076923</td>\n",
       "      <td>25</td>\n",
       "    </tr>\n",
       "    <tr>\n",
       "      <th>3</th>\n",
       "      <td>1610612737</td>\n",
       "      <td>2001-02</td>\n",
       "      <td>8.4</td>\n",
       "      <td>5.866666666666666</td>\n",
       "      <td>-1.2</td>\n",
       "      <td>33</td>\n",
       "    </tr>\n",
       "    <tr>\n",
       "      <th>4</th>\n",
       "      <td>1610612737</td>\n",
       "      <td>2002-03</td>\n",
       "      <td>9.692307692307692</td>\n",
       "      <td>6.846153846153846</td>\n",
       "      <td>-2.3846153846153846</td>\n",
       "      <td>35</td>\n",
       "    </tr>\n",
       "    <tr>\n",
       "      <th>...</th>\n",
       "      <td>...</td>\n",
       "      <td>...</td>\n",
       "      <td>...</td>\n",
       "      <td>...</td>\n",
       "      <td>...</td>\n",
       "      <td>...</td>\n",
       "    </tr>\n",
       "    <tr>\n",
       "      <th>625</th>\n",
       "      <td>1610612766</td>\n",
       "      <td>2014-15</td>\n",
       "      <td>10.153846153846153</td>\n",
       "      <td>9.692307692307692</td>\n",
       "      <td>-0.6153846153846154</td>\n",
       "      <td>33</td>\n",
       "    </tr>\n",
       "    <tr>\n",
       "      <th>626</th>\n",
       "      <td>1610612766</td>\n",
       "      <td>2015-16</td>\n",
       "      <td>9.071428571428571</td>\n",
       "      <td>8.571428571428571</td>\n",
       "      <td>-0.7142857142857143</td>\n",
       "      <td>48</td>\n",
       "    </tr>\n",
       "    <tr>\n",
       "      <th>627</th>\n",
       "      <td>1610612766</td>\n",
       "      <td>2016-17</td>\n",
       "      <td>9.714285714285714</td>\n",
       "      <td>9.5</td>\n",
       "      <td>0.5</td>\n",
       "      <td>36</td>\n",
       "    </tr>\n",
       "    <tr>\n",
       "      <th>628</th>\n",
       "      <td>1610612766</td>\n",
       "      <td>2017-18</td>\n",
       "      <td>12.272727272727273</td>\n",
       "      <td>12.0</td>\n",
       "      <td>0.09090909090909091</td>\n",
       "      <td>36</td>\n",
       "    </tr>\n",
       "    <tr>\n",
       "      <th>629</th>\n",
       "      <td>1610612766</td>\n",
       "      <td>2018-19</td>\n",
       "      <td>9.75</td>\n",
       "      <td>9.833333333333334</td>\n",
       "      <td>-0.5</td>\n",
       "      <td>39</td>\n",
       "    </tr>\n",
       "  </tbody>\n",
       "</table>\n",
       "<p>624 rows × 6 columns</p>\n",
       "</div>"
      ],
      "text/plain": [
       "        team_id   season                 eff                pir  \\\n",
       "0    1610612737  1998-99                11.0                8.3   \n",
       "1    1610612737  1999-00                 9.1                6.4   \n",
       "2    1610612737  2000-01  7.3076923076923075  5.153846153846154   \n",
       "3    1610612737  2001-02                 8.4  5.866666666666666   \n",
       "4    1610612737  2002-03   9.692307692307692  6.846153846153846   \n",
       "..          ...      ...                 ...                ...   \n",
       "625  1610612766  2014-15  10.153846153846153  9.692307692307692   \n",
       "626  1610612766  2015-16   9.071428571428571  8.571428571428571   \n",
       "627  1610612766  2016-17   9.714285714285714                9.5   \n",
       "628  1610612766  2017-18  12.272727272727273               12.0   \n",
       "629  1610612766  2018-19                9.75  9.833333333333334   \n",
       "\n",
       "                     +/-   w  \n",
       "0                    0.5  51  \n",
       "1                    0.4  28  \n",
       "2    -1.6923076923076923  25  \n",
       "3                   -1.2  33  \n",
       "4    -2.3846153846153846  35  \n",
       "..                   ...  ..  \n",
       "625  -0.6153846153846154  33  \n",
       "626  -0.7142857142857143  48  \n",
       "627                  0.5  36  \n",
       "628  0.09090909090909091  36  \n",
       "629                 -0.5  39  \n",
       "\n",
       "[624 rows x 6 columns]"
      ]
     },
     "execution_count": 64,
     "metadata": {},
     "output_type": "execute_result"
    }
   ],
   "source": [
    "get_y(df_X_team,df_team,['w'])"
   ]
  },
  {
   "cell_type": "code",
   "execution_count": 80,
   "metadata": {},
   "outputs": [],
   "source": [
    "def score_team():\n",
    "    \n",
    "    \"\"\"\n",
    "    PARAMETERS:\n",
    "    None\n",
    "    \n",
    "    RETURNS:\n",
    "    None - prints Gradient Boosting model scores associated with number of features\n",
    "    \"\"\"\n",
    "\n",
    "    #generate features and targets\n",
    "    df_X = gen_team_X(teams,seasons,['eff','pir','+/-'])\n",
    "    X = get_y(df_X,df_team,['w'])\n",
    "\n",
    "    y_w = X['w']\n",
    "\n",
    "    X = X.drop(columns=['team_id','season','w'])\n",
    "\n",
    "    #fit and score model\n",
    "    gb_w = GradientBoostingRegressor()\n",
    "    score = round(np.mean(cross_val_score(gb_w,X,y_w,cv=20)),3)\n",
    "\n",
    "    print(f'Aggregate team statistics model score: {score}')\n",
    "    \n",
    "    return None"
   ]
  },
  {
   "cell_type": "code",
   "execution_count": 81,
   "metadata": {},
   "outputs": [
    {
     "name": "stdout",
     "output_type": "stream",
     "text": [
      "Aggregate team statistics model score: 0.39\n"
     ]
    }
   ],
   "source": [
    "score_team()"
   ]
  },
  {
   "cell_type": "markdown",
   "metadata": {},
   "source": [
    "## So we've improved about .06 from our individual +/- model before to R^2 =~0.39\n",
    "\n",
    "### Time for another round of feature importance analysis. "
   ]
  },
  {
   "cell_type": "markdown",
   "metadata": {},
   "source": [
    "### Aggregate Team statistics"
   ]
  },
  {
   "cell_type": "code",
   "execution_count": 67,
   "metadata": {},
   "outputs": [],
   "source": [
    "df_X = gen_team_X(teams,seasons,['eff','pir','+/-'])\n",
    "X = get_y(df_X,df_team,['w'])\n",
    "\n",
    "y_w = X['w']\n",
    "\n",
    "X = X.drop(columns=['team_id','season','w'])"
   ]
  },
  {
   "cell_type": "code",
   "execution_count": 68,
   "metadata": {},
   "outputs": [
    {
     "data": {
      "text/plain": [
       "array([0.36043229, 0.20000967, 0.82578852])"
      ]
     },
     "execution_count": 68,
     "metadata": {},
     "output_type": "execute_result"
    }
   ],
   "source": [
    "#fit and get feature scores of model\n",
    "gb_w = GradientBoostingRegressor()\n",
    "gb_w.fit(X,y_w)\n",
    "imp = permutation_importance(gb_w,X,y_w)\n",
    "feat_imp = imp['importances_mean']\n",
    "feat_imp"
   ]
  },
  {
   "cell_type": "code",
   "execution_count": 69,
   "metadata": {},
   "outputs": [
    {
     "data": {
      "text/plain": [
       "Index(['+/-', 'eff', 'pir'], dtype='object')"
      ]
     },
     "execution_count": 69,
     "metadata": {},
     "output_type": "execute_result"
    }
   ],
   "source": [
    "# Broadcast ordered indices onto X column titles to determine which features are most important, in descending order\n",
    "idx = np.argsort(feat_imp)\n",
    "feat_rank_agg = X.columns[idx[::-1]]\n",
    "feat_rank_agg"
   ]
  },
  {
   "cell_type": "markdown",
   "metadata": {},
   "source": [
    "## Feature Importance by Average Team Stats Summary"
   ]
  },
  {
   "cell_type": "markdown",
   "metadata": {},
   "source": [
    "### Team Plus-Minus average seems to be most predictive of a team's seasonal outcome. More than twice as much as EFF and four times as much as PIR"
   ]
  },
  {
   "cell_type": "markdown",
   "metadata": {},
   "source": [
    "## Let's try and beat an R^2 of 0.39.\n",
    "### Idea: because an inclusion of all three efficiency metrics seemed to improve our model above, let's fit the model including the individual player efficiency score for all three metrics. \n"
   ]
  },
  {
   "cell_type": "code",
   "execution_count": 70,
   "metadata": {},
   "outputs": [],
   "source": [
    "# Generate dataframes for all three metrics\n",
    "    \n",
    "df_X_eff = gen_X(teams,seasons,'eff')\n",
    "df_X_pir = gen_X(teams,seasons,'pir')\n",
    "df_X_pm = gen_X(teams,seasons,'+/-')"
   ]
  },
  {
   "cell_type": "code",
   "execution_count": 71,
   "metadata": {},
   "outputs": [],
   "source": [
    "# join dataframes\n",
    "\n",
    "df_m1 = pd.merge(df_X_eff,df_X_pir, on = ['team_id','season'], how='inner')\n",
    "df_all_ind = pd.merge(df_m1,df_X_pm, on = ['team_id','season'], how='inner')"
   ]
  },
  {
   "cell_type": "code",
   "execution_count": 72,
   "metadata": {},
   "outputs": [],
   "source": [
    "X = get_y(df_all_ind,df_team,['w'])"
   ]
  },
  {
   "cell_type": "code",
   "execution_count": 73,
   "metadata": {},
   "outputs": [],
   "source": [
    "y_w = X['w']\n",
    "\n",
    "X = X.drop(columns=['team_id','season','w'])"
   ]
  },
  {
   "cell_type": "code",
   "execution_count": 78,
   "metadata": {},
   "outputs": [
    {
     "data": {
      "text/plain": [
       "0.32398714552303487"
      ]
     },
     "execution_count": 78,
     "metadata": {},
     "output_type": "execute_result"
    }
   ],
   "source": [
    "# Fit and score\n",
    "\n",
    "gb_w = GradientBoostingRegressor()\n",
    "np.mean(cross_val_score(gb_w,X,y_w,cv=20))"
   ]
  },
  {
   "cell_type": "code",
   "execution_count": null,
   "metadata": {},
   "outputs": [],
   "source": []
  }
 ],
 "metadata": {
  "kernelspec": {
   "display_name": "Python 3",
   "language": "python",
   "name": "python3"
  },
  "language_info": {
   "codemirror_mode": {
    "name": "ipython",
    "version": 3
   },
   "file_extension": ".py",
   "mimetype": "text/x-python",
   "name": "python",
   "nbconvert_exporter": "python",
   "pygments_lexer": "ipython3",
   "version": "3.7.6"
  }
 },
 "nbformat": 4,
 "nbformat_minor": 4
}
