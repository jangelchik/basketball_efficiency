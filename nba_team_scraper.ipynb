{
 "cells": [
  {
   "cell_type": "code",
   "execution_count": 2,
   "metadata": {},
   "outputs": [],
   "source": [
    "from pymongo import MongoClient\n",
    "import pprint\n",
    "\n",
    "import pandas as pd\n",
    "\n",
    "import numpy as np\n",
    "\n",
    "import json\n",
    "import time"
   ]
  },
  {
   "cell_type": "code",
   "execution_count": 41,
   "metadata": {},
   "outputs": [],
   "source": [
    "# Import proper modules from nba_api\n",
    "\n",
    "from nba_api.stats.static import players, teams\n",
    "from nba_api.stats.endpoints import LeagueStandings"
   ]
  },
  {
   "cell_type": "markdown",
   "metadata": {},
   "source": [
    "# The other dataset we require for our analysis is seasonal results per team. These data will serve as the targets to our model.\n",
    "\n",
    "## We can compile these data via the LeagueStandings class per the nba_api documentation.\n",
    "\n",
    "Let's create an instance and familiarize ourselves with the dataset."
   ]
  },
  {
   "cell_type": "code",
   "execution_count": 73,
   "metadata": {},
   "outputs": [],
   "source": [
    "teams = LeagueStandings(season = '2017-18')\n",
    "teams = teams.get_dict()"
   ]
  },
  {
   "cell_type": "code",
   "execution_count": 74,
   "metadata": {},
   "outputs": [
    {
     "name": "stdout",
     "output_type": "stream",
     "text": [
      "resource: <class 'str'>\n",
      "parameters: <class 'dict'>\n",
      "resultSets: <class 'list'>\n"
     ]
    }
   ],
   "source": [
    "for i in teams.keys():\n",
    "    print(f'{i}: {type(teams[i])}')"
   ]
  },
  {
   "cell_type": "code",
   "execution_count": 75,
   "metadata": {},
   "outputs": [
    {
     "data": {
      "text/plain": [
       "dict_keys(['LeagueID', 'SeasonYear', 'SeasonType'])"
      ]
     },
     "execution_count": 75,
     "metadata": {},
     "output_type": "execute_result"
    }
   ],
   "source": [
    "teams['parameters'].keys()"
   ]
  },
  {
   "cell_type": "code",
   "execution_count": 76,
   "metadata": {},
   "outputs": [
    {
     "data": {
      "text/plain": [
       "1"
      ]
     },
     "execution_count": 76,
     "metadata": {},
     "output_type": "execute_result"
    }
   ],
   "source": [
    "len(teams['resultSets'])"
   ]
  },
  {
   "cell_type": "code",
   "execution_count": 77,
   "metadata": {},
   "outputs": [
    {
     "data": {
      "text/plain": [
       "dict"
      ]
     },
     "execution_count": 77,
     "metadata": {},
     "output_type": "execute_result"
    }
   ],
   "source": [
    "type(teams['resultSets'][0])"
   ]
  },
  {
   "cell_type": "code",
   "execution_count": 78,
   "metadata": {},
   "outputs": [
    {
     "name": "stdout",
     "output_type": "stream",
     "text": [
      "name: <class 'str'>\n",
      "headers: <class 'list'>\n",
      "rowSet: <class 'list'>\n"
     ]
    }
   ],
   "source": [
    "for i in teams['resultSets'][0].keys():\n",
    "    print(f\"{i}: {type(teams['resultSets'][0][i])}\")"
   ]
  },
  {
   "cell_type": "markdown",
   "metadata": {},
   "source": [
    "['headers'] will help inform us as to all of the data stored in each entry of ['rowSet']."
   ]
  },
  {
   "cell_type": "code",
   "execution_count": 79,
   "metadata": {},
   "outputs": [
    {
     "data": {
      "text/plain": [
       "['LeagueID',\n",
       " 'SeasonID',\n",
       " 'TeamID',\n",
       " 'TeamCity',\n",
       " 'TeamName',\n",
       " 'Conference',\n",
       " 'ConferenceRecord',\n",
       " 'PlayoffRank',\n",
       " 'ClinchIndicator',\n",
       " 'Division',\n",
       " 'DivisionRecord',\n",
       " 'DivisionRank',\n",
       " 'WINS',\n",
       " 'LOSSES',\n",
       " 'WinPCT',\n",
       " 'LeagueRank',\n",
       " 'Record',\n",
       " 'HOME',\n",
       " 'ROAD',\n",
       " 'L10',\n",
       " 'Last10Home',\n",
       " 'Last10Road',\n",
       " 'OT',\n",
       " 'ThreePTSOrLess',\n",
       " 'TenPTSOrMore',\n",
       " 'LongHomeStreak',\n",
       " 'strLongHomeStreak',\n",
       " 'LongRoadStreak',\n",
       " 'strLongRoadStreak',\n",
       " 'LongWinStreak',\n",
       " 'LongLossStreak',\n",
       " 'CurrentHomeStreak',\n",
       " 'strCurrentHomeStreak',\n",
       " 'CurrentRoadStreak',\n",
       " 'strCurrentRoadStreak',\n",
       " 'CurrentStreak',\n",
       " 'strCurrentStreak',\n",
       " 'ConferenceGamesBack',\n",
       " 'DivisionGamesBack',\n",
       " 'ClinchedConferenceTitle',\n",
       " 'ClinchedDivisionTitle',\n",
       " 'ClinchedPlayoffBirth',\n",
       " 'EliminatedConference',\n",
       " 'EliminatedDivision',\n",
       " 'AheadAtHalf',\n",
       " 'BehindAtHalf',\n",
       " 'TiedAtHalf',\n",
       " 'AheadAtThird',\n",
       " 'BehindAtThird',\n",
       " 'TiedAtThird',\n",
       " 'Score100PTS',\n",
       " 'OppScore100PTS',\n",
       " 'OppOver500',\n",
       " 'LeadInFGPCT',\n",
       " 'LeadInReb',\n",
       " 'FewerTurnovers',\n",
       " 'PointsPG',\n",
       " 'OppPointsPG',\n",
       " 'DiffPointsPG',\n",
       " 'vsEast',\n",
       " 'vsAtlantic',\n",
       " 'vsCentral',\n",
       " 'vsSoutheast',\n",
       " 'vsWest',\n",
       " 'vsNorthwest',\n",
       " 'vsPacific',\n",
       " 'vsSouthwest',\n",
       " 'Jan',\n",
       " 'Feb',\n",
       " 'Mar',\n",
       " 'Apr',\n",
       " 'May',\n",
       " 'Jun',\n",
       " 'Jul',\n",
       " 'Aug',\n",
       " 'Sep',\n",
       " 'Oct',\n",
       " 'Nov',\n",
       " 'Dec',\n",
       " 'PreAS',\n",
       " 'PostAS']"
      ]
     },
     "execution_count": 79,
     "metadata": {},
     "output_type": "execute_result"
    }
   ],
   "source": [
    "teams['resultSets'][0]['headers']"
   ]
  },
  {
   "cell_type": "markdown",
   "metadata": {},
   "source": [
    "## For our purposes, we'll really only need the following values: \n",
    " 'SeasonID',\n",
    " 'TeamID',\n",
    " 'TeamCity',\n",
    " 'TeamName',\n",
    " 'Conference',\n",
    " 'ConferenceRecord',\n",
    " 'PlayoffRank',\n",
    " 'ClinchIndicator',\n",
    " 'Division',\n",
    " 'DivisionRecord',\n",
    " 'DivisionRank',\n",
    " 'WINS',\n",
    " 'LOSSES'\n",
    " \n",
    "\n",
    "Let's store these into a list to then use as reference for indexing when iterating through the dataset."
   ]
  },
  {
   "cell_type": "code",
   "execution_count": 80,
   "metadata": {},
   "outputs": [
    {
     "data": {
      "text/plain": [
       "[1, 2, 3, 4, 5, 6, 7, 8, 9, 10, 11, 12, 13]"
      ]
     },
     "execution_count": 80,
     "metadata": {},
     "output_type": "execute_result"
    }
   ],
   "source": [
    "rel = ['SeasonID', 'TeamID', 'TeamCity', 'TeamName', 'Conference', 'ConferenceRecord', \\\n",
    "       'PlayoffRank', 'ClinchIndicator', 'Division', 'DivisionRecord', 'DivisionRank', 'WINS', 'LOSSES']\n",
    "rel_idx = []\n",
    "for idx, val in enumerate(teams['resultSets'][0]['headers']):\n",
    "    if val in rel:\n",
    "        rel_idx.append(idx)\n",
    "\n",
    "rel_idx"
   ]
  },
  {
   "cell_type": "code",
   "execution_count": 81,
   "metadata": {},
   "outputs": [
    {
     "data": {
      "text/plain": [
       "30"
      ]
     },
     "execution_count": 81,
     "metadata": {},
     "output_type": "execute_result"
    }
   ],
   "source": [
    "len(teams['resultSets'][0]['rowSet'])"
   ]
  },
  {
   "cell_type": "markdown",
   "metadata": {},
   "source": [
    "Let's make sure our indices add up, and then we can piece it all together. "
   ]
  },
  {
   "cell_type": "code",
   "execution_count": 85,
   "metadata": {},
   "outputs": [
    {
     "name": "stdout",
     "output_type": "stream",
     "text": [
      "(SeasonID, 22017\n",
      "(TeamID, 1610612761\n",
      "(TeamCity, Toronto\n",
      "(TeamName, Raptors\n",
      "(Conference, East\n",
      "(ConferenceRecord, 40-12\n",
      "(PlayoffRank, 1\n",
      "(ClinchIndicator,  - e\n",
      "(Division, Atlantic\n",
      "(DivisionRecord, 12-4 \n",
      "(DivisionRank, 1\n",
      "(WINS, 59\n",
      "(LOSSES, 23\n"
     ]
    }
   ],
   "source": [
    "for idx in rel_idx:\n",
    "\n",
    "    print(f\"({teams['resultSets'][0]['headers'][idx]}, {teams['resultSets'][0]['rowSet'][0][idx]}\")"
   ]
  },
  {
   "cell_type": "markdown",
   "metadata": {},
   "source": [
    "## Sweet. Now let's draw up a blue print for our iteration\n",
    "\n",
    "We want to analyze the most recent 20 season, so in order we want to do the following:\n",
    "\n",
    "-1) For each season, create instance of LeagueStandings()\n",
    "--2) Within LeagueStandings object, key into ['resultSets'][0]['headers'] and ['resultSets'][0]['rowSet']\n",
    "---3) Create an accumulator dictionary for each ['rowSet'] object\n",
    "----4) Loop through all items in each ['rowSet'] list, and add them to the accumulator dictionary, with the key values equal to the ['headers'] value at the same index using our rel-idx variable from above. \n",
    "        \n",
    "\n",
    "Here goes nothin':"
   ]
  },
  {
   "cell_type": "code",
   "execution_count": 87,
   "metadata": {},
   "outputs": [],
   "source": [
    "# generate all season values for LeagueStandings() instantiation.\n",
    "\n",
    "def get_seasons(fall_start,spring_end):\n",
    "    \n",
    "    \"\"\"PARAMETERS:\n",
    "    fall_start: int - The year corresponding to the start of a season (fall)\n",
    "    spring_end: int - The year corresponding to the end of a season(spring)\n",
    "    \n",
    "    RETURNS:\n",
    "    List containg all seasons from which to pull data\"\"\"\n",
    "    \n",
    "    lst = []\n",
    "    for i in range(fall_start,spring_end):\n",
    "        if (i+1)%100 > 9:\n",
    "            season = f'{i}-{(i+1)%100}'\n",
    "            lst.append(season)\n",
    "        else:\n",
    "            season = f'{i}-0{(i+1)%100}'\n",
    "            lst.append(season)\n",
    "    return lst"
   ]
  },
  {
   "cell_type": "code",
   "execution_count": 90,
   "metadata": {},
   "outputs": [],
   "source": [
    "seasons = get_seasons(1998,2019)"
   ]
  },
  {
   "cell_type": "markdown",
   "metadata": {},
   "source": [
    "Now we'll connect to a Mongo client and upload."
   ]
  },
  {
   "cell_type": "code",
   "execution_count": 98,
   "metadata": {},
   "outputs": [],
   "source": [
    "client = MongoClient('localhost', 27017)\n",
    "db_nba = client['nba']\n",
    "\n",
    "stats = db_nba['team_stats']"
   ]
  },
  {
   "cell_type": "code",
   "execution_count": 99,
   "metadata": {},
   "outputs": [],
   "source": [
    "def scrape_teams(seasons):\n",
    "    \n",
    "    \"\"\"PARAMETERS:\n",
    "    \n",
    "    seasons - (list) a list of the seasons relevant to your inquiry\n",
    "    \n",
    "    \n",
    "    RETURNS:\n",
    "    None\n",
    "    - Uploads team stats by year to a Mongo database\n",
    "    \"\"\"\n",
    "    \n",
    "    for s in seasons:\n",
    "        teams = LeagueStandings(season = s)\n",
    "        teams = teams.get_dict()\n",
    "        \n",
    "        for row in teams['resultSets'][0]['rowSet']:\n",
    "            d_team = dict()\n",
    "            for idx in rel_idx:\n",
    "                d_team[teams['resultSets'][0]['headers'][idx]] = row[idx]\n",
    "            \n",
    "#             print(d_team)\n",
    "                # Upload to Mongo\n",
    "            stats.insert_one(d_team)\n",
    "                \n",
    "        time.sleep(np.random.randint(10))\n",
    "    \n",
    "    return None\n",
    "        "
   ]
  },
  {
   "cell_type": "code",
   "execution_count": 100,
   "metadata": {},
   "outputs": [],
   "source": [
    "scrape_teams(seasons)"
   ]
  },
  {
   "cell_type": "code",
   "execution_count": null,
   "metadata": {},
   "outputs": [],
   "source": []
  }
 ],
 "metadata": {
  "kernelspec": {
   "display_name": "Python 3",
   "language": "python",
   "name": "python3"
  },
  "language_info": {
   "codemirror_mode": {
    "name": "ipython",
    "version": 3
   },
   "file_extension": ".py",
   "mimetype": "text/x-python",
   "name": "python",
   "nbconvert_exporter": "python",
   "pygments_lexer": "ipython3",
   "version": "3.7.6"
  }
 },
 "nbformat": 4,
 "nbformat_minor": 4
}
