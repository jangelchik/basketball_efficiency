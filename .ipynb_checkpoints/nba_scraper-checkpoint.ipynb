{
 "cells": [
  {
   "cell_type": "code",
   "execution_count": 1,
   "metadata": {},
   "outputs": [],
   "source": [
    "from pymongo import MongoClient\n",
    "import pprint\n",
    "\n",
    "import pandas as pd\n",
    "\n",
    "import numpy as np\n",
    "\n",
    "# Requests sends and recieves HTTP requests.\n",
    "import requests\n",
    "\n",
    "# Beautiful Soup parses HTML documents in python.\n",
    "from bs4 import BeautifulSoup\n",
    "\n",
    "import json\n",
    "import time"
   ]
  },
  {
   "cell_type": "code",
   "execution_count": 2,
   "metadata": {},
   "outputs": [],
   "source": [
    "# Make sure when starting mongo docker container, that the hosting route is at -p 27017:27017\n",
    "\n",
    "client = MongoClient('localhost', 27017)\n",
    "db_nba = client['nba_yearly']\n",
    "\n",
    "player = db_nba['players']\n"
   ]
  },
  {
   "cell_type": "code",
   "execution_count": 3,
   "metadata": {},
   "outputs": [],
   "source": [
    "url = 'https://coinmarketcap.com/currencies/bitcoin/historical-data/?start=20130428&end=20200409'"
   ]
  },
  {
   "cell_type": "code",
   "execution_count": 4,
   "metadata": {},
   "outputs": [
    {
     "data": {
      "text/plain": [
       "200"
      ]
     },
     "execution_count": 4,
     "metadata": {},
     "output_type": "execute_result"
    }
   ],
   "source": [
    "r = requests.get(url)\n",
    "r.status_code"
   ]
  },
  {
   "cell_type": "code",
   "execution_count": 5,
   "metadata": {},
   "outputs": [],
   "source": [
    "# whole_page.insert_one({'html': r.content, 'url':url, 'time_scraped':time.time()})"
   ]
  },
  {
   "cell_type": "code",
   "execution_count": 6,
   "metadata": {},
   "outputs": [],
   "source": [
    "soup = BeautifulSoup(r.text, 'html.parser')"
   ]
  },
  {
   "cell_type": "code",
   "execution_count": 7,
   "metadata": {},
   "outputs": [],
   "source": [
    "all_rows = soup.find_all('tr', class_=\"cmc-table-row\")\n"
   ]
  },
  {
   "cell_type": "code",
   "execution_count": 8,
   "metadata": {},
   "outputs": [
    {
     "data": {
      "text/plain": [
       "('Apr 08, 2020',\n",
       " '7,179.28',\n",
       " '7,356.22',\n",
       " '7,153.31',\n",
       " '7,334.10',\n",
       " '37,563,249,549',\n",
       " '134,309,895,036')"
      ]
     },
     "execution_count": 8,
     "metadata": {},
     "output_type": "execute_result"
    }
   ],
   "source": [
    "one_tag = all_rows[0]\n",
    "\n",
    "date, o, h, low, c, vol, cap = [i.text for i in one_tag.find_all('td')]\n",
    "\n",
    "date, o, h, low, c, vol, cap"
   ]
  },
  {
   "cell_type": "code",
   "execution_count": 9,
   "metadata": {},
   "outputs": [],
   "source": [
    "def convert_scraped(val):\n",
    "    \n",
    "    \"\"\"\n",
    "    PARAMETERS:\n",
    "    a string number in the form of html converted to text\n",
    "    \n",
    "    RETURNS: that string number cast to a float\n",
    "    \"\"\"\n",
    "    \n",
    "#     lst_proper = []\n",
    "\n",
    "#     for datum in lst_val:\n",
    "#         \n",
    "    #split number string into list and remove comma\n",
    "    lst = .split(',')\n",
    "    str_ = ''\n",
    "    \n",
    "    # reaccumulate number into string without a comma\n",
    "    for i in lst:\n",
    "        str_ += i\n",
    "    \n",
    "    # cast string number to float\n",
    "    fl = float(str_)\n",
    "#   \n",
    "    return fl\n",
    "\n"
   ]
  },
  {
   "cell_type": "code",
   "execution_count": 10,
   "metadata": {},
   "outputs": [
    {
     "data": {
      "text/plain": [
       "7179.28"
      ]
     },
     "execution_count": 10,
     "metadata": {},
     "output_type": "execute_result"
    }
   ],
   "source": [
    "convert_scraped(o)"
   ]
  },
  {
   "cell_type": "code",
   "execution_count": 11,
   "metadata": {},
   "outputs": [],
   "source": [
    "def date_converter(date):\n",
    "    \n",
    "    \"\"\"\n",
    "    PARAMETERS\n",
    "    date - string in format 'month_name 2-digit-day, 4-digit-year'\n",
    "    \n",
    "    RETURNS\n",
    "    date in new string format '2-digit-month, 2-digit-day, 4-digit-year'\n",
    "    \"\"\"\n",
    "    \n",
    "    dct_month = {\n",
    "        'Jan': '01',\n",
    "        'Feb': '02',\n",
    "        'Mar': '03',\n",
    "        'Apr': '04',\n",
    "        'May': '05',\n",
    "        'Jun': '06',\n",
    "        'Jul': '07',\n",
    "        'Aug': '08',\n",
    "        'Sep': '09',\n",
    "        'Oct': '10',\n",
    "        'Nov': '11',\n",
    "        'Dec': '12'\n",
    "    }\n",
    "    \n",
    "    lst_date = date.split()\n",
    "    lst_date.reverse()\n",
    "    \n",
    "    \n",
    "        \n",
    "    str_yr = lst_date[0]\n",
    "    \n",
    "    str_mo = dct_month[lst_date[2]]\n",
    "    \n",
    "    # get rid of comma after day\n",
    "    str_d = lst_date[1][:-1]\n",
    "    \n",
    "    str_date = f'{str_yr}-{str_mo}-{str_d}'\n",
    "\n",
    "    return str_date\n"
   ]
  },
  {
   "cell_type": "code",
   "execution_count": 12,
   "metadata": {},
   "outputs": [],
   "source": [
    "def scrape_rows_arr(all_rows):\n",
    "    \n",
    "    \"\"\"\n",
    "    PARAMETERS\n",
    "    \n",
    "    -List of rows to scrape\n",
    "    \n",
    "    RETURN\n",
    "    \n",
    "    None - Uploads data to mongo db table for later pulling\n",
    "    \n",
    "    \"\"\"\n",
    "    \n",
    "#     # create accumulator lst\n",
    "#     lst = []\n",
    "    \n",
    "    # iterate across all rows\n",
    "    for row in all_rows:\n",
    "        \n",
    "#         # create sublist to append all data for a given date\n",
    "#         lst_date = []\n",
    "        # parse out all relevant data\n",
    "        date, o, h, low, c, vol, cap = [i.text for i in row.find_all('td')]        \n",
    "        \n",
    "        # cast date to same format as reddit data\n",
    "        date_f = date_converter(date)\n",
    "        \n",
    "        # cast other scraped string numbers to float\n",
    "#         o_f, h_f, low_f, c_f, vol_f, cap_f = convert_scraped([o, h, low, c, vol, cap])\n",
    "        \n",
    "        #create dictionary for individual entry to mongo db\n",
    "        d_coin = {'Date': date_f,\n",
    "                  'Open': convert_scraped(o),\n",
    "                  'High': convert_scraped(h),\n",
    "                  'Low': convert_scraped(low),\n",
    "                  'Close': convert_scraped(c),\n",
    "                  'Volume': convert_scraped(vol),\n",
    "                  'Market Cap': convert_scraped(cap)}\n",
    "        \n",
    "        #insert entries to mongo db\n",
    "        pricing.insert_one(d_coin)\n",
    "    \n",
    "    return None\n",
    "#         lst_date.append(date_f)\n",
    "        \n",
    "        # create list of string numbers to be cast as float\n",
    "        \n",
    "#         lst_final = convert_scraped([o, h, low, c, vol, cap])\n",
    "#         for i in lst_final:\n",
    "#             lst_date.append(i)\n",
    "        \n",
    "#         lst.append(lst_date)\n",
    "\n",
    "        \n",
    "#     arr = np.array(lst)\n",
    "    \n",
    "scrape_rows_arr(all_rows)"
   ]
  }
 ],
 "metadata": {
  "kernelspec": {
   "display_name": "Python 3",
   "language": "python",
   "name": "python3"
  },
  "language_info": {
   "codemirror_mode": {
    "name": "ipython",
    "version": 3
   },
   "file_extension": ".py",
   "mimetype": "text/x-python",
   "name": "python",
   "nbconvert_exporter": "python",
   "pygments_lexer": "ipython3",
   "version": "3.7.6"
  }
 },
 "nbformat": 4,
 "nbformat_minor": 4
}
