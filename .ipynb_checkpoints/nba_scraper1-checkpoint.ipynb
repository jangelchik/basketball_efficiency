{
 "cells": [
  {
   "cell_type": "code",
   "execution_count": 1,
   "metadata": {},
   "outputs": [],
   "source": [
    "from pymongo import MongoClient\n",
    "import pprint\n",
    "\n",
    "import pandas as pd\n",
    "\n",
    "import numpy as np\n",
    "\n",
    "# Requests sends and recieves HTTP requests.\n",
    "import requests\n",
    "\n",
    "# Beautiful Soup parses HTML documents in python.\n",
    "from bs4 import BeautifulSoup\n",
    "\n",
    "import json\n",
    "import time"
   ]
  },
  {
   "cell_type": "code",
   "execution_count": 22,
   "metadata": {},
   "outputs": [],
   "source": [
    "# Import proper modules from nba_api\n",
    "\n",
    "from nba_api.stats.static import players, teams\n",
    "from nba_api.stats.endpoints import FranchiseHistory, PlayerDashboardByYearOverYear"
   ]
  },
  {
   "cell_type": "code",
   "execution_count": 3,
   "metadata": {},
   "outputs": [],
   "source": [
    "# Compile basic info of all team histories to account for previously defunct franchises and teams moving location\n",
    "\n",
    "all_teams = FranchiseHistory()\n",
    "all_teams = all_teams.get_dict()"
   ]
  },
  {
   "cell_type": "code",
   "execution_count": 4,
   "metadata": {},
   "outputs": [
    {
     "data": {
      "text/plain": [
       "dict_keys(['resource', 'parameters', 'resultSets'])"
      ]
     },
     "execution_count": 4,
     "metadata": {},
     "output_type": "execute_result"
    }
   ],
   "source": [
    "# Investigate structure of the teams dictionary\n",
    "all_teams.keys()"
   ]
  },
  {
   "cell_type": "code",
   "execution_count": 5,
   "metadata": {},
   "outputs": [
    {
     "name": "stdout",
     "output_type": "stream",
     "text": [
      "'resource' type: <class 'str'>\n",
      "'parameters' type: <class 'dict'>\n",
      "'resultSets' type: <class 'list'>\n"
     ]
    }
   ],
   "source": [
    "print(f\"'resource' type: {type(all_teams['resource'])}\")\n",
    "print(f\"'parameters' type: {type(all_teams['parameters'])}\")\n",
    "print(f\"'resultSets' type: {type(all_teams['resultSets'])}\")"
   ]
  },
  {
   "cell_type": "code",
   "execution_count": 6,
   "metadata": {},
   "outputs": [
    {
     "data": {
      "text/plain": [
       "dict_keys(['LeagueID'])"
      ]
     },
     "execution_count": 6,
     "metadata": {},
     "output_type": "execute_result"
    }
   ],
   "source": [
    "all_teams['parameters'].keys()"
   ]
  },
  {
   "cell_type": "code",
   "execution_count": 7,
   "metadata": {},
   "outputs": [
    {
     "data": {
      "text/plain": [
       "2"
      ]
     },
     "execution_count": 7,
     "metadata": {},
     "output_type": "execute_result"
    }
   ],
   "source": [
    "len(all_teams['resultSets'])"
   ]
  },
  {
   "cell_type": "code",
   "execution_count": 8,
   "metadata": {},
   "outputs": [
    {
     "name": "stdout",
     "output_type": "stream",
     "text": [
      "<class 'dict'>\n",
      "<class 'dict'>\n"
     ]
    }
   ],
   "source": [
    "for i in all_teams['resultSets']:\n",
    "    print(type(i))"
   ]
  },
  {
   "cell_type": "code",
   "execution_count": 9,
   "metadata": {},
   "outputs": [
    {
     "data": {
      "text/plain": [
       "dict_keys(['name', 'headers', 'rowSet'])"
      ]
     },
     "execution_count": 9,
     "metadata": {},
     "output_type": "execute_result"
    }
   ],
   "source": [
    "all_teams['resultSets'][0].keys()"
   ]
  },
  {
   "cell_type": "code",
   "execution_count": 10,
   "metadata": {},
   "outputs": [
    {
     "name": "stdout",
     "output_type": "stream",
     "text": [
      "dict_keys(['name', 'headers', 'rowSet'])\n",
      "dict_keys(['name', 'headers', 'rowSet'])\n"
     ]
    }
   ],
   "source": [
    "for i in range(len(all_teams['resultSets'])):\n",
    "    print(all_teams['resultSets'][i].keys())"
   ]
  },
  {
   "cell_type": "code",
   "execution_count": 11,
   "metadata": {},
   "outputs": [
    {
     "name": "stdout",
     "output_type": "stream",
     "text": [
      "FranchiseHistory, ['LEAGUE_ID', 'TEAM_ID', 'TEAM_CITY', 'TEAM_NAME', 'START_YEAR', 'END_YEAR', 'YEARS', 'GAMES', 'WINS', 'LOSSES', 'WIN_PCT', 'PO_APPEARANCES', 'DIV_TITLES', 'CONF_TITLES', 'LEAGUE_TITLES'], resultSets type: <class 'list'>\n",
      "DefunctTeams, ['LEAGUE_ID', 'TEAM_ID', 'TEAM_CITY', 'TEAM_NAME', 'START_YEAR', 'END_YEAR', 'YEARS', 'GAMES', 'WINS', 'LOSSES', 'WIN_PCT', 'PO_APPEARANCES', 'DIV_TITLES', 'CONF_TITLES', 'LEAGUE_TITLES'], resultSets type: <class 'list'>\n"
     ]
    }
   ],
   "source": [
    "for i in range(len(all_teams['resultSets'])):\n",
    "    print(f\"{all_teams['resultSets'][i]['name']}, {all_teams['resultSets'][i]['headers']}, resultSets type: {type(all_teams['resultSets'][i]['rowSet'])}\")\n"
   ]
  },
  {
   "cell_type": "markdown",
   "metadata": {},
   "source": [
    "# So we now know that the full team history dataset contains a dictionary, which holds a list of two sub-dictionaries of current and defunct teams' histories.\n"
   ]
  },
  {
   "cell_type": "code",
   "execution_count": 12,
   "metadata": {},
   "outputs": [
    {
     "data": {
      "text/plain": [
       "(74, 15)"
      ]
     },
     "execution_count": 12,
     "metadata": {},
     "output_type": "execute_result"
    }
   ],
   "source": [
    "len(all_teams['resultSets'][0]['rowSet']),len(all_teams['resultSets'][1]['rowSet'])"
   ]
  },
  {
   "cell_type": "code",
   "execution_count": 26,
   "metadata": {},
   "outputs": [
    {
     "name": "stdout",
     "output_type": "stream",
     "text": [
      "Current Team:['00', 1610612737, 'Atlanta', 'Hawks', '1949', '2019', 71, 5621, 2767, 2854, 0.492, 46, 11, 0, 1]\n",
      "Current Team:['00', 1610612737, 'Atlanta', 'Hawks', '1968', '2019', 52, 4201, 2068, 2133, 0.492, 33, 5, 0, 0]\n",
      "Current Team:['00', 1610612737, 'St. Louis', 'Hawks', '1955', '1967', 13, 1008, 555, 453, 0.55, 12, 6, 0, 1]\n",
      "Current Team:['00', 1610612737, 'Milwaukee', 'Hawks', '1951', '1954', 4, 280, 90, 190, 0.321, 0, 0, 0, 0]\n",
      "Current Team:['00', 1610612737, 'Tri-Cities', 'Blackhawks', '1949', '1950', 2, 132, 54, 78, 0.409, 1, 0, 0, 0]\n",
      "Current Team:['00', 1610612738, 'Boston', 'Celtics', '1946', '2019', 74, 5789, 3421, 2367, 0.59, 56, 31, 9, 17]\n",
      "Current Team:['00', 1610612751, 'Brooklyn', 'Nets', '1976', '2019', 44, 3542, 1480, 2062, 0.417, 20, 4, 2, 0]\n",
      "Current Team:['00', 1610612751, 'Brooklyn', 'Nets', '2012', '2019', 8, 638, 272, 366, 0.426, 4, 0, 0, 0]\n",
      "Current Team:['00', 1610612751, 'New Jersey', 'Nets', '1977', '2011', 35, 2822, 1186, 1636, 0.42, 16, 4, 2, 0]\n",
      "Current Team:['00', 1610612751, 'New York', 'Nets', '1976', '1976', 1, 82, 22, 60, 0.268, 0, 0, 0, 0]\n",
      "Current Team:['00', 1610612766, 'Charlotte', 'Hornets', '1988', '2019', 30, 2395, 1050, 1345, 0.438, 10, 0, 0, 0]\n",
      "Current Team:['00', 1610612766, 'Charlotte', 'Hornets', '1988', '2019', 20, 1591, 757, 834, 0.475, 10, 0, 0, 0]\n",
      "Current Team:['00', 1610612766, 'Charlotte', 'Bobcats', '2004', '2013', 10, 804, 293, 511, 0.364, 2, 0, 0, 0]\n",
      "Current Team:['00', 1610612741, 'Chicago', 'Bulls', '1966', '2019', 54, 4362, 2227, 2135, 0.51, 35, 9, 6, 6]\n",
      "Current Team:['00', 1610612739, 'Cleveland', 'Cavaliers', '1970', '2019', 50, 4035, 1867, 2168, 0.462, 22, 7, 5, 1]\n",
      "Current Team:['00', 1610612742, 'Dallas', 'Mavericks', '1980', '2019', 40, 3217, 1612, 1605, 0.501, 21, 3, 2, 1]\n",
      "Current Team:['00', 1610612743, 'Denver', 'Nuggets', '1976', '2019', 44, 3543, 1746, 1797, 0.492, 25, 9, 0, 0]\n",
      "Current Team:['00', 1610612765, 'Detroit', 'Pistons', '1948', '2019', 72, 5682, 2754, 2928, 0.484, 42, 12, 5, 3]\n",
      "Current Team:['00', 1610612765, 'Detroit', 'Pistons', '1957', '2019', 63, 5061, 2440, 2621, 0.482, 34, 9, 5, 3]\n",
      "Current Team:['00', 1610612765, 'Ft. Wayne Zollner', 'Pistons', '1948', '1956', 9, 621, 314, 307, 0.505, 8, 3, 0, 0]\n",
      "Current Team:['00', 1610612744, 'Golden State', 'Warriors', '1946', '2019', 74, 5785, 2787, 2998, 0.481, 35, 12, 6, 6]\n",
      "Current Team:['00', 1610612744, 'Golden State', 'Warriors', '1971', '2019', 49, 3953, 1899, 2054, 0.48, 18, 7, 6, 4]\n",
      "Current Team:['00', 1610612744, 'San Francisco', 'Warriors', '1962', '1970', 9, 729, 330, 399, 0.452, 5, 2, 0, 0]\n",
      "Current Team:['00', 1610612744, 'Philadelphia', 'Warriors', '1946', '1961', 16, 1103, 558, 545, 0.505, 12, 3, 0, 2]\n",
      "Current Team:['00', 1610612745, 'Houston', 'Rockets', '1967', '2019', 53, 4280, 2265, 2015, 0.529, 33, 8, 4, 2]\n",
      "Current Team:['00', 1610612745, 'Houston', 'Rockets', '1971', '2019', 49, 3952, 2146, 1806, 0.543, 32, 8, 4, 2]\n",
      "Current Team:['00', 1610612745, 'San Diego', 'Rockets', '1967', '1970', 4, 328, 119, 209, 0.362, 1, 0, 0, 0]\n",
      "Current Team:['00', 1610612754, 'Indiana', 'Pacers', '1976', '2019', 44, 3543, 1783, 1759, 0.503, 26, 6, 1, 0]\n",
      "Current Team:['00', 1610612746, 'LA', 'Clippers', '1970', '2019', 50, 4034, 1654, 2380, 0.41, 14, 2, 0, 0]\n",
      "Current Team:['00', 1610612746, 'LA', 'Clippers', '2015', '2019', 5, 392, 238, 154, 0.607, 3, 0, 0, 0]\n",
      "Current Team:['00', 1610612746, 'Los Angeles', 'Clippers', '1984', '2014', 31, 2494, 971, 1523, 0.389, 8, 2, 0, 0]\n",
      "Current Team:['00', 1610612746, 'San Diego', 'Clippers', '1978', '1983', 6, 492, 186, 306, 0.378, 0, 0, 0, 0]\n",
      "Current Team:['00', 1610612746, 'Buffalo', 'Braves', '1970', '1977', 8, 656, 259, 397, 0.394, 3, 0, 0, 0]\n",
      "Current Team:['00', 1610612747, 'Los Angeles', 'Lakers', '1948', '2019', 72, 5681, 3384, 2297, 0.595, 60, 35, 18, 16]\n",
      "Current Team:['00', 1610612747, 'Los Angeles', 'Lakers', '1960', '2019', 60, 4839, 2925, 1914, 0.604, 49, 30, 18, 11]\n",
      "Current Team:['00', 1610612747, 'Minneapolis', 'Lakers', '1948', '1959', 12, 842, 459, 383, 0.545, 11, 5, 0, 5]\n",
      "Current Team:['00', 1610612763, 'Memphis', 'Grizzlies', '1995', '2019', 25, 1985, 824, 1161, 0.415, 10, 0, 0, 0]\n",
      "Current Team:['00', 1610612763, 'Memphis', 'Grizzlies', '2001', '2019', 19, 1525, 723, 802, 0.474, 10, 0, 0, 0]\n",
      "Current Team:['00', 1610612763, 'Vancouver', 'Grizzlies', '1995', '2000', 6, 460, 101, 359, 0.219, 0, 0, 0, 0]\n",
      "Current Team:['00', 1610612748, 'Miami', 'Heat', '1988', '2019', 32, 2559, 1335, 1224, 0.521, 20, 14, 5, 3]\n",
      "Current Team:['00', 1610612749, 'Milwaukee', 'Bucks', '1968', '2019', 52, 4199, 2182, 2017, 0.519, 31, 15, 2, 1]\n",
      "Current Team:['00', 1610612750, 'Minnesota', 'Timberwolves', '1989', '2019', 31, 2476, 980, 1496, 0.395, 9, 1, 0, 0]\n",
      "Current Team:['00', 1610612740, 'New Orleans', 'Pelicans', '2002', '2019', 18, 1442, 671, 771, 0.465, 7, 1, 0, 0]\n",
      "Current Team:['00', 1610612740, 'New Orleans', 'Pelicans', '2013', '2019', 7, 556, 252, 304, 0.453, 2, 0, 0, 0]\n",
      "Current Team:['00', 1610612740, 'New Orleans', 'Hornets', '2002', '2012', 9, 722, 342, 380, 0.473, 5, 1, 0, 0]\n",
      "Current Team:['00', 1610612740, 'New Orleans/Oklahoma City', 'Hornets', '2005', '2006', 2, 164, 77, 87, 0.469, 0, 0, 0, 0]\n",
      "Current Team:['00', 1610612752, 'New York', 'Knicks', '1946', '2019', 74, 5788, 2799, 2989, 0.483, 41, 9, 4, 2]\n",
      "Current Team:['00', 1610612760, 'Oklahoma City', 'Thunder', '1967', '2019', 53, 4280, 2323, 1957, 0.542, 31, 11, 4, 1]\n",
      "Current Team:['00', 1610612760, 'Oklahoma City', 'Thunder', '2008', '2019', 12, 950, 578, 372, 0.608, 9, 5, 1, 0]\n",
      "Current Team:['00', 1610612760, 'Seattle', 'SuperSonics', '1967', '2007', 41, 3330, 1745, 1585, 0.524, 22, 6, 3, 1]\n",
      "Current Team:['00', 1610612753, 'Orlando', 'Magic', '1989', '2019', 31, 2477, 1188, 1289, 0.479, 15, 7, 2, 0]\n",
      "Current Team:['00', 1610612755, 'Philadelphia', '76ers', '1949', '2019', 71, 5616, 2897, 2719, 0.515, 49, 12, 5, 3]\n",
      "Current Team:['00', 1610612755, 'Philadelphia', '76ers', '1963', '2019', 57, 4602, 2320, 2282, 0.504, 35, 9, 5, 2]\n",
      "Current Team:['00', 1610612755, 'Syracuse', 'Nationals', '1949', '1962', 14, 1014, 577, 437, 0.569, 14, 3, 0, 1]\n",
      "Current Team:['00', 1610612756, 'Phoenix', 'Suns', '1968', '2019', 52, 4199, 2212, 1987, 0.526, 29, 6, 2, 0]\n",
      "Current Team:['00', 1610612757, 'Portland', 'Trail Blazers', '1970', '2019', 50, 4036, 2163, 1873, 0.535, 35, 6, 3, 1]\n",
      "Current Team:['00', 1610612758, 'Sacramento', 'Kings', '1948', '2019', 72, 5680, 2590, 3090, 0.455, 29, 6, 0, 1]\n",
      "Current Team:['00', 1610612758, 'Sacramento', 'Kings', '1985', '2019', 35, 2804, 1184, 1620, 0.422, 10, 2, 0, 0]\n",
      "Current Team:['00', 1610612758, 'Kansas City', 'Kings', '1975', '1984', 10, 820, 381, 439, 0.464, 4, 1, 0, 0]\n",
      "Current Team:['00', 1610612758, 'Kansas City-Omaha', 'Kings', '1972', '1974', 3, 246, 113, 133, 0.459, 1, 0, 0, 0]\n",
      "Current Team:['00', 1610612758, 'Cincinnati', 'Royals', '1957', '1971', 15, 1189, 555, 634, 0.466, 7, 0, 0, 0]\n",
      "Current Team:['00', 1610612758, 'Rochester', 'Royals', '1948', '1956', 9, 621, 357, 264, 0.574, 7, 3, 0, 1]\n",
      "Current Team:['00', 1610612759, 'San Antonio', 'Spurs', '1976', '2019', 44, 3541, 2189, 1352, 0.618, 39, 22, 6, 5]\n",
      "Current Team:['00', 1610612761, 'Toronto', 'Raptors', '1995', '2019', 25, 1984, 948, 1036, 0.477, 11, 7, 1, 1]\n",
      "Current Team:['00', 1610612762, 'Utah', 'Jazz', '1974', '2019', 46, 3706, 2005, 1701, 0.541, 28, 10, 2, 0]\n",
      "Current Team:['00', 1610612762, 'Utah', 'Jazz', '1979', '2019', 41, 3296, 1844, 1452, 0.559, 28, 10, 2, 0]\n",
      "Current Team:['00', 1610612762, 'New Orleans', 'Jazz', '1974', '1978', 5, 410, 161, 249, 0.392, 0, 0, 0, 0]\n",
      "Current Team:['00', 1610612764, 'Washington', 'Wizards', '1961', '2019', 59, 4761, 2152, 2609, 0.452, 29, 8, 4, 1]\n",
      "Current Team:['00', 1610612764, 'Washington', 'Wizards', '1997', '2019', 23, 1820, 774, 1046, 0.425, 8, 1, 0, 0]\n",
      "Current Team:['00', 1610612764, 'Washington', 'Bullets', '1974', '1996', 23, 1886, 887, 999, 0.47, 13, 2, 3, 1]\n",
      "Current Team:['00', 1610612764, 'Capital', 'Bullets', '1973', '1973', 1, 82, 47, 35, 0.573, 1, 1, 0, 0]\n",
      "Current Team:['00', 1610612764, 'Baltimore', 'Bullets', '1963', '1972', 10, 813, 401, 412, 0.493, 7, 4, 1, 0]\n",
      "Current Team:['00', 1610612764, 'Chicago', 'Zephyrs', '1962', '1962', 1, 80, 25, 55, 0.312, 0, 0, 0, 0]\n",
      "Current Team:['00', 1610612764, 'Chicago', 'Packers', '1961', '1961', 1, 80, 18, 62, 0.225, 0, 0, 0, 0]\n",
      "Defunct Team: ['00', 1610610023, 'Anderson', 'Packers', '1949', '1949', 1, 64, 37, 27, 0.578, 1, 0, 0, 0]\n",
      "Defunct Team: ['00', 1610610024, 'Baltimore', 'Bullets', '1947', '1953', 7, 450, 158, 292, 0.351, 3, 0, 0, 1]\n",
      "Defunct Team: ['00', 1610610025, 'Chicago', 'Stags', '1946', '1949', 4, 240, 147, 93, 0.612, 4, 1, 0, 0]\n",
      "Defunct Team: ['00', 1610610026, 'Cleveland', 'Rebels', '1946', '1946', 1, 60, 30, 30, 0.5, 1, 0, 0, 0]\n",
      "Defunct Team: ['00', 1610610027, 'Denver', 'Nuggets', '1949', '1949', 1, 62, 11, 51, 0.177, 0, 0, 0, 0]\n",
      "Defunct Team: ['00', 1610610028, 'Detroit', 'Falcons', '1946', '1946', 1, 60, 20, 40, 0.333, 0, 0, 0, 0]\n",
      "Defunct Team: ['00', 1610610029, 'Indianapolis', 'Jets', '1948', '1948', 1, 60, 18, 42, 0.3, 0, 0, 0, 0]\n",
      "Defunct Team: ['00', 1610610030, 'Indianapolis', 'Olympians', '1949', '1952', 4, 269, 132, 137, 0.49, 4, 1, 0, 0]\n",
      "Defunct Team: ['00', 1610610031, 'Pittsburgh', 'Ironmen', '1946', '1946', 1, 60, 15, 45, 0.25, 0, 0, 0, 0]\n",
      "Defunct Team: ['00', 1610610032, 'Providence', 'Steamrollers', '1946', '1948', 3, 168, 46, 122, 0.273, 0, 0, 0, 0]\n",
      "Defunct Team: ['00', 1610610033, 'Sheboygan', 'Redskins', '1949', '1949', 1, 62, 22, 40, 0.354, 1, 0, 0, 0]\n",
      "Defunct Team: ['00', 1610610034, 'St. Louis', 'Bombers', '1946', '1949', 4, 237, 122, 115, 0.514, 3, 1, 0, 0]\n",
      "Defunct Team: ['00', 1610610035, 'Toronto', 'Huskies', '1946', '1946', 1, 60, 22, 38, 0.366, 0, 0, 0, 0]\n",
      "Defunct Team: ['00', 1610610036, 'Washington', 'Capitols', '1946', '1950', 5, 272, 157, 115, 0.577, 3, 2, 0, 0]\n",
      "Defunct Team: ['00', 1610610037, 'Waterloo', 'Hawks', '1949', '1949', 1, 62, 19, 43, 0.306, 0, 0, 0, 0]\n"
     ]
    }
   ],
   "source": [
    "# Get Unique Team IDs over History\n",
    "\n",
    "unique_id = []\n",
    "\n",
    "for i in all_teams['resultSets'][0]['rowSet']:\n",
    "    print(f'Current Team:{i}')\n",
    "    unique_id.append(i[1])\n",
    "\n",
    "for i in all_teams['resultSets'][1]['rowSet']:\n",
    "    print(f'Defunct Team: {i}')\n",
    "    unique_id.append(i[1])\n",
    "\n",
    "unique_id = np.unique(unique_id)"
   ]
  },
  {
   "cell_type": "code",
   "execution_count": 18,
   "metadata": {},
   "outputs": [
    {
     "data": {
      "text/plain": [
       "array([1610610023, 1610610024, 1610610025, 1610610026, 1610610027,\n",
       "       1610610028, 1610610029, 1610610030, 1610610031, 1610610032,\n",
       "       1610610033, 1610610034, 1610610035, 1610610036, 1610610037,\n",
       "       1610612737, 1610612738, 1610612739, 1610612740, 1610612741,\n",
       "       1610612742, 1610612743, 1610612744, 1610612745, 1610612746,\n",
       "       1610612747, 1610612748, 1610612749, 1610612750, 1610612751,\n",
       "       1610612752, 1610612753, 1610612754, 1610612755, 1610612756,\n",
       "       1610612757, 1610612758, 1610612759, 1610612760, 1610612761,\n",
       "       1610612762, 1610612763, 1610612764, 1610612765, 1610612766])"
      ]
     },
     "execution_count": 18,
     "metadata": {},
     "output_type": "execute_result"
    }
   ],
   "source": [
    "unique_id"
   ]
  },
  {
   "cell_type": "markdown",
   "metadata": {},
   "source": [
    "# Now that we have unique team ID's, we need to build the bridge between individual teams, and pulling individual player data per team. "
   ]
  },
  {
   "cell_type": "markdown",
   "metadata": {},
   "source": [
    "The api documentation tells us that we can get individual player data by calling: \n",
    "$ players.get_players()\n",
    "\n",
    "Let's dive into the dataset to determine how to best compile player data by season.\n",
    "\n"
   ]
  },
  {
   "cell_type": "code",
   "execution_count": 83,
   "metadata": {},
   "outputs": [],
   "source": [
    "all_players = players.get_players()"
   ]
  },
  {
   "cell_type": "code",
   "execution_count": 84,
   "metadata": {},
   "outputs": [
    {
     "data": {
      "text/plain": [
       "list"
      ]
     },
     "execution_count": 84,
     "metadata": {},
     "output_type": "execute_result"
    }
   ],
   "source": [
    "type(all_players)"
   ]
  },
  {
   "cell_type": "code",
   "execution_count": 85,
   "metadata": {},
   "outputs": [
    {
     "data": {
      "text/plain": [
       "4501"
      ]
     },
     "execution_count": 85,
     "metadata": {},
     "output_type": "execute_result"
    }
   ],
   "source": [
    "len(all_players)"
   ]
  },
  {
   "cell_type": "code",
   "execution_count": 86,
   "metadata": {},
   "outputs": [
    {
     "data": {
      "text/plain": [
       "dict"
      ]
     },
     "execution_count": 86,
     "metadata": {},
     "output_type": "execute_result"
    }
   ],
   "source": [
    "type(all_players[0])"
   ]
  },
  {
   "cell_type": "code",
   "execution_count": 87,
   "metadata": {},
   "outputs": [
    {
     "data": {
      "text/plain": [
       "dict_keys(['id', 'full_name', 'first_name', 'last_name', 'is_active'])"
      ]
     },
     "execution_count": 87,
     "metadata": {},
     "output_type": "execute_result"
    }
   ],
   "source": [
    "all_players[0].keys()"
   ]
  },
  {
   "cell_type": "code",
   "execution_count": 90,
   "metadata": {},
   "outputs": [
    {
     "name": "stdout",
     "output_type": "stream",
     "text": [
      "id - 76001:<class 'int'>\n",
      "full_name - Alaa Abdelnaby:<class 'str'>\n",
      "first_name - Alaa:<class 'str'>\n",
      "last_name - Abdelnaby:<class 'str'>\n",
      "is_active - False:<class 'bool'>\n"
     ]
    }
   ],
   "source": [
    "for i in all_players[0].keys():\n",
    "    print(f'{i} - {all_players[0][i]}:{type(all_players[0][i])}')"
   ]
  },
  {
   "cell_type": "code",
   "execution_count": null,
   "metadata": {},
   "outputs": [],
   "source": [
    "one_player = PlayerDashboardByYearOverYear(player_id = 2544, season = '2017-18')"
   ]
  },
  {
   "cell_type": "code",
   "execution_count": null,
   "metadata": {},
   "outputs": [],
   "source": [
    "one_player = one_player.get_dict()"
   ]
  },
  {
   "cell_type": "code",
   "execution_count": null,
   "metadata": {},
   "outputs": [],
   "source": [
    "one_player.keys()"
   ]
  },
  {
   "cell_type": "code",
   "execution_count": null,
   "metadata": {},
   "outputs": [],
   "source": [
    "for i in one_player.keys():\n",
    "    print(f' {i}: type {type(one_player[i])}')"
   ]
  },
  {
   "cell_type": "code",
   "execution_count": null,
   "metadata": {},
   "outputs": [],
   "source": [
    "one_player['parameters']"
   ]
  },
  {
   "cell_type": "markdown",
   "metadata": {},
   "source": [
    "The 'Season' key above tells us that we can use this parameter to collect player data specific to a given season."
   ]
  },
  {
   "cell_type": "code",
   "execution_count": null,
   "metadata": {},
   "outputs": [],
   "source": [
    "len(one_player['resultSets'])"
   ]
  },
  {
   "cell_type": "code",
   "execution_count": null,
   "metadata": {},
   "outputs": [],
   "source": [
    "for i in one_player['resultSets']:\n",
    "    print(type(i))"
   ]
  },
  {
   "cell_type": "code",
   "execution_count": null,
   "metadata": {},
   "outputs": [],
   "source": [
    "for i in one_player['resultSets']:\n",
    "    print(i.keys())"
   ]
  },
  {
   "cell_type": "code",
   "execution_count": null,
   "metadata": {},
   "outputs": [],
   "source": [
    "for i in one_player['resultSets']:\n",
    "    for k in i.keys():\n",
    "        print(f'{k}:{type(i[k])}')\n",
    "        print(i[k])"
   ]
  },
  {
   "cell_type": "markdown",
   "metadata": {},
   "source": [
    "In summary, the get_players dictionary object has a resultsSets key, which contains two sub-dictionaries on a per player basis. One for overall data at ['resultSets'][0], and the other for yearly statistics at ['resultSets'][1]."
   ]
  },
  {
   "cell_type": "markdown",
   "metadata": {},
   "source": [
    "Now we can create a list of unique players ids to use for instantiation of PlayerDashboardByYearOverYear() objects. We can then parse through those dictionaries to collect individual player stats."
   ]
  },
  {
   "cell_type": "code",
   "execution_count": 53,
   "metadata": {},
   "outputs": [],
   "source": [
    "unique_play = []\n",
    "\n",
    "for i in all_players:\n",
    "    unique_play.append(i['id'])\n",
    "\n",
    "unique_play = np.unique(unique_play)"
   ]
  },
  {
   "cell_type": "code",
   "execution_count": 54,
   "metadata": {},
   "outputs": [
    {
     "data": {
      "text/plain": [
       "array([      2,       3,       7, ..., 1629750, 1629752, 1629760])"
      ]
     },
     "execution_count": 54,
     "metadata": {},
     "output_type": "execute_result"
    }
   ],
   "source": [
    "unique_play"
   ]
  },
  {
   "cell_type": "markdown",
   "metadata": {},
   "source": [
    "We have our unique player ID's. Now we need to create a list of seasons over which we can iterate. For the purposes of this project, we want the 20 most recent seasons. In other words, from the Fall of 1998 to Spring of 2019."
   ]
  },
  {
   "cell_type": "code",
   "execution_count": 58,
   "metadata": {},
   "outputs": [],
   "source": [
    "def get_seasons(fall_start,spring_end):\n",
    "    \n",
    "    \"\"\"PARAMETERS:\n",
    "    fall_start: int - The year corresponding to the start of a season (fall)\n",
    "    spring_end: int - The year corresponding to the end of a season(spring)\n",
    "    \n",
    "    RETURNS:\n",
    "    List containg all seasons from which to pull data\"\"\"\n",
    "    \n",
    "    lst = []\n",
    "    for i in range(fall_start,spring_end):\n",
    "        if (i+1)%100 > 9:\n",
    "            season = f'{i}-{(i+1)%100}'\n",
    "            lst.append(season)\n",
    "        else:\n",
    "            season = f'{i}-0{(i+1)%100}'\n",
    "            lst.append(season)\n",
    "    return lst"
   ]
  },
  {
   "cell_type": "code",
   "execution_count": 60,
   "metadata": {},
   "outputs": [],
   "source": [
    "szn = get_seasons(1998,2019)"
   ]
  },
  {
   "cell_type": "markdown",
   "metadata": {},
   "source": [
    "Time to iterate over the seasons on a per player basis. "
   ]
  },
  {
   "cell_type": "code",
   "execution_count": 61,
   "metadata": {},
   "outputs": [],
   "source": []
  },
  {
   "cell_type": "code",
   "execution_count": null,
   "metadata": {},
   "outputs": [],
   "source": [
    "for s in szn:\n",
    "    d_sub = dict()\n",
    "    for i in unique_play:\n",
    "        one_player = PlayerDashboardByYearOverYear(player_id = i, Season = s)\n",
    "        sub2_d = dict()\n",
    "        for head,row in zip(one_player['resultSets'][1]['headers'],one_player['resultSets'][1]['rowSet']):\n",
    "            sub2_d[head] = row\n",
    "        d_sub[i] = sub2_d\n",
    "    d_[s]=d_sub"
   ]
  },
  {
   "cell_type": "code",
   "execution_count": 78,
   "metadata": {},
   "outputs": [
    {
     "name": "stdout",
     "output_type": "stream",
     "text": [
      "GROUP_SET,['By Year', '1996-97', 1610612747, 'LAL', '1997-04-20T00:00:00', 79, 54, 25, 0.684, 1439.7783333333334, 163, 379, 0.43, 73, 188, 0.388, 127, 151, 0.841, 21, 97, 118, 99, 53, 46, 16, 9, 72, 1, 526, 199, 949.1, 0, 0, 1, 1, 1, 1, 1, 1, 1, 1, 1, 1, 1, 1, 1, 1, 1, 1, 1, 1, 1, 1, 1, 1, 1, 1, 1, 1, 1, 1, 1, 264, '1996-97']\n",
      "GROUP_SET,['By Year', '1996-97', 1610612747, 'LAL', '1997-04-20T00:00:00', 79, 54, 25, 0.684, 1439.7783333333334, 163, 379, 0.43, 73, 188, 0.388, 127, 151, 0.841, 21, 97, 118, 99, 53, 46, 16, 9, 72, 1, 526, 199, 949.1, 0, 0, 1, 1, 1, 1, 1, 1, 1, 1, 1, 1, 1, 1, 1, 1, 1, 1, 1, 1, 1, 1, 1, 1, 1, 1, 1, 1, 1, 1, 1, 264, '1996-97']\n",
      "GROUP_SET,['By Year', '1996-97', 1610612747, 'LAL', '1997-04-20T00:00:00', 79, 54, 25, 0.684, 1439.7783333333334, 163, 379, 0.43, 73, 188, 0.388, 127, 151, 0.841, 21, 97, 118, 99, 53, 46, 16, 9, 72, 1, 526, 199, 949.1, 0, 0, 1, 1, 1, 1, 1, 1, 1, 1, 1, 1, 1, 1, 1, 1, 1, 1, 1, 1, 1, 1, 1, 1, 1, 1, 1, 1, 1, 1, 1, 264, '1996-97']\n",
      "GROUP_SET,['By Year', '1996-97', 1610612747, 'LAL', '1997-04-20T00:00:00', 79, 54, 25, 0.684, 1439.7783333333334, 163, 379, 0.43, 73, 188, 0.388, 127, 151, 0.841, 21, 97, 118, 99, 53, 46, 16, 9, 72, 1, 526, 199, 949.1, 0, 0, 1, 1, 1, 1, 1, 1, 1, 1, 1, 1, 1, 1, 1, 1, 1, 1, 1, 1, 1, 1, 1, 1, 1, 1, 1, 1, 1, 1, 1, 264, '1996-97']\n",
      "GROUP_SET,['By Year', '1996-97', 1610612747, 'LAL', '1997-04-20T00:00:00', 79, 54, 25, 0.684, 1439.7783333333334, 163, 379, 0.43, 73, 188, 0.388, 127, 151, 0.841, 21, 97, 118, 99, 53, 46, 16, 9, 72, 1, 526, 199, 949.1, 0, 0, 1, 1, 1, 1, 1, 1, 1, 1, 1, 1, 1, 1, 1, 1, 1, 1, 1, 1, 1, 1, 1, 1, 1, 1, 1, 1, 1, 1, 1, 264, '1996-97']\n",
      "GROUP_SET,['By Year', '1996-97', 1610612747, 'LAL', '1997-04-20T00:00:00', 79, 54, 25, 0.684, 1439.7783333333334, 163, 379, 0.43, 73, 188, 0.388, 127, 151, 0.841, 21, 97, 118, 99, 53, 46, 16, 9, 72, 1, 526, 199, 949.1, 0, 0, 1, 1, 1, 1, 1, 1, 1, 1, 1, 1, 1, 1, 1, 1, 1, 1, 1, 1, 1, 1, 1, 1, 1, 1, 1, 1, 1, 1, 1, 264, '1996-97']\n",
      "GROUP_SET,['By Year', '1996-97', 1610612747, 'LAL', '1997-04-20T00:00:00', 79, 54, 25, 0.684, 1439.7783333333334, 163, 379, 0.43, 73, 188, 0.388, 127, 151, 0.841, 21, 97, 118, 99, 53, 46, 16, 9, 72, 1, 526, 199, 949.1, 0, 0, 1, 1, 1, 1, 1, 1, 1, 1, 1, 1, 1, 1, 1, 1, 1, 1, 1, 1, 1, 1, 1, 1, 1, 1, 1, 1, 1, 1, 1, 264, '1996-97']\n",
      "GROUP_SET,['By Year', '1996-97', 1610612747, 'LAL', '1997-04-20T00:00:00', 79, 54, 25, 0.684, 1439.7783333333334, 163, 379, 0.43, 73, 188, 0.388, 127, 151, 0.841, 21, 97, 118, 99, 53, 46, 16, 9, 72, 1, 526, 199, 949.1, 0, 0, 1, 1, 1, 1, 1, 1, 1, 1, 1, 1, 1, 1, 1, 1, 1, 1, 1, 1, 1, 1, 1, 1, 1, 1, 1, 1, 1, 1, 1, 264, '1996-97']\n",
      "GROUP_SET,['By Year', '1996-97', 1610612747, 'LAL', '1997-04-20T00:00:00', 79, 54, 25, 0.684, 1439.7783333333334, 163, 379, 0.43, 73, 188, 0.388, 127, 151, 0.841, 21, 97, 118, 99, 53, 46, 16, 9, 72, 1, 526, 199, 949.1, 0, 0, 1, 1, 1, 1, 1, 1, 1, 1, 1, 1, 1, 1, 1, 1, 1, 1, 1, 1, 1, 1, 1, 1, 1, 1, 1, 1, 1, 1, 1, 264, '1996-97']\n",
      "GROUP_SET,['By Year', '1996-97', 1610612747, 'LAL', '1997-04-20T00:00:00', 79, 54, 25, 0.684, 1439.7783333333334, 163, 379, 0.43, 73, 188, 0.388, 127, 151, 0.841, 21, 97, 118, 99, 53, 46, 16, 9, 72, 1, 526, 199, 949.1, 0, 0, 1, 1, 1, 1, 1, 1, 1, 1, 1, 1, 1, 1, 1, 1, 1, 1, 1, 1, 1, 1, 1, 1, 1, 1, 1, 1, 1, 1, 1, 264, '1996-97']\n",
      "GROUP_SET,['By Year', '1996-97', 1610612747, 'LAL', '1997-04-20T00:00:00', 79, 54, 25, 0.684, 1439.7783333333334, 163, 379, 0.43, 73, 188, 0.388, 127, 151, 0.841, 21, 97, 118, 99, 53, 46, 16, 9, 72, 1, 526, 199, 949.1, 0, 0, 1, 1, 1, 1, 1, 1, 1, 1, 1, 1, 1, 1, 1, 1, 1, 1, 1, 1, 1, 1, 1, 1, 1, 1, 1, 1, 1, 1, 1, 264, '1996-97']\n",
      "GROUP_SET,['By Year', '1996-97', 1610612747, 'LAL', '1997-04-20T00:00:00', 79, 54, 25, 0.684, 1439.7783333333334, 163, 379, 0.43, 73, 188, 0.388, 127, 151, 0.841, 21, 97, 118, 99, 53, 46, 16, 9, 72, 1, 526, 199, 949.1, 0, 0, 1, 1, 1, 1, 1, 1, 1, 1, 1, 1, 1, 1, 1, 1, 1, 1, 1, 1, 1, 1, 1, 1, 1, 1, 1, 1, 1, 1, 1, 264, '1996-97']\n",
      "GROUP_SET,['By Year', '1996-97', 1610612747, 'LAL', '1997-04-20T00:00:00', 79, 54, 25, 0.684, 1439.7783333333334, 163, 379, 0.43, 73, 188, 0.388, 127, 151, 0.841, 21, 97, 118, 99, 53, 46, 16, 9, 72, 1, 526, 199, 949.1, 0, 0, 1, 1, 1, 1, 1, 1, 1, 1, 1, 1, 1, 1, 1, 1, 1, 1, 1, 1, 1, 1, 1, 1, 1, 1, 1, 1, 1, 1, 1, 264, '1996-97']\n",
      "GROUP_SET,['By Year', '1996-97', 1610612747, 'LAL', '1997-04-20T00:00:00', 79, 54, 25, 0.684, 1439.7783333333334, 163, 379, 0.43, 73, 188, 0.388, 127, 151, 0.841, 21, 97, 118, 99, 53, 46, 16, 9, 72, 1, 526, 199, 949.1, 0, 0, 1, 1, 1, 1, 1, 1, 1, 1, 1, 1, 1, 1, 1, 1, 1, 1, 1, 1, 1, 1, 1, 1, 1, 1, 1, 1, 1, 1, 1, 264, '1996-97']\n",
      "GROUP_SET,['By Year', '1996-97', 1610612747, 'LAL', '1997-04-20T00:00:00', 79, 54, 25, 0.684, 1439.7783333333334, 163, 379, 0.43, 73, 188, 0.388, 127, 151, 0.841, 21, 97, 118, 99, 53, 46, 16, 9, 72, 1, 526, 199, 949.1, 0, 0, 1, 1, 1, 1, 1, 1, 1, 1, 1, 1, 1, 1, 1, 1, 1, 1, 1, 1, 1, 1, 1, 1, 1, 1, 1, 1, 1, 1, 1, 264, '1996-97']\n",
      "GROUP_SET,['By Year', '1996-97', 1610612747, 'LAL', '1997-04-20T00:00:00', 79, 54, 25, 0.684, 1439.7783333333334, 163, 379, 0.43, 73, 188, 0.388, 127, 151, 0.841, 21, 97, 118, 99, 53, 46, 16, 9, 72, 1, 526, 199, 949.1, 0, 0, 1, 1, 1, 1, 1, 1, 1, 1, 1, 1, 1, 1, 1, 1, 1, 1, 1, 1, 1, 1, 1, 1, 1, 1, 1, 1, 1, 1, 1, 264, '1996-97']\n",
      "GROUP_SET,['By Year', '1996-97', 1610612747, 'LAL', '1997-04-20T00:00:00', 79, 54, 25, 0.684, 1439.7783333333334, 163, 379, 0.43, 73, 188, 0.388, 127, 151, 0.841, 21, 97, 118, 99, 53, 46, 16, 9, 72, 1, 526, 199, 949.1, 0, 0, 1, 1, 1, 1, 1, 1, 1, 1, 1, 1, 1, 1, 1, 1, 1, 1, 1, 1, 1, 1, 1, 1, 1, 1, 1, 1, 1, 1, 1, 264, '1996-97']\n",
      "GROUP_SET,['By Year', '1996-97', 1610612747, 'LAL', '1997-04-20T00:00:00', 79, 54, 25, 0.684, 1439.7783333333334, 163, 379, 0.43, 73, 188, 0.388, 127, 151, 0.841, 21, 97, 118, 99, 53, 46, 16, 9, 72, 1, 526, 199, 949.1, 0, 0, 1, 1, 1, 1, 1, 1, 1, 1, 1, 1, 1, 1, 1, 1, 1, 1, 1, 1, 1, 1, 1, 1, 1, 1, 1, 1, 1, 1, 1, 264, '1996-97']\n",
      "GROUP_SET,['By Year', '1996-97', 1610612747, 'LAL', '1997-04-20T00:00:00', 79, 54, 25, 0.684, 1439.7783333333334, 163, 379, 0.43, 73, 188, 0.388, 127, 151, 0.841, 21, 97, 118, 99, 53, 46, 16, 9, 72, 1, 526, 199, 949.1, 0, 0, 1, 1, 1, 1, 1, 1, 1, 1, 1, 1, 1, 1, 1, 1, 1, 1, 1, 1, 1, 1, 1, 1, 1, 1, 1, 1, 1, 1, 1, 264, '1996-97']\n",
      "GROUP_SET,['By Year', '1996-97', 1610612747, 'LAL', '1997-04-20T00:00:00', 79, 54, 25, 0.684, 1439.7783333333334, 163, 379, 0.43, 73, 188, 0.388, 127, 151, 0.841, 21, 97, 118, 99, 53, 46, 16, 9, 72, 1, 526, 199, 949.1, 0, 0, 1, 1, 1, 1, 1, 1, 1, 1, 1, 1, 1, 1, 1, 1, 1, 1, 1, 1, 1, 1, 1, 1, 1, 1, 1, 1, 1, 1, 1, 264, '1996-97']\n",
      "GROUP_SET,['By Year', '1996-97', 1610612747, 'LAL', '1997-04-20T00:00:00', 79, 54, 25, 0.684, 1439.7783333333334, 163, 379, 0.43, 73, 188, 0.388, 127, 151, 0.841, 21, 97, 118, 99, 53, 46, 16, 9, 72, 1, 526, 199, 949.1, 0, 0, 1, 1, 1, 1, 1, 1, 1, 1, 1, 1, 1, 1, 1, 1, 1, 1, 1, 1, 1, 1, 1, 1, 1, 1, 1, 1, 1, 1, 1, 264, '1996-97']\n",
      "GROUP_SET,['By Year', '2002-03', 1610612738, 'BOS', '2003-04-16T00:00:00', 41, 21, 20, 0.512, 489.72833333333335, 27, 70, 0.386, 0, 3, 0.0, 18, 23, 0.783, 24, 59, 83, 25, 19, 9, 1, 6, 62, 0, 72, -58, 220.1, 0, 0, 6, 3, 2, 3, 7, 7, 7, 7, 5, 7, 5, 7, 7, 2, 7, 7, 7, 6, 7, 7, 7, 1, 1, 6, 7, 4, 7, 4, 1, 264, '2002-03']\n",
      "GROUP_VALUE,['By Year', '2001-02', 1610612763, 'MEM', '2002-04-05T00:00:00', 66, 18, 48, 0.273, 1868.1016666666667, 164, 385, 0.426, 3, 17, 0.176, 86, 123, 0.699, 31, 200, 231, 136, 103, 63, 12, 16, 123, 0, 417, -384, 1020.2, 0, 0, 1, 6, 7, 7, 1, 1, 1, 5, 3, 3, 3, 3, 3, 7, 6, 1, 4, 1, 1, 2, 3, 5, 5, 6, 2, 7, 3, 4, 1, 264, '2001-02']\n",
      "TEAM_ID,['By Year', '2000-01', 1610612763, 'VAN', '2001-04-18T00:00:00', 66, 19, 47, 0.288, 1511.2416666666666, 140, 319, 0.439, 4, 15, 0.267, 112, 157, 0.713, 76, 198, 274, 83, 62, 72, 15, 12, 160, 1, 396, -220, 1048.3, 1, 0, 1, 4, 6, 6, 2, 3, 3, 3, 2, 4, 2, 2, 2, 6, 4, 2, 2, 2, 3, 1, 2, 3, 7, 5, 3, 6, 2, 3, 1, 264, '2000-01']\n",
      "TEAM_ABBREVIATION,['By Year', '1999-00', 1610612763, 'VAN', '2000-03-21T00:00:00', 42, 13, 29, 0.31, 922.245, 74, 167, 0.443, 0, 4, 0.0, 55, 71, 0.775, 86, 148, 234, 43, 49, 45, 10, 7, 108, 31, 203, -62, 664.3, 0, 0, 5, 7, 5, 5, 5, 5, 5, 2, 5, 5, 5, 5, 5, 3, 3, 4, 3, 4, 4, 4, 5, 2, 4, 1, 5, 5, 5, 4, 1, 264, '1999-00']\n",
      "MAX_GAME_DATE,['By Year', '1998-99', 1610612737, 'ATL', '1999-05-05T00:00:00', 50, 31, 19, 0.62, 1380.1783333333333, 151, 359, 0.421, 3, 18, 0.167, 184, 235, 0.783, 100, 196, 296, 53, 74, 57, 16, 25, 143, 2, 489, 205, 1068.7, 5, 0, 4, 2, 1, 2, 3, 2, 2, 6, 3, 2, 4, 1, 1, 1, 1, 3, 1, 3, 2, 3, 1, 7, 6, 4, 1, 1, 1, 1, 1, 264, '1998-99']\n",
      "GP,['By Year', '1997-98', 1610612765, 'DET', '1998-02-13T00:00:00', 40, 19, 21, 0.475, 741.7266666666667, 50, 117, 0.427, 0, 4, 0.0, 41, 57, 0.719, 57, 93, 150, 25, 22, 29, 12, 12, 91, 3, 141, -4, 459.5, 0, 0, 7, 4, 3, 4, 6, 6, 6, 4, 5, 5, 5, 6, 6, 5, 5, 6, 6, 6, 6, 6, 3, 3, 2, 2, 6, 3, 6, 4, 1, 264, '1997-98']\n",
      "W,['By Year', '1996-97', 1610612765, 'DET', '1997-04-18T00:00:00', 65, 41, 24, 0.631, 1170.195, 123, 275, 0.447, 17, 47, 0.362, 63, 84, 0.75, 88, 134, 222, 39, 48, 43, 6, 19, 106, 3, 326, 69, 749.9, 2, 0, 3, 1, 4, 1, 4, 4, 4, 1, 1, 1, 1, 4, 4, 4, 2, 5, 5, 5, 5, 5, 6, 6, 3, 2, 4, 2, 4, 2, 1, 264, '1996-97']\n"
     ]
    },
    {
     "name": "stdout",
     "output_type": "stream",
     "text": [
      "GROUP_SET,['By Year', '2002-03', 1610612738, 'BOS', '2003-04-16T00:00:00', 41, 21, 20, 0.512, 489.72833333333335, 27, 70, 0.386, 0, 3, 0.0, 18, 23, 0.783, 24, 59, 83, 25, 19, 9, 1, 6, 62, 0, 72, -58, 220.1, 0, 0, 6, 3, 2, 3, 7, 7, 7, 7, 5, 7, 5, 7, 7, 2, 7, 7, 7, 6, 7, 7, 7, 1, 1, 6, 7, 4, 7, 4, 1, 264, '2002-03']\n",
      "GROUP_VALUE,['By Year', '2001-02', 1610612763, 'MEM', '2002-04-05T00:00:00', 66, 18, 48, 0.273, 1868.1016666666667, 164, 385, 0.426, 3, 17, 0.176, 86, 123, 0.699, 31, 200, 231, 136, 103, 63, 12, 16, 123, 0, 417, -384, 1020.2, 0, 0, 1, 6, 7, 7, 1, 1, 1, 5, 3, 3, 3, 3, 3, 7, 6, 1, 4, 1, 1, 2, 3, 5, 5, 6, 2, 7, 3, 4, 1, 264, '2001-02']\n",
      "TEAM_ID,['By Year', '2000-01', 1610612763, 'VAN', '2001-04-18T00:00:00', 66, 19, 47, 0.288, 1511.2416666666666, 140, 319, 0.439, 4, 15, 0.267, 112, 157, 0.713, 76, 198, 274, 83, 62, 72, 15, 12, 160, 1, 396, -220, 1048.3, 1, 0, 1, 4, 6, 6, 2, 3, 3, 3, 2, 4, 2, 2, 2, 6, 4, 2, 2, 2, 3, 1, 2, 3, 7, 5, 3, 6, 2, 3, 1, 264, '2000-01']\n",
      "TEAM_ABBREVIATION,['By Year', '1999-00', 1610612763, 'VAN', '2000-03-21T00:00:00', 42, 13, 29, 0.31, 922.245, 74, 167, 0.443, 0, 4, 0.0, 55, 71, 0.775, 86, 148, 234, 43, 49, 45, 10, 7, 108, 31, 203, -62, 664.3, 0, 0, 5, 7, 5, 5, 5, 5, 5, 2, 5, 5, 5, 5, 5, 3, 3, 4, 3, 4, 4, 4, 5, 2, 4, 1, 5, 5, 5, 4, 1, 264, '1999-00']\n",
      "MAX_GAME_DATE,['By Year', '1998-99', 1610612737, 'ATL', '1999-05-05T00:00:00', 50, 31, 19, 0.62, 1380.1783333333333, 151, 359, 0.421, 3, 18, 0.167, 184, 235, 0.783, 100, 196, 296, 53, 74, 57, 16, 25, 143, 2, 489, 205, 1068.7, 5, 0, 4, 2, 1, 2, 3, 2, 2, 6, 3, 2, 4, 1, 1, 1, 1, 3, 1, 3, 2, 3, 1, 7, 6, 4, 1, 1, 1, 1, 1, 264, '1998-99']\n",
      "GP,['By Year', '1997-98', 1610612765, 'DET', '1998-02-13T00:00:00', 40, 19, 21, 0.475, 741.7266666666667, 50, 117, 0.427, 0, 4, 0.0, 41, 57, 0.719, 57, 93, 150, 25, 22, 29, 12, 12, 91, 3, 141, -4, 459.5, 0, 0, 7, 4, 3, 4, 6, 6, 6, 4, 5, 5, 5, 6, 6, 5, 5, 6, 6, 6, 6, 6, 3, 3, 2, 2, 6, 3, 6, 4, 1, 264, '1997-98']\n",
      "W,['By Year', '1996-97', 1610612765, 'DET', '1997-04-18T00:00:00', 65, 41, 24, 0.631, 1170.195, 123, 275, 0.447, 17, 47, 0.362, 63, 84, 0.75, 88, 134, 222, 39, 48, 43, 6, 19, 106, 3, 326, 69, 749.9, 2, 0, 3, 1, 4, 1, 4, 4, 4, 1, 1, 1, 1, 4, 4, 4, 2, 5, 5, 5, 5, 5, 6, 6, 3, 2, 4, 2, 4, 2, 1, 264, '1996-97']\n",
      "GROUP_SET,['By Year', '2002-03', 1610612738, 'BOS', '2003-04-16T00:00:00', 41, 21, 20, 0.512, 489.72833333333335, 27, 70, 0.386, 0, 3, 0.0, 18, 23, 0.783, 24, 59, 83, 25, 19, 9, 1, 6, 62, 0, 72, -58, 220.1, 0, 0, 6, 3, 2, 3, 7, 7, 7, 7, 5, 7, 5, 7, 7, 2, 7, 7, 7, 6, 7, 7, 7, 1, 1, 6, 7, 4, 7, 4, 1, 264, '2002-03']\n",
      "GROUP_VALUE,['By Year', '2001-02', 1610612763, 'MEM', '2002-04-05T00:00:00', 66, 18, 48, 0.273, 1868.1016666666667, 164, 385, 0.426, 3, 17, 0.176, 86, 123, 0.699, 31, 200, 231, 136, 103, 63, 12, 16, 123, 0, 417, -384, 1020.2, 0, 0, 1, 6, 7, 7, 1, 1, 1, 5, 3, 3, 3, 3, 3, 7, 6, 1, 4, 1, 1, 2, 3, 5, 5, 6, 2, 7, 3, 4, 1, 264, '2001-02']\n",
      "TEAM_ID,['By Year', '2000-01', 1610612763, 'VAN', '2001-04-18T00:00:00', 66, 19, 47, 0.288, 1511.2416666666666, 140, 319, 0.439, 4, 15, 0.267, 112, 157, 0.713, 76, 198, 274, 83, 62, 72, 15, 12, 160, 1, 396, -220, 1048.3, 1, 0, 1, 4, 6, 6, 2, 3, 3, 3, 2, 4, 2, 2, 2, 6, 4, 2, 2, 2, 3, 1, 2, 3, 7, 5, 3, 6, 2, 3, 1, 264, '2000-01']\n",
      "TEAM_ABBREVIATION,['By Year', '1999-00', 1610612763, 'VAN', '2000-03-21T00:00:00', 42, 13, 29, 0.31, 922.245, 74, 167, 0.443, 0, 4, 0.0, 55, 71, 0.775, 86, 148, 234, 43, 49, 45, 10, 7, 108, 31, 203, -62, 664.3, 0, 0, 5, 7, 5, 5, 5, 5, 5, 2, 5, 5, 5, 5, 5, 3, 3, 4, 3, 4, 4, 4, 5, 2, 4, 1, 5, 5, 5, 4, 1, 264, '1999-00']\n",
      "MAX_GAME_DATE,['By Year', '1998-99', 1610612737, 'ATL', '1999-05-05T00:00:00', 50, 31, 19, 0.62, 1380.1783333333333, 151, 359, 0.421, 3, 18, 0.167, 184, 235, 0.783, 100, 196, 296, 53, 74, 57, 16, 25, 143, 2, 489, 205, 1068.7, 5, 0, 4, 2, 1, 2, 3, 2, 2, 6, 3, 2, 4, 1, 1, 1, 1, 3, 1, 3, 2, 3, 1, 7, 6, 4, 1, 1, 1, 1, 1, 264, '1998-99']\n",
      "GP,['By Year', '1997-98', 1610612765, 'DET', '1998-02-13T00:00:00', 40, 19, 21, 0.475, 741.7266666666667, 50, 117, 0.427, 0, 4, 0.0, 41, 57, 0.719, 57, 93, 150, 25, 22, 29, 12, 12, 91, 3, 141, -4, 459.5, 0, 0, 7, 4, 3, 4, 6, 6, 6, 4, 5, 5, 5, 6, 6, 5, 5, 6, 6, 6, 6, 6, 3, 3, 2, 2, 6, 3, 6, 4, 1, 264, '1997-98']\n",
      "W,['By Year', '1996-97', 1610612765, 'DET', '1997-04-18T00:00:00', 65, 41, 24, 0.631, 1170.195, 123, 275, 0.447, 17, 47, 0.362, 63, 84, 0.75, 88, 134, 222, 39, 48, 43, 6, 19, 106, 3, 326, 69, 749.9, 2, 0, 3, 1, 4, 1, 4, 4, 4, 1, 1, 1, 1, 4, 4, 4, 2, 5, 5, 5, 5, 5, 6, 6, 3, 2, 4, 2, 4, 2, 1, 264, '1996-97']\n",
      "GROUP_SET,['By Year', '2002-03', 1610612738, 'BOS', '2003-04-16T00:00:00', 41, 21, 20, 0.512, 489.72833333333335, 27, 70, 0.386, 0, 3, 0.0, 18, 23, 0.783, 24, 59, 83, 25, 19, 9, 1, 6, 62, 0, 72, -58, 220.1, 0, 0, 6, 3, 2, 3, 7, 7, 7, 7, 5, 7, 5, 7, 7, 2, 7, 7, 7, 6, 7, 7, 7, 1, 1, 6, 7, 4, 7, 4, 1, 264, '2002-03']\n",
      "GROUP_VALUE,['By Year', '2001-02', 1610612763, 'MEM', '2002-04-05T00:00:00', 66, 18, 48, 0.273, 1868.1016666666667, 164, 385, 0.426, 3, 17, 0.176, 86, 123, 0.699, 31, 200, 231, 136, 103, 63, 12, 16, 123, 0, 417, -384, 1020.2, 0, 0, 1, 6, 7, 7, 1, 1, 1, 5, 3, 3, 3, 3, 3, 7, 6, 1, 4, 1, 1, 2, 3, 5, 5, 6, 2, 7, 3, 4, 1, 264, '2001-02']\n",
      "TEAM_ID,['By Year', '2000-01', 1610612763, 'VAN', '2001-04-18T00:00:00', 66, 19, 47, 0.288, 1511.2416666666666, 140, 319, 0.439, 4, 15, 0.267, 112, 157, 0.713, 76, 198, 274, 83, 62, 72, 15, 12, 160, 1, 396, -220, 1048.3, 1, 0, 1, 4, 6, 6, 2, 3, 3, 3, 2, 4, 2, 2, 2, 6, 4, 2, 2, 2, 3, 1, 2, 3, 7, 5, 3, 6, 2, 3, 1, 264, '2000-01']\n",
      "TEAM_ABBREVIATION,['By Year', '1999-00', 1610612763, 'VAN', '2000-03-21T00:00:00', 42, 13, 29, 0.31, 922.245, 74, 167, 0.443, 0, 4, 0.0, 55, 71, 0.775, 86, 148, 234, 43, 49, 45, 10, 7, 108, 31, 203, -62, 664.3, 0, 0, 5, 7, 5, 5, 5, 5, 5, 2, 5, 5, 5, 5, 5, 3, 3, 4, 3, 4, 4, 4, 5, 2, 4, 1, 5, 5, 5, 4, 1, 264, '1999-00']\n",
      "MAX_GAME_DATE,['By Year', '1998-99', 1610612737, 'ATL', '1999-05-05T00:00:00', 50, 31, 19, 0.62, 1380.1783333333333, 151, 359, 0.421, 3, 18, 0.167, 184, 235, 0.783, 100, 196, 296, 53, 74, 57, 16, 25, 143, 2, 489, 205, 1068.7, 5, 0, 4, 2, 1, 2, 3, 2, 2, 6, 3, 2, 4, 1, 1, 1, 1, 3, 1, 3, 2, 3, 1, 7, 6, 4, 1, 1, 1, 1, 1, 264, '1998-99']\n",
      "GP,['By Year', '1997-98', 1610612765, 'DET', '1998-02-13T00:00:00', 40, 19, 21, 0.475, 741.7266666666667, 50, 117, 0.427, 0, 4, 0.0, 41, 57, 0.719, 57, 93, 150, 25, 22, 29, 12, 12, 91, 3, 141, -4, 459.5, 0, 0, 7, 4, 3, 4, 6, 6, 6, 4, 5, 5, 5, 6, 6, 5, 5, 6, 6, 6, 6, 6, 3, 3, 2, 2, 6, 3, 6, 4, 1, 264, '1997-98']\n",
      "W,['By Year', '1996-97', 1610612765, 'DET', '1997-04-18T00:00:00', 65, 41, 24, 0.631, 1170.195, 123, 275, 0.447, 17, 47, 0.362, 63, 84, 0.75, 88, 134, 222, 39, 48, 43, 6, 19, 106, 3, 326, 69, 749.9, 2, 0, 3, 1, 4, 1, 4, 4, 4, 1, 1, 1, 1, 4, 4, 4, 2, 5, 5, 5, 5, 5, 6, 6, 3, 2, 4, 2, 4, 2, 1, 264, '1996-97']\n",
      "GROUP_SET,['By Year', '2002-03', 1610612738, 'BOS', '2003-04-16T00:00:00', 41, 21, 20, 0.512, 489.72833333333335, 27, 70, 0.386, 0, 3, 0.0, 18, 23, 0.783, 24, 59, 83, 25, 19, 9, 1, 6, 62, 0, 72, -58, 220.1, 0, 0, 6, 3, 2, 3, 7, 7, 7, 7, 5, 7, 5, 7, 7, 2, 7, 7, 7, 6, 7, 7, 7, 1, 1, 6, 7, 4, 7, 4, 1, 264, '2002-03']\n",
      "GROUP_VALUE,['By Year', '2001-02', 1610612763, 'MEM', '2002-04-05T00:00:00', 66, 18, 48, 0.273, 1868.1016666666667, 164, 385, 0.426, 3, 17, 0.176, 86, 123, 0.699, 31, 200, 231, 136, 103, 63, 12, 16, 123, 0, 417, -384, 1020.2, 0, 0, 1, 6, 7, 7, 1, 1, 1, 5, 3, 3, 3, 3, 3, 7, 6, 1, 4, 1, 1, 2, 3, 5, 5, 6, 2, 7, 3, 4, 1, 264, '2001-02']\n",
      "TEAM_ID,['By Year', '2000-01', 1610612763, 'VAN', '2001-04-18T00:00:00', 66, 19, 47, 0.288, 1511.2416666666666, 140, 319, 0.439, 4, 15, 0.267, 112, 157, 0.713, 76, 198, 274, 83, 62, 72, 15, 12, 160, 1, 396, -220, 1048.3, 1, 0, 1, 4, 6, 6, 2, 3, 3, 3, 2, 4, 2, 2, 2, 6, 4, 2, 2, 2, 3, 1, 2, 3, 7, 5, 3, 6, 2, 3, 1, 264, '2000-01']\n",
      "TEAM_ABBREVIATION,['By Year', '1999-00', 1610612763, 'VAN', '2000-03-21T00:00:00', 42, 13, 29, 0.31, 922.245, 74, 167, 0.443, 0, 4, 0.0, 55, 71, 0.775, 86, 148, 234, 43, 49, 45, 10, 7, 108, 31, 203, -62, 664.3, 0, 0, 5, 7, 5, 5, 5, 5, 5, 2, 5, 5, 5, 5, 5, 3, 3, 4, 3, 4, 4, 4, 5, 2, 4, 1, 5, 5, 5, 4, 1, 264, '1999-00']\n",
      "MAX_GAME_DATE,['By Year', '1998-99', 1610612737, 'ATL', '1999-05-05T00:00:00', 50, 31, 19, 0.62, 1380.1783333333333, 151, 359, 0.421, 3, 18, 0.167, 184, 235, 0.783, 100, 196, 296, 53, 74, 57, 16, 25, 143, 2, 489, 205, 1068.7, 5, 0, 4, 2, 1, 2, 3, 2, 2, 6, 3, 2, 4, 1, 1, 1, 1, 3, 1, 3, 2, 3, 1, 7, 6, 4, 1, 1, 1, 1, 1, 264, '1998-99']\n",
      "GP,['By Year', '1997-98', 1610612765, 'DET', '1998-02-13T00:00:00', 40, 19, 21, 0.475, 741.7266666666667, 50, 117, 0.427, 0, 4, 0.0, 41, 57, 0.719, 57, 93, 150, 25, 22, 29, 12, 12, 91, 3, 141, -4, 459.5, 0, 0, 7, 4, 3, 4, 6, 6, 6, 4, 5, 5, 5, 6, 6, 5, 5, 6, 6, 6, 6, 6, 3, 3, 2, 2, 6, 3, 6, 4, 1, 264, '1997-98']\n",
      "W,['By Year', '1996-97', 1610612765, 'DET', '1997-04-18T00:00:00', 65, 41, 24, 0.631, 1170.195, 123, 275, 0.447, 17, 47, 0.362, 63, 84, 0.75, 88, 134, 222, 39, 48, 43, 6, 19, 106, 3, 326, 69, 749.9, 2, 0, 3, 1, 4, 1, 4, 4, 4, 1, 1, 1, 1, 4, 4, 4, 2, 5, 5, 5, 5, 5, 6, 6, 3, 2, 4, 2, 4, 2, 1, 264, '1996-97']\n"
     ]
    },
    {
     "name": "stdout",
     "output_type": "stream",
     "text": [
      "GROUP_SET,['By Year', '2002-03', 1610612738, 'BOS', '2003-04-16T00:00:00', 41, 21, 20, 0.512, 489.72833333333335, 27, 70, 0.386, 0, 3, 0.0, 18, 23, 0.783, 24, 59, 83, 25, 19, 9, 1, 6, 62, 0, 72, -58, 220.1, 0, 0, 6, 3, 2, 3, 7, 7, 7, 7, 5, 7, 5, 7, 7, 2, 7, 7, 7, 6, 7, 7, 7, 1, 1, 6, 7, 4, 7, 4, 1, 264, '2002-03']\n",
      "GROUP_VALUE,['By Year', '2001-02', 1610612763, 'MEM', '2002-04-05T00:00:00', 66, 18, 48, 0.273, 1868.1016666666667, 164, 385, 0.426, 3, 17, 0.176, 86, 123, 0.699, 31, 200, 231, 136, 103, 63, 12, 16, 123, 0, 417, -384, 1020.2, 0, 0, 1, 6, 7, 7, 1, 1, 1, 5, 3, 3, 3, 3, 3, 7, 6, 1, 4, 1, 1, 2, 3, 5, 5, 6, 2, 7, 3, 4, 1, 264, '2001-02']\n",
      "TEAM_ID,['By Year', '2000-01', 1610612763, 'VAN', '2001-04-18T00:00:00', 66, 19, 47, 0.288, 1511.2416666666666, 140, 319, 0.439, 4, 15, 0.267, 112, 157, 0.713, 76, 198, 274, 83, 62, 72, 15, 12, 160, 1, 396, -220, 1048.3, 1, 0, 1, 4, 6, 6, 2, 3, 3, 3, 2, 4, 2, 2, 2, 6, 4, 2, 2, 2, 3, 1, 2, 3, 7, 5, 3, 6, 2, 3, 1, 264, '2000-01']\n",
      "TEAM_ABBREVIATION,['By Year', '1999-00', 1610612763, 'VAN', '2000-03-21T00:00:00', 42, 13, 29, 0.31, 922.245, 74, 167, 0.443, 0, 4, 0.0, 55, 71, 0.775, 86, 148, 234, 43, 49, 45, 10, 7, 108, 31, 203, -62, 664.3, 0, 0, 5, 7, 5, 5, 5, 5, 5, 2, 5, 5, 5, 5, 5, 3, 3, 4, 3, 4, 4, 4, 5, 2, 4, 1, 5, 5, 5, 4, 1, 264, '1999-00']\n",
      "MAX_GAME_DATE,['By Year', '1998-99', 1610612737, 'ATL', '1999-05-05T00:00:00', 50, 31, 19, 0.62, 1380.1783333333333, 151, 359, 0.421, 3, 18, 0.167, 184, 235, 0.783, 100, 196, 296, 53, 74, 57, 16, 25, 143, 2, 489, 205, 1068.7, 5, 0, 4, 2, 1, 2, 3, 2, 2, 6, 3, 2, 4, 1, 1, 1, 1, 3, 1, 3, 2, 3, 1, 7, 6, 4, 1, 1, 1, 1, 1, 264, '1998-99']\n",
      "GP,['By Year', '1997-98', 1610612765, 'DET', '1998-02-13T00:00:00', 40, 19, 21, 0.475, 741.7266666666667, 50, 117, 0.427, 0, 4, 0.0, 41, 57, 0.719, 57, 93, 150, 25, 22, 29, 12, 12, 91, 3, 141, -4, 459.5, 0, 0, 7, 4, 3, 4, 6, 6, 6, 4, 5, 5, 5, 6, 6, 5, 5, 6, 6, 6, 6, 6, 3, 3, 2, 2, 6, 3, 6, 4, 1, 264, '1997-98']\n",
      "W,['By Year', '1996-97', 1610612765, 'DET', '1997-04-18T00:00:00', 65, 41, 24, 0.631, 1170.195, 123, 275, 0.447, 17, 47, 0.362, 63, 84, 0.75, 88, 134, 222, 39, 48, 43, 6, 19, 106, 3, 326, 69, 749.9, 2, 0, 3, 1, 4, 1, 4, 4, 4, 1, 1, 1, 1, 4, 4, 4, 2, 5, 5, 5, 5, 5, 6, 6, 3, 2, 4, 2, 4, 2, 1, 264, '1996-97']\n",
      "GROUP_SET,['By Year', '2002-03', 1610612738, 'BOS', '2003-04-16T00:00:00', 41, 21, 20, 0.512, 489.72833333333335, 27, 70, 0.386, 0, 3, 0.0, 18, 23, 0.783, 24, 59, 83, 25, 19, 9, 1, 6, 62, 0, 72, -58, 220.1, 0, 0, 6, 3, 2, 3, 7, 7, 7, 7, 5, 7, 5, 7, 7, 2, 7, 7, 7, 6, 7, 7, 7, 1, 1, 6, 7, 4, 7, 4, 1, 264, '2002-03']\n",
      "GROUP_VALUE,['By Year', '2001-02', 1610612763, 'MEM', '2002-04-05T00:00:00', 66, 18, 48, 0.273, 1868.1016666666667, 164, 385, 0.426, 3, 17, 0.176, 86, 123, 0.699, 31, 200, 231, 136, 103, 63, 12, 16, 123, 0, 417, -384, 1020.2, 0, 0, 1, 6, 7, 7, 1, 1, 1, 5, 3, 3, 3, 3, 3, 7, 6, 1, 4, 1, 1, 2, 3, 5, 5, 6, 2, 7, 3, 4, 1, 264, '2001-02']\n",
      "TEAM_ID,['By Year', '2000-01', 1610612763, 'VAN', '2001-04-18T00:00:00', 66, 19, 47, 0.288, 1511.2416666666666, 140, 319, 0.439, 4, 15, 0.267, 112, 157, 0.713, 76, 198, 274, 83, 62, 72, 15, 12, 160, 1, 396, -220, 1048.3, 1, 0, 1, 4, 6, 6, 2, 3, 3, 3, 2, 4, 2, 2, 2, 6, 4, 2, 2, 2, 3, 1, 2, 3, 7, 5, 3, 6, 2, 3, 1, 264, '2000-01']\n",
      "TEAM_ABBREVIATION,['By Year', '1999-00', 1610612763, 'VAN', '2000-03-21T00:00:00', 42, 13, 29, 0.31, 922.245, 74, 167, 0.443, 0, 4, 0.0, 55, 71, 0.775, 86, 148, 234, 43, 49, 45, 10, 7, 108, 31, 203, -62, 664.3, 0, 0, 5, 7, 5, 5, 5, 5, 5, 2, 5, 5, 5, 5, 5, 3, 3, 4, 3, 4, 4, 4, 5, 2, 4, 1, 5, 5, 5, 4, 1, 264, '1999-00']\n",
      "MAX_GAME_DATE,['By Year', '1998-99', 1610612737, 'ATL', '1999-05-05T00:00:00', 50, 31, 19, 0.62, 1380.1783333333333, 151, 359, 0.421, 3, 18, 0.167, 184, 235, 0.783, 100, 196, 296, 53, 74, 57, 16, 25, 143, 2, 489, 205, 1068.7, 5, 0, 4, 2, 1, 2, 3, 2, 2, 6, 3, 2, 4, 1, 1, 1, 1, 3, 1, 3, 2, 3, 1, 7, 6, 4, 1, 1, 1, 1, 1, 264, '1998-99']\n",
      "GP,['By Year', '1997-98', 1610612765, 'DET', '1998-02-13T00:00:00', 40, 19, 21, 0.475, 741.7266666666667, 50, 117, 0.427, 0, 4, 0.0, 41, 57, 0.719, 57, 93, 150, 25, 22, 29, 12, 12, 91, 3, 141, -4, 459.5, 0, 0, 7, 4, 3, 4, 6, 6, 6, 4, 5, 5, 5, 6, 6, 5, 5, 6, 6, 6, 6, 6, 3, 3, 2, 2, 6, 3, 6, 4, 1, 264, '1997-98']\n",
      "W,['By Year', '1996-97', 1610612765, 'DET', '1997-04-18T00:00:00', 65, 41, 24, 0.631, 1170.195, 123, 275, 0.447, 17, 47, 0.362, 63, 84, 0.75, 88, 134, 222, 39, 48, 43, 6, 19, 106, 3, 326, 69, 749.9, 2, 0, 3, 1, 4, 1, 4, 4, 4, 1, 1, 1, 1, 4, 4, 4, 2, 5, 5, 5, 5, 5, 6, 6, 3, 2, 4, 2, 4, 2, 1, 264, '1996-97']\n",
      "GROUP_SET,['By Year', '2002-03', 1610612738, 'BOS', '2003-04-16T00:00:00', 41, 21, 20, 0.512, 489.72833333333335, 27, 70, 0.386, 0, 3, 0.0, 18, 23, 0.783, 24, 59, 83, 25, 19, 9, 1, 6, 62, 0, 72, -58, 220.1, 0, 0, 6, 3, 2, 3, 7, 7, 7, 7, 5, 7, 5, 7, 7, 2, 7, 7, 7, 6, 7, 7, 7, 1, 1, 6, 7, 4, 7, 4, 1, 264, '2002-03']\n",
      "GROUP_VALUE,['By Year', '2001-02', 1610612763, 'MEM', '2002-04-05T00:00:00', 66, 18, 48, 0.273, 1868.1016666666667, 164, 385, 0.426, 3, 17, 0.176, 86, 123, 0.699, 31, 200, 231, 136, 103, 63, 12, 16, 123, 0, 417, -384, 1020.2, 0, 0, 1, 6, 7, 7, 1, 1, 1, 5, 3, 3, 3, 3, 3, 7, 6, 1, 4, 1, 1, 2, 3, 5, 5, 6, 2, 7, 3, 4, 1, 264, '2001-02']\n",
      "TEAM_ID,['By Year', '2000-01', 1610612763, 'VAN', '2001-04-18T00:00:00', 66, 19, 47, 0.288, 1511.2416666666666, 140, 319, 0.439, 4, 15, 0.267, 112, 157, 0.713, 76, 198, 274, 83, 62, 72, 15, 12, 160, 1, 396, -220, 1048.3, 1, 0, 1, 4, 6, 6, 2, 3, 3, 3, 2, 4, 2, 2, 2, 6, 4, 2, 2, 2, 3, 1, 2, 3, 7, 5, 3, 6, 2, 3, 1, 264, '2000-01']\n",
      "TEAM_ABBREVIATION,['By Year', '1999-00', 1610612763, 'VAN', '2000-03-21T00:00:00', 42, 13, 29, 0.31, 922.245, 74, 167, 0.443, 0, 4, 0.0, 55, 71, 0.775, 86, 148, 234, 43, 49, 45, 10, 7, 108, 31, 203, -62, 664.3, 0, 0, 5, 7, 5, 5, 5, 5, 5, 2, 5, 5, 5, 5, 5, 3, 3, 4, 3, 4, 4, 4, 5, 2, 4, 1, 5, 5, 5, 4, 1, 264, '1999-00']\n",
      "MAX_GAME_DATE,['By Year', '1998-99', 1610612737, 'ATL', '1999-05-05T00:00:00', 50, 31, 19, 0.62, 1380.1783333333333, 151, 359, 0.421, 3, 18, 0.167, 184, 235, 0.783, 100, 196, 296, 53, 74, 57, 16, 25, 143, 2, 489, 205, 1068.7, 5, 0, 4, 2, 1, 2, 3, 2, 2, 6, 3, 2, 4, 1, 1, 1, 1, 3, 1, 3, 2, 3, 1, 7, 6, 4, 1, 1, 1, 1, 1, 264, '1998-99']\n",
      "GP,['By Year', '1997-98', 1610612765, 'DET', '1998-02-13T00:00:00', 40, 19, 21, 0.475, 741.7266666666667, 50, 117, 0.427, 0, 4, 0.0, 41, 57, 0.719, 57, 93, 150, 25, 22, 29, 12, 12, 91, 3, 141, -4, 459.5, 0, 0, 7, 4, 3, 4, 6, 6, 6, 4, 5, 5, 5, 6, 6, 5, 5, 6, 6, 6, 6, 6, 3, 3, 2, 2, 6, 3, 6, 4, 1, 264, '1997-98']\n",
      "W,['By Year', '1996-97', 1610612765, 'DET', '1997-04-18T00:00:00', 65, 41, 24, 0.631, 1170.195, 123, 275, 0.447, 17, 47, 0.362, 63, 84, 0.75, 88, 134, 222, 39, 48, 43, 6, 19, 106, 3, 326, 69, 749.9, 2, 0, 3, 1, 4, 1, 4, 4, 4, 1, 1, 1, 1, 4, 4, 4, 2, 5, 5, 5, 5, 5, 6, 6, 3, 2, 4, 2, 4, 2, 1, 264, '1996-97']\n"
     ]
    },
    {
     "ename": "ReadTimeout",
     "evalue": "HTTPSConnectionPool(host='stats.nba.com', port=443): Read timed out. (read timeout=30)",
     "output_type": "error",
     "traceback": [
      "\u001b[0;31m---------------------------------------------------------------------------\u001b[0m",
      "\u001b[0;31mtimeout\u001b[0m                                   Traceback (most recent call last)",
      "\u001b[0;32m/opt/anaconda3/lib/python3.7/site-packages/urllib3/connectionpool.py\u001b[0m in \u001b[0;36m_make_request\u001b[0;34m(self, conn, method, url, timeout, chunked, **httplib_request_kw)\u001b[0m\n\u001b[1;32m    420\u001b[0m                     \u001b[0;31m# Otherwise it looks like a bug in the code.\u001b[0m\u001b[0;34m\u001b[0m\u001b[0;34m\u001b[0m\u001b[0;34m\u001b[0m\u001b[0m\n\u001b[0;32m--> 421\u001b[0;31m                     \u001b[0msix\u001b[0m\u001b[0;34m.\u001b[0m\u001b[0mraise_from\u001b[0m\u001b[0;34m(\u001b[0m\u001b[0me\u001b[0m\u001b[0;34m,\u001b[0m \u001b[0;32mNone\u001b[0m\u001b[0;34m)\u001b[0m\u001b[0;34m\u001b[0m\u001b[0;34m\u001b[0m\u001b[0m\n\u001b[0m\u001b[1;32m    422\u001b[0m         \u001b[0;32mexcept\u001b[0m \u001b[0;34m(\u001b[0m\u001b[0mSocketTimeout\u001b[0m\u001b[0;34m,\u001b[0m \u001b[0mBaseSSLError\u001b[0m\u001b[0;34m,\u001b[0m \u001b[0mSocketError\u001b[0m\u001b[0;34m)\u001b[0m \u001b[0;32mas\u001b[0m \u001b[0me\u001b[0m\u001b[0;34m:\u001b[0m\u001b[0;34m\u001b[0m\u001b[0;34m\u001b[0m\u001b[0m\n",
      "\u001b[0;32m/opt/anaconda3/lib/python3.7/site-packages/urllib3/packages/six.py\u001b[0m in \u001b[0;36mraise_from\u001b[0;34m(value, from_value)\u001b[0m\n",
      "\u001b[0;32m/opt/anaconda3/lib/python3.7/site-packages/urllib3/connectionpool.py\u001b[0m in \u001b[0;36m_make_request\u001b[0;34m(self, conn, method, url, timeout, chunked, **httplib_request_kw)\u001b[0m\n\u001b[1;32m    415\u001b[0m                 \u001b[0;32mtry\u001b[0m\u001b[0;34m:\u001b[0m\u001b[0;34m\u001b[0m\u001b[0;34m\u001b[0m\u001b[0m\n\u001b[0;32m--> 416\u001b[0;31m                     \u001b[0mhttplib_response\u001b[0m \u001b[0;34m=\u001b[0m \u001b[0mconn\u001b[0m\u001b[0;34m.\u001b[0m\u001b[0mgetresponse\u001b[0m\u001b[0;34m(\u001b[0m\u001b[0;34m)\u001b[0m\u001b[0;34m\u001b[0m\u001b[0;34m\u001b[0m\u001b[0m\n\u001b[0m\u001b[1;32m    417\u001b[0m                 \u001b[0;32mexcept\u001b[0m \u001b[0mBaseException\u001b[0m \u001b[0;32mas\u001b[0m \u001b[0me\u001b[0m\u001b[0;34m:\u001b[0m\u001b[0;34m\u001b[0m\u001b[0;34m\u001b[0m\u001b[0m\n",
      "\u001b[0;32m/opt/anaconda3/lib/python3.7/http/client.py\u001b[0m in \u001b[0;36mgetresponse\u001b[0;34m(self)\u001b[0m\n\u001b[1;32m   1343\u001b[0m             \u001b[0;32mtry\u001b[0m\u001b[0;34m:\u001b[0m\u001b[0;34m\u001b[0m\u001b[0;34m\u001b[0m\u001b[0m\n\u001b[0;32m-> 1344\u001b[0;31m                 \u001b[0mresponse\u001b[0m\u001b[0;34m.\u001b[0m\u001b[0mbegin\u001b[0m\u001b[0;34m(\u001b[0m\u001b[0;34m)\u001b[0m\u001b[0;34m\u001b[0m\u001b[0;34m\u001b[0m\u001b[0m\n\u001b[0m\u001b[1;32m   1345\u001b[0m             \u001b[0;32mexcept\u001b[0m \u001b[0mConnectionError\u001b[0m\u001b[0;34m:\u001b[0m\u001b[0;34m\u001b[0m\u001b[0;34m\u001b[0m\u001b[0m\n",
      "\u001b[0;32m/opt/anaconda3/lib/python3.7/http/client.py\u001b[0m in \u001b[0;36mbegin\u001b[0;34m(self)\u001b[0m\n\u001b[1;32m    305\u001b[0m         \u001b[0;32mwhile\u001b[0m \u001b[0;32mTrue\u001b[0m\u001b[0;34m:\u001b[0m\u001b[0;34m\u001b[0m\u001b[0;34m\u001b[0m\u001b[0m\n\u001b[0;32m--> 306\u001b[0;31m             \u001b[0mversion\u001b[0m\u001b[0;34m,\u001b[0m \u001b[0mstatus\u001b[0m\u001b[0;34m,\u001b[0m \u001b[0mreason\u001b[0m \u001b[0;34m=\u001b[0m \u001b[0mself\u001b[0m\u001b[0;34m.\u001b[0m\u001b[0m_read_status\u001b[0m\u001b[0;34m(\u001b[0m\u001b[0;34m)\u001b[0m\u001b[0;34m\u001b[0m\u001b[0;34m\u001b[0m\u001b[0m\n\u001b[0m\u001b[1;32m    307\u001b[0m             \u001b[0;32mif\u001b[0m \u001b[0mstatus\u001b[0m \u001b[0;34m!=\u001b[0m \u001b[0mCONTINUE\u001b[0m\u001b[0;34m:\u001b[0m\u001b[0;34m\u001b[0m\u001b[0;34m\u001b[0m\u001b[0m\n",
      "\u001b[0;32m/opt/anaconda3/lib/python3.7/http/client.py\u001b[0m in \u001b[0;36m_read_status\u001b[0;34m(self)\u001b[0m\n\u001b[1;32m    266\u001b[0m     \u001b[0;32mdef\u001b[0m \u001b[0m_read_status\u001b[0m\u001b[0;34m(\u001b[0m\u001b[0mself\u001b[0m\u001b[0;34m)\u001b[0m\u001b[0;34m:\u001b[0m\u001b[0;34m\u001b[0m\u001b[0;34m\u001b[0m\u001b[0m\n\u001b[0;32m--> 267\u001b[0;31m         \u001b[0mline\u001b[0m \u001b[0;34m=\u001b[0m \u001b[0mstr\u001b[0m\u001b[0;34m(\u001b[0m\u001b[0mself\u001b[0m\u001b[0;34m.\u001b[0m\u001b[0mfp\u001b[0m\u001b[0;34m.\u001b[0m\u001b[0mreadline\u001b[0m\u001b[0;34m(\u001b[0m\u001b[0m_MAXLINE\u001b[0m \u001b[0;34m+\u001b[0m \u001b[0;36m1\u001b[0m\u001b[0;34m)\u001b[0m\u001b[0;34m,\u001b[0m \u001b[0;34m\"iso-8859-1\"\u001b[0m\u001b[0;34m)\u001b[0m\u001b[0;34m\u001b[0m\u001b[0;34m\u001b[0m\u001b[0m\n\u001b[0m\u001b[1;32m    268\u001b[0m         \u001b[0;32mif\u001b[0m \u001b[0mlen\u001b[0m\u001b[0;34m(\u001b[0m\u001b[0mline\u001b[0m\u001b[0;34m)\u001b[0m \u001b[0;34m>\u001b[0m \u001b[0m_MAXLINE\u001b[0m\u001b[0;34m:\u001b[0m\u001b[0;34m\u001b[0m\u001b[0;34m\u001b[0m\u001b[0m\n",
      "\u001b[0;32m/opt/anaconda3/lib/python3.7/socket.py\u001b[0m in \u001b[0;36mreadinto\u001b[0;34m(self, b)\u001b[0m\n\u001b[1;32m    588\u001b[0m             \u001b[0;32mtry\u001b[0m\u001b[0;34m:\u001b[0m\u001b[0;34m\u001b[0m\u001b[0;34m\u001b[0m\u001b[0m\n\u001b[0;32m--> 589\u001b[0;31m                 \u001b[0;32mreturn\u001b[0m \u001b[0mself\u001b[0m\u001b[0;34m.\u001b[0m\u001b[0m_sock\u001b[0m\u001b[0;34m.\u001b[0m\u001b[0mrecv_into\u001b[0m\u001b[0;34m(\u001b[0m\u001b[0mb\u001b[0m\u001b[0;34m)\u001b[0m\u001b[0;34m\u001b[0m\u001b[0;34m\u001b[0m\u001b[0m\n\u001b[0m\u001b[1;32m    590\u001b[0m             \u001b[0;32mexcept\u001b[0m \u001b[0mtimeout\u001b[0m\u001b[0;34m:\u001b[0m\u001b[0;34m\u001b[0m\u001b[0;34m\u001b[0m\u001b[0m\n",
      "\u001b[0;32m/opt/anaconda3/lib/python3.7/site-packages/urllib3/contrib/pyopenssl.py\u001b[0m in \u001b[0;36mrecv_into\u001b[0;34m(self, *args, **kwargs)\u001b[0m\n\u001b[1;32m    327\u001b[0m             \u001b[0;32melse\u001b[0m\u001b[0;34m:\u001b[0m\u001b[0;34m\u001b[0m\u001b[0;34m\u001b[0m\u001b[0m\n\u001b[0;32m--> 328\u001b[0;31m                 \u001b[0;32mreturn\u001b[0m \u001b[0mself\u001b[0m\u001b[0;34m.\u001b[0m\u001b[0mrecv_into\u001b[0m\u001b[0;34m(\u001b[0m\u001b[0;34m*\u001b[0m\u001b[0margs\u001b[0m\u001b[0;34m,\u001b[0m \u001b[0;34m**\u001b[0m\u001b[0mkwargs\u001b[0m\u001b[0;34m)\u001b[0m\u001b[0;34m\u001b[0m\u001b[0;34m\u001b[0m\u001b[0m\n\u001b[0m\u001b[1;32m    329\u001b[0m \u001b[0;34m\u001b[0m\u001b[0m\n",
      "\u001b[0;32m/opt/anaconda3/lib/python3.7/site-packages/urllib3/contrib/pyopenssl.py\u001b[0m in \u001b[0;36mrecv_into\u001b[0;34m(self, *args, **kwargs)\u001b[0m\n\u001b[1;32m    327\u001b[0m             \u001b[0;32melse\u001b[0m\u001b[0;34m:\u001b[0m\u001b[0;34m\u001b[0m\u001b[0;34m\u001b[0m\u001b[0m\n\u001b[0;32m--> 328\u001b[0;31m                 \u001b[0;32mreturn\u001b[0m \u001b[0mself\u001b[0m\u001b[0;34m.\u001b[0m\u001b[0mrecv_into\u001b[0m\u001b[0;34m(\u001b[0m\u001b[0;34m*\u001b[0m\u001b[0margs\u001b[0m\u001b[0;34m,\u001b[0m \u001b[0;34m**\u001b[0m\u001b[0mkwargs\u001b[0m\u001b[0;34m)\u001b[0m\u001b[0;34m\u001b[0m\u001b[0;34m\u001b[0m\u001b[0m\n\u001b[0m\u001b[1;32m    329\u001b[0m \u001b[0;34m\u001b[0m\u001b[0m\n",
      "\u001b[0;32m/opt/anaconda3/lib/python3.7/site-packages/urllib3/contrib/pyopenssl.py\u001b[0m in \u001b[0;36mrecv_into\u001b[0;34m(self, *args, **kwargs)\u001b[0m\n\u001b[1;32m    325\u001b[0m             \u001b[0;32mif\u001b[0m \u001b[0;32mnot\u001b[0m \u001b[0mutil\u001b[0m\u001b[0;34m.\u001b[0m\u001b[0mwait_for_read\u001b[0m\u001b[0;34m(\u001b[0m\u001b[0mself\u001b[0m\u001b[0;34m.\u001b[0m\u001b[0msocket\u001b[0m\u001b[0;34m,\u001b[0m \u001b[0mself\u001b[0m\u001b[0;34m.\u001b[0m\u001b[0msocket\u001b[0m\u001b[0;34m.\u001b[0m\u001b[0mgettimeout\u001b[0m\u001b[0;34m(\u001b[0m\u001b[0;34m)\u001b[0m\u001b[0;34m)\u001b[0m\u001b[0;34m:\u001b[0m\u001b[0;34m\u001b[0m\u001b[0;34m\u001b[0m\u001b[0m\n\u001b[0;32m--> 326\u001b[0;31m                 \u001b[0;32mraise\u001b[0m \u001b[0mtimeout\u001b[0m\u001b[0;34m(\u001b[0m\u001b[0;34m\"The read operation timed out\"\u001b[0m\u001b[0;34m)\u001b[0m\u001b[0;34m\u001b[0m\u001b[0;34m\u001b[0m\u001b[0m\n\u001b[0m\u001b[1;32m    327\u001b[0m             \u001b[0;32melse\u001b[0m\u001b[0;34m:\u001b[0m\u001b[0;34m\u001b[0m\u001b[0;34m\u001b[0m\u001b[0m\n",
      "\u001b[0;31mtimeout\u001b[0m: The read operation timed out",
      "\nDuring handling of the above exception, another exception occurred:\n",
      "\u001b[0;31mReadTimeoutError\u001b[0m                          Traceback (most recent call last)",
      "\u001b[0;32m/opt/anaconda3/lib/python3.7/site-packages/requests/adapters.py\u001b[0m in \u001b[0;36msend\u001b[0;34m(self, request, stream, timeout, verify, cert, proxies)\u001b[0m\n\u001b[1;32m    448\u001b[0m                     \u001b[0mretries\u001b[0m\u001b[0;34m=\u001b[0m\u001b[0mself\u001b[0m\u001b[0;34m.\u001b[0m\u001b[0mmax_retries\u001b[0m\u001b[0;34m,\u001b[0m\u001b[0;34m\u001b[0m\u001b[0;34m\u001b[0m\u001b[0m\n\u001b[0;32m--> 449\u001b[0;31m                     \u001b[0mtimeout\u001b[0m\u001b[0;34m=\u001b[0m\u001b[0mtimeout\u001b[0m\u001b[0;34m\u001b[0m\u001b[0;34m\u001b[0m\u001b[0m\n\u001b[0m\u001b[1;32m    450\u001b[0m                 )\n",
      "\u001b[0;32m/opt/anaconda3/lib/python3.7/site-packages/urllib3/connectionpool.py\u001b[0m in \u001b[0;36murlopen\u001b[0;34m(self, method, url, body, headers, retries, redirect, assert_same_host, timeout, pool_timeout, release_conn, chunked, body_pos, **response_kw)\u001b[0m\n\u001b[1;32m    719\u001b[0m             retries = retries.increment(\n\u001b[0;32m--> 720\u001b[0;31m                 \u001b[0mmethod\u001b[0m\u001b[0;34m,\u001b[0m \u001b[0murl\u001b[0m\u001b[0;34m,\u001b[0m \u001b[0merror\u001b[0m\u001b[0;34m=\u001b[0m\u001b[0me\u001b[0m\u001b[0;34m,\u001b[0m \u001b[0m_pool\u001b[0m\u001b[0;34m=\u001b[0m\u001b[0mself\u001b[0m\u001b[0;34m,\u001b[0m \u001b[0m_stacktrace\u001b[0m\u001b[0;34m=\u001b[0m\u001b[0msys\u001b[0m\u001b[0;34m.\u001b[0m\u001b[0mexc_info\u001b[0m\u001b[0;34m(\u001b[0m\u001b[0;34m)\u001b[0m\u001b[0;34m[\u001b[0m\u001b[0;36m2\u001b[0m\u001b[0;34m]\u001b[0m\u001b[0;34m\u001b[0m\u001b[0;34m\u001b[0m\u001b[0m\n\u001b[0m\u001b[1;32m    721\u001b[0m             )\n",
      "\u001b[0;32m/opt/anaconda3/lib/python3.7/site-packages/urllib3/util/retry.py\u001b[0m in \u001b[0;36mincrement\u001b[0;34m(self, method, url, response, error, _pool, _stacktrace)\u001b[0m\n\u001b[1;32m    399\u001b[0m             \u001b[0;32mif\u001b[0m \u001b[0mread\u001b[0m \u001b[0;32mis\u001b[0m \u001b[0;32mFalse\u001b[0m \u001b[0;32mor\u001b[0m \u001b[0;32mnot\u001b[0m \u001b[0mself\u001b[0m\u001b[0;34m.\u001b[0m\u001b[0m_is_method_retryable\u001b[0m\u001b[0;34m(\u001b[0m\u001b[0mmethod\u001b[0m\u001b[0;34m)\u001b[0m\u001b[0;34m:\u001b[0m\u001b[0;34m\u001b[0m\u001b[0;34m\u001b[0m\u001b[0m\n\u001b[0;32m--> 400\u001b[0;31m                 \u001b[0;32mraise\u001b[0m \u001b[0msix\u001b[0m\u001b[0;34m.\u001b[0m\u001b[0mreraise\u001b[0m\u001b[0;34m(\u001b[0m\u001b[0mtype\u001b[0m\u001b[0;34m(\u001b[0m\u001b[0merror\u001b[0m\u001b[0;34m)\u001b[0m\u001b[0;34m,\u001b[0m \u001b[0merror\u001b[0m\u001b[0;34m,\u001b[0m \u001b[0m_stacktrace\u001b[0m\u001b[0;34m)\u001b[0m\u001b[0;34m\u001b[0m\u001b[0;34m\u001b[0m\u001b[0m\n\u001b[0m\u001b[1;32m    401\u001b[0m             \u001b[0;32melif\u001b[0m \u001b[0mread\u001b[0m \u001b[0;32mis\u001b[0m \u001b[0;32mnot\u001b[0m \u001b[0;32mNone\u001b[0m\u001b[0;34m:\u001b[0m\u001b[0;34m\u001b[0m\u001b[0;34m\u001b[0m\u001b[0m\n",
      "\u001b[0;32m/opt/anaconda3/lib/python3.7/site-packages/urllib3/packages/six.py\u001b[0m in \u001b[0;36mreraise\u001b[0;34m(tp, value, tb)\u001b[0m\n\u001b[1;32m    734\u001b[0m                 \u001b[0;32mraise\u001b[0m \u001b[0mvalue\u001b[0m\u001b[0;34m.\u001b[0m\u001b[0mwith_traceback\u001b[0m\u001b[0;34m(\u001b[0m\u001b[0mtb\u001b[0m\u001b[0;34m)\u001b[0m\u001b[0;34m\u001b[0m\u001b[0;34m\u001b[0m\u001b[0m\n\u001b[0;32m--> 735\u001b[0;31m             \u001b[0;32mraise\u001b[0m \u001b[0mvalue\u001b[0m\u001b[0;34m\u001b[0m\u001b[0;34m\u001b[0m\u001b[0m\n\u001b[0m\u001b[1;32m    736\u001b[0m         \u001b[0;32mfinally\u001b[0m\u001b[0;34m:\u001b[0m\u001b[0;34m\u001b[0m\u001b[0;34m\u001b[0m\u001b[0m\n",
      "\u001b[0;32m/opt/anaconda3/lib/python3.7/site-packages/urllib3/connectionpool.py\u001b[0m in \u001b[0;36murlopen\u001b[0;34m(self, method, url, body, headers, retries, redirect, assert_same_host, timeout, pool_timeout, release_conn, chunked, body_pos, **response_kw)\u001b[0m\n\u001b[1;32m    671\u001b[0m                 \u001b[0mheaders\u001b[0m\u001b[0;34m=\u001b[0m\u001b[0mheaders\u001b[0m\u001b[0;34m,\u001b[0m\u001b[0;34m\u001b[0m\u001b[0;34m\u001b[0m\u001b[0m\n\u001b[0;32m--> 672\u001b[0;31m                 \u001b[0mchunked\u001b[0m\u001b[0;34m=\u001b[0m\u001b[0mchunked\u001b[0m\u001b[0;34m,\u001b[0m\u001b[0;34m\u001b[0m\u001b[0;34m\u001b[0m\u001b[0m\n\u001b[0m\u001b[1;32m    673\u001b[0m             )\n",
      "\u001b[0;32m/opt/anaconda3/lib/python3.7/site-packages/urllib3/connectionpool.py\u001b[0m in \u001b[0;36m_make_request\u001b[0;34m(self, conn, method, url, timeout, chunked, **httplib_request_kw)\u001b[0m\n\u001b[1;32m    422\u001b[0m         \u001b[0;32mexcept\u001b[0m \u001b[0;34m(\u001b[0m\u001b[0mSocketTimeout\u001b[0m\u001b[0;34m,\u001b[0m \u001b[0mBaseSSLError\u001b[0m\u001b[0;34m,\u001b[0m \u001b[0mSocketError\u001b[0m\u001b[0;34m)\u001b[0m \u001b[0;32mas\u001b[0m \u001b[0me\u001b[0m\u001b[0;34m:\u001b[0m\u001b[0;34m\u001b[0m\u001b[0;34m\u001b[0m\u001b[0m\n\u001b[0;32m--> 423\u001b[0;31m             \u001b[0mself\u001b[0m\u001b[0;34m.\u001b[0m\u001b[0m_raise_timeout\u001b[0m\u001b[0;34m(\u001b[0m\u001b[0merr\u001b[0m\u001b[0;34m=\u001b[0m\u001b[0me\u001b[0m\u001b[0;34m,\u001b[0m \u001b[0murl\u001b[0m\u001b[0;34m=\u001b[0m\u001b[0murl\u001b[0m\u001b[0;34m,\u001b[0m \u001b[0mtimeout_value\u001b[0m\u001b[0;34m=\u001b[0m\u001b[0mread_timeout\u001b[0m\u001b[0;34m)\u001b[0m\u001b[0;34m\u001b[0m\u001b[0;34m\u001b[0m\u001b[0m\n\u001b[0m\u001b[1;32m    424\u001b[0m             \u001b[0;32mraise\u001b[0m\u001b[0;34m\u001b[0m\u001b[0;34m\u001b[0m\u001b[0m\n",
      "\u001b[0;32m/opt/anaconda3/lib/python3.7/site-packages/urllib3/connectionpool.py\u001b[0m in \u001b[0;36m_raise_timeout\u001b[0;34m(self, err, url, timeout_value)\u001b[0m\n\u001b[1;32m    330\u001b[0m             raise ReadTimeoutError(\n\u001b[0;32m--> 331\u001b[0;31m                 \u001b[0mself\u001b[0m\u001b[0;34m,\u001b[0m \u001b[0murl\u001b[0m\u001b[0;34m,\u001b[0m \u001b[0;34m\"Read timed out. (read timeout=%s)\"\u001b[0m \u001b[0;34m%\u001b[0m \u001b[0mtimeout_value\u001b[0m\u001b[0;34m\u001b[0m\u001b[0;34m\u001b[0m\u001b[0m\n\u001b[0m\u001b[1;32m    332\u001b[0m             )\n",
      "\u001b[0;31mReadTimeoutError\u001b[0m: HTTPSConnectionPool(host='stats.nba.com', port=443): Read timed out. (read timeout=30)",
      "\nDuring handling of the above exception, another exception occurred:\n",
      "\u001b[0;31mReadTimeout\u001b[0m                               Traceback (most recent call last)",
      "\u001b[0;32m<ipython-input-78-0575abf7c4d8>\u001b[0m in \u001b[0;36m<module>\u001b[0;34m\u001b[0m\n\u001b[1;32m      4\u001b[0m     \u001b[0;31m#d_sub = dict()\u001b[0m\u001b[0;34m\u001b[0m\u001b[0;34m\u001b[0m\u001b[0;34m\u001b[0m\u001b[0m\n\u001b[1;32m      5\u001b[0m     \u001b[0;32mfor\u001b[0m \u001b[0ms\u001b[0m \u001b[0;32min\u001b[0m \u001b[0mszn\u001b[0m\u001b[0;34m:\u001b[0m\u001b[0;34m\u001b[0m\u001b[0;34m\u001b[0m\u001b[0m\n\u001b[0;32m----> 6\u001b[0;31m         \u001b[0mone_player\u001b[0m \u001b[0;34m=\u001b[0m \u001b[0mPlayerDashboardByYearOverYear\u001b[0m\u001b[0;34m(\u001b[0m\u001b[0mplayer_id\u001b[0m \u001b[0;34m=\u001b[0m \u001b[0mi\u001b[0m\u001b[0;34m,\u001b[0m \u001b[0mseason\u001b[0m \u001b[0;34m=\u001b[0m \u001b[0ms\u001b[0m\u001b[0;34m)\u001b[0m\u001b[0;34m\u001b[0m\u001b[0;34m\u001b[0m\u001b[0m\n\u001b[0m\u001b[1;32m      7\u001b[0m         \u001b[0mone_player\u001b[0m \u001b[0;34m=\u001b[0m \u001b[0mone_player\u001b[0m\u001b[0;34m.\u001b[0m\u001b[0mget_dict\u001b[0m\u001b[0;34m(\u001b[0m\u001b[0;34m)\u001b[0m\u001b[0;34m\u001b[0m\u001b[0;34m\u001b[0m\u001b[0m\n\u001b[1;32m      8\u001b[0m         \u001b[0;31m#sub2_d = dict()\u001b[0m\u001b[0;34m\u001b[0m\u001b[0;34m\u001b[0m\u001b[0;34m\u001b[0m\u001b[0m\n",
      "\u001b[0;32m/opt/anaconda3/lib/python3.7/site-packages/nba_api/stats/endpoints/playerdashboardbyyearoveryear.py\u001b[0m in \u001b[0;36m__init__\u001b[0;34m(self, player_id, last_n_games, measure_type_detailed, month, opponent_team_id, pace_adjust, per_mode_detailed, period, plus_minus, rank, season, season_type_playoffs, date_from_nullable, date_to_nullable, game_segment_nullable, league_id_nullable, location_nullable, outcome_nullable, po_round_nullable, season_segment_nullable, shot_clock_range_nullable, vs_conference_nullable, vs_division_nullable, proxy, headers, timeout, get_request)\u001b[0m\n\u001b[1;32m     72\u001b[0m         }\n\u001b[1;32m     73\u001b[0m         \u001b[0;32mif\u001b[0m \u001b[0mget_request\u001b[0m\u001b[0;34m:\u001b[0m\u001b[0;34m\u001b[0m\u001b[0;34m\u001b[0m\u001b[0m\n\u001b[0;32m---> 74\u001b[0;31m             \u001b[0mself\u001b[0m\u001b[0;34m.\u001b[0m\u001b[0mget_request\u001b[0m\u001b[0;34m(\u001b[0m\u001b[0;34m)\u001b[0m\u001b[0;34m\u001b[0m\u001b[0;34m\u001b[0m\u001b[0m\n\u001b[0m\u001b[1;32m     75\u001b[0m \u001b[0;34m\u001b[0m\u001b[0m\n\u001b[1;32m     76\u001b[0m     \u001b[0;32mdef\u001b[0m \u001b[0mget_request\u001b[0m\u001b[0;34m(\u001b[0m\u001b[0mself\u001b[0m\u001b[0;34m)\u001b[0m\u001b[0;34m:\u001b[0m\u001b[0;34m\u001b[0m\u001b[0;34m\u001b[0m\u001b[0m\n",
      "\u001b[0;32m/opt/anaconda3/lib/python3.7/site-packages/nba_api/stats/endpoints/playerdashboardbyyearoveryear.py\u001b[0m in \u001b[0;36mget_request\u001b[0;34m(self)\u001b[0m\n\u001b[1;32m     80\u001b[0m             \u001b[0mproxy\u001b[0m\u001b[0;34m=\u001b[0m\u001b[0mself\u001b[0m\u001b[0;34m.\u001b[0m\u001b[0mproxy\u001b[0m\u001b[0;34m,\u001b[0m\u001b[0;34m\u001b[0m\u001b[0;34m\u001b[0m\u001b[0m\n\u001b[1;32m     81\u001b[0m             \u001b[0mheaders\u001b[0m\u001b[0;34m=\u001b[0m\u001b[0mself\u001b[0m\u001b[0;34m.\u001b[0m\u001b[0mheaders\u001b[0m\u001b[0;34m,\u001b[0m\u001b[0;34m\u001b[0m\u001b[0;34m\u001b[0m\u001b[0m\n\u001b[0;32m---> 82\u001b[0;31m             \u001b[0mtimeout\u001b[0m\u001b[0;34m=\u001b[0m\u001b[0mself\u001b[0m\u001b[0;34m.\u001b[0m\u001b[0mtimeout\u001b[0m\u001b[0;34m,\u001b[0m\u001b[0;34m\u001b[0m\u001b[0;34m\u001b[0m\u001b[0m\n\u001b[0m\u001b[1;32m     83\u001b[0m         )\n\u001b[1;32m     84\u001b[0m         \u001b[0mself\u001b[0m\u001b[0;34m.\u001b[0m\u001b[0mload_response\u001b[0m\u001b[0;34m(\u001b[0m\u001b[0;34m)\u001b[0m\u001b[0;34m\u001b[0m\u001b[0;34m\u001b[0m\u001b[0m\n",
      "\u001b[0;32m/opt/anaconda3/lib/python3.7/site-packages/nba_api/library/http.py\u001b[0m in \u001b[0;36msend_api_request\u001b[0;34m(self, endpoint, parameters, referer, proxy, headers, timeout, raise_exception_on_error)\u001b[0m\n\u001b[1;32m    126\u001b[0m \u001b[0;34m\u001b[0m\u001b[0m\n\u001b[1;32m    127\u001b[0m         \u001b[0;32mif\u001b[0m \u001b[0;32mnot\u001b[0m \u001b[0mcontents\u001b[0m\u001b[0;34m:\u001b[0m\u001b[0;34m\u001b[0m\u001b[0;34m\u001b[0m\u001b[0m\n\u001b[0;32m--> 128\u001b[0;31m             \u001b[0mresponse\u001b[0m \u001b[0;34m=\u001b[0m \u001b[0mrequests\u001b[0m\u001b[0;34m.\u001b[0m\u001b[0mget\u001b[0m\u001b[0;34m(\u001b[0m\u001b[0murl\u001b[0m\u001b[0;34m=\u001b[0m\u001b[0mbase_url\u001b[0m\u001b[0;34m,\u001b[0m \u001b[0mparams\u001b[0m\u001b[0;34m=\u001b[0m\u001b[0mparameters\u001b[0m\u001b[0;34m,\u001b[0m \u001b[0mheaders\u001b[0m\u001b[0;34m=\u001b[0m\u001b[0mrequest_headers\u001b[0m\u001b[0;34m,\u001b[0m \u001b[0mproxies\u001b[0m\u001b[0;34m=\u001b[0m\u001b[0mproxies\u001b[0m\u001b[0;34m,\u001b[0m \u001b[0mtimeout\u001b[0m\u001b[0;34m=\u001b[0m\u001b[0mtimeout\u001b[0m\u001b[0;34m)\u001b[0m\u001b[0;34m\u001b[0m\u001b[0;34m\u001b[0m\u001b[0m\n\u001b[0m\u001b[1;32m    129\u001b[0m             \u001b[0murl\u001b[0m \u001b[0;34m=\u001b[0m \u001b[0mresponse\u001b[0m\u001b[0;34m.\u001b[0m\u001b[0murl\u001b[0m\u001b[0;34m\u001b[0m\u001b[0;34m\u001b[0m\u001b[0m\n\u001b[1;32m    130\u001b[0m             \u001b[0mstatus_code\u001b[0m \u001b[0;34m=\u001b[0m \u001b[0mresponse\u001b[0m\u001b[0;34m.\u001b[0m\u001b[0mstatus_code\u001b[0m\u001b[0;34m\u001b[0m\u001b[0;34m\u001b[0m\u001b[0m\n",
      "\u001b[0;32m/opt/anaconda3/lib/python3.7/site-packages/requests/api.py\u001b[0m in \u001b[0;36mget\u001b[0;34m(url, params, **kwargs)\u001b[0m\n\u001b[1;32m     73\u001b[0m \u001b[0;34m\u001b[0m\u001b[0m\n\u001b[1;32m     74\u001b[0m     \u001b[0mkwargs\u001b[0m\u001b[0;34m.\u001b[0m\u001b[0msetdefault\u001b[0m\u001b[0;34m(\u001b[0m\u001b[0;34m'allow_redirects'\u001b[0m\u001b[0;34m,\u001b[0m \u001b[0;32mTrue\u001b[0m\u001b[0;34m)\u001b[0m\u001b[0;34m\u001b[0m\u001b[0;34m\u001b[0m\u001b[0m\n\u001b[0;32m---> 75\u001b[0;31m     \u001b[0;32mreturn\u001b[0m \u001b[0mrequest\u001b[0m\u001b[0;34m(\u001b[0m\u001b[0;34m'get'\u001b[0m\u001b[0;34m,\u001b[0m \u001b[0murl\u001b[0m\u001b[0;34m,\u001b[0m \u001b[0mparams\u001b[0m\u001b[0;34m=\u001b[0m\u001b[0mparams\u001b[0m\u001b[0;34m,\u001b[0m \u001b[0;34m**\u001b[0m\u001b[0mkwargs\u001b[0m\u001b[0;34m)\u001b[0m\u001b[0;34m\u001b[0m\u001b[0;34m\u001b[0m\u001b[0m\n\u001b[0m\u001b[1;32m     76\u001b[0m \u001b[0;34m\u001b[0m\u001b[0m\n\u001b[1;32m     77\u001b[0m \u001b[0;34m\u001b[0m\u001b[0m\n",
      "\u001b[0;32m/opt/anaconda3/lib/python3.7/site-packages/requests/api.py\u001b[0m in \u001b[0;36mrequest\u001b[0;34m(method, url, **kwargs)\u001b[0m\n\u001b[1;32m     58\u001b[0m     \u001b[0;31m# cases, and look like a memory leak in others.\u001b[0m\u001b[0;34m\u001b[0m\u001b[0;34m\u001b[0m\u001b[0;34m\u001b[0m\u001b[0m\n\u001b[1;32m     59\u001b[0m     \u001b[0;32mwith\u001b[0m \u001b[0msessions\u001b[0m\u001b[0;34m.\u001b[0m\u001b[0mSession\u001b[0m\u001b[0;34m(\u001b[0m\u001b[0;34m)\u001b[0m \u001b[0;32mas\u001b[0m \u001b[0msession\u001b[0m\u001b[0;34m:\u001b[0m\u001b[0;34m\u001b[0m\u001b[0;34m\u001b[0m\u001b[0m\n\u001b[0;32m---> 60\u001b[0;31m         \u001b[0;32mreturn\u001b[0m \u001b[0msession\u001b[0m\u001b[0;34m.\u001b[0m\u001b[0mrequest\u001b[0m\u001b[0;34m(\u001b[0m\u001b[0mmethod\u001b[0m\u001b[0;34m=\u001b[0m\u001b[0mmethod\u001b[0m\u001b[0;34m,\u001b[0m \u001b[0murl\u001b[0m\u001b[0;34m=\u001b[0m\u001b[0murl\u001b[0m\u001b[0;34m,\u001b[0m \u001b[0;34m**\u001b[0m\u001b[0mkwargs\u001b[0m\u001b[0;34m)\u001b[0m\u001b[0;34m\u001b[0m\u001b[0;34m\u001b[0m\u001b[0m\n\u001b[0m\u001b[1;32m     61\u001b[0m \u001b[0;34m\u001b[0m\u001b[0m\n\u001b[1;32m     62\u001b[0m \u001b[0;34m\u001b[0m\u001b[0m\n",
      "\u001b[0;32m/opt/anaconda3/lib/python3.7/site-packages/requests/sessions.py\u001b[0m in \u001b[0;36mrequest\u001b[0;34m(self, method, url, params, data, headers, cookies, files, auth, timeout, allow_redirects, proxies, hooks, stream, verify, cert, json)\u001b[0m\n\u001b[1;32m    531\u001b[0m         }\n\u001b[1;32m    532\u001b[0m         \u001b[0msend_kwargs\u001b[0m\u001b[0;34m.\u001b[0m\u001b[0mupdate\u001b[0m\u001b[0;34m(\u001b[0m\u001b[0msettings\u001b[0m\u001b[0;34m)\u001b[0m\u001b[0;34m\u001b[0m\u001b[0;34m\u001b[0m\u001b[0m\n\u001b[0;32m--> 533\u001b[0;31m         \u001b[0mresp\u001b[0m \u001b[0;34m=\u001b[0m \u001b[0mself\u001b[0m\u001b[0;34m.\u001b[0m\u001b[0msend\u001b[0m\u001b[0;34m(\u001b[0m\u001b[0mprep\u001b[0m\u001b[0;34m,\u001b[0m \u001b[0;34m**\u001b[0m\u001b[0msend_kwargs\u001b[0m\u001b[0;34m)\u001b[0m\u001b[0;34m\u001b[0m\u001b[0;34m\u001b[0m\u001b[0m\n\u001b[0m\u001b[1;32m    534\u001b[0m \u001b[0;34m\u001b[0m\u001b[0m\n\u001b[1;32m    535\u001b[0m         \u001b[0;32mreturn\u001b[0m \u001b[0mresp\u001b[0m\u001b[0;34m\u001b[0m\u001b[0;34m\u001b[0m\u001b[0m\n",
      "\u001b[0;32m/opt/anaconda3/lib/python3.7/site-packages/requests/sessions.py\u001b[0m in \u001b[0;36msend\u001b[0;34m(self, request, **kwargs)\u001b[0m\n\u001b[1;32m    644\u001b[0m \u001b[0;34m\u001b[0m\u001b[0m\n\u001b[1;32m    645\u001b[0m         \u001b[0;31m# Send the request\u001b[0m\u001b[0;34m\u001b[0m\u001b[0;34m\u001b[0m\u001b[0;34m\u001b[0m\u001b[0m\n\u001b[0;32m--> 646\u001b[0;31m         \u001b[0mr\u001b[0m \u001b[0;34m=\u001b[0m \u001b[0madapter\u001b[0m\u001b[0;34m.\u001b[0m\u001b[0msend\u001b[0m\u001b[0;34m(\u001b[0m\u001b[0mrequest\u001b[0m\u001b[0;34m,\u001b[0m \u001b[0;34m**\u001b[0m\u001b[0mkwargs\u001b[0m\u001b[0;34m)\u001b[0m\u001b[0;34m\u001b[0m\u001b[0;34m\u001b[0m\u001b[0m\n\u001b[0m\u001b[1;32m    647\u001b[0m \u001b[0;34m\u001b[0m\u001b[0m\n\u001b[1;32m    648\u001b[0m         \u001b[0;31m# Total elapsed time of the request (approximately)\u001b[0m\u001b[0;34m\u001b[0m\u001b[0;34m\u001b[0m\u001b[0;34m\u001b[0m\u001b[0m\n",
      "\u001b[0;32m/opt/anaconda3/lib/python3.7/site-packages/requests/adapters.py\u001b[0m in \u001b[0;36msend\u001b[0;34m(self, request, stream, timeout, verify, cert, proxies)\u001b[0m\n\u001b[1;32m    527\u001b[0m                 \u001b[0;32mraise\u001b[0m \u001b[0mSSLError\u001b[0m\u001b[0;34m(\u001b[0m\u001b[0me\u001b[0m\u001b[0;34m,\u001b[0m \u001b[0mrequest\u001b[0m\u001b[0;34m=\u001b[0m\u001b[0mrequest\u001b[0m\u001b[0;34m)\u001b[0m\u001b[0;34m\u001b[0m\u001b[0;34m\u001b[0m\u001b[0m\n\u001b[1;32m    528\u001b[0m             \u001b[0;32melif\u001b[0m \u001b[0misinstance\u001b[0m\u001b[0;34m(\u001b[0m\u001b[0me\u001b[0m\u001b[0;34m,\u001b[0m \u001b[0mReadTimeoutError\u001b[0m\u001b[0;34m)\u001b[0m\u001b[0;34m:\u001b[0m\u001b[0;34m\u001b[0m\u001b[0;34m\u001b[0m\u001b[0m\n\u001b[0;32m--> 529\u001b[0;31m                 \u001b[0;32mraise\u001b[0m \u001b[0mReadTimeout\u001b[0m\u001b[0;34m(\u001b[0m\u001b[0me\u001b[0m\u001b[0;34m,\u001b[0m \u001b[0mrequest\u001b[0m\u001b[0;34m=\u001b[0m\u001b[0mrequest\u001b[0m\u001b[0;34m)\u001b[0m\u001b[0;34m\u001b[0m\u001b[0;34m\u001b[0m\u001b[0m\n\u001b[0m\u001b[1;32m    530\u001b[0m             \u001b[0;32melse\u001b[0m\u001b[0;34m:\u001b[0m\u001b[0;34m\u001b[0m\u001b[0;34m\u001b[0m\u001b[0m\n\u001b[1;32m    531\u001b[0m                 \u001b[0;32mraise\u001b[0m\u001b[0;34m\u001b[0m\u001b[0;34m\u001b[0m\u001b[0m\n",
      "\u001b[0;31mReadTimeout\u001b[0m: HTTPSConnectionPool(host='stats.nba.com', port=443): Read timed out. (read timeout=30)"
     ]
    }
   ],
   "source": [
    "d = dict()\n",
    "    \n",
    "for i in unique_play[:2]:\n",
    "    #d_sub = dict()\n",
    "    for s in szn:\n",
    "        one_player = PlayerDashboardByYearOverYear(player_id = i, season = s)\n",
    "        one_player = one_player.get_dict()\n",
    "        #sub2_d = dict()\n",
    "        for head,row in zip(one_player['resultSets'][1]['headers'],one_player['resultSets'][1]['rowSet']):\n",
    "            print(f'{head},{row}')\n",
    "        #d_sub[s] = sub2_d\n",
    "    #d[i]=d_sub"
   ]
  },
  {
   "cell_type": "code",
   "execution_count": null,
   "metadata": {},
   "outputs": [],
   "source": []
  }
 ],
 "metadata": {
  "kernelspec": {
   "display_name": "Python 3",
   "language": "python",
   "name": "python3"
  },
  "language_info": {
   "codemirror_mode": {
    "name": "ipython",
    "version": 3
   },
   "file_extension": ".py",
   "mimetype": "text/x-python",
   "name": "python",
   "nbconvert_exporter": "python",
   "pygments_lexer": "ipython3",
   "version": "3.7.6"
  }
 },
 "nbformat": 4,
 "nbformat_minor": 4
}
