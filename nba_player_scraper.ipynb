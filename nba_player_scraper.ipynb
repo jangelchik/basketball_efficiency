{
 "cells": [
  {
   "cell_type": "code",
   "execution_count": 1,
   "metadata": {},
   "outputs": [],
   "source": [
    "from pymongo import MongoClient\n",
    "import pprint\n",
    "\n",
    "import pandas as pd\n",
    "\n",
    "import numpy as np\n",
    "\n",
    "import json\n",
    "import time"
   ]
  },
  {
   "cell_type": "code",
   "execution_count": 37,
   "metadata": {},
   "outputs": [],
   "source": [
    "# Import proper modules from nba_api\n",
    "\n",
    "from nba_api.stats.static import players, teams\n",
    "from nba_api.stats.endpoints import PlayerDashboardByYearOverYear, CommonPlayerInfo, CommonAllPlayers"
   ]
  },
  {
   "cell_type": "markdown",
   "metadata": {},
   "source": [
    "# The api documentation tells us that we can get individual player data within the PlayerDashboardByYearOverYear() object\n",
    "\n",
    "## Let's dive into the dataset to determine how to best compile player data by season. These data will serve as the features to our model.\n",
    "\n"
   ]
  },
  {
   "cell_type": "code",
   "execution_count": 15,
   "metadata": {},
   "outputs": [],
   "source": [
    "one_player = PlayerDashboardByYearOverYear(player_id = 2544, season = '2017-18')"
   ]
  },
  {
   "cell_type": "code",
   "execution_count": 16,
   "metadata": {},
   "outputs": [],
   "source": [
    "one_player = one_player.get_dict()"
   ]
  },
  {
   "cell_type": "code",
   "execution_count": 17,
   "metadata": {},
   "outputs": [
    {
     "data": {
      "text/plain": [
       "dict_keys(['resource', 'parameters', 'resultSets'])"
      ]
     },
     "execution_count": 17,
     "metadata": {},
     "output_type": "execute_result"
    }
   ],
   "source": [
    "one_player.keys()"
   ]
  },
  {
   "cell_type": "code",
   "execution_count": 18,
   "metadata": {},
   "outputs": [
    {
     "name": "stdout",
     "output_type": "stream",
     "text": [
      " resource: type <class 'str'>\n",
      " parameters: type <class 'dict'>\n",
      " resultSets: type <class 'list'>\n"
     ]
    }
   ],
   "source": [
    "for i in one_player.keys():\n",
    "    print(f' {i}: type {type(one_player[i])}')"
   ]
  },
  {
   "cell_type": "code",
   "execution_count": 19,
   "metadata": {},
   "outputs": [
    {
     "data": {
      "text/plain": [
       "2"
      ]
     },
     "execution_count": 19,
     "metadata": {},
     "output_type": "execute_result"
    }
   ],
   "source": [
    "len(one_player['resultSets'])"
   ]
  },
  {
   "cell_type": "code",
   "execution_count": 20,
   "metadata": {},
   "outputs": [
    {
     "name": "stdout",
     "output_type": "stream",
     "text": [
      "<class 'dict'>\n",
      "<class 'dict'>\n"
     ]
    }
   ],
   "source": [
    "for i in one_player['resultSets']:\n",
    "    print(type(i))"
   ]
  },
  {
   "cell_type": "code",
   "execution_count": 21,
   "metadata": {},
   "outputs": [
    {
     "name": "stdout",
     "output_type": "stream",
     "text": [
      "dict_keys(['name', 'headers', 'rowSet'])\n",
      "dict_keys(['name', 'headers', 'rowSet'])\n"
     ]
    }
   ],
   "source": [
    "for i in one_player['resultSets']:\n",
    "    print(i.keys())"
   ]
  },
  {
   "cell_type": "code",
   "execution_count": 52,
   "metadata": {},
   "outputs": [
    {
     "name": "stdout",
     "output_type": "stream",
     "text": [
      "name:<class 'str'>\n",
      "headers:<class 'list'>\n",
      "rowSet:<class 'list'>\n",
      "name:<class 'str'>\n",
      "headers:<class 'list'>\n",
      "rowSet:<class 'list'>\n"
     ]
    }
   ],
   "source": [
    "for i in one_player['resultSets']:\n",
    "    for k in i.keys():\n",
    "        print(f\"{k}:{type(i[k])}\")"
   ]
  },
  {
   "cell_type": "code",
   "execution_count": 54,
   "metadata": {},
   "outputs": [
    {
     "name": "stdout",
     "output_type": "stream",
     "text": [
      "OverallPlayerDashboard, ['GROUP_SET', 'GROUP_VALUE', 'TEAM_ID', 'TEAM_ABBREVIATION', 'MAX_GAME_DATE', 'GP', 'W', 'L', 'W_PCT', 'MIN', 'FGM', 'FGA', 'FG_PCT', 'FG3M', 'FG3A', 'FG3_PCT', 'FTM', 'FTA', 'FT_PCT', 'OREB', 'DREB', 'REB', 'AST', 'TOV', 'STL', 'BLK', 'BLKA', 'PF', 'PFD', 'PTS', 'PLUS_MINUS', 'NBA_FANTASY_PTS', 'DD2', 'TD3', 'GP_RANK', 'W_RANK', 'L_RANK', 'W_PCT_RANK', 'MIN_RANK', 'FGM_RANK', 'FGA_RANK', 'FG_PCT_RANK', 'FG3M_RANK', 'FG3A_RANK', 'FG3_PCT_RANK', 'FTM_RANK', 'FTA_RANK', 'FT_PCT_RANK', 'OREB_RANK', 'DREB_RANK', 'REB_RANK', 'AST_RANK', 'TOV_RANK', 'STL_RANK', 'BLK_RANK', 'BLKA_RANK', 'PF_RANK', 'PFD_RANK', 'PTS_RANK', 'PLUS_MINUS_RANK', 'NBA_FANTASY_PTS_RANK', 'DD2_RANK', 'TD3_RANK', 'CFID', 'CFPARAMS']\n",
      "ByYearPlayerDashboard, ['GROUP_SET', 'GROUP_VALUE', 'TEAM_ID', 'TEAM_ABBREVIATION', 'MAX_GAME_DATE', 'GP', 'W', 'L', 'W_PCT', 'MIN', 'FGM', 'FGA', 'FG_PCT', 'FG3M', 'FG3A', 'FG3_PCT', 'FTM', 'FTA', 'FT_PCT', 'OREB', 'DREB', 'REB', 'AST', 'TOV', 'STL', 'BLK', 'BLKA', 'PF', 'PFD', 'PTS', 'PLUS_MINUS', 'NBA_FANTASY_PTS', 'DD2', 'TD3', 'GP_RANK', 'W_RANK', 'L_RANK', 'W_PCT_RANK', 'MIN_RANK', 'FGM_RANK', 'FGA_RANK', 'FG_PCT_RANK', 'FG3M_RANK', 'FG3A_RANK', 'FG3_PCT_RANK', 'FTM_RANK', 'FTA_RANK', 'FT_PCT_RANK', 'OREB_RANK', 'DREB_RANK', 'REB_RANK', 'AST_RANK', 'TOV_RANK', 'STL_RANK', 'BLK_RANK', 'BLKA_RANK', 'PF_RANK', 'PFD_RANK', 'PTS_RANK', 'PLUS_MINUS_RANK', 'NBA_FANTASY_PTS_RANK', 'DD2_RANK', 'TD3_RANK', 'CFID', 'CFPARAMS']\n"
     ]
    }
   ],
   "source": [
    "for i in one_player['resultSets']:\n",
    "    print(f\"{i['name']}, {i['headers']}\")"
   ]
  },
  {
   "cell_type": "markdown",
   "metadata": {},
   "source": [
    "# In summary, the get_players dictionary object has a resultsSets key, which contains two sub-dictionaries on a per player basis. One for overall data at ['resultSets'][0], and the other for yearly statistics at ['resultSets'][1].\n",
    "\n",
    "## Note: Looks like a handful of these values above are superfluous (see ['header'] titles) for our purposes. Particularly, the 'RANK' values. We'll take note of that to ensure we're only scraping relevant data for sake of cost.\n",
    "\n",
    "Let's store the relevant columns into a list to then use as reference for indexing when iterating through the dataset."
   ]
  },
  {
   "cell_type": "code",
   "execution_count": 58,
   "metadata": {},
   "outputs": [
    {
     "data": {
      "text/plain": [
       "[1,\n",
       " 2,\n",
       " 3,\n",
       " 5,\n",
       " 6,\n",
       " 7,\n",
       " 10,\n",
       " 11,\n",
       " 12,\n",
       " 13,\n",
       " 14,\n",
       " 15,\n",
       " 16,\n",
       " 17,\n",
       " 18,\n",
       " 19,\n",
       " 20,\n",
       " 21,\n",
       " 22,\n",
       " 23,\n",
       " 24,\n",
       " 25,\n",
       " 26,\n",
       " 27,\n",
       " 28,\n",
       " 29,\n",
       " 30]"
      ]
     },
     "execution_count": 58,
     "metadata": {},
     "output_type": "execute_result"
    }
   ],
   "source": [
    "rel = ['GROUP_VALUE', 'TEAM_ID', 'TEAM_ABBREVIATION', 'GP', 'W', 'L',\\\n",
    "       'FGM', 'FGA', 'FG_PCT', 'FG3M', 'FG3A', 'FG3_PCT', 'FTM', 'FTA', 'FT_PCT', \\\n",
    "       'OREB', 'DREB', 'REB', 'AST', 'TOV', 'STL', 'BLK', 'BLKA', 'PF', 'PFD', 'PTS', 'PLUS_MINUS']\n",
    "rel_idx = []\n",
    "for idx, val in enumerate(one_player['resultSets'][1]['headers']):\n",
    "    if val in rel:\n",
    "        rel_idx.append(idx)\n",
    "\n",
    "rel_idx"
   ]
  },
  {
   "cell_type": "markdown",
   "metadata": {},
   "source": [
    "Now we can create a list of unique players ids to use for instantiation of PlayerDashboardByYearOverYear() objects to lift datasets per player. The CommonAllPlayers() object will allow us to do this."
   ]
  },
  {
   "cell_type": "code",
   "execution_count": 23,
   "metadata": {},
   "outputs": [],
   "source": [
    "season = CommonAllPlayers()\n",
    "season = season.get_dict()"
   ]
  },
  {
   "cell_type": "code",
   "execution_count": 24,
   "metadata": {},
   "outputs": [
    {
     "name": "stdout",
     "output_type": "stream",
     "text": [
      "resource, <class 'str'>\n",
      "parameters, <class 'dict'>\n",
      "resultSets, <class 'list'>\n"
     ]
    }
   ],
   "source": [
    "for i in season.keys():\n",
    "    print(f'{i}, {type(season[i])}')"
   ]
  },
  {
   "cell_type": "code",
   "execution_count": 25,
   "metadata": {},
   "outputs": [
    {
     "data": {
      "text/plain": [
       "1"
      ]
     },
     "execution_count": 25,
     "metadata": {},
     "output_type": "execute_result"
    }
   ],
   "source": [
    "len(season['resultSets'])"
   ]
  },
  {
   "cell_type": "code",
   "execution_count": 26,
   "metadata": {},
   "outputs": [
    {
     "data": {
      "text/plain": [
       "dict"
      ]
     },
     "execution_count": 26,
     "metadata": {},
     "output_type": "execute_result"
    }
   ],
   "source": [
    "type(season['resultSets'][0])"
   ]
  },
  {
   "cell_type": "code",
   "execution_count": 27,
   "metadata": {},
   "outputs": [
    {
     "data": {
      "text/plain": [
       "dict_keys(['name', 'headers', 'rowSet'])"
      ]
     },
     "execution_count": 27,
     "metadata": {},
     "output_type": "execute_result"
    }
   ],
   "source": [
    "season['resultSets'][0].keys()"
   ]
  },
  {
   "cell_type": "code",
   "execution_count": 28,
   "metadata": {},
   "outputs": [
    {
     "data": {
      "text/plain": [
       "list"
      ]
     },
     "execution_count": 28,
     "metadata": {},
     "output_type": "execute_result"
    }
   ],
   "source": [
    "type(season['resultSets'][0]['rowSet'])"
   ]
  },
  {
   "cell_type": "code",
   "execution_count": 67,
   "metadata": {},
   "outputs": [
    {
     "data": {
      "text/plain": [
       "[1627737,\n",
       " 'Chriss, Marquese',\n",
       " 'Marquese Chriss',\n",
       " 1,\n",
       " '2016',\n",
       " '2019',\n",
       " 'marquese_chriss',\n",
       " 1610612744,\n",
       " 'Golden State',\n",
       " 'Warriors',\n",
       " 'GSW',\n",
       " 'warriors',\n",
       " 'Y',\n",
       " '00']"
      ]
     },
     "execution_count": 67,
     "metadata": {},
     "output_type": "execute_result"
    }
   ],
   "source": [
    "season['resultSets'][0]['rowSet'][704]"
   ]
  },
  {
   "cell_type": "code",
   "execution_count": 68,
   "metadata": {},
   "outputs": [
    {
     "name": "stdout",
     "output_type": "stream",
     "text": [
      "PERSON_ID: 0\n",
      "DISPLAY_LAST_COMMA_FIRST: 1\n",
      "DISPLAY_FIRST_LAST: 2\n",
      "ROSTERSTATUS: 3\n",
      "FROM_YEAR: 4\n",
      "TO_YEAR: 5\n",
      "PLAYERCODE: 6\n",
      "TEAM_ID: 7\n",
      "TEAM_CITY: 8\n",
      "TEAM_NAME: 9\n",
      "TEAM_ABBREVIATION: 10\n",
      "TEAM_CODE: 11\n",
      "GAMES_PLAYED_FLAG: 12\n",
      "OTHERLEAGUE_EXPERIENCE_CH: 13\n"
     ]
    }
   ],
   "source": [
    "for idx,head in enumerate(season['resultSets'][0]['headers']):\n",
    "    print(f'{head}: {idx}')"
   ]
  },
  {
   "cell_type": "markdown",
   "metadata": {},
   "source": [
    "## Based on the above, for a given player, if we want to determine when their last game was played, or if they are still active, we can index into the 4th (start year) and 5th index (end year) of the ['rowSet'] entries.\n",
    "\n",
    "Because we are only concerned with the 20 most recent seasons, we are only concerned with players who either ended their careers after the 1998-99 season, or those who started their careers in that same season or later.\n",
    "\n",
    "Let's determine which players are relevant to us by iterating through the entire ['rowSet']. "
   ]
  },
  {
   "cell_type": "code",
   "execution_count": 44,
   "metadata": {},
   "outputs": [],
   "source": [
    "players = []\n",
    "for i in season['resultSets'][0]['rowSet']:\n",
    "    if int(i[4]) >= 1998 or int(i[5]) >=1999:\n",
    "        players.append(i[0])\n",
    "\n",
    "players = np.unique(players)\n",
    "\n",
    "    "
   ]
  },
  {
   "cell_type": "markdown",
   "metadata": {},
   "source": [
    "## We now have a list of unique player ID's that are pertinent to our inquiry. We can plug these back into the PlayerDashboardByYearOverYear() object to get our relevant data.\n",
    "\n",
    "We'll upload this data to MongoDb, to then load back into a dataframe and begin our analysis. "
   ]
  },
  {
   "cell_type": "code",
   "execution_count": 32,
   "metadata": {},
   "outputs": [],
   "source": [
    "client = MongoClient('localhost', 27017)\n",
    "db_nba = client['nba']\n",
    "\n",
    "stats = db_nba['player_stats']"
   ]
  },
  {
   "cell_type": "code",
   "execution_count": 33,
   "metadata": {},
   "outputs": [
    {
     "data": {
      "text/plain": [
       "pymongo.collection.Collection"
      ]
     },
     "execution_count": 33,
     "metadata": {},
     "output_type": "execute_result"
    }
   ],
   "source": [
    "type(stats)"
   ]
  },
  {
   "cell_type": "code",
   "execution_count": 56,
   "metadata": {},
   "outputs": [],
   "source": [
    "def scrape_players(players):\n",
    "    \n",
    "    \"\"\"PARAMETERS:\n",
    "    \n",
    "    players - (list) a list of the unique player ID's relevant to your inquiry\n",
    "    \n",
    "    \n",
    "    RETURNS:\n",
    "    None\n",
    "    - Uploads players stats by year to a Mongo database\n",
    "    \"\"\"\n",
    "\n",
    "    for p in players:\n",
    "        \n",
    "        one_player = PlayerDashboardByYearOverYear(player_id = p)\n",
    "        one_player = one_player.get_dict()\n",
    "        \n",
    "        for i in (one_player['resultSets'][1]['rowSet']):\n",
    "            d_play = dict()\n",
    "            # convert PLayer_ID type from numpy int64 to native python for upload to Mongo\n",
    "            d_play['Player_ID'] = p.item()\n",
    "    \n",
    "            #Utilize relevant indexes previously defined in rel_idx\n",
    "            for idx in (rel_idx):\n",
    "                d_play[one_player['resultSets'][1]['headers'][idx]] = i[idx]\n",
    "                \n",
    "            # Upload to Mongo\n",
    "            stats.insert_one(d_play)\n",
    "                \n",
    "        time.sleep(np.random.randint(10))\n"
   ]
  },
  {
   "cell_type": "code",
   "execution_count": 57,
   "metadata": {},
   "outputs": [
    {
     "data": {
      "text/plain": [
       "numpy.ndarray"
      ]
     },
     "execution_count": 57,
     "metadata": {},
     "output_type": "execute_result"
    }
   ],
   "source": [
    "type(players)"
   ]
  },
  {
   "cell_type": "code",
   "execution_count": 47,
   "metadata": {},
   "outputs": [
    {
     "name": "stdout",
     "output_type": "stream",
     "text": [
      "{'Player_ID': 3, 'GROUP_VALUE': '2002-03', 'TEAM_ID': 1610612738, 'TEAM_ABBREVIATION': 'BOS', 'MAX_GAME_DATE': '2003-04-16T00:00:00', 'GP': 41, 'W': 21, 'L': 20, 'FGM': 27, 'FGA': 70, 'FG_PCT': 0.386, 'FG3M': 0, 'FG3A': 3, 'FG3_PCT': 0.0, 'FTM': 18, 'FTA': 23, 'FT_PCT': 0.783, 'OREB': 24, 'DREB': 59, 'REB': 83, 'AST': 25, 'TOV': 19, 'STL': 9, 'BLK': 1, 'BLKA': 6, 'PF': 62, 'PFD': 0, 'PTS': 72, 'PLUS_MINUS': -58}\n",
      "{'Player_ID': 3, 'GROUP_VALUE': '2001-02', 'TEAM_ID': 1610612763, 'TEAM_ABBREVIATION': 'MEM', 'MAX_GAME_DATE': '2002-04-05T00:00:00', 'GP': 66, 'W': 18, 'L': 48, 'FGM': 164, 'FGA': 385, 'FG_PCT': 0.426, 'FG3M': 3, 'FG3A': 17, 'FG3_PCT': 0.176, 'FTM': 86, 'FTA': 123, 'FT_PCT': 0.699, 'OREB': 31, 'DREB': 200, 'REB': 231, 'AST': 136, 'TOV': 103, 'STL': 63, 'BLK': 12, 'BLKA': 16, 'PF': 123, 'PFD': 0, 'PTS': 417, 'PLUS_MINUS': -384}\n",
      "{'Player_ID': 3, 'GROUP_VALUE': '2000-01', 'TEAM_ID': 1610612763, 'TEAM_ABBREVIATION': 'VAN', 'MAX_GAME_DATE': '2001-04-18T00:00:00', 'GP': 66, 'W': 19, 'L': 47, 'FGM': 140, 'FGA': 319, 'FG_PCT': 0.439, 'FG3M': 4, 'FG3A': 15, 'FG3_PCT': 0.267, 'FTM': 112, 'FTA': 157, 'FT_PCT': 0.713, 'OREB': 76, 'DREB': 198, 'REB': 274, 'AST': 83, 'TOV': 62, 'STL': 72, 'BLK': 15, 'BLKA': 12, 'PF': 160, 'PFD': 1, 'PTS': 396, 'PLUS_MINUS': -220}\n",
      "{'Player_ID': 3, 'GROUP_VALUE': '1999-00', 'TEAM_ID': 1610612763, 'TEAM_ABBREVIATION': 'VAN', 'MAX_GAME_DATE': '2000-03-21T00:00:00', 'GP': 42, 'W': 13, 'L': 29, 'FGM': 74, 'FGA': 167, 'FG_PCT': 0.443, 'FG3M': 0, 'FG3A': 4, 'FG3_PCT': 0.0, 'FTM': 55, 'FTA': 71, 'FT_PCT': 0.775, 'OREB': 86, 'DREB': 148, 'REB': 234, 'AST': 43, 'TOV': 49, 'STL': 45, 'BLK': 10, 'BLKA': 7, 'PF': 108, 'PFD': 31, 'PTS': 203, 'PLUS_MINUS': -62}\n",
      "{'Player_ID': 3, 'GROUP_VALUE': '1998-99', 'TEAM_ID': 1610612737, 'TEAM_ABBREVIATION': 'ATL', 'MAX_GAME_DATE': '1999-05-05T00:00:00', 'GP': 50, 'W': 31, 'L': 19, 'FGM': 151, 'FGA': 359, 'FG_PCT': 0.421, 'FG3M': 3, 'FG3A': 18, 'FG3_PCT': 0.167, 'FTM': 184, 'FTA': 235, 'FT_PCT': 0.783, 'OREB': 100, 'DREB': 196, 'REB': 296, 'AST': 53, 'TOV': 74, 'STL': 57, 'BLK': 16, 'BLKA': 25, 'PF': 143, 'PFD': 2, 'PTS': 489, 'PLUS_MINUS': 205}\n",
      "{'Player_ID': 3, 'GROUP_VALUE': '1997-98', 'TEAM_ID': 1610612765, 'TEAM_ABBREVIATION': 'DET', 'MAX_GAME_DATE': '1998-02-13T00:00:00', 'GP': 40, 'W': 19, 'L': 21, 'FGM': 50, 'FGA': 117, 'FG_PCT': 0.427, 'FG3M': 0, 'FG3A': 4, 'FG3_PCT': 0.0, 'FTM': 41, 'FTA': 57, 'FT_PCT': 0.719, 'OREB': 57, 'DREB': 93, 'REB': 150, 'AST': 25, 'TOV': 22, 'STL': 29, 'BLK': 12, 'BLKA': 12, 'PF': 91, 'PFD': 3, 'PTS': 141, 'PLUS_MINUS': -4}\n",
      "{'Player_ID': 3, 'GROUP_VALUE': '1996-97', 'TEAM_ID': 1610612765, 'TEAM_ABBREVIATION': 'DET', 'MAX_GAME_DATE': '1997-04-18T00:00:00', 'GP': 65, 'W': 41, 'L': 24, 'FGM': 123, 'FGA': 275, 'FG_PCT': 0.447, 'FG3M': 17, 'FG3A': 47, 'FG3_PCT': 0.362, 'FTM': 63, 'FTA': 84, 'FT_PCT': 0.75, 'OREB': 88, 'DREB': 134, 'REB': 222, 'AST': 39, 'TOV': 48, 'STL': 43, 'BLK': 6, 'BLKA': 19, 'PF': 106, 'PFD': 3, 'PTS': 326, 'PLUS_MINUS': 69}\n",
      "{'Player_ID': 15, 'GROUP_VALUE': '2007-08', 'TEAM_ID': 1610612756, 'TEAM_ABBREVIATION': 'PHX', 'MAX_GAME_DATE': '2008-04-16T00:00:00', 'GP': 16, 'W': 15, 'L': 1, 'FGM': 12, 'FGA': 33, 'FG_PCT': 0.364, 'FG3M': 11, 'FG3A': 26, 'FG3_PCT': 0.423, 'FTM': 4, 'FTA': 4, 'FT_PCT': 1.0, 'OREB': 1, 'DREB': 11, 'REB': 12, 'AST': 10, 'TOV': 6, 'STL': 0, 'BLK': 1, 'BLKA': 0, 'PF': 11, 'PFD': 3, 'PTS': 39, 'PLUS_MINUS': -33}\n",
      "{'Player_ID': 15, 'GROUP_VALUE': '2006-07', 'TEAM_ID': 1610612756, 'TEAM_ABBREVIATION': 'PHX', 'MAX_GAME_DATE': '2007-04-14T00:00:00', 'GP': 11, 'W': 9, 'L': 2, 'FGM': 9, 'FGA': 25, 'FG_PCT': 0.36, 'FG3M': 7, 'FG3A': 18, 'FG3_PCT': 0.389, 'FTM': 2, 'FTA': 2, 'FT_PCT': 1.0, 'OREB': 2, 'DREB': 7, 'REB': 9, 'AST': 4, 'TOV': 5, 'STL': 0, 'BLK': 1, 'BLKA': 1, 'PF': 6, 'PFD': 2, 'PTS': 27, 'PLUS_MINUS': -3}\n",
      "{'Player_ID': 15, 'GROUP_VALUE': '2005-06', 'TEAM_ID': 1610612741, 'TEAM_ABBREVIATION': 'CHI', 'MAX_GAME_DATE': '2006-04-19T00:00:00', 'GP': 29, 'W': 14, 'L': 15, 'FGM': 24, 'FGA': 61, 'FG_PCT': 0.393, 'FG3M': 9, 'FG3A': 33, 'FG3_PCT': 0.273, 'FTM': 2, 'FTA': 5, 'FT_PCT': 0.4, 'OREB': 4, 'DREB': 19, 'REB': 23, 'AST': 13, 'TOV': 11, 'STL': 6, 'BLK': 1, 'BLKA': 3, 'PF': 20, 'PFD': 9, 'PTS': 59, 'PLUS_MINUS': 20}\n",
      "{'Player_ID': 15, 'GROUP_VALUE': '2004-05', 'TEAM_ID': 1610612741, 'TEAM_ABBREVIATION': 'CHI', 'MAX_GAME_DATE': '2005-04-20T00:00:00', 'GP': 68, 'W': 37, 'L': 31, 'FGM': 111, 'FGA': 258, 'FG_PCT': 0.43, 'FG3M': 57, 'FG3A': 134, 'FG3_PCT': 0.425, 'FTM': 45, 'FTA': 56, 'FT_PCT': 0.804, 'OREB': 15, 'DREB': 64, 'REB': 79, 'AST': 51, 'TOV': 37, 'STL': 29, 'BLK': 1, 'BLKA': 11, 'PF': 67, 'PFD': 0, 'PTS': 324, 'PLUS_MINUS': 14}\n",
      "{'Player_ID': 15, 'GROUP_VALUE': '2003-04', 'TEAM_ID': 1610612745, 'TEAM_ABBREVIATION': 'HOU', 'MAX_GAME_DATE': '2004-04-14T00:00:00', 'GP': 49, 'W': 22, 'L': 27, 'FGM': 72, 'FGA': 191, 'FG_PCT': 0.377, 'FG3M': 43, 'FG3A': 122, 'FG3_PCT': 0.352, 'FTM': 14, 'FTA': 16, 'FT_PCT': 0.875, 'OREB': 10, 'DREB': 63, 'REB': 73, 'AST': 26, 'TOV': 29, 'STL': 16, 'BLK': 5, 'BLKA': 6, 'PF': 42, 'PFD': 0, 'PTS': 201, 'PLUS_MINUS': -14}\n",
      "{'Player_ID': 15, 'GROUP_VALUE': '2002-03', 'TEAM_ID': 1610612746, 'TEAM_ABBREVIATION': 'LAC', 'MAX_GAME_DATE': '2003-04-16T00:00:00', 'GP': 62, 'W': 20, 'L': 42, 'FGM': 210, 'FGA': 446, 'FG_PCT': 0.471, 'FG3M': 80, 'FG3A': 201, 'FG3_PCT': 0.398, 'FTM': 101, 'FTA': 122, 'FT_PCT': 0.828, 'OREB': 44, 'DREB': 112, 'REB': 156, 'AST': 70, 'TOV': 56, 'STL': 33, 'BLK': 9, 'BLKA': 20, 'PF': 92, 'PFD': 0, 'PTS': 601, 'PLUS_MINUS': 19}\n",
      "{'Player_ID': 15, 'GROUP_VALUE': '2001-02', 'TEAM_ID': 1610612746, 'TEAM_ABBREVIATION': 'LAC', 'MAX_GAME_DATE': '2002-04-17T00:00:00', 'GP': 71, 'W': 32, 'L': 39, 'FGM': 207, 'FGA': 471, 'FG_PCT': 0.439, 'FG3M': 111, 'FG3A': 238, 'FG3_PCT': 0.466, 'FTM': 101, 'FTA': 113, 'FT_PCT': 0.894, 'OREB': 43, 'DREB': 141, 'REB': 184, 'AST': 112, 'TOV': 64, 'STL': 41, 'BLK': 12, 'BLKA': 23, 'PF': 110, 'PFD': 0, 'PTS': 626, 'PLUS_MINUS': -34}\n",
      "{'Player_ID': 15, 'GROUP_VALUE': '2000-01', 'TEAM_ID': 1610612746, 'TEAM_ABBREVIATION': 'LAC', 'MAX_GAME_DATE': '2001-04-17T00:00:00', 'GP': 81, 'W': 31, 'L': 50, 'FGM': 291, 'FGA': 672, 'FG_PCT': 0.433, 'FG3M': 120, 'FG3A': 297, 'FG3_PCT': 0.404, 'FTM': 158, 'FTA': 181, 'FT_PCT': 0.873, 'OREB': 54, 'DREB': 187, 'REB': 241, 'AST': 96, 'TOV': 76, 'STL': 46, 'BLK': 19, 'BLKA': 30, 'PF': 123, 'PFD': 0, 'PTS': 860, 'PLUS_MINUS': -59}\n",
      "{'Player_ID': 15, 'GROUP_VALUE': '1999-00', 'TEAM_ID': 1610612746, 'TEAM_ABBREVIATION': 'LAC', 'MAX_GAME_DATE': '2000-04-19T00:00:00', 'GP': 75, 'W': 13, 'L': 62, 'FGM': 238, 'FGA': 573, 'FG_PCT': 0.415, 'FG3M': 93, 'FG3A': 243, 'FG3_PCT': 0.383, 'FTM': 85, 'FTA': 100, 'FT_PCT': 0.85, 'OREB': 74, 'DREB': 148, 'REB': 222, 'AST': 81, 'TOV': 57, 'STL': 44, 'BLK': 13, 'BLKA': 21, 'PF': 140, 'PFD': 7, 'PTS': 654, 'PLUS_MINUS': -452}\n",
      "{'Player_ID': 15, 'GROUP_VALUE': '1998-99', 'TEAM_ID': 1610612746, 'TEAM_ABBREVIATION': 'LAC', 'MAX_GAME_DATE': '1999-05-05T00:00:00', 'GP': 49, 'W': 9, 'L': 40, 'FGM': 180, 'FGA': 417, 'FG_PCT': 0.432, 'FG3M': 65, 'FG3A': 165, 'FG3_PCT': 0.394, 'FTM': 88, 'FTA': 102, 'FT_PCT': 0.863, 'OREB': 39, 'DREB': 101, 'REB': 140, 'AST': 53, 'TOV': 53, 'STL': 44, 'BLK': 6, 'BLKA': 19, 'PF': 86, 'PFD': 0, 'PTS': 513, 'PLUS_MINUS': -210}\n",
      "{'Player_ID': 15, 'GROUP_VALUE': '1997-98', 'TEAM_ID': 1610612746, 'TEAM_ABBREVIATION': 'LAC', 'MAX_GAME_DATE': '1998-03-25T00:00:00', 'GP': 67, 'W': 15, 'L': 52, 'FGM': 257, 'FGA': 568, 'FG_PCT': 0.452, 'FG3M': 106, 'FG3A': 259, 'FG3_PCT': 0.409, 'FTM': 140, 'FTA': 170, 'FT_PCT': 0.824, 'OREB': 70, 'DREB': 166, 'REB': 236, 'AST': 85, 'TOV': 80, 'STL': 51, 'BLK': 12, 'BLKA': 25, 'PF': 137, 'PFD': 0, 'PTS': 760, 'PLUS_MINUS': -250}\n",
      "{'Player_ID': 15, 'GROUP_VALUE': '1996-97', 'TEAM_ID': 1610612746, 'TEAM_ABBREVIATION': 'LAC', 'MAX_GAME_DATE': '1997-04-19T00:00:00', 'GP': 65, 'W': 28, 'L': 37, 'FGM': 134, 'FGA': 298, 'FG_PCT': 0.45, 'FG3M': 51, 'FG3A': 120, 'FG3_PCT': 0.425, 'FTM': 69, 'FTA': 84, 'FT_PCT': 0.821, 'OREB': 49, 'DREB': 56, 'REB': 105, 'AST': 52, 'TOV': 46, 'STL': 33, 'BLK': 10, 'BLKA': 18, 'PF': 85, 'PFD': 0, 'PTS': 388, 'PLUS_MINUS': 67}\n",
      "{'Player_ID': 21, 'GROUP_VALUE': '2001-02', 'TEAM_ID': -1, 'TEAM_ABBREVIATION': 'TOT', 'MAX_GAME_DATE': '2002-04-17T00:00:00', 'GP': 60, 'W': 16, 'L': 44, 'FGM': 183, 'FGA': 475, 'FG_PCT': 0.385, 'FG3M': 48, 'FG3A': 163, 'FG3_PCT': 0.294, 'FTM': 60, 'FTA': 91, 'FT_PCT': 0.659, 'OREB': 22, 'DREB': 110, 'REB': 132, 'AST': 282, 'TOV': 94, 'STL': 77, 'BLK': 5, 'BLKA': 16, 'PF': 114, 'PFD': 0, 'PTS': 474, 'PLUS_MINUS': -271}\n",
      "{'Player_ID': 21, 'GROUP_VALUE': '2001-02', 'TEAM_ID': 1610612749, 'TEAM_ABBREVIATION': 'MIL', 'MAX_GAME_DATE': '2002-04-17T00:00:00', 'GP': 24, 'W': 7, 'L': 17, 'FGM': 70, 'FGA': 188, 'FG_PCT': 0.372, 'FG3M': 19, 'FG3A': 73, 'FG3_PCT': 0.26, 'FTM': 13, 'FTA': 21, 'FT_PCT': 0.619, 'OREB': 6, 'DREB': 38, 'REB': 44, 'AST': 79, 'TOV': 36, 'STL': 28, 'BLK': 1, 'BLKA': 5, 'PF': 42, 'PFD': 0, 'PTS': 172, 'PLUS_MINUS': -64}\n",
      "{'Player_ID': 21, 'GROUP_VALUE': '2001-02', 'TEAM_ID': 1610612741, 'TEAM_ABBREVIATION': 'CHI', 'MAX_GAME_DATE': '2002-02-20T00:00:00', 'GP': 36, 'W': 9, 'L': 27, 'FGM': 113, 'FGA': 287, 'FG_PCT': 0.394, 'FG3M': 29, 'FG3A': 90, 'FG3_PCT': 0.322, 'FTM': 47, 'FTA': 70, 'FT_PCT': 0.671, 'OREB': 16, 'DREB': 72, 'REB': 88, 'AST': 203, 'TOV': 58, 'STL': 49, 'BLK': 4, 'BLKA': 11, 'PF': 72, 'PFD': 0, 'PTS': 302, 'PLUS_MINUS': -207}\n",
      "{'Player_ID': 21, 'GROUP_VALUE': '2000-01', 'TEAM_ID': 1610612757, 'TEAM_ABBREVIATION': 'POR', 'MAX_GAME_DATE': '2001-04-15T00:00:00', 'GP': 58, 'W': 37, 'L': 21, 'FGM': 97, 'FGA': 253, 'FG_PCT': 0.383, 'FG3M': 65, 'FG3A': 159, 'FG3_PCT': 0.409, 'FTM': 25, 'FTA': 37, 'FT_PCT': 0.676, 'OREB': 21, 'DREB': 40, 'REB': 61, 'AST': 82, 'TOV': 43, 'STL': 40, 'BLK': 3, 'BLKA': 4, 'PF': 63, 'PFD': 0, 'PTS': 284, 'PLUS_MINUS': -6}\n",
      "{'Player_ID': 21, 'GROUP_VALUE': '1999-00', 'TEAM_ID': 1610612757, 'TEAM_ABBREVIATION': 'POR', 'MAX_GAME_DATE': '2000-04-19T00:00:00', 'GP': 82, 'W': 59, 'L': 23, 'FGM': 169, 'FGA': 416, 'FG_PCT': 0.406, 'FG3M': 88, 'FG3A': 233, 'FG3_PCT': 0.378, 'FTM': 88, 'FTA': 114, 'FT_PCT': 0.772, 'OREB': 17, 'DREB': 116, 'REB': 133, 'AST': 208, 'TOV': 85, 'STL': 59, 'BLK': 9, 'BLKA': 10, 'PF': 143, 'PFD': 17, 'PTS': 514, 'PLUS_MINUS': 207}\n",
      "{'Player_ID': 21, 'GROUP_VALUE': '1998-99', 'TEAM_ID': 1610612757, 'TEAM_ABBREVIATION': 'POR', 'MAX_GAME_DATE': '1999-05-05T00:00:00', 'GP': 50, 'W': 35, 'L': 15, 'FGM': 104, 'FGA': 251, 'FG_PCT': 0.414, 'FG3M': 49, 'FG3A': 125, 'FG3_PCT': 0.392, 'FTM': 62, 'FTA': 89, 'FT_PCT': 0.697, 'OREB': 14, 'DREB': 49, 'REB': 63, 'AST': 100, 'TOV': 55, 'STL': 66, 'BLK': 3, 'BLKA': 10, 'PF': 75, 'PFD': 1, 'PTS': 319, 'PLUS_MINUS': 184}\n",
      "{'Player_ID': 21, 'GROUP_VALUE': '1997-98', 'TEAM_ID': 1610612760, 'TEAM_ABBREVIATION': 'SEA', 'MAX_GAME_DATE': '1998-04-19T00:00:00', 'GP': 80, 'W': 60, 'L': 20, 'FGM': 150, 'FGA': 349, 'FG_PCT': 0.43, 'FG3M': 66, 'FG3A': 159, 'FG3_PCT': 0.415, 'FTM': 53, 'FTA': 80, 'FT_PCT': 0.663, 'OREB': 18, 'DREB': 93, 'REB': 111, 'AST': 205, 'TOV': 91, 'STL': 64, 'BLK': 3, 'BLKA': 16, 'PF': 97, 'PFD': 1, 'PTS': 419, 'PLUS_MINUS': -27}\n",
      "{'Player_ID': 21, 'GROUP_VALUE': '1996-97', 'TEAM_ID': 1610612763, 'TEAM_ABBREVIATION': 'VAN', 'MAX_GAME_DATE': '1997-04-19T00:00:00', 'GP': 65, 'W': 9, 'L': 56, 'FGM': 199, 'FGA': 507, 'FG_PCT': 0.393, 'FG3M': 88, 'FG3A': 238, 'FG3_PCT': 0.37, 'FTM': 130, 'FTA': 178, 'FT_PCT': 0.73, 'OREB': 25, 'DREB': 159, 'REB': 184, 'AST': 407, 'TOV': 129, 'STL': 130, 'BLK': 4, 'BLKA': 29, 'PF': 122, 'PFD': 1, 'PTS': 616, 'PLUS_MINUS': -315}\n"
     ]
    },
    {
     "name": "stdout",
     "output_type": "stream",
     "text": [
      "{'Player_ID': 22, 'GROUP_VALUE': '1999-00', 'TEAM_ID': 1610612754, 'TEAM_ABBREVIATION': 'IND', 'MAX_GAME_DATE': '2000-04-19T00:00:00', 'GP': 79, 'W': 54, 'L': 25, 'FGM': 431, 'FGA': 890, 'FG_PCT': 0.484, 'FG3M': 0, 'FG3A': 1, 'FG3_PCT': 0.0, 'FTM': 156, 'FTA': 211, 'FT_PCT': 0.739, 'OREB': 94, 'DREB': 307, 'REB': 401, 'AST': 85, 'TOV': 108, 'STL': 20, 'BLK': 100, 'BLKA': 43, 'PF': 249, 'PFD': 22, 'PTS': 1018, 'PLUS_MINUS': 13}\n",
      "{'Player_ID': 22, 'GROUP_VALUE': '1998-99', 'TEAM_ID': 1610612754, 'TEAM_ABBREVIATION': 'IND', 'MAX_GAME_DATE': '1999-05-04T00:00:00', 'GP': 49, 'W': 33, 'L': 16, 'FGM': 310, 'FGA': 633, 'FG_PCT': 0.49, 'FG3M': 0, 'FG3A': 2, 'FG3_PCT': 0.0, 'FTM': 108, 'FTA': 132, 'FT_PCT': 0.818, 'OREB': 73, 'DREB': 202, 'REB': 275, 'AST': 52, 'TOV': 75, 'STL': 18, 'BLK': 52, 'BLKA': 27, 'PF': 159, 'PFD': 1, 'PTS': 728, 'PLUS_MINUS': 194}\n",
      "{'Player_ID': 22, 'GROUP_VALUE': '1997-98', 'TEAM_ID': 1610612754, 'TEAM_ABBREVIATION': 'IND', 'MAX_GAME_DATE': '1998-04-17T00:00:00', 'GP': 73, 'W': 52, 'L': 21, 'FGM': 514, 'FGA': 1038, 'FG_PCT': 0.495, 'FG3M': 0, 'FG3A': 3, 'FG3_PCT': 0.0, 'FTM': 188, 'FTA': 240, 'FT_PCT': 0.783, 'OREB': 127, 'DREB': 378, 'REB': 505, 'AST': 101, 'TOV': 134, 'STL': 40, 'BLK': 88, 'BLKA': 47, 'PF': 243, 'PFD': 5, 'PTS': 1216, 'PLUS_MINUS': 437}\n",
      "{'Player_ID': 22, 'GROUP_VALUE': '1996-97', 'TEAM_ID': 1610612754, 'TEAM_ABBREVIATION': 'IND', 'MAX_GAME_DATE': '1997-04-20T00:00:00', 'GP': 52, 'W': 25, 'L': 27, 'FGM': 356, 'FGA': 733, 'FG_PCT': 0.486, 'FG3M': 2, 'FG3A': 8, 'FG3_PCT': 0.25, 'FTM': 173, 'FTA': 217, 'FT_PCT': 0.797, 'OREB': 105, 'DREB': 256, 'REB': 361, 'AST': 67, 'TOV': 126, 'STL': 22, 'BLK': 59, 'BLKA': 39, 'PF': 175, 'PFD': 2, 'PTS': 887, 'PLUS_MINUS': 98}\n",
      "{'Player_ID': 23, 'GROUP_VALUE': '1999-00', 'TEAM_ID': 1610612742, 'TEAM_ABBREVIATION': 'DAL', 'MAX_GAME_DATE': '2000-03-07T00:00:00', 'GP': 12, 'W': 3, 'L': 9, 'FGM': 12, 'FGA': 31, 'FG_PCT': 0.387, 'FG3M': 0, 'FG3A': 1, 'FG3_PCT': 0.0, 'FTM': 10, 'FTA': 14, 'FT_PCT': 0.714, 'OREB': 48, 'DREB': 123, 'REB': 171, 'AST': 14, 'TOV': 19, 'STL': 2, 'BLK': 1, 'BLKA': 5, 'PF': 41, 'PFD': 6, 'PTS': 34, 'PLUS_MINUS': -76}\n",
      "{'Player_ID': 23, 'GROUP_VALUE': '1998-99', 'TEAM_ID': 1610612747, 'TEAM_ABBREVIATION': 'LAL', 'MAX_GAME_DATE': '1999-04-13T00:00:00', 'GP': 23, 'W': 17, 'L': 6, 'FGM': 16, 'FGA': 46, 'FG_PCT': 0.348, 'FG3M': 0, 'FG3A': 2, 'FG3_PCT': 0.0, 'FTM': 17, 'FTA': 39, 'FT_PCT': 0.436, 'OREB': 62, 'DREB': 196, 'REB': 258, 'AST': 30, 'TOV': 31, 'STL': 10, 'BLK': 12, 'BLKA': 4, 'PF': 71, 'PFD': 3, 'PTS': 49, 'PLUS_MINUS': -14}\n",
      "{'Player_ID': 23, 'GROUP_VALUE': '1997-98', 'TEAM_ID': 1610612741, 'TEAM_ABBREVIATION': 'CHI', 'MAX_GAME_DATE': '1998-04-18T00:00:00', 'GP': 80, 'W': 60, 'L': 20, 'FGM': 155, 'FGA': 360, 'FG_PCT': 0.431, 'FG3M': 4, 'FG3A': 23, 'FG3_PCT': 0.174, 'FTM': 61, 'FTA': 111, 'FT_PCT': 0.55, 'OREB': 421, 'DREB': 780, 'REB': 1201, 'AST': 230, 'TOV': 147, 'STL': 47, 'BLK': 18, 'BLKA': 10, 'PF': 238, 'PFD': 6, 'PTS': 375, 'PLUS_MINUS': 339}\n",
      "{'Player_ID': 23, 'GROUP_VALUE': '1996-97', 'TEAM_ID': 1610612741, 'TEAM_ABBREVIATION': 'CHI', 'MAX_GAME_DATE': '1997-03-25T00:00:00', 'GP': 55, 'W': 48, 'L': 7, 'FGM': 128, 'FGA': 286, 'FG_PCT': 0.448, 'FG3M': 5, 'FG3A': 19, 'FG3_PCT': 0.263, 'FTM': 50, 'FTA': 88, 'FT_PCT': 0.568, 'OREB': 320, 'DREB': 563, 'REB': 883, 'AST': 170, 'TOV': 111, 'STL': 32, 'BLK': 19, 'BLKA': 6, 'PF': 172, 'PFD': 12, 'PTS': 311, 'PLUS_MINUS': 571}\n",
      "{'Player_ID': 26, 'GROUP_VALUE': '2000-01', 'TEAM_ID': 1610612752, 'TEAM_ABBREVIATION': 'NYK', 'MAX_GAME_DATE': '2001-02-14T00:00:00', 'GP': 25, 'W': 16, 'L': 9, 'FGM': 18, 'FGA': 54, 'FG_PCT': 0.333, 'FG3M': 0, 'FG3A': 0, 'FG3_PCT': 0.0, 'FTM': 13, 'FTA': 17, 'FT_PCT': 0.765, 'OREB': 26, 'DREB': 40, 'REB': 66, 'AST': 7, 'TOV': 22, 'STL': 3, 'BLK': 9, 'BLKA': 6, 'PF': 51, 'PFD': 0, 'PTS': 49, 'PLUS_MINUS': 31}\n",
      "{'Player_ID': 26, 'GROUP_VALUE': '1999-00', 'TEAM_ID': 1610612756, 'TEAM_ABBREVIATION': 'PHX', 'MAX_GAME_DATE': '2000-04-19T00:00:00', 'GP': 72, 'W': 45, 'L': 27, 'FGM': 186, 'FGA': 399, 'FG_PCT': 0.466, 'FG3M': 0, 'FG3A': 0, 'FG3_PCT': 0.0, 'FTM': 80, 'FTA': 97, 'FT_PCT': 0.825, 'OREB': 100, 'DREB': 223, 'REB': 323, 'AST': 77, 'TOV': 136, 'STL': 22, 'BLK': 42, 'BLKA': 37, 'PF': 221, 'PFD': 14, 'PTS': 452, 'PLUS_MINUS': 1}\n",
      "{'Player_ID': 26, 'GROUP_VALUE': '1998-99', 'TEAM_ID': 1610612756, 'TEAM_ABBREVIATION': 'PHX', 'MAX_GAME_DATE': '1999-05-05T00:00:00', 'GP': 39, 'W': 19, 'L': 20, 'FGM': 140, 'FGA': 290, 'FG_PCT': 0.483, 'FG3M': 0, 'FG3A': 0, 'FG3_PCT': 0.0, 'FTM': 59, 'FTA': 76, 'FT_PCT': 0.776, 'OREB': 60, 'DREB': 162, 'REB': 222, 'AST': 45, 'TOV': 53, 'STL': 23, 'BLK': 21, 'BLKA': 27, 'PF': 119, 'PFD': 0, 'PTS': 339, 'PLUS_MINUS': 51}\n",
      "{'Player_ID': 26, 'GROUP_VALUE': '1997-98', 'TEAM_ID': 1610612741, 'TEAM_ABBREVIATION': 'CHI', 'MAX_GAME_DATE': '1998-03-31T00:00:00', 'GP': 58, 'W': 42, 'L': 16, 'FGM': 277, 'FGA': 609, 'FG_PCT': 0.455, 'FG3M': 0, 'FG3A': 0, 'FG3_PCT': 0.0, 'FTM': 109, 'FTA': 148, 'FT_PCT': 0.736, 'OREB': 113, 'DREB': 228, 'REB': 341, 'AST': 161, 'TOV': 130, 'STL': 34, 'BLK': 62, 'BLKA': 68, 'PF': 206, 'PFD': 2, 'PTS': 663, 'PLUS_MINUS': 258}\n",
      "{'Player_ID': 26, 'GROUP_VALUE': '1996-97', 'TEAM_ID': 1610612741, 'TEAM_ABBREVIATION': 'CHI', 'MAX_GAME_DATE': '1997-04-19T00:00:00', 'GP': 59, 'W': 49, 'L': 10, 'FGM': 221, 'FGA': 485, 'FG_PCT': 0.456, 'FG3M': 0, 'FG3A': 2, 'FG3_PCT': 0.0, 'FTM': 95, 'FTA': 120, 'FT_PCT': 0.792, 'OREB': 121, 'DREB': 211, 'REB': 332, 'AST': 141, 'TOV': 111, 'STL': 23, 'BLK': 66, 'BLKA': 48, 'PF': 191, 'PFD': 1, 'PTS': 537, 'PLUS_MINUS': 294}\n"
     ]
    },
    {
     "ename": "KeyboardInterrupt",
     "evalue": "",
     "output_type": "error",
     "traceback": [
      "\u001b[0;31m---------------------------------------------------------------------------\u001b[0m",
      "\u001b[0;31mKeyboardInterrupt\u001b[0m                         Traceback (most recent call last)",
      "\u001b[0;32m<ipython-input-47-447e33c655c9>\u001b[0m in \u001b[0;36m<module>\u001b[0;34m\u001b[0m\n\u001b[0;32m----> 1\u001b[0;31m \u001b[0mscrape_players\u001b[0m\u001b[0;34m(\u001b[0m\u001b[0mplayers\u001b[0m\u001b[0;34m)\u001b[0m\u001b[0;34m\u001b[0m\u001b[0;34m\u001b[0m\u001b[0m\n\u001b[0m",
      "\u001b[0;32m<ipython-input-45-58c578b8b4ad>\u001b[0m in \u001b[0;36mscrape_players\u001b[0;34m(players)\u001b[0m\n\u001b[1;32m     29\u001b[0m             \u001b[0;31m#stats.insert_one(d_play)\u001b[0m\u001b[0;34m\u001b[0m\u001b[0;34m\u001b[0m\u001b[0;34m\u001b[0m\u001b[0m\n\u001b[1;32m     30\u001b[0m \u001b[0;34m\u001b[0m\u001b[0m\n\u001b[0;32m---> 31\u001b[0;31m         \u001b[0mtime\u001b[0m\u001b[0;34m.\u001b[0m\u001b[0msleep\u001b[0m\u001b[0;34m(\u001b[0m\u001b[0mnp\u001b[0m\u001b[0;34m.\u001b[0m\u001b[0mrandom\u001b[0m\u001b[0;34m.\u001b[0m\u001b[0mrandint\u001b[0m\u001b[0;34m(\u001b[0m\u001b[0;36m10\u001b[0m\u001b[0;34m)\u001b[0m\u001b[0;34m)\u001b[0m\u001b[0;34m\u001b[0m\u001b[0;34m\u001b[0m\u001b[0m\n\u001b[0m",
      "\u001b[0;31mKeyboardInterrupt\u001b[0m: "
     ]
    }
   ],
   "source": [
    "scrape_players(players)"
   ]
  },
  {
   "cell_type": "code",
   "execution_count": null,
   "metadata": {},
   "outputs": [],
   "source": []
  }
 ],
 "metadata": {
  "kernelspec": {
   "display_name": "Python 3",
   "language": "python",
   "name": "python3"
  },
  "language_info": {
   "codemirror_mode": {
    "name": "ipython",
    "version": 3
   },
   "file_extension": ".py",
   "mimetype": "text/x-python",
   "name": "python",
   "nbconvert_exporter": "python",
   "pygments_lexer": "ipython3",
   "version": "3.7.6"
  }
 },
 "nbformat": 4,
 "nbformat_minor": 4
}
