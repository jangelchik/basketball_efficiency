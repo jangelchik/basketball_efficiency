{
 "cells": [
  {
   "cell_type": "code",
   "execution_count": 1,
   "metadata": {},
   "outputs": [],
   "source": [
    "from pymongo import MongoClient\n",
    "import pprint\n",
    "\n",
    "import pandas as pd\n",
    "\n",
    "import numpy as np\n",
    "\n",
    "import json\n",
    "import time"
   ]
  },
  {
   "cell_type": "code",
   "execution_count": 2,
   "metadata": {},
   "outputs": [],
   "source": [
    "# Import proper modules from nba_api\n",
    "\n",
    "from nba_api.stats.static import players, teams\n",
    "from nba_api.stats.endpoints import PlayerDashboardByYearOverYear, CommonPlayerInfo, CommonAllPlayers"
   ]
  },
  {
   "cell_type": "markdown",
   "metadata": {},
   "source": [
    "# The api documentation tells us that we can get individual player data within the PlayerDashboardByYearOverYear() object\n",
    "\n",
    "## Let's dive into the dataset to determine how to best compile player data by season. These data will serve as the features to our model.\n",
    "\n"
   ]
  },
  {
   "cell_type": "code",
   "execution_count": 3,
   "metadata": {},
   "outputs": [],
   "source": [
    "one_player = PlayerDashboardByYearOverYear(player_id = 203110, season = '2001-02')"
   ]
  },
  {
   "cell_type": "code",
   "execution_count": 4,
   "metadata": {},
   "outputs": [],
   "source": [
    "one_player = one_player.get_dict()"
   ]
  },
  {
   "cell_type": "code",
   "execution_count": 5,
   "metadata": {},
   "outputs": [
    {
     "data": {
      "text/plain": [
       "dict_keys(['resource', 'parameters', 'resultSets'])"
      ]
     },
     "execution_count": 5,
     "metadata": {},
     "output_type": "execute_result"
    }
   ],
   "source": [
    "one_player.keys()"
   ]
  },
  {
   "cell_type": "code",
   "execution_count": 6,
   "metadata": {},
   "outputs": [
    {
     "name": "stdout",
     "output_type": "stream",
     "text": [
      " resource: type <class 'str'>\n",
      " parameters: type <class 'dict'>\n",
      " resultSets: type <class 'list'>\n"
     ]
    }
   ],
   "source": [
    "for i in one_player.keys():\n",
    "    print(f' {i}: type {type(one_player[i])}')"
   ]
  },
  {
   "cell_type": "code",
   "execution_count": 7,
   "metadata": {},
   "outputs": [
    {
     "data": {
      "text/plain": [
       "2"
      ]
     },
     "execution_count": 7,
     "metadata": {},
     "output_type": "execute_result"
    }
   ],
   "source": [
    "len(one_player['resultSets'])"
   ]
  },
  {
   "cell_type": "code",
   "execution_count": 8,
   "metadata": {},
   "outputs": [
    {
     "name": "stdout",
     "output_type": "stream",
     "text": [
      "<class 'dict'>\n",
      "<class 'dict'>\n"
     ]
    }
   ],
   "source": [
    "for i in one_player['resultSets']:\n",
    "    print(type(i))"
   ]
  },
  {
   "cell_type": "code",
   "execution_count": 9,
   "metadata": {},
   "outputs": [
    {
     "name": "stdout",
     "output_type": "stream",
     "text": [
      "dict_keys(['name', 'headers', 'rowSet'])\n",
      "dict_keys(['name', 'headers', 'rowSet'])\n"
     ]
    }
   ],
   "source": [
    "for i in one_player['resultSets']:\n",
    "    print(i.keys())"
   ]
  },
  {
   "cell_type": "code",
   "execution_count": 10,
   "metadata": {},
   "outputs": [
    {
     "name": "stdout",
     "output_type": "stream",
     "text": [
      "name:<class 'str'>\n",
      "headers:<class 'list'>\n",
      "rowSet:<class 'list'>\n",
      "name:<class 'str'>\n",
      "headers:<class 'list'>\n",
      "rowSet:<class 'list'>\n"
     ]
    }
   ],
   "source": [
    "for i in one_player['resultSets']:\n",
    "    for k in i.keys():\n",
    "        print(f\"{k}:{type(i[k])}\")"
   ]
  },
  {
   "cell_type": "code",
   "execution_count": 11,
   "metadata": {},
   "outputs": [
    {
     "name": "stdout",
     "output_type": "stream",
     "text": [
      "OverallPlayerDashboard, ['GROUP_SET', 'GROUP_VALUE', 'TEAM_ID', 'TEAM_ABBREVIATION', 'MAX_GAME_DATE', 'GP', 'W', 'L', 'W_PCT', 'MIN', 'FGM', 'FGA', 'FG_PCT', 'FG3M', 'FG3A', 'FG3_PCT', 'FTM', 'FTA', 'FT_PCT', 'OREB', 'DREB', 'REB', 'AST', 'TOV', 'STL', 'BLK', 'BLKA', 'PF', 'PFD', 'PTS', 'PLUS_MINUS', 'NBA_FANTASY_PTS', 'DD2', 'TD3', 'GP_RANK', 'W_RANK', 'L_RANK', 'W_PCT_RANK', 'MIN_RANK', 'FGM_RANK', 'FGA_RANK', 'FG_PCT_RANK', 'FG3M_RANK', 'FG3A_RANK', 'FG3_PCT_RANK', 'FTM_RANK', 'FTA_RANK', 'FT_PCT_RANK', 'OREB_RANK', 'DREB_RANK', 'REB_RANK', 'AST_RANK', 'TOV_RANK', 'STL_RANK', 'BLK_RANK', 'BLKA_RANK', 'PF_RANK', 'PFD_RANK', 'PTS_RANK', 'PLUS_MINUS_RANK', 'NBA_FANTASY_PTS_RANK', 'DD2_RANK', 'TD3_RANK', 'CFID', 'CFPARAMS']\n",
      "ByYearPlayerDashboard, ['GROUP_SET', 'GROUP_VALUE', 'TEAM_ID', 'TEAM_ABBREVIATION', 'MAX_GAME_DATE', 'GP', 'W', 'L', 'W_PCT', 'MIN', 'FGM', 'FGA', 'FG_PCT', 'FG3M', 'FG3A', 'FG3_PCT', 'FTM', 'FTA', 'FT_PCT', 'OREB', 'DREB', 'REB', 'AST', 'TOV', 'STL', 'BLK', 'BLKA', 'PF', 'PFD', 'PTS', 'PLUS_MINUS', 'NBA_FANTASY_PTS', 'DD2', 'TD3', 'GP_RANK', 'W_RANK', 'L_RANK', 'W_PCT_RANK', 'MIN_RANK', 'FGM_RANK', 'FGA_RANK', 'FG_PCT_RANK', 'FG3M_RANK', 'FG3A_RANK', 'FG3_PCT_RANK', 'FTM_RANK', 'FTA_RANK', 'FT_PCT_RANK', 'OREB_RANK', 'DREB_RANK', 'REB_RANK', 'AST_RANK', 'TOV_RANK', 'STL_RANK', 'BLK_RANK', 'BLKA_RANK', 'PF_RANK', 'PFD_RANK', 'PTS_RANK', 'PLUS_MINUS_RANK', 'NBA_FANTASY_PTS_RANK', 'DD2_RANK', 'TD3_RANK', 'CFID', 'CFPARAMS']\n"
     ]
    }
   ],
   "source": [
    "for i in one_player['resultSets']:\n",
    "    print(f\"{i['name']}, {i['headers']}\")"
   ]
  },
  {
   "cell_type": "code",
   "execution_count": 12,
   "metadata": {},
   "outputs": [
    {
     "data": {
      "text/plain": [
       "[['By Year',\n",
       "  '2019-20',\n",
       "  1610612744,\n",
       "  'GSW',\n",
       "  '2020-02-27T00:00:00',\n",
       "  43,\n",
       "  10,\n",
       "  33,\n",
       "  0.233,\n",
       "  1221.6566666666668,\n",
       "  123,\n",
       "  316,\n",
       "  0.389,\n",
       "  36,\n",
       "  129,\n",
       "  0.279,\n",
       "  63,\n",
       "  83,\n",
       "  0.759,\n",
       "  23,\n",
       "  243,\n",
       "  266,\n",
       "  266,\n",
       "  98,\n",
       "  59,\n",
       "  33,\n",
       "  13,\n",
       "  110,\n",
       "  83,\n",
       "  345,\n",
       "  -193,\n",
       "  1241.2,\n",
       "  8,\n",
       "  2,\n",
       "  8,\n",
       "  8,\n",
       "  7,\n",
       "  8,\n",
       "  7,\n",
       "  7,\n",
       "  7,\n",
       "  7,\n",
       "  7,\n",
       "  7,\n",
       "  7,\n",
       "  6,\n",
       "  7,\n",
       "  3,\n",
       "  8,\n",
       "  7,\n",
       "  7,\n",
       "  6,\n",
       "  6,\n",
       "  7,\n",
       "  7,\n",
       "  2,\n",
       "  1,\n",
       "  7,\n",
       "  7,\n",
       "  8,\n",
       "  7,\n",
       "  5,\n",
       "  4,\n",
       "  264,\n",
       "  '2019-20'],\n",
       " ['By Year',\n",
       "  '2018-19',\n",
       "  1610612744,\n",
       "  'GSW',\n",
       "  '2019-04-09T00:00:00',\n",
       "  66,\n",
       "  48,\n",
       "  18,\n",
       "  0.727,\n",
       "  2064.693333333333,\n",
       "  188,\n",
       "  422,\n",
       "  0.445,\n",
       "  47,\n",
       "  165,\n",
       "  0.285,\n",
       "  63,\n",
       "  91,\n",
       "  0.692,\n",
       "  60,\n",
       "  421,\n",
       "  481,\n",
       "  454,\n",
       "  169,\n",
       "  95,\n",
       "  70,\n",
       "  17,\n",
       "  197,\n",
       "  125,\n",
       "  486,\n",
       "  462,\n",
       "  2070.2,\n",
       "  8,\n",
       "  0,\n",
       "  7,\n",
       "  5,\n",
       "  4,\n",
       "  4,\n",
       "  5,\n",
       "  5,\n",
       "  6,\n",
       "  3,\n",
       "  6,\n",
       "  5,\n",
       "  6,\n",
       "  6,\n",
       "  6,\n",
       "  6,\n",
       "  6,\n",
       "  5,\n",
       "  5,\n",
       "  4,\n",
       "  4,\n",
       "  5,\n",
       "  6,\n",
       "  3,\n",
       "  4,\n",
       "  6,\n",
       "  6,\n",
       "  4,\n",
       "  5,\n",
       "  5,\n",
       "  6,\n",
       "  264,\n",
       "  '2018-19'],\n",
       " ['By Year',\n",
       "  '2017-18',\n",
       "  1610612744,\n",
       "  'GSW',\n",
       "  '2018-04-10T00:00:00',\n",
       "  70,\n",
       "  48,\n",
       "  22,\n",
       "  0.686,\n",
       "  2286.8533333333335,\n",
       "  281,\n",
       "  619,\n",
       "  0.454,\n",
       "  77,\n",
       "  256,\n",
       "  0.301,\n",
       "  134,\n",
       "  173,\n",
       "  0.775,\n",
       "  75,\n",
       "  460,\n",
       "  535,\n",
       "  508,\n",
       "  202,\n",
       "  95,\n",
       "  91,\n",
       "  33,\n",
       "  185,\n",
       "  178,\n",
       "  773,\n",
       "  309,\n",
       "  2533.0,\n",
       "  23,\n",
       "  3,\n",
       "  6,\n",
       "  5,\n",
       "  5,\n",
       "  5,\n",
       "  4,\n",
       "  3,\n",
       "  4,\n",
       "  2,\n",
       "  4,\n",
       "  4,\n",
       "  5,\n",
       "  3,\n",
       "  4,\n",
       "  2,\n",
       "  5,\n",
       "  4,\n",
       "  4,\n",
       "  3,\n",
       "  2,\n",
       "  5,\n",
       "  4,\n",
       "  5,\n",
       "  3,\n",
       "  4,\n",
       "  4,\n",
       "  5,\n",
       "  4,\n",
       "  2,\n",
       "  3,\n",
       "  264,\n",
       "  '2017-18'],\n",
       " ['By Year',\n",
       "  '2016-17',\n",
       "  1610612744,\n",
       "  'GSW',\n",
       "  '2017-04-10T00:00:00',\n",
       "  76,\n",
       "  62,\n",
       "  14,\n",
       "  0.816,\n",
       "  2470.8866666666668,\n",
       "  272,\n",
       "  650,\n",
       "  0.418,\n",
       "  81,\n",
       "  263,\n",
       "  0.308,\n",
       "  151,\n",
       "  213,\n",
       "  0.709,\n",
       "  98,\n",
       "  501,\n",
       "  599,\n",
       "  533,\n",
       "  184,\n",
       "  154,\n",
       "  106,\n",
       "  41,\n",
       "  217,\n",
       "  221,\n",
       "  776,\n",
       "  820,\n",
       "  2890.3,\n",
       "  17,\n",
       "  5,\n",
       "  5,\n",
       "  3,\n",
       "  2,\n",
       "  2,\n",
       "  3,\n",
       "  4,\n",
       "  3,\n",
       "  5,\n",
       "  3,\n",
       "  2,\n",
       "  4,\n",
       "  2,\n",
       "  2,\n",
       "  4,\n",
       "  3,\n",
       "  3,\n",
       "  3,\n",
       "  2,\n",
       "  3,\n",
       "  1,\n",
       "  2,\n",
       "  7,\n",
       "  5,\n",
       "  2,\n",
       "  3,\n",
       "  3,\n",
       "  2,\n",
       "  4,\n",
       "  2,\n",
       "  264,\n",
       "  '2016-17'],\n",
       " ['By Year',\n",
       "  '2015-16',\n",
       "  1610612744,\n",
       "  'GSW',\n",
       "  '2016-04-13T00:00:00',\n",
       "  81,\n",
       "  73,\n",
       "  8,\n",
       "  0.901,\n",
       "  2807.9983333333334,\n",
       "  401,\n",
       "  819,\n",
       "  0.49,\n",
       "  100,\n",
       "  258,\n",
       "  0.388,\n",
       "  229,\n",
       "  329,\n",
       "  0.696,\n",
       "  134,\n",
       "  635,\n",
       "  769,\n",
       "  598,\n",
       "  259,\n",
       "  119,\n",
       "  113,\n",
       "  55,\n",
       "  240,\n",
       "  310,\n",
       "  1131,\n",
       "  1072,\n",
       "  3387.8,\n",
       "  33,\n",
       "  13,\n",
       "  2,\n",
       "  1,\n",
       "  1,\n",
       "  1,\n",
       "  1,\n",
       "  1,\n",
       "  1,\n",
       "  1,\n",
       "  2,\n",
       "  3,\n",
       "  1,\n",
       "  1,\n",
       "  1,\n",
       "  5,\n",
       "  1,\n",
       "  1,\n",
       "  1,\n",
       "  1,\n",
       "  1,\n",
       "  3,\n",
       "  1,\n",
       "  8,\n",
       "  7,\n",
       "  1,\n",
       "  1,\n",
       "  1,\n",
       "  1,\n",
       "  1,\n",
       "  1,\n",
       "  264,\n",
       "  '2015-16'],\n",
       " ['By Year',\n",
       "  '2014-15',\n",
       "  1610612744,\n",
       "  'GSW',\n",
       "  '2015-04-15T00:00:00',\n",
       "  79,\n",
       "  64,\n",
       "  15,\n",
       "  0.81,\n",
       "  2489.991666666667,\n",
       "  339,\n",
       "  765,\n",
       "  0.443,\n",
       "  111,\n",
       "  329,\n",
       "  0.337,\n",
       "  132,\n",
       "  200,\n",
       "  0.66,\n",
       "  114,\n",
       "  533,\n",
       "  647,\n",
       "  291,\n",
       "  133,\n",
       "  123,\n",
       "  99,\n",
       "  33,\n",
       "  253,\n",
       "  204,\n",
       "  921,\n",
       "  839,\n",
       "  2666.9,\n",
       "  18,\n",
       "  1,\n",
       "  3,\n",
       "  2,\n",
       "  3,\n",
       "  3,\n",
       "  2,\n",
       "  2,\n",
       "  2,\n",
       "  4,\n",
       "  1,\n",
       "  1,\n",
       "  2,\n",
       "  4,\n",
       "  3,\n",
       "  8,\n",
       "  2,\n",
       "  2,\n",
       "  2,\n",
       "  5,\n",
       "  5,\n",
       "  2,\n",
       "  3,\n",
       "  5,\n",
       "  8,\n",
       "  3,\n",
       "  2,\n",
       "  2,\n",
       "  3,\n",
       "  3,\n",
       "  5,\n",
       "  264,\n",
       "  '2014-15'],\n",
       " ['By Year',\n",
       "  '2013-14',\n",
       "  1610612744,\n",
       "  'GSW',\n",
       "  '2014-04-16T00:00:00',\n",
       "  82,\n",
       "  51,\n",
       "  31,\n",
       "  0.622,\n",
       "  1796.7416666666666,\n",
       "  187,\n",
       "  459,\n",
       "  0.407,\n",
       "  55,\n",
       "  165,\n",
       "  0.333,\n",
       "  82,\n",
       "  123,\n",
       "  0.667,\n",
       "  86,\n",
       "  323,\n",
       "  409,\n",
       "  152,\n",
       "  91,\n",
       "  102,\n",
       "  72,\n",
       "  25,\n",
       "  231,\n",
       "  138,\n",
       "  511,\n",
       "  144,\n",
       "  1660.8,\n",
       "  4,\n",
       "  0,\n",
       "  1,\n",
       "  4,\n",
       "  6,\n",
       "  6,\n",
       "  6,\n",
       "  6,\n",
       "  5,\n",
       "  6,\n",
       "  5,\n",
       "  5,\n",
       "  3,\n",
       "  5,\n",
       "  5,\n",
       "  7,\n",
       "  4,\n",
       "  6,\n",
       "  6,\n",
       "  7,\n",
       "  7,\n",
       "  4,\n",
       "  5,\n",
       "  4,\n",
       "  6,\n",
       "  5,\n",
       "  5,\n",
       "  6,\n",
       "  6,\n",
       "  7,\n",
       "  6,\n",
       "  264,\n",
       "  '2013-14'],\n",
       " ['By Year',\n",
       "  '2012-13',\n",
       "  1610612744,\n",
       "  'GSW',\n",
       "  '2013-04-11T00:00:00',\n",
       "  79,\n",
       "  45,\n",
       "  34,\n",
       "  0.57,\n",
       "  1060.9283333333333,\n",
       "  84,\n",
       "  257,\n",
       "  0.327,\n",
       "  14,\n",
       "  67,\n",
       "  0.209,\n",
       "  45,\n",
       "  55,\n",
       "  0.818,\n",
       "  58,\n",
       "  202,\n",
       "  260,\n",
       "  53,\n",
       "  51,\n",
       "  42,\n",
       "  25,\n",
       "  12,\n",
       "  159,\n",
       "  55,\n",
       "  227,\n",
       "  -79,\n",
       "  768.5,\n",
       "  0,\n",
       "  0,\n",
       "  3,\n",
       "  7,\n",
       "  8,\n",
       "  7,\n",
       "  8,\n",
       "  8,\n",
       "  8,\n",
       "  8,\n",
       "  8,\n",
       "  8,\n",
       "  8,\n",
       "  8,\n",
       "  8,\n",
       "  1,\n",
       "  7,\n",
       "  8,\n",
       "  8,\n",
       "  8,\n",
       "  8,\n",
       "  8,\n",
       "  8,\n",
       "  1,\n",
       "  2,\n",
       "  8,\n",
       "  8,\n",
       "  7,\n",
       "  8,\n",
       "  8,\n",
       "  6,\n",
       "  264,\n",
       "  '2012-13']]"
      ]
     },
     "execution_count": 12,
     "metadata": {},
     "output_type": "execute_result"
    }
   ],
   "source": [
    "one_player['resultSets'][1]['rowSet']"
   ]
  },
  {
   "cell_type": "markdown",
   "metadata": {},
   "source": [
    "# In summary, the get_players dictionary object has a resultsSets key, which contains two sub-dictionaries on a per player basis. One for overall data at ['resultSets'][0], and the other for yearly statistics at ['resultSets'][1].\n",
    "\n",
    "## Note: Looks like a handful of these values above are superfluous (see ['header'] titles) for our purposes. Particularly, the 'RANK' values. We'll take note of that to ensure we're only scraping relevant data for sake of cost.\n",
    "\n",
    "Let's store the relevant columns into a list to then use as reference for indexing when iterating through the dataset."
   ]
  },
  {
   "cell_type": "code",
   "execution_count": 13,
   "metadata": {},
   "outputs": [
    {
     "data": {
      "text/plain": [
       "[1,\n",
       " 2,\n",
       " 3,\n",
       " 5,\n",
       " 6,\n",
       " 7,\n",
       " 10,\n",
       " 11,\n",
       " 12,\n",
       " 13,\n",
       " 14,\n",
       " 15,\n",
       " 16,\n",
       " 17,\n",
       " 18,\n",
       " 19,\n",
       " 20,\n",
       " 21,\n",
       " 22,\n",
       " 23,\n",
       " 24,\n",
       " 25,\n",
       " 26,\n",
       " 27,\n",
       " 28,\n",
       " 29,\n",
       " 30]"
      ]
     },
     "execution_count": 13,
     "metadata": {},
     "output_type": "execute_result"
    }
   ],
   "source": [
    "rel = ['GROUP_VALUE', 'TEAM_ID', 'TEAM_ABBREVIATION', 'GP', 'W', 'L',\\\n",
    "       'FGM', 'FGA', 'FG_PCT', 'FG3M', 'FG3A', 'FG3_PCT', 'FTM', 'FTA', 'FT_PCT', \\\n",
    "       'OREB', 'DREB', 'REB', 'AST', 'TOV', 'STL', 'BLK', 'BLKA', 'PF', 'PFD', 'PTS', 'PLUS_MINUS']\n",
    "rel_idx = []\n",
    "for idx, val in enumerate(one_player['resultSets'][1]['headers']):\n",
    "    if val in rel:\n",
    "        rel_idx.append(idx)\n",
    "\n",
    "rel_idx"
   ]
  },
  {
   "cell_type": "markdown",
   "metadata": {},
   "source": [
    "Now we can create a list of unique players ids to use for instantiation of PlayerDashboardByYearOverYear() objects to lift datasets per player. The CommonAllPlayers() object will allow us to do this."
   ]
  },
  {
   "cell_type": "code",
   "execution_count": 38,
   "metadata": {},
   "outputs": [],
   "source": [
    "season = CommonAllPlayers()\n",
    "season = season.get_dict()"
   ]
  },
  {
   "cell_type": "code",
   "execution_count": 39,
   "metadata": {},
   "outputs": [
    {
     "name": "stdout",
     "output_type": "stream",
     "text": [
      "resource, <class 'str'>\n",
      "parameters, <class 'dict'>\n",
      "resultSets, <class 'list'>\n"
     ]
    }
   ],
   "source": [
    "for i in season.keys():\n",
    "    print(f'{i}, {type(season[i])}')"
   ]
  },
  {
   "cell_type": "code",
   "execution_count": 40,
   "metadata": {},
   "outputs": [
    {
     "data": {
      "text/plain": [
       "1"
      ]
     },
     "execution_count": 40,
     "metadata": {},
     "output_type": "execute_result"
    }
   ],
   "source": [
    "len(season['resultSets'])"
   ]
  },
  {
   "cell_type": "code",
   "execution_count": 41,
   "metadata": {},
   "outputs": [
    {
     "data": {
      "text/plain": [
       "dict"
      ]
     },
     "execution_count": 41,
     "metadata": {},
     "output_type": "execute_result"
    }
   ],
   "source": [
    "type(season['resultSets'][0])"
   ]
  },
  {
   "cell_type": "code",
   "execution_count": 42,
   "metadata": {},
   "outputs": [
    {
     "data": {
      "text/plain": [
       "dict_keys(['name', 'headers', 'rowSet'])"
      ]
     },
     "execution_count": 42,
     "metadata": {},
     "output_type": "execute_result"
    }
   ],
   "source": [
    "season['resultSets'][0].keys()"
   ]
  },
  {
   "cell_type": "code",
   "execution_count": 43,
   "metadata": {},
   "outputs": [
    {
     "data": {
      "text/plain": [
       "list"
      ]
     },
     "execution_count": 43,
     "metadata": {},
     "output_type": "execute_result"
    }
   ],
   "source": [
    "type(season['resultSets'][0]['rowSet'])"
   ]
  },
  {
   "cell_type": "code",
   "execution_count": 49,
   "metadata": {},
   "outputs": [
    {
     "name": "stdout",
     "output_type": "stream",
     "text": [
      "[1516, 'Gray, Ed', 'Ed Gray', 0, '1997', '1998', 'ed_gray', 0, '', '', '', '', 'Y', '00']\n"
     ]
    }
   ],
   "source": [
    "for i in season['resultSets'][0]['rowSet']:\n",
    "    if i[0] == 1516:\n",
    "        print(i)"
   ]
  },
  {
   "cell_type": "code",
   "execution_count": 21,
   "metadata": {},
   "outputs": [
    {
     "name": "stdout",
     "output_type": "stream",
     "text": [
      "PERSON_ID: 0\n",
      "DISPLAY_LAST_COMMA_FIRST: 1\n",
      "DISPLAY_FIRST_LAST: 2\n",
      "ROSTERSTATUS: 3\n",
      "FROM_YEAR: 4\n",
      "TO_YEAR: 5\n",
      "PLAYERCODE: 6\n",
      "TEAM_ID: 7\n",
      "TEAM_CITY: 8\n",
      "TEAM_NAME: 9\n",
      "TEAM_ABBREVIATION: 10\n",
      "TEAM_CODE: 11\n",
      "GAMES_PLAYED_FLAG: 12\n",
      "OTHERLEAGUE_EXPERIENCE_CH: 13\n"
     ]
    }
   ],
   "source": [
    "for idx,head in enumerate(season['resultSets'][0]['headers']):\n",
    "    print(f'{head}: {idx}')"
   ]
  },
  {
   "cell_type": "markdown",
   "metadata": {},
   "source": [
    "## Based on the above, for a given player, if we want to determine when their last game was played, or if they are still active, we can index into the 4th (start year) and 5th index (end year) of the ['rowSet'] entries.\n",
    "\n",
    "Because we are only concerned with the 20 most recent seasons, we are only concerned with players who either ended their careers after the 1998-99 season, or those who started their careers in that same season or later.\n",
    "\n",
    "Let's determine which players are relevant to us by iterating through the entire ['rowSet']. "
   ]
  },
  {
   "cell_type": "code",
   "execution_count": 22,
   "metadata": {},
   "outputs": [],
   "source": [
    "players = []\n",
    "for i in season['resultSets'][0]['rowSet']:\n",
    "    if int(i[4]) >= 1998 or int(i[5]) >=1999:\n",
    "        players.append(i[0])\n",
    "\n",
    "players = np.unique(players)\n",
    "\n",
    "    "
   ]
  },
  {
   "cell_type": "markdown",
   "metadata": {},
   "source": [
    "## We now have a list of unique player ID's that are pertinent to our inquiry. We can plug these back into the PlayerDashboardByYearOverYear() object to get our relevant data.\n",
    "\n",
    "We'll upload this data to MongoDb, to then load back into a dataframe and begin our analysis. "
   ]
  },
  {
   "cell_type": "code",
   "execution_count": 23,
   "metadata": {},
   "outputs": [],
   "source": [
    "client = MongoClient('localhost', 27017)\n",
    "db_nba = client['nba']\n",
    "\n",
    "stats = db_nba['player_stats']"
   ]
  },
  {
   "cell_type": "code",
   "execution_count": 24,
   "metadata": {},
   "outputs": [],
   "source": [
    "# generate all season values for TeamPlayerDashboard() instantiation.\n",
    "\n",
    "def get_seasons(fall_start,spring_end):\n",
    "    \n",
    "    \"\"\"PARAMETERS:\n",
    "    fall_start: int - The year corresponding to the start of a season (fall)\n",
    "    spring_end: int - The year corresponding to the end of a season(spring)\n",
    "    \n",
    "    RETURNS:\n",
    "    List containg all seasons from which to pull data\"\"\"\n",
    "    \n",
    "    lst = []\n",
    "    for i in range(fall_start,spring_end):\n",
    "        if (i+1)%100 > 9:\n",
    "            season = f'{i}-{(i+1)%100}'\n",
    "            lst.append(season)\n",
    "        else:\n",
    "            season = f'{i}-0{(i+1)%100}'\n",
    "            lst.append(season)\n",
    "    return lst"
   ]
  },
  {
   "cell_type": "code",
   "execution_count": 25,
   "metadata": {},
   "outputs": [],
   "source": [
    "seasons = get_seasons(1997,2019)"
   ]
  },
  {
   "cell_type": "code",
   "execution_count": 26,
   "metadata": {},
   "outputs": [],
   "source": [
    "def scrape_players(players,seasons):\n",
    "    \n",
    "    \"\"\"PARAMETERS:\n",
    "    \n",
    "    players - (list) a list of the unique player ID's relevant to your inquiry\n",
    "    seasons - (list) a list of the seasons pertinent to inquiry\n",
    "    \n",
    "    \n",
    "    RETURNS:\n",
    "    None\n",
    "    - Uploads players stats by year to a Mongo database\n",
    "    \"\"\"\n",
    "\n",
    "    for p in players:\n",
    "        \n",
    "        one_player = PlayerDashboardByYearOverYear(player_id = p)\n",
    "        one_player = one_player.get_dict()\n",
    "        \n",
    "        for i in (one_player['resultSets'][1]['rowSet']):\n",
    "            if i[1] not in seasons:\n",
    "                continue\n",
    "            else:\n",
    "                d_play = dict()\n",
    "                # convert Player_ID type from numpy int64 to native python for upload to Mongo\n",
    "                d_play['Player_ID'] = p.item()\n",
    "\n",
    "                #Utilize relevant indexes previously defined in rel_idx\n",
    "                for idx in (rel_idx):\n",
    "                    d_play[one_player['resultSets'][1]['headers'][idx]] = i[idx]\n",
    "\n",
    "                # Upload to Mongo\n",
    "                stats.insert_one(d_play)\n",
    "                \n",
    "        time.sleep(5)\n"
   ]
  },
  {
   "cell_type": "code",
   "execution_count": 33,
   "metadata": {},
   "outputs": [
    {
     "data": {
      "text/plain": [
       "array([], shape=(0, 1), dtype=int64)"
      ]
     },
     "execution_count": 33,
     "metadata": {},
     "output_type": "execute_result"
    }
   ],
   "source": [
    "updated_idx = np.argwhere(players > 1610612740)\n",
    "updated_idx"
   ]
  },
  {
   "cell_type": "code",
   "execution_count": 32,
   "metadata": {},
   "outputs": [],
   "source": [
    "scrape_players(players[updated_idx],seasons)"
   ]
  },
  {
   "cell_type": "code",
   "execution_count": null,
   "metadata": {},
   "outputs": [],
   "source": []
  }
 ],
 "metadata": {
  "kernelspec": {
   "display_name": "Python 3",
   "language": "python",
   "name": "python3"
  },
  "language_info": {
   "codemirror_mode": {
    "name": "ipython",
    "version": 3
   },
   "file_extension": ".py",
   "mimetype": "text/x-python",
   "name": "python",
   "nbconvert_exporter": "python",
   "pygments_lexer": "ipython3",
   "version": "3.7.6"
  }
 },
 "nbformat": 4,
 "nbformat_minor": 4
}
